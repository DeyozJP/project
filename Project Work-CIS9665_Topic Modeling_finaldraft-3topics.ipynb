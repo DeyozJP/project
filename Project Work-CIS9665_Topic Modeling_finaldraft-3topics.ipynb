{
 "cells": [
  {
   "cell_type": "markdown",
   "id": "2ac28712",
   "metadata": {},
   "source": [
    "### Loading Required Packages"
   ]
  },
  {
   "cell_type": "code",
   "execution_count": 16,
   "id": "83cea5e2",
   "metadata": {},
   "outputs": [],
   "source": [
    "import pandas as pd\n",
    "import nltk\n",
    "from nltk.corpus import stopwords\n",
    "from nltk import word_tokenize, sent_tokenize\n",
    "from nltk import PorterStemmer\n",
    "from nltk.stem import WordNetLemmatizer\n",
    "import re\n",
    "stop_words = set(stopwords.words('english'))\n",
    "import numpy as np\n",
    "import spacy\n",
    "import matplotlib.pyplot as plt\n",
    "%matplotlib inline"
   ]
  },
  {
   "cell_type": "code",
   "execution_count": 17,
   "id": "87c892c1",
   "metadata": {},
   "outputs": [],
   "source": [
    "import warnings\n",
    "warnings.filterwarnings('ignore')"
   ]
  },
  {
   "cell_type": "markdown",
   "id": "54bc1ef8",
   "metadata": {},
   "source": [
    "### loading and Reading Datasets"
   ]
  },
  {
   "cell_type": "code",
   "execution_count": 3,
   "id": "fd470b2f",
   "metadata": {},
   "outputs": [],
   "source": [
    "#data = pd.read_csv('D://MSBA//Third Sem//NLP//group Project//archive (6)//spam_ham_dataset.csv')"
   ]
  },
  {
   "cell_type": "code",
   "execution_count": 18,
   "id": "0fb4bdca",
   "metadata": {},
   "outputs": [],
   "source": [
    "dataframe = pd.read_csv('D://MSBA//Third Sem//NLP//group Project//dataset//lingSpam.csv')"
   ]
  },
  {
   "cell_type": "code",
   "execution_count": 5,
   "id": "9ac77feb",
   "metadata": {},
   "outputs": [],
   "source": [
    "#data = pd.read_csv('D://MSBA//Third Sem//NLP//group Project//mydatasets/enronSpamSubset.csv')"
   ]
  },
  {
   "cell_type": "code",
   "execution_count": 19,
   "id": "30150c5d",
   "metadata": {},
   "outputs": [
    {
     "data": {
      "text/html": [
       "<div>\n",
       "<style scoped>\n",
       "    .dataframe tbody tr th:only-of-type {\n",
       "        vertical-align: middle;\n",
       "    }\n",
       "\n",
       "    .dataframe tbody tr th {\n",
       "        vertical-align: top;\n",
       "    }\n",
       "\n",
       "    .dataframe thead th {\n",
       "        text-align: right;\n",
       "    }\n",
       "</style>\n",
       "<table border=\"1\" class=\"dataframe\">\n",
       "  <thead>\n",
       "    <tr style=\"text-align: right;\">\n",
       "      <th></th>\n",
       "      <th>Unnamed: 0</th>\n",
       "      <th>Body</th>\n",
       "      <th>Label</th>\n",
       "    </tr>\n",
       "  </thead>\n",
       "  <tbody>\n",
       "    <tr>\n",
       "      <th>0</th>\n",
       "      <td>0</td>\n",
       "      <td>Subject: great part-time or summer job !\\n \\n ...</td>\n",
       "      <td>1</td>\n",
       "    </tr>\n",
       "    <tr>\n",
       "      <th>1</th>\n",
       "      <td>1</td>\n",
       "      <td>Subject: auto insurance rates too high ?\\n \\n ...</td>\n",
       "      <td>1</td>\n",
       "    </tr>\n",
       "    <tr>\n",
       "      <th>2</th>\n",
       "      <td>2</td>\n",
       "      <td>Subject: do want the best and economical hunti...</td>\n",
       "      <td>1</td>\n",
       "    </tr>\n",
       "    <tr>\n",
       "      <th>3</th>\n",
       "      <td>3</td>\n",
       "      <td>Subject: email 57 million people for $ 99\\n \\n...</td>\n",
       "      <td>1</td>\n",
       "    </tr>\n",
       "    <tr>\n",
       "      <th>4</th>\n",
       "      <td>4</td>\n",
       "      <td>Subject: do n't miss these !\\n \\n attention ! ...</td>\n",
       "      <td>1</td>\n",
       "    </tr>\n",
       "  </tbody>\n",
       "</table>\n",
       "</div>"
      ],
      "text/plain": [
       "   Unnamed: 0                                               Body  Label\n",
       "0           0  Subject: great part-time or summer job !\\n \\n ...      1\n",
       "1           1  Subject: auto insurance rates too high ?\\n \\n ...      1\n",
       "2           2  Subject: do want the best and economical hunti...      1\n",
       "3           3  Subject: email 57 million people for $ 99\\n \\n...      1\n",
       "4           4  Subject: do n't miss these !\\n \\n attention ! ...      1"
      ]
     },
     "execution_count": 19,
     "metadata": {},
     "output_type": "execute_result"
    }
   ],
   "source": [
    "dataframe.head()"
   ]
  },
  {
   "cell_type": "code",
   "execution_count": 20,
   "id": "1ae5b5e6",
   "metadata": {},
   "outputs": [
    {
     "name": "stdout",
     "output_type": "stream",
     "text": [
      "<class 'pandas.core.frame.DataFrame'>\n",
      "RangeIndex: 2605 entries, 0 to 2604\n",
      "Data columns (total 3 columns):\n",
      " #   Column      Non-Null Count  Dtype \n",
      "---  ------      --------------  ----- \n",
      " 0   Unnamed: 0  2605 non-null   int64 \n",
      " 1   Body        2605 non-null   object\n",
      " 2   Label       2605 non-null   int64 \n",
      "dtypes: int64(2), object(1)\n",
      "memory usage: 61.2+ KB\n"
     ]
    }
   ],
   "source": [
    "dataframe.info()"
   ]
  },
  {
   "cell_type": "markdown",
   "id": "097ffe0f",
   "metadata": {},
   "source": [
    "##### Keep only email (text) data from the dataframe"
   ]
  },
  {
   "cell_type": "code",
   "execution_count": 21,
   "id": "1dff5d5f",
   "metadata": {},
   "outputs": [],
   "source": [
    "data = dataframe.drop(columns = [\"Label\",  \"Unnamed: 0\"], axis = 1)"
   ]
  },
  {
   "cell_type": "code",
   "execution_count": 22,
   "id": "ca48af0c",
   "metadata": {},
   "outputs": [],
   "source": [
    "\n",
    "data = list(data.Body.values)"
   ]
  },
  {
   "cell_type": "code",
   "execution_count": 23,
   "id": "60057614",
   "metadata": {},
   "outputs": [
    {
     "data": {
      "text/plain": [
       "2605"
      ]
     },
     "execution_count": 23,
     "metadata": {},
     "output_type": "execute_result"
    }
   ],
   "source": [
    "len(data)\n",
    "    "
   ]
  },
  {
   "cell_type": "markdown",
   "id": "10a73c17",
   "metadata": {},
   "source": [
    "### Data Pre-Processing "
   ]
  },
  {
   "cell_type": "code",
   "execution_count": 24,
   "id": "0afa8bcf",
   "metadata": {},
   "outputs": [
    {
     "data": {
      "text/plain": [
       "['Subject: great part-time or summer job !\\n \\n * * * * * * * * * * * * * * * we have display boxes with credit applications that we need to place in the small owner-operated stores in your area . here is what you do : 1 . introduce yourself to the store owner or manager . 2 . use our 90 % effective script which tells them how this little display box will save their customers hundreds of dollars , be a drawing card for their business , and make them from $ 5 . 00 to $ 15 . 00 or more for every app sent in . 3 . find a good spot on the counter , place the box there , and say that nothing more need be done , all you need is his name and address so the company can send him the commission checks . your compensaation will be $ 10 for every box you place . by becoming a representative you could also earn a commission of $ 10 for each application that came from that store . that is of course a much more profitable plan , as it will pay you for months or years for a very small effort . call 1-888 - 703-5390 code 3 24 hours to receive the details ! ! * * * * * * * * * * * * * * * * * * * * * * * * * * * * * * * * * * * * * * * * * * * * * * * * * * * * * * * * * * * * * * * * * * * * * * * * * * * * * * * * * * * * * * * * * * * * * * * * * * * * * * * * * * * * * * * * * * * * * * * * * * * * * * * * * * * * * * * * * * * * * * * * * * * * * * * * * * * * * * * * * * * * * * * * * * * * * * * * * * * * * * * to be removed from our mailing list , type : b2998 @ hotmail . com in the ( to : ) area and ( remove ) in the subject area of a new e - mail and send . * * * * * * * * * * * * * * * * * * * * * * * * * * * * * * * * * * * * * * * * * * * * * * * * * * * * * * * * * * * * * * * * * * * * * * * * * * * * * * * * * * * * * * * * * * * * * * * * * * * * * * * * * * * * * * * * * * * * * * * * * * * * * * * * * * * *\\n',\n",
       " 'Subject: auto insurance rates too high ?\\n \\n dear nlpeople , i \\' m sure you \\' ll agree auto insurance costs too much . even with a good driving record , \" routine \" rate increases can drive your costs through the roof . i have discovered a way many people can sign up with an excellent company that gives amazingly low rates . they are about half of most of the rates i \\' ve found shopping around for insurance in southern california . most people either qualify or have a friend who qualifies who would love to know about it . if you do n\\'t qualify , i have another company that operates in several western states that is cheaper than many companies who claim they have \" the lowest rates available . \" just send $ 2 cash to : pva 1257 n kenmore ave # 2 los angeles , ca 90029 fold it in a piece of paper with your e - mail address and i will rush the information to you right away . if you prefer a hardcopy printout , enclose a self-addressed , stamped envelope . p . s . as a bonus i include two mechanic \\'s tips that save lots of time on a certain common repair job , and give you a quick and easy way to check the general condition of an engine . i have n\\'t found these in any repair manuals or books before . these are great for home mechanics !\\n',\n",
       " \"Subject: do want the best and economical hunting vacation of your life ?\\n \\n if you want the best hunting and camping vacation of your life , come to felton 's hunting camp in wild and wonderful west virginia . $ 50 . 00 per day pays for your room and three home cooked meals ( packed lunch if you want to stay out in the woods at noon ) with cozy accomodations . reserve your space now . following seasons are now being booked for 1998 : buck season - nov . 23 - dec . 5 doe season - to be announced ( please call ) muzzel loader ( deer ) - dec . 14 - dec . 19 archery ( deer ) - oct . 17 - dec . 31 turkey sesson - oct . 24 - nov . 14 e - mail us at 110734 . 2622 @ compuserve . com\\n\"]"
      ]
     },
     "execution_count": 24,
     "metadata": {},
     "output_type": "execute_result"
    }
   ],
   "source": [
    "data[:3]"
   ]
  },
  {
   "cell_type": "code",
   "execution_count": 25,
   "id": "edefae25",
   "metadata": {},
   "outputs": [],
   "source": [
    "def preprocessing (text):\n",
    "    \n",
    "\n",
    "    wnl = nltk.stem.WordNetLemmatizer()\n",
    "    text = text.lower()\n",
    "    text = re.sub(\"(http|https|www)(:|\\.)\\S+.com\",\" \",text)\n",
    "    text = re.sub('[^a-zA-Z0-9\\n]', ' ', text)\n",
    "    text = re.sub(\"[^\\w\\d]\",\" \",text)\n",
    "    text = re.sub(\"\\d+\",\" \",text)\n",
    "    text = re.sub('\\s+',' ', text)\n",
    "    text = \" \".join([wnl.lemmatize(word.lower()) for word in text.split() if word.lower() not in nltk.corpus.stopwords.words(\"english\")])\n",
    "    return text\n"
   ]
  },
  {
   "cell_type": "code",
   "execution_count": 26,
   "id": "05623be8",
   "metadata": {},
   "outputs": [
    {
     "data": {
      "text/plain": [
       "'subject search credibility done dream member team earn figure income travel penny dollar working home make vocation vacation first year income earn weekly starting within week profit paid daily selling work home overhead employee high tech training support mlm x profitable multitrillion dollar travel industry incredible part business client call hobby serious inquireies call number information obligation hour toll free message ext'"
      ]
     },
     "execution_count": 26,
     "metadata": {},
     "output_type": "execute_result"
    }
   ],
   "source": [
    "preprocessing(data[400])"
   ]
  },
  {
   "cell_type": "code",
   "execution_count": 27,
   "id": "29dca633",
   "metadata": {},
   "outputs": [],
   "source": [
    "preprocessed_email = [preprocessing(email) for email in data]"
   ]
  },
  {
   "cell_type": "code",
   "execution_count": 31,
   "id": "19a2afc2",
   "metadata": {},
   "outputs": [
    {
     "data": {
      "text/plain": [
       "'subject n miss attention warning adult warning adult year age interested sexually explicit material please hit keyboard delete button please excuse intrusion remove name mailing list send u email remove subject line need read available next day world record sex see video unbelievable true believe eye seen howard stern show world biggest gang bang see sexy annabel chong set world gang bang record fantastic video documentary chronicle hour sexathon men engaging sexual intercourse oral sex n worry stay hour watch selected exciting red hot scene breathtaking living color plenty extreme close ups video guaranteed knock sock leave breathless never seen anything like annabel take five men time minute order today plus shipping handling total gang bang ii record breaker starring jasmin st claire see beautiful voluptious jasmin st claire shatter annabel gang bang record taking men one hour sex session believe eye hot firey action see new world record established eye jasmin take five men time sexual intercourse oral sex friend break door see video popular guy town action truly unreal see best living life like color order today see jasmin break record minute plus shipping handling total also available uncensored authentic underground pamela anderson lee tommy lee sex video tape everyone talking exciting video see pam tommy engaging sexual intercourse oral sex car boat much much real collector video minute plus shipping handling total tonya harding wedding night sex video see beautiful ice skating shame olympics tonya harding engaging sexual intercourse oral sex wedding night husband jeff gillooly bad girl hot n miss video minute plus shipping handling total traci love starring traci lord see beautiful popular porn star last adult video hit big time blockbuster year sensual fiery exposive traci lord erotic controversial film ever n miss minute plus shipping handling total email special order four video get fifth one free order shipped via first class mail shipment plain unmarked wrapper priority mail add overnight express add order phone fax mail email accept major credit card check phone fax visa mastercard american express discover day money back guarantee know pleased video email order hit reply keyboard send email special email address zsazsa juno com note order email receive email acknowledgement within hour please phone office phone office pm eastern time order phone fastest service accept credit card check phone fax order hour per day fax credit card information check order mail sending per video cash check money order major credit card visa mastercard american express discover tcp inc th ave suite brooklyn ny make check money order payable tcp inc new york state resident please add cent sale tax per video must year age order give u date birth order following order form convenience please ship following video tape qty annabel chong world biggest gang bang qty gang bang ii jasmin st claire qty pamela tommy lee sex video tape qty tonya harding wedding night sex video tape qty traci love traci lord plus shipping handling per tape per video special five credit card exp date hereby represent year age date birth signature ship name address city state zip area code home phone fax email address remove name mailing list send u email remove subject line one time offer hear u foreign order add u desire air parcel post shipment ship world deleting unwanted e mail waste one keystroke yet throwing away paper mail waste planet save tree support internet e mail instead paper mail c copyright tcp'"
      ]
     },
     "execution_count": 31,
     "metadata": {},
     "output_type": "execute_result"
    }
   ],
   "source": [
    "preprocessed_email[4]"
   ]
  },
  {
   "cell_type": "markdown",
   "id": "6cfecf15",
   "metadata": {},
   "source": [
    "### Data Exploration"
   ]
  },
  {
   "cell_type": "markdown",
   "id": "8a1d3a0c",
   "metadata": {},
   "source": [
    "In this section, we will build the word cloud to visualize most common words in the corpus, so that we can get some insight, whether such common words are really important."
   ]
  },
  {
   "cell_type": "markdown",
   "id": "000b0116",
   "metadata": {},
   "source": [
    "### Creating Wordcloud"
   ]
  },
  {
   "cell_type": "code",
   "execution_count": null,
   "id": "68e5a246",
   "metadata": {},
   "outputs": [],
   "source": [
    "#pip install wordcloud"
   ]
  },
  {
   "cell_type": "code",
   "execution_count": 32,
   "id": "8366c277",
   "metadata": {},
   "outputs": [],
   "source": [
    "import wordcloud\n",
    "from wordcloud import WordCloud"
   ]
  },
  {
   "cell_type": "code",
   "execution_count": 33,
   "id": "35a0aa47",
   "metadata": {},
   "outputs": [],
   "source": [
    "wordcloud = WordCloud(background_color = \"white\", max_words=100, contour_width = 10, contour_color ='steelblack', relative_scaling = 1)"
   ]
  },
  {
   "cell_type": "code",
   "execution_count": 34,
   "id": "b3207bf6",
   "metadata": {},
   "outputs": [],
   "source": [
    "all_email_text = \",\".join(preprocessed_email)"
   ]
  },
  {
   "cell_type": "code",
   "execution_count": 35,
   "id": "d6b1be9b",
   "metadata": {},
   "outputs": [
    {
     "data": {
      "text/plain": [
       "<wordcloud.wordcloud.WordCloud at 0x2054cf1f910>"
      ]
     },
     "execution_count": 35,
     "metadata": {},
     "output_type": "execute_result"
    }
   ],
   "source": [
    "wordcloud.generate(all_email_text)"
   ]
  },
  {
   "cell_type": "code",
   "execution_count": 36,
   "id": "8aca8b83",
   "metadata": {},
   "outputs": [
    {
     "data": {
      "image/png": "[encoded data removed]",
      "text/plain": [
       "<PIL.Image.Image image mode=RGB size=400x200 at 0x2054CF1FA90>"
      ]
     },
     "execution_count": 36,
     "metadata": {},
     "output_type": "execute_result"
    }
   ],
   "source": [
    "wordcloud.to_image()"
   ]
  },
  {
   "cell_type": "markdown",
   "id": "12d0d690",
   "metadata": {},
   "source": [
    "from this initial wordcloud, we can see that most common words are infact nonstandard english words and also common words like subject, email, attach etc. are less important in this analysis. "
   ]
  },
  {
   "cell_type": "markdown",
   "id": "58850d38",
   "metadata": {},
   "source": [
    "##### Remove 50 most common words, the words that are less than or equal to three characters and the words such as people names, months etc."
   ]
  },
  {
   "cell_type": "code",
   "execution_count": 37,
   "id": "6ccec31c",
   "metadata": {},
   "outputs": [],
   "source": [
    "words = []\n",
    "for i in preprocessed_email:\n",
    "    for word in nltk.word_tokenize(i):\n",
    "        words.append(word)"
   ]
  },
  {
   "cell_type": "code",
   "execution_count": 38,
   "id": "184a0c7e",
   "metadata": {},
   "outputs": [
    {
     "data": {
      "text/plain": [
       "48474"
      ]
     },
     "execution_count": 38,
     "metadata": {},
     "output_type": "execute_result"
    }
   ],
   "source": [
    "len(set(words))"
   ]
  },
  {
   "cell_type": "code",
   "execution_count": 39,
   "id": "bd3be2d2",
   "metadata": {},
   "outputs": [],
   "source": [
    "fd = nltk.FreqDist(word for word in words )\n",
    "common_words = [w for (w,c) in fd.most_common(20)]\n",
    "short_words = [w for(w,c) in fd.most_common() if len(w) <= 3]\n"
   ]
  },
  {
   "cell_type": "code",
   "execution_count": 40,
   "id": "bf35c1bb",
   "metadata": {},
   "outputs": [
    {
     "data": {
      "text/plain": [
       "22106"
      ]
     },
     "execution_count": 40,
     "metadata": {},
     "output_type": "execute_result"
    }
   ],
   "source": [
    "\n",
    "less_frequent_words = [w for (w, v) in fd.items() if v <= 5]\n",
    "len(less_frequent_words)"
   ]
  },
  {
   "cell_type": "code",
   "execution_count": 41,
   "id": "9a6be7c6",
   "metadata": {},
   "outputs": [],
   "source": [
    "namelist = [name.lower() for name in nltk.corpus.names.words()]\n"
   ]
  },
  {
   "cell_type": "code",
   "execution_count": 42,
   "id": "ce3dc644",
   "metadata": {},
   "outputs": [],
   "source": [
    "day_month = ['sunday', 'monday','tuesday', 'wednesday', 'thursday', 'friday', \n",
    "             'saturday', 'january', 'february', 'march', 'april', 'may', 'june', \n",
    "             'july', 'august', 'september', 'october', 'november', 'december']"
   ]
  },
  {
   "cell_type": "code",
   "execution_count": 43,
   "id": "dacf07e8",
   "metadata": {},
   "outputs": [],
   "source": [
    "extra_common = ['well', 'said', 'sent', 'also', 'e mail', \"mail\",\"would\", \n",
    "                'should', 'must', 'research', 'email', \"research\", \"linguistic\", 'study', \"word\"]"
   ]
  },
  {
   "cell_type": "code",
   "execution_count": 47,
   "id": "b08fa790",
   "metadata": {},
   "outputs": [],
   "source": [
    "stopwords_extra = common_words+short_words+namelist+day_month+extra_common+less_frequent_words\n",
    "#stopwords_extra"
   ]
  },
  {
   "cell_type": "code",
   "execution_count": 48,
   "id": "47751d64",
   "metadata": {},
   "outputs": [],
   "source": [
    "def preprocessing_2 (text):\n",
    "    stopwords = stopwords_extra\n",
    "    text = \" \".join([t.lower() for t in text.split() if t not in stopwords]) \n",
    "    return text        "
   ]
  },
  {
   "cell_type": "code",
   "execution_count": 49,
   "id": "f037b2ff",
   "metadata": {},
   "outputs": [],
   "source": [
    "def processing_2(text):\n",
    "    Stopwords = stopwords_extra\n",
    "    text = \" \".join([t for t in text.split() if t not in Stopwords])\n",
    "    return text\n",
    "\n"
   ]
  },
  {
   "cell_type": "code",
   "execution_count": 50,
   "id": "ee49980c",
   "metadata": {},
   "outputs": [
    {
     "data": {
      "text/plain": [
       "'clean million clean took total million many touted bought added million storage combined excess million huge file super sort dupe program huge list file million believe seems people selling duping public putting numerous file created many duplicate many program generated like compuserve anon cause tremendous amount undeliverables stealth program clog server quickly trash program contained keywords remove vulgarity profanity related name postmaster webmaster flamer abuse spam eliminated list remaining list reduced near million list save people hundred dollar buying others using like using million started money time purchased cyber promo received prior finishing production work people take random sample touted million advertised used program allows take random sample list able program take every thus giving list cyber bottom clean create separate file named cyber cyber cyber give people list opportunity send list deciding hyped included million remove flamer file broke separate file ease extracting adding database remove rest best today million line simple text format file code open file file separated domain name convenience plus receive tremendous remove list plus sampling cyberpromo list effective next seven thereafter list completely free duplicate continual basis name remove undeliverables remove request result cleanest available anywhere fraction cost company charge typical rate acquiring list highway robbery even hesitate miss effective market anywhere period gaura software gaura software simple print form office today accept visa mastercard check completed form stealth mass mailer million clean check deposit system submit spider standard version submit spider professional version send software name city state country country code code phone type credit card visa mastercard account number expiration date name card total amount understand sale final signature date check like check paste check paste check check need send original check draft check exact original check check held bank clearance'"
      ]
     },
     "execution_count": 50,
     "metadata": {},
     "output_type": "execute_result"
    }
   ],
   "source": [
    "processing_2(preprocessed_email[100])"
   ]
  },
  {
   "cell_type": "code",
   "execution_count": 51,
   "id": "366db4c7",
   "metadata": {},
   "outputs": [],
   "source": [
    "processed_email_1 = []\n",
    "for email in preprocessed_email:\n",
    "    processed_email_1.append(processing_2(email))"
   ]
  },
  {
   "cell_type": "code",
   "execution_count": null,
   "id": "590acdaa",
   "metadata": {},
   "outputs": [],
   "source": [
    "#proceses_email_1 = [processing_2(email) for email in preprocessed_email]"
   ]
  },
  {
   "cell_type": "code",
   "execution_count": 52,
   "id": "8e718033",
   "metadata": {},
   "outputs": [],
   "source": [
    "all_email_text_1 = \",\".join(processed_email_1)"
   ]
  },
  {
   "cell_type": "code",
   "execution_count": 53,
   "id": "033becae",
   "metadata": {},
   "outputs": [
    {
     "data": {
      "text/plain": [
       "<wordcloud.wordcloud.WordCloud at 0x2054cf1f910>"
      ]
     },
     "execution_count": 53,
     "metadata": {},
     "output_type": "execute_result"
    }
   ],
   "source": [
    "wordcloud.generate(all_email_text_1)"
   ]
  },
  {
   "cell_type": "code",
   "execution_count": 54,
   "id": "e1e97792",
   "metadata": {},
   "outputs": [
    {
     "data": {
      "image/png": "[encoded data removed]",
      "text/plain": [
       "<PIL.Image.Image image mode=RGB size=400x200 at 0x20531DFA310>"
      ]
     },
     "execution_count": 54,
     "metadata": {},
     "output_type": "execute_result"
    }
   ],
   "source": [
    "wordcloud.to_image()\n"
   ]
  },
  {
   "cell_type": "code",
   "execution_count": 55,
   "id": "903aa93c",
   "metadata": {},
   "outputs": [
    {
     "data": {
      "text/plain": [
       "[]"
      ]
     },
     "execution_count": 55,
     "metadata": {},
     "output_type": "execute_result"
    }
   ],
   "source": [
    "#### check if there are words that starts with uppercase\n",
    "\n",
    "uppercase = []\n",
    "for email in processed_email_1:\n",
    "    for word in email.split():\n",
    "        if re.search('^[A-Z]', word):\n",
    "            uppercase.append(word)\n",
    "        \n",
    "uppercase\n"
   ]
  },
  {
   "cell_type": "markdown",
   "id": "f6336e70",
   "metadata": {},
   "source": [
    "## Topic Modeling using Latent Dirichlet Allocation"
   ]
  },
  {
   "cell_type": "markdown",
   "id": "7272ad6d",
   "metadata": {},
   "source": [
    "##### Load Gensim packages "
   ]
  },
  {
   "cell_type": "code",
   "execution_count": 56,
   "id": "2b3bf88e",
   "metadata": {},
   "outputs": [],
   "source": [
    "import gensim\n",
    "from gensim.utils import simple_preprocess\n",
    "import gensim.corpora as corpora"
   ]
  },
  {
   "cell_type": "markdown",
   "id": "247040ab",
   "metadata": {},
   "source": [
    "##### Convert all emails to the list of list of tokens"
   ]
  },
  {
   "cell_type": "code",
   "execution_count": 57,
   "id": "d586f4df",
   "metadata": {},
   "outputs": [],
   "source": [
    "def sent_to_words(sentences):\n",
    "    for sentences in sentences:\n",
    "        yield(gensim.utils.simple_preprocess(str(sentences)))\n",
    "        "
   ]
  },
  {
   "cell_type": "code",
   "execution_count": 58,
   "id": "09b51a4a",
   "metadata": {},
   "outputs": [],
   "source": [
    "data = processed_email_1"
   ]
  },
  {
   "cell_type": "code",
   "execution_count": 59,
   "id": "aa90928b",
   "metadata": {},
   "outputs": [],
   "source": [
    "data_words = list(sent_to_words(data))\n",
    "for sent in data_words:\n",
    "    for word in sent:\n",
    "        if word in stopwords_extra:\n",
    "            sent.remove(word)\n",
    "        \n",
    "\n",
    "\n",
    "\n"
   ]
  },
  {
   "cell_type": "code",
   "execution_count": null,
   "id": "6ce4b694",
   "metadata": {},
   "outputs": [],
   "source": [
    "data_words[:19]"
   ]
  },
  {
   "cell_type": "markdown",
   "id": "07d73c05",
   "metadata": {},
   "source": [
    "##### Create Dictionary "
   ]
  },
  {
   "cell_type": "markdown",
   "id": "633cdd69",
   "metadata": {},
   "source": [
    "This dictionary is the key(index) and value of all the words of the processed emails.  "
   ]
  },
  {
   "cell_type": "code",
   "execution_count": 61,
   "id": "abc5a161",
   "metadata": {},
   "outputs": [
    {
     "name": "stdout",
     "output_type": "stream",
     "text": [
      "Dictionary(22243 unique tokens: ['application', 'area', 'becoming', 'business', 'call']...)\n"
     ]
    }
   ],
   "source": [
    "corpus_dict = corpora.Dictionary (data_words)\n",
    "\n",
    "print(corpus_dict)\n"
   ]
  },
  {
   "cell_type": "markdown",
   "id": "c999a21c",
   "metadata": {},
   "source": [
    "##### Create Document Term Matrix"
   ]
  },
  {
   "cell_type": "code",
   "execution_count": 62,
   "id": "12d9a1f4",
   "metadata": {},
   "outputs": [],
   "source": [
    "emails = data_words"
   ]
  },
  {
   "cell_type": "code",
   "execution_count": 63,
   "id": "7cd56c29",
   "metadata": {},
   "outputs": [],
   "source": [
    "doc_term_matrix = [corpus_dict.doc2bow(email) for email in emails] "
   ]
  },
  {
   "cell_type": "code",
   "execution_count": 64,
   "id": "41570ee8",
   "metadata": {},
   "outputs": [
    {
     "name": "stdout",
     "output_type": "stream",
     "text": [
      "[(5, 1), (11, 1), (44, 3), (60, 1), (87, 1), (94, 2), (96, 1), (97, 1), (108, 1), (146, 1), (176, 1), (232, 1), (249, 2), (254, 3), (284, 1), (311, 1), (322, 1), (323, 1), (347, 6), (370, 1), (473, 1), (484, 1), (514, 1), (554, 1), (583, 1), (628, 1), (630, 2), (637, 1), (643, 2), (650, 1), (656, 1), (701, 1), (724, 1), (732, 1), (737, 2), (756, 1), (763, 1), (783, 1), (825, 1), (845, 1), (846, 1), (877, 1), (897, 1), (926, 4), (966, 1), (979, 2), (1026, 1), (1029, 1), (1046, 1), (1094, 4), (1110, 1), (1129, 1), (1246, 1), (1262, 1), (1288, 1), (1303, 3), (1319, 2), (1383, 2), (1441, 1), (1516, 1), (1595, 1), (1697, 1), (1721, 1), (1858, 1), (1900, 1), (1949, 2), (1962, 1), (2009, 1), (2030, 1), (2075, 2), (2219, 1), (2249, 1), (2251, 3), (2380, 1), (2479, 2), (2526, 1), (2561, 1), (2569, 1), (2589, 1), (2621, 1), (2700, 1), (2850, 2), (3209, 1), (3467, 1), (3520, 4), (3699, 1), (3830, 1), (3932, 2), (3943, 4), (3960, 1), (4038, 1), (4100, 1), (4101, 1), (4329, 1), (4369, 1), (4439, 1), (4658, 1), (5114, 1), (5443, 1), (5523, 1), (5698, 1), (5850, 1), (5871, 1), (5892, 1), (5954, 1), (6077, 2), (6336, 2), (6362, 1), (6397, 1), (6552, 2), (6609, 1), (6681, 1), (6730, 1), (6832, 1), (6845, 1), (6893, 2), (7006, 2), (7028, 2), (7041, 1), (7110, 1), (7359, 1), (7468, 1), (7632, 1), (7643, 1), (8012, 1), (8018, 1), (8128, 1), (8142, 1), (8173, 1), (9549, 1), (9804, 1), (9968, 1), (10002, 1), (10088, 1), (10275, 1), (10278, 1), (10284, 3), (10560, 1), (11403, 1), (11407, 1), (11456, 1), (11762, 7), (11826, 1), (12288, 1), (12465, 1), (12788, 1), (13144, 1), (13258, 1), (13259, 1), (13260, 1), (13261, 1), (13262, 2), (13263, 1), (13264, 2), (13265, 1)]\n"
     ]
    }
   ],
   "source": [
    "print(doc_term_matrix[:][1000])"
   ]
  },
  {
   "cell_type": "markdown",
   "id": "811f9aa6",
   "metadata": {},
   "source": [
    "### LDA Model Training "
   ]
  },
  {
   "cell_type": "code",
   "execution_count": 65,
   "id": "44b4a74b",
   "metadata": {},
   "outputs": [],
   "source": [
    "from pprint import pprint\n"
   ]
  },
  {
   "cell_type": "code",
   "execution_count": 66,
   "id": "1c89e6eb",
   "metadata": {},
   "outputs": [],
   "source": [
    "Lda = gensim.models.ldamodel.LdaModel\n"
   ]
  },
  {
   "cell_type": "code",
   "execution_count": 67,
   "id": "9386d471",
   "metadata": {},
   "outputs": [],
   "source": [
    "ldamodel = Lda(doc_term_matrix, num_topics =8, id2word = corpus_dict, passes = 20, random_state = 0, eval_every = None)\n"
   ]
  },
  {
   "cell_type": "code",
   "execution_count": 68,
   "id": "fa6cc926",
   "metadata": {},
   "outputs": [
    {
     "data": {
      "text/plain": [
       "[(0,\n",
       "  '0.011*\"free\" + 0.010*\"nbsp\" + 0.009*\"capitalfm\" + 0.009*\"site\" + 0.009*\"link\" + 0.008*\"music\" + 0.007*\"video\" + 0.007*\"click\" + 0.007*\"live\" + 0.005*\"check\"'),\n",
       " (1,\n",
       "  '0.007*\"book\" + 0.006*\"issue\" + 0.005*\"volume\" + 0.005*\"theory\" + 0.004*\"international\" + 0.004*\"resource\" + 0.004*\"world\" + 0.004*\"text\" + 0.004*\"publication\" + 0.004*\"application\"'),\n",
       " (2,\n",
       "  '0.005*\"syntax\" + 0.005*\"korean\" + 0.004*\"spanish\" + 0.004*\"american\" + 0.004*\"dialect\" + 0.004*\"japanese\" + 0.004*\"german\" + 0.003*\"phonology\" + 0.003*\"vowel\" + 0.003*\"break\"'),\n",
       " (3,\n",
       "  '0.013*\"registration\" + 0.012*\"workshop\" + 0.007*\"session\" + 0.006*\"break\" + 0.006*\"logic\" + 0.005*\"form\" + 0.005*\"hotel\" + 0.005*\"lunch\" + 0.005*\"coffee\" + 0.005*\"name\"'),\n",
       " (4,\n",
       "  '0.017*\"abstract\" + 0.015*\"submission\" + 0.010*\"workshop\" + 0.008*\"session\" + 0.007*\"author\" + 0.007*\"call\" + 0.006*\"student\" + 0.006*\"deadline\" + 0.006*\"copy\" + 0.005*\"committee\"'),\n",
       " (5,\n",
       "  '0.005*\"system\" + 0.004*\"like\" + 0.003*\"people\" + 0.003*\"workshop\" + 0.003*\"linguist\" + 0.003*\"call\" + 0.003*\"work\" + 0.003*\"first\" + 0.003*\"time\" + 0.003*\"many\"'),\n",
       " (6,\n",
       "  '0.005*\"theory\" + 0.004*\"grammar\" + 0.004*\"workshop\" + 0.004*\"speech\" + 0.004*\"book\" + 0.004*\"system\" + 0.004*\"analysis\" + 0.004*\"structure\" + 0.004*\"discourse\" + 0.003*\"question\"'),\n",
       " (7,\n",
       "  '0.010*\"report\" + 0.009*\"program\" + 0.008*\"name\" + 0.007*\"list\" + 0.007*\"people\" + 0.006*\"free\" + 0.006*\"money\" + 0.006*\"send\" + 0.006*\"make\" + 0.006*\"time\"')]"
      ]
     },
     "execution_count": 68,
     "metadata": {},
     "output_type": "execute_result"
    }
   ],
   "source": [
    "ldamodel.print_topics()\n"
   ]
  },
  {
   "cell_type": "markdown",
   "id": "a2eb8c3f",
   "metadata": {},
   "source": [
    "#### Topic Coherence"
   ]
  },
  {
   "cell_type": "code",
   "execution_count": 69,
   "id": "65ca3c39",
   "metadata": {},
   "outputs": [],
   "source": [
    "from gensim.models import CoherenceModel\n",
    "\n",
    "coherence_model_lda = CoherenceModel(model =ldamodel, texts = emails, dictionary = corpus_dict, coherence = 'c_v')\n",
    "coherence_lda = coherence_model_lda.get_coherence()"
   ]
  },
  {
   "cell_type": "code",
   "execution_count": 70,
   "id": "39ebedff",
   "metadata": {},
   "outputs": [
    {
     "name": "stdout",
     "output_type": "stream",
     "text": [
      "\n",
      "Coherence Score:  0.5203693589740552\n"
     ]
    }
   ],
   "source": [
    "print('\\nCoherence Score: ', coherence_lda)"
   ]
  },
  {
   "cell_type": "markdown",
   "id": "ad7a490a",
   "metadata": {},
   "source": [
    "### Model improvement "
   ]
  },
  {
   "cell_type": "code",
   "execution_count": 72,
   "id": "6908309f",
   "metadata": {},
   "outputs": [],
   "source": [
    "def compute_coherence_values(dictionary, corpus, text, limit, start = 1, step = 1):\n",
    "    \n",
    "    coherence_values = []\n",
    "    model_list = []\n",
    "    for num_topics in range(start, limit, step):\n",
    "        model = Lda(corpus= doc_term_matrix, num_topics = num_topics, random_state = 42,\n",
    "                   passes = 10, per_word_topics = True, id2word =dictionary)\n",
    "        \n",
    "        model_list.append(model)\n",
    "        coherencemodel = CoherenceModel(model=model, texts = emails, dictionary= corpus_dict, coherence = 'c_v')\n",
    "        coherence_values.append(coherencemodel.get_coherence())\n",
    "    \n",
    "    return model_list, coherence_values"
   ]
  },
  {
   "cell_type": "code",
   "execution_count": 73,
   "id": "b94ab12d",
   "metadata": {},
   "outputs": [],
   "source": [
    "model_list, coherence_values = compute_coherence_values(dictionary = corpus_dict, corpus = doc_term_matrix, text = emails, start = 1, limit = 15, step = 1)"
   ]
  },
  {
   "cell_type": "code",
   "execution_count": 118,
   "id": "e1e8e5f2",
   "metadata": {},
   "outputs": [
    {
     "data": {
      "image/png": "[encoded data removed]",
      "text/plain": [
       "<Figure size 432x288 with 1 Axes>"
      ]
     },
     "metadata": {
      "needs_background": "light"
     },
     "output_type": "display_data"
    }
   ],
   "source": [
    "limit = 15; start = 1; step = 1 \n",
    "x = range(start, limit, step)\n",
    "plt.plot(x, coherence_values, color = 'red')\n",
    "plt.xlabel(\"Number of Topics\")\n",
    "plt.ylabel(\"Coherence Score\")\n",
    "plt.legend ((\"Coherence_values\"), loc = 'best')\n",
    "plt.show()"
   ]
  },
  {
   "cell_type": "code",
   "execution_count": null,
   "id": "49eda210",
   "metadata": {},
   "outputs": [],
   "source": [
    "#lda_model = gensim.models.LdaMulticore(corpus = corpus, \n",
    "                                      #id2word = corpus_dict, num_topics = 6)"
   ]
  },
  {
   "cell_type": "code",
   "execution_count": 75,
   "id": "f59713f4",
   "metadata": {},
   "outputs": [],
   "source": [
    "ldamodel_improved = Lda(doc_term_matrix, num_topics = 3, id2word = corpus_dict, passes = 20, random_state = 42, eval_every = None)\n"
   ]
  },
  {
   "cell_type": "code",
   "execution_count": 76,
   "id": "03e8e79b",
   "metadata": {},
   "outputs": [
    {
     "data": {
      "text/plain": [
       "[(0,\n",
       "  '0.005*\"book\" + 0.005*\"theory\" + 0.003*\"grammar\" + 0.003*\"syntax\" + 0.003*\"analysis\" + 0.003*\"structure\" + 0.003*\"verb\" + 0.003*\"work\" + 0.003*\"example\" + 0.003*\"question\"'),\n",
       " (1,\n",
       "  '0.008*\"report\" + 0.008*\"program\" + 0.007*\"list\" + 0.006*\"name\" + 0.006*\"people\" + 0.006*\"time\" + 0.006*\"free\" + 0.005*\"send\" + 0.005*\"money\" + 0.005*\"make\"'),\n",
       " (2,\n",
       "  '0.010*\"workshop\" + 0.008*\"abstract\" + 0.007*\"submission\" + 0.006*\"session\" + 0.005*\"system\" + 0.005*\"registration\" + 0.004*\"call\" + 0.004*\"author\" + 0.004*\"student\" + 0.003*\"science\"')]"
      ]
     },
     "execution_count": 76,
     "metadata": {},
     "output_type": "execute_result"
    }
   ],
   "source": [
    "ldamodel_improved.print_topics()\n"
   ]
  },
  {
   "cell_type": "markdown",
   "id": "b06fabee",
   "metadata": {},
   "source": [
    "#### Improved model topic coherence score "
   ]
  },
  {
   "cell_type": "code",
   "execution_count": 77,
   "id": "e3cd4a4b",
   "metadata": {},
   "outputs": [
    {
     "name": "stdout",
     "output_type": "stream",
     "text": [
      "\n",
      "Coherence Score:  0.5345622651825489\n"
     ]
    }
   ],
   "source": [
    "coherence_model_lda_imp = CoherenceModel(model = ldamodel_improved, texts = emails, dictionary = corpus_dict, coherence ='c_v')\n",
    "coherence_lda_improved = coherence_model_lda_imp.get_coherence()\n",
    "print('\\nCoherence Score: ', coherence_lda_improved)"
   ]
  },
  {
   "cell_type": "markdown",
   "id": "b06f55f4",
   "metadata": {},
   "source": [
    "#### Load Visualization Packages"
   ]
  },
  {
   "cell_type": "code",
   "execution_count": 79,
   "id": "1eab9c63",
   "metadata": {},
   "outputs": [],
   "source": [
    "\n",
    "import pickle\n",
    "import pyLDAvis\n",
    "import pyLDAvis.gensim_models as gensimvis\n",
    "import matplotlib.pyplot as plt\n",
    "\n",
    "%matplotlib inline\n"
   ]
  },
  {
   "cell_type": "code",
   "execution_count": 80,
   "id": "26ba4fba",
   "metadata": {},
   "outputs": [],
   "source": [
    "pyLDAvis.enable_notebook()"
   ]
  },
  {
   "cell_type": "code",
   "execution_count": 81,
   "id": "70003132",
   "metadata": {},
   "outputs": [
    {
     "data": {
      "text/html": [
       "\n",
       "<link rel=\"stylesheet\" type=\"text/css\" href=\"https://cdn.jsdelivr.net/gh/bmabey/pyLDAvis@3.3.1/pyLDAvis/js/ldavis.v1.0.0.css\">\n",
       "\n",
       "\n",
       "<div id=\"ldavis_el353842221733456800160508552\"></div>\n",
       "<script type=\"text/javascript\">\n",
       "\n",
       "var ldavis_el353842221733456800160508552_data = {\"mdsDat\": {\"x\": [0.04832797079892137, 0.0951840998842995, -0.14351207068322086], \"y\": [0.09373010732864046, -0.10035302884059484, 0.006622921511954403], \"topics\": [1, 2, 3], \"cluster\": [1, 1, 1], \"Freq\": [36.41526880355747, 32.34022491592224, 31.2445062805203]}, \"tinfo\": {\"Term\": [\"workshop\", \"submission\", \"abstract\", \"report\", \"money\", \"session\", \"free\", \"business\", \"program\", \"people\", \"list\", \"registration\", \"internet\", \"name\", \"theory\", \"deadline\", \"make\", \"book\", \"send\", \"committee\", \"letter\", \"time\", \"receive\", \"mailing\", \"invited\", \"author\", \"know\", \"week\", \"verb\", \"chair\", \"nativist\", \"phasing\", \"flmp\", \"massaro\", \"konvens\", \"arrow\", \"subir\", \"popperian\", \"syntaxis\", \"chronoscope\", \"bimodal\", \"hacer\", \"precios\", \"hypotaxis\", \"agbayani\", \"labphon\", \"motherese\", \"accusative\", \"nativism\", \"xxii\", \"volk\", \"oegai\", \"popper\", \"supralaryngeal\", \"hizo\", \"passivization\", \"sigma\", \"ishii\", \"dega\", \"infant\", \"overt\", \"clausal\", \"cloth\", \"hardback\", \"silverman\", \"scobbie\", \"laryngeal\", \"dgfs\", \"kitahara\", \"gldv\", \"autosegmental\", \"linecut\", \"overtly\", \"derivation\", \"examines\", \"keck\", \"meulen\", \"spec\", \"matrix\", \"chapter\", \"predicate\", \"optimal\", \"argues\", \"onset\", \"verb\", \"chomsky\", \"clause\", \"movement\", \"vowel\", \"object\", \"gruyter\", \"particle\", \"node\", \"mouton\", \"contrast\", \"press\", \"affix\", \"nilotic\", \"book\", \"evolution\", \"mandarin\", \"dissertation\", \"theory\", \"marked\", \"typology\", \"evidence\", \"isbn\", \"meaning\", \"universal\", \"feature\", \"argument\", \"sentence\", \"syntactic\", \"volume\", \"principle\", \"syntax\", \"construction\", \"structure\", \"child\", \"phonological\", \"grammar\", \"analysis\", \"example\", \"linguist\", \"phonology\", \"pattern\", \"discourse\", \"approach\", \"question\", \"different\", \"reference\", \"data\", \"speech\", \"change\", \"work\", \"like\", \"form\", \"first\", \"many\", \"system\", \"issue\", \"text\", \"part\", \"speaker\", \"webnet\", \"iatl\", \"sigphon\", \"milano\", \"revue\", \"satta\", \"seront\", \"ludwigs\", \"kassel\", \"crete\", \"netter\", \"gosse\", \"cogentex\", \"jmacdoug\", \"enric\", \"convener\", \"comptable\", \"mondada\", \"fontenay\", \"eleventh\", \"grefenstette\", \"moghrabi\", \"issco\", \"esca\", \"kbcs\", \"departamento\", \"vextal\", \"auteur\", \"szeged\", \"ecdl\", \"bergamo\", \"eacl\", \"soco\", \"moncton\", \"icsc\", \"peseta\", \"bozen\", \"brandeis\", \"lrec\", \"poznan\", \"ncst\", \"mumbai\", \"visualization\", \"submission\", \"wordnet\", \"coling\", \"traduccion\", \"interpretacion\", \"automatique\", \"workshop\", \"deadline\", \"esslli\", \"tutorial\", \"abstract\", \"notification\", \"retrieval\", \"session\", \"summarization\", \"mining\", \"committee\", \"registration\", \"submitted\", \"invited\", \"poster\", \"acceptance\", \"icslp\", \"chair\", \"organizing\", \"universite\", \"programme\", \"symposium\", \"paris\", \"presentation\", \"italy\", \"accommodation\", \"computational\", \"logic\", \"held\", \"theme\", \"affiliation\", \"participant\", \"proceeding\", \"accepted\", \"author\", \"corpus\", \"technology\", \"topic\", \"minute\", \"science\", \"meeting\", \"system\", \"copy\", \"student\", \"call\", \"international\", \"proposal\", \"application\", \"area\", \"include\", \"text\", \"speech\", \"name\", \"computer\", \"department\", \"form\", \"following\", \"speaker\", \"mast\", \"aaal\", \"clipper\", \"dendale\", \"racer\", \"surgery\", \"descrambler\", \"capacitor\", \"portuguesa\", \"hollander\", \"wilrijk\", \"ials\", \"cosmetic\", \"girona\", \"monoconc\", \"budiman\", \"shack\", \"hibbs\", \"thro\", \"bahamas\", \"mclaughlin\", \"linux\", \"sericels\", \"sleuth\", \"totaled\", \"braille\", \"bang\", \"certification\", \"disney\", \"slrf\", \"floodgate\", \"goldrush\", \"remove\", \"advertise\", \"selling\", \"loader\", \"detective\", \"capitalfm\", \"relax\", \"earn\", \"drug\", \"accountant\", \"anytime\", \"money\", \"bulk\", \"bonus\", \"investment\", \"advertisement\", \"business\", \"million\", \"envelope\", \"forever\", \"income\", \"nbsp\", \"mortgage\", \"stealth\", \"sale\", \"amazing\", \"sold\", \"friend\", \"cable\", \"click\", \"report\", \"save\", \"advertising\", \"thousand\", \"internet\", \"cash\", \"secret\", \"free\", \"mailing\", \"live\", \"receive\", \"letter\", \"marketing\", \"product\", \"easy\", \"list\", \"people\", \"week\", \"program\", \"credit\", \"want\", \"make\", \"check\", \"time\", \"send\", \"every\", \"name\", \"know\", \"year\", \"service\", \"software\", \"like\", \"work\", \"need\", \"many\", \"much\", \"number\", \"take\", \"first\", \"site\"], \"Freq\": [5667.0, 4091.0, 4450.0, 4597.0, 2760.0, 3648.0, 3334.0, 2284.0, 5406.0, 4205.0, 4459.0, 2785.0, 2212.0, 5259.0, 4019.0, 1767.0, 3628.0, 3978.0, 4149.0, 1983.0, 1935.0, 4655.0, 1770.0, 1634.0, 1731.0, 3005.0, 2426.0, 1796.0, 1789.0, 1750.0, 64.89881121058039, 66.47910833553294, 98.10440423642267, 94.47010066675203, 77.08765619188408, 51.00019328061269, 43.74055016902822, 40.10104367332043, 47.316945954610006, 36.455250823588344, 36.4331991505267, 32.82168464406866, 32.82168464406866, 32.82118206530656, 50.78221828029306, 27.330160991779387, 29.178639499535926, 182.02473404500097, 52.56722562184423, 30.006040682878343, 38.889783542181, 29.989224891838244, 24.629844438247833, 47.12664986168833, 25.533969213022466, 24.60711098825891, 25.52647378632049, 30.888816159008854, 29.945471703049197, 51.517705223143885, 356.9061596033494, 101.47778703860243, 625.9690655560709, 96.13544894844486, 87.23864316082566, 87.23968127433426, 129.61603494711682, 90.61076539660212, 95.06250096433418, 70.9191115728186, 85.09698203659967, 81.47731916299874, 52.28813374845481, 232.75323819022006, 168.04759024320416, 89.44536763725334, 82.33747035583865, 79.46189593701693, 108.05768001595257, 875.4679479735938, 360.4289236438183, 136.36233916769473, 208.16840338766653, 125.73750281605389, 1572.6206875062503, 566.6757789270664, 611.8269276183755, 930.4322024037835, 938.0033125239324, 1000.2371298170109, 461.8810214925809, 326.32004004155647, 189.86072788976477, 382.3657121438477, 334.3666061486441, 1173.5661637301976, 177.82449383322137, 133.4907029890088, 3070.8138434914235, 344.0426809043895, 227.90916986720217, 435.41693759158636, 2970.1715400913376, 282.2026546689065, 448.48995043936145, 762.2603845773835, 465.5337639355233, 1110.5263748826326, 540.4885582510162, 1233.2966444482524, 771.2648163710571, 949.2251547719752, 995.0554603897995, 1183.508456927926, 664.3955456305606, 1717.2580436648934, 987.9423725408418, 1650.6667861144474, 1031.8657130773445, 663.6645818965687, 1821.3272421468287, 1713.6678187243579, 1541.7670312630983, 1483.8457022646658, 1035.5593538969274, 668.0024462992027, 1395.878138640881, 1199.0982194363758, 1496.955724682922, 1299.0227414962299, 1295.1707142156206, 1227.5426613959505, 1422.5103969302686, 1119.3708383280286, 1553.7321627832987, 1447.6823096389237, 1431.9491226863652, 1337.7060805131332, 1219.0910332846026, 1328.6894550052316, 1170.2505280516827, 1191.6091697173829, 1104.8741599101581, 1140.4599000413368, 62.751491775688585, 47.59912172854614, 29.266004156306114, 68.1640470979042, 35.027795010401086, 31.663666681941972, 58.067820680821235, 32.45532356186686, 24.860229548037896, 120.46236662242129, 50.47595895738459, 24.961914074539514, 24.95314829323787, 21.65360723652301, 24.935236245970405, 29.05316323026867, 29.816034981945922, 29.045273661246554, 22.46100301092188, 18.33591084186599, 45.442929770673935, 54.44801763355355, 92.94850349092165, 58.556893473052035, 69.13972684906142, 54.4587333987591, 65.9606238225845, 42.13519731816008, 35.57614292310318, 46.16244456316681, 170.42044204978274, 182.2267933750784, 118.16466363752588, 117.97971150567142, 88.73372120855173, 203.3351606000745, 116.1200853924878, 116.86339145201096, 223.9699707584242, 82.08838825738603, 86.68811858172546, 68.12643765225275, 62.52699850681069, 3740.834136024876, 104.59832927898464, 340.52458427142903, 99.49945429433284, 94.63920904723571, 91.26020523180979, 4943.225849940968, 1583.9357644715494, 512.2546984373897, 1044.0748548844563, 3857.5204704018142, 698.102139974711, 508.3711207381741, 3098.5872618237263, 107.86044381536736, 125.68807470647431, 1697.0215432033183, 2331.749338007081, 805.0758130611217, 1450.316223527821, 711.0855645107185, 675.643769259134, 148.02277327216777, 1426.9310507064083, 477.440615077546, 446.94915945132846, 1089.8497355735874, 815.1868710630948, 700.0251680035697, 1335.580195003358, 578.5258782330841, 670.984997958732, 1217.1844893705227, 894.3246958709451, 1074.1573773008356, 872.9059848662096, 823.5329485120986, 1165.4372872480421, 818.6601106860198, 899.1896898593317, 1951.248634936903, 1132.0534457408442, 1269.0103640143348, 1575.2082657807325, 1218.0869989939533, 1757.5677751334813, 895.3377801913962, 2334.9109899580953, 1688.0709048909864, 1771.428070480164, 2001.0161460836134, 1585.8041197809707, 1022.607441842706, 1339.4852554520742, 1360.1592701648597, 1339.1278340121553, 1460.71726938, 1410.4056066274127, 1674.2492433717432, 1340.3831992595346, 1313.2986618524706, 1429.5669313876303, 1319.5166007705727, 1281.4510418109178, 31.522444255030408, 42.16718059776563, 22.716208976973974, 23.660196075620373, 49.49193996834417, 26.337522462986552, 69.63955069747513, 29.22475709234133, 26.300726003239596, 20.53367577041822, 18.71667008732063, 22.561747261477908, 17.617351773240816, 17.591081211109387, 17.594467312491414, 34.82746653517524, 26.20607598668575, 15.775277275892684, 15.775277275892684, 20.426479859443177, 48.20860754455626, 46.20790939603634, 29.015380800517654, 28.989734086918507, 17.537046738376898, 54.79456412893934, 51.854399574536714, 20.388334967882816, 20.374627972935535, 17.50739007486344, 427.99951047698954, 137.56839207919336, 812.8397586004635, 217.98732436579922, 331.5052633487122, 68.82796086977648, 60.349283183971096, 435.75711822694774, 96.96614524468056, 225.01504700574864, 57.25714700637265, 65.74014744999663, 46.00536892892335, 2518.0444469816657, 933.0256310459989, 328.17582791382245, 309.93617927688547, 347.1516814408006, 2075.026000464935, 961.3588308255501, 285.93990380271754, 127.29775985177798, 665.6125229326983, 553.9515389135408, 110.15789432258653, 221.96923820895833, 644.002211839452, 192.02921668340025, 189.06162046634012, 621.2202955298143, 143.44144707876666, 689.5317168839651, 3855.782683597258, 531.2213119009916, 453.16340419222644, 535.7471792496709, 1868.8378468017759, 625.4242641049404, 403.8218417638596, 2714.652662408291, 1380.3961580296227, 561.8106307374873, 1474.5793732919042, 1584.5696732688434, 923.6362758851633, 1141.163048048376, 795.7102987940995, 3251.7707390876353, 3077.3751225157357, 1433.505723178351, 3684.275107532704, 1063.2068789013854, 1368.9174015884473, 2485.445579476963, 1342.3497815190733, 2900.432818387504, 2640.059464531172, 1114.5504119172049, 3087.9455272174855, 1645.1631021384742, 1817.662388830756, 1267.7752460796341, 1330.9237323261325, 2074.653430345439, 2347.5414755926913, 1284.6451848965683, 1411.286111771285, 1205.028624324504, 1460.9175640649423, 1278.6185747942384, 1356.4758895743682, 1248.750870214689], \"Total\": [5667.0, 4091.0, 4450.0, 4597.0, 2760.0, 3648.0, 3334.0, 2284.0, 5406.0, 4205.0, 4459.0, 2785.0, 2212.0, 5259.0, 4019.0, 1767.0, 3628.0, 3978.0, 4149.0, 1983.0, 1935.0, 4655.0, 1770.0, 1634.0, 1731.0, 3005.0, 2426.0, 1796.0, 1789.0, 1750.0, 65.33542275109109, 67.11615085590816, 99.23317404175282, 95.56981381278243, 78.02306187505108, 51.62400122720601, 44.29933127954836, 40.639145809603676, 47.961439706831506, 36.97368390636358, 36.97187858427296, 33.31157209431551, 33.31157209431551, 33.31331257537717, 51.55533926524726, 27.76864413138614, 29.65046980058027, 185.00310713636225, 53.441696358742476, 30.507496460445438, 39.54567301361985, 30.495348212692356, 25.0510296582116, 47.942187845826396, 25.986564287497213, 25.046427522776117, 25.985934330833732, 31.446729502271328, 30.48663181461728, 52.44988533585075, 365.0978135183055, 103.5469064785913, 650.8187224622392, 98.15620689083347, 89.01201519149316, 89.04616007199577, 132.8353824735005, 92.55743443495003, 97.25395531907384, 72.39909102608881, 87.03782064715473, 83.39637247268621, 53.31317228160281, 241.2722261962182, 173.77098356074248, 91.75283204265085, 84.40269411382673, 81.49730918118271, 111.63799410288517, 946.0030150552526, 383.8693193977931, 141.64282236502243, 219.2898813914545, 130.8048958693472, 1789.861005417091, 624.784239915306, 677.4222248817596, 1052.5447909259426, 1068.6409086841709, 1149.5596035220397, 510.232413455556, 355.670104915198, 201.71411696764508, 422.5912955255809, 367.9772743885357, 1399.5855774325885, 188.81246484937242, 139.53097247484547, 3978.5533041677663, 383.53193902175985, 246.82088551428927, 495.6319858132111, 4019.2722100360684, 312.11707460566043, 516.6919494660102, 921.2987765819391, 540.8588355458193, 1424.7552824124066, 640.5269637139183, 1603.9231354821618, 965.9567692884683, 1231.2211213328428, 1304.424498172199, 1613.5823673500659, 827.0828256599581, 2549.066746746804, 1322.9158157838617, 2481.246966903022, 1438.1590242290185, 836.7193570050603, 3012.120464992639, 2807.161996016688, 2477.6632223028064, 2484.7617606246636, 1575.6328277198486, 858.8286850219024, 2511.7316578539126, 2071.1425215047498, 2922.8307050103313, 2420.107785105513, 2419.873564742076, 2249.2182349272525, 3033.569882017994, 1950.1807770742048, 4789.691104959211, 3940.175744594433, 3872.3439174325486, 3928.1002920607843, 2893.3379988432225, 4539.2231322431335, 2834.2545016245263, 3142.950728232591, 2180.5365074978286, 2785.864189724672, 63.237525512541986, 48.120430473637896, 29.694313509893533, 69.17202420297579, 35.560241618785334, 32.20401360568916, 59.108343196591484, 33.06496926629898, 25.329263520886876, 122.8662532350705, 51.52717683089733, 25.491960336740796, 25.491800701450533, 22.132058795441193, 25.495423757772578, 29.717890980223764, 30.500027460176472, 29.732634383401752, 22.994116366949896, 18.772293384991592, 46.52535298869141, 55.75557603179101, 95.19924298546313, 59.97487031769977, 70.82774368696323, 55.793770519379564, 67.59067378252557, 43.18017002022733, 36.46118785701762, 47.31206461853389, 175.30738593810048, 187.84305365928662, 121.44885020007243, 121.4658827733213, 91.15918605268928, 210.75166217914432, 119.70083645386545, 120.6482386008922, 232.75052825383526, 84.44783900487406, 89.27246803624485, 69.98796594773253, 64.24004924475591, 4091.832868764711, 108.06190296689617, 360.827903650379, 102.96849972035444, 97.96444825531427, 94.44984109495641, 5667.6113580585015, 1767.0624491460294, 552.8810883276474, 1154.697238463007, 4450.517677507392, 766.9177491779703, 553.385199123119, 3648.0738142648875, 112.11184271102712, 131.51432919378712, 1983.2609354346287, 2785.394700273949, 925.5763096033538, 1731.590746711194, 818.5647158213918, 776.8421531875515, 156.92457871815552, 1750.159908062305, 547.0652638503068, 510.7690916078843, 1333.649932597724, 976.1066524130049, 829.0600894534676, 1679.7377464391318, 681.873073188503, 803.5685865716476, 1550.6299402501456, 1107.3012588104802, 1380.682345831943, 1101.025939288062, 1037.734627001583, 1547.039437962727, 1036.6645756195373, 1165.4620521808852, 3005.006058240312, 1546.4798406220218, 1811.6244172017377, 2413.8175286056417, 1751.8690726252735, 2881.365355693488, 1165.8033363868553, 4539.2231322431335, 2874.202689906201, 3112.5594341533665, 3838.8611490303383, 2710.2483368128374, 1410.187255338302, 2226.540200824784, 2456.334841599774, 2457.36282867554, 3142.950728232591, 3033.569882017994, 5259.780404448719, 2701.1751161495154, 2607.74079813725, 3872.3439174325486, 3222.25913417185, 2785.864189724672, 32.0291530164408, 42.86391045252121, 23.10383310983308, 24.100522362884718, 50.45275830030323, 26.866290232746554, 71.0595470946194, 29.821526444496968, 26.858189233194054, 20.980933856199158, 19.12463006362066, 23.075407161864113, 18.03107257190089, 18.019053853870854, 18.029580328414994, 35.69936480854302, 26.862444327800986, 16.1868234729313, 16.1868234729313, 20.961696957559376, 49.48407450677373, 47.444358380783804, 29.804927689836706, 29.784062432802163, 18.019514022427156, 56.30809931146489, 53.28688682530889, 20.95951778114534, 20.955656409960753, 18.00994421927506, 445.02912940476466, 141.5329312936845, 855.8969202941618, 226.63442861480596, 346.99598280133205, 70.93750140384992, 62.17292628798153, 458.00590507264843, 100.3861425983652, 235.2316841766246, 59.164164766075906, 68.02919569824975, 47.43658400459195, 2760.2254517302663, 1002.9627078403231, 346.7290905076633, 327.0895939774955, 367.85238062451253, 2284.2664542940684, 1042.2091936073812, 302.50789897740816, 132.66389252755806, 718.9044883083682, 597.5542298023393, 114.98269714624587, 235.09312133687922, 702.3356931221703, 202.83520458831043, 199.91712354947, 682.8219343366717, 151.13274807024908, 762.9666073074933, 4597.99006923636, 585.2018993696433, 499.4009665208709, 594.6135877265049, 2212.2478098929096, 702.2315209600156, 444.2062002341127, 3334.063362696333, 1634.5908745013442, 630.2233859107301, 1770.5025269067914, 1935.357671758412, 1083.4368180723854, 1370.417396631842, 930.7838232009192, 4459.417768709618, 4205.392314445072, 1796.2554884033598, 5406.984443122183, 1326.7935893897793, 1780.8180741676338, 3628.7629466949516, 1803.1370766472849, 4655.906449080748, 4149.257211095461, 1444.65276835356, 5259.780404448719, 2426.9659338606575, 2850.6474368641566, 1757.439840809833, 1931.3297924329875, 3940.175744594433, 4789.691104959211, 2065.6194238681173, 2893.3379988432225, 1945.7324291048799, 3676.2721856436647, 2540.495603165303, 3928.1002920607843, 2543.774533978214], \"Category\": [\"Default\", \"Default\", \"Default\", \"Default\", \"Default\", \"Default\", \"Default\", \"Default\", \"Default\", \"Default\", \"Default\", \"Default\", \"Default\", \"Default\", \"Default\", \"Default\", \"Default\", \"Default\", \"Default\", \"Default\", \"Default\", \"Default\", \"Default\", \"Default\", \"Default\", \"Default\", \"Default\", \"Default\", \"Default\", \"Default\", \"Topic1\", \"Topic1\", \"Topic1\", \"Topic1\", \"Topic1\", \"Topic1\", \"Topic1\", \"Topic1\", \"Topic1\", \"Topic1\", \"Topic1\", \"Topic1\", \"Topic1\", \"Topic1\", \"Topic1\", \"Topic1\", \"Topic1\", \"Topic1\", \"Topic1\", \"Topic1\", \"Topic1\", \"Topic1\", \"Topic1\", \"Topic1\", \"Topic1\", \"Topic1\", \"Topic1\", \"Topic1\", \"Topic1\", \"Topic1\", \"Topic1\", \"Topic1\", \"Topic1\", \"Topic1\", \"Topic1\", \"Topic1\", \"Topic1\", \"Topic1\", \"Topic1\", \"Topic1\", \"Topic1\", \"Topic1\", \"Topic1\", \"Topic1\", \"Topic1\", \"Topic1\", \"Topic1\", \"Topic1\", \"Topic1\", \"Topic1\", \"Topic1\", \"Topic1\", \"Topic1\", \"Topic1\", \"Topic1\", \"Topic1\", \"Topic1\", \"Topic1\", \"Topic1\", \"Topic1\", \"Topic1\", \"Topic1\", \"Topic1\", \"Topic1\", \"Topic1\", \"Topic1\", \"Topic1\", \"Topic1\", \"Topic1\", \"Topic1\", \"Topic1\", \"Topic1\", \"Topic1\", \"Topic1\", \"Topic1\", \"Topic1\", \"Topic1\", \"Topic1\", \"Topic1\", \"Topic1\", \"Topic1\", \"Topic1\", \"Topic1\", \"Topic1\", \"Topic1\", \"Topic1\", \"Topic1\", \"Topic1\", \"Topic1\", \"Topic1\", \"Topic1\", \"Topic1\", \"Topic1\", \"Topic1\", \"Topic1\", \"Topic1\", \"Topic1\", \"Topic1\", \"Topic1\", \"Topic1\", \"Topic1\", \"Topic1\", \"Topic1\", \"Topic1\", \"Topic1\", \"Topic1\", \"Topic1\", \"Topic1\", \"Topic1\", \"Topic1\", \"Topic1\", \"Topic1\", \"Topic1\", \"Topic1\", \"Topic2\", \"Topic2\", \"Topic2\", \"Topic2\", \"Topic2\", \"Topic2\", \"Topic2\", \"Topic2\", \"Topic2\", \"Topic2\", \"Topic2\", \"Topic2\", \"Topic2\", \"Topic2\", \"Topic2\", \"Topic2\", \"Topic2\", \"Topic2\", \"Topic2\", \"Topic2\", \"Topic2\", \"Topic2\", \"Topic2\", \"Topic2\", \"Topic2\", \"Topic2\", \"Topic2\", \"Topic2\", \"Topic2\", \"Topic2\", \"Topic2\", \"Topic2\", \"Topic2\", \"Topic2\", \"Topic2\", \"Topic2\", \"Topic2\", \"Topic2\", \"Topic2\", \"Topic2\", \"Topic2\", \"Topic2\", \"Topic2\", \"Topic2\", \"Topic2\", \"Topic2\", \"Topic2\", \"Topic2\", \"Topic2\", \"Topic2\", \"Topic2\", \"Topic2\", \"Topic2\", \"Topic2\", \"Topic2\", \"Topic2\", \"Topic2\", \"Topic2\", \"Topic2\", \"Topic2\", \"Topic2\", \"Topic2\", \"Topic2\", \"Topic2\", \"Topic2\", \"Topic2\", \"Topic2\", \"Topic2\", \"Topic2\", \"Topic2\", \"Topic2\", \"Topic2\", \"Topic2\", \"Topic2\", \"Topic2\", \"Topic2\", \"Topic2\", \"Topic2\", \"Topic2\", \"Topic2\", \"Topic2\", \"Topic2\", \"Topic2\", \"Topic2\", \"Topic2\", \"Topic2\", \"Topic2\", \"Topic2\", \"Topic2\", \"Topic2\", \"Topic2\", \"Topic2\", \"Topic2\", \"Topic2\", \"Topic2\", \"Topic2\", \"Topic2\", \"Topic2\", \"Topic2\", \"Topic2\", \"Topic2\", \"Topic2\", \"Topic2\", \"Topic2\", \"Topic2\", \"Topic2\", \"Topic2\", \"Topic3\", \"Topic3\", \"Topic3\", \"Topic3\", \"Topic3\", \"Topic3\", \"Topic3\", \"Topic3\", \"Topic3\", \"Topic3\", \"Topic3\", \"Topic3\", \"Topic3\", \"Topic3\", \"Topic3\", \"Topic3\", \"Topic3\", \"Topic3\", \"Topic3\", \"Topic3\", \"Topic3\", \"Topic3\", \"Topic3\", \"Topic3\", \"Topic3\", \"Topic3\", \"Topic3\", \"Topic3\", \"Topic3\", \"Topic3\", \"Topic3\", \"Topic3\", \"Topic3\", \"Topic3\", \"Topic3\", \"Topic3\", \"Topic3\", \"Topic3\", \"Topic3\", \"Topic3\", \"Topic3\", \"Topic3\", \"Topic3\", \"Topic3\", \"Topic3\", \"Topic3\", \"Topic3\", \"Topic3\", \"Topic3\", \"Topic3\", \"Topic3\", \"Topic3\", \"Topic3\", \"Topic3\", \"Topic3\", \"Topic3\", \"Topic3\", \"Topic3\", \"Topic3\", \"Topic3\", \"Topic3\", \"Topic3\", \"Topic3\", \"Topic3\", \"Topic3\", \"Topic3\", \"Topic3\", \"Topic3\", \"Topic3\", \"Topic3\", \"Topic3\", \"Topic3\", \"Topic3\", \"Topic3\", \"Topic3\", \"Topic3\", \"Topic3\", \"Topic3\", \"Topic3\", \"Topic3\", \"Topic3\", \"Topic3\", \"Topic3\", \"Topic3\", \"Topic3\", \"Topic3\", \"Topic3\", \"Topic3\", \"Topic3\", \"Topic3\", \"Topic3\", \"Topic3\", \"Topic3\", \"Topic3\", \"Topic3\", \"Topic3\", \"Topic3\", \"Topic3\", \"Topic3\", \"Topic3\", \"Topic3\", \"Topic3\"], \"logprob\": [30.0, 29.0, 28.0, 27.0, 26.0, 25.0, 24.0, 23.0, 22.0, 21.0, 20.0, 19.0, 18.0, 17.0, 16.0, 15.0, 14.0, 13.0, 12.0, 11.0, 10.0, 9.0, 8.0, 7.0, 6.0, 5.0, 4.0, 3.0, 2.0, 1.0, -9.0738, -9.0498, -8.6606, -8.6984, -8.9017, -9.3148, -9.4684, -9.5553, -9.3898, -9.6506, -9.6512, -9.7556, -9.7556, -9.7556, -9.3191, -9.9387, -9.8732, -8.0425, -9.2846, -9.8453, -9.5859, -9.8458, -10.0427, -9.3938, -10.0067, -10.0436, -10.007, -9.8163, -9.8473, -9.3047, -7.3692, -8.6268, -6.8074, -8.6809, -8.778, -8.778, -8.3821, -8.7401, -8.6921, -8.9851, -8.8029, -8.8463, -9.2899, -7.7967, -8.1224, -8.753, -8.8358, -8.8714, -8.564, -6.4719, -7.3594, -8.3314, -7.9083, -8.4125, -5.8862, -6.9069, -6.8302, -6.411, -6.4029, -6.3387, -7.1114, -7.4588, -8.0004, -7.3003, -7.4344, -6.1789, -8.0659, -8.3526, -5.217, -7.4059, -7.8177, -7.1704, -5.2503, -7.604, -7.1408, -6.6104, -7.1035, -6.2341, -6.9542, -6.1292, -6.5986, -6.391, -6.3439, -6.1704, -6.7478, -5.7982, -6.351, -5.8377, -6.3075, -6.7489, -5.7393, -5.8003, -5.906, -5.9443, -6.304, -6.7424, -6.0054, -6.1573, -5.9355, -6.0773, -6.0803, -6.1339, -5.9865, -6.2261, -5.8983, -5.9689, -5.9799, -6.048, -6.1408, -6.0547, -6.1817, -6.1636, -6.2392, -6.2075, -8.9888, -9.2652, -9.7516, -8.9061, -9.5718, -9.6728, -9.0664, -9.6481, -9.9147, -8.3367, -9.2065, -9.9106, -9.911, -10.0528, -9.9117, -9.7589, -9.7329, -9.7591, -10.0162, -10.2191, -9.3115, -9.1307, -8.5959, -9.058, -8.8919, -9.1305, -8.9389, -9.3871, -9.5563, -9.2958, -7.9897, -7.9227, -8.3559, -8.3575, -8.6424, -7.8131, -8.3734, -8.367, -7.7165, -8.7202, -8.6657, -8.9066, -8.9924, -4.9009, -8.4779, -7.2975, -8.5278, -8.5779, -8.6143, -4.6222, -5.7603, -6.8892, -6.1771, -4.8702, -6.5796, -6.8968, -5.0893, -8.4472, -8.2942, -5.6914, -5.3736, -6.4371, -5.8485, -6.5612, -6.6123, -8.1306, -5.8647, -6.9596, -7.0255, -6.1342, -6.4246, -6.5769, -5.9309, -6.7675, -6.6192, -6.0237, -6.3319, -6.1487, -6.3562, -6.4144, -6.0671, -6.4203, -6.3265, -5.5518, -6.0962, -5.982, -5.7658, -6.023, -5.6563, -6.3308, -5.3723, -5.6966, -5.6484, -5.5266, -5.7591, -6.1979, -5.9279, -5.9126, -5.9282, -5.8413, -5.8764, -5.7049, -5.9273, -5.9477, -5.8629, -5.943, -5.9722, -9.6428, -9.3519, -9.9704, -9.9297, -9.1917, -9.8225, -8.8502, -9.7185, -9.8239, -10.0715, -10.1641, -9.9773, -10.2246, -10.2261, -10.2259, -9.5431, -9.8275, -10.3351, -10.3351, -10.0767, -9.218, -9.2604, -9.7257, -9.7266, -10.2292, -9.0899, -9.1451, -10.0786, -10.0792, -10.2309, -7.0344, -8.1694, -6.393, -7.7091, -7.2899, -8.8619, -8.9934, -7.0164, -8.5192, -7.6774, -9.046, -8.9078, -9.2648, -5.2623, -6.2551, -7.3, -7.3572, -7.2438, -5.4558, -6.2252, -7.4377, -8.247, -6.5928, -6.7764, -8.3916, -7.691, -6.6258, -7.8359, -7.8514, -6.6618, -8.1276, -6.5575, -4.8362, -6.8183, -6.9773, -6.8099, -5.5604, -6.6551, -7.0925, -5.1871, -5.8634, -6.7624, -5.7974, -5.7255, -6.2652, -6.0537, -6.4143, -5.0066, -5.0617, -5.8256, -4.8817, -6.1245, -5.8717, -5.2753, -5.8913, -5.1209, -5.215, -6.0773, -5.0583, -5.6879, -5.5882, -5.9485, -5.8999, -5.456, -5.3324, -5.9353, -5.8413, -5.9993, -5.8067, -5.94, -5.8809, -5.9636], \"loglift\": [30.0, 29.0, 28.0, 27.0, 26.0, 25.0, 24.0, 23.0, 22.0, 21.0, 20.0, 19.0, 18.0, 17.0, 16.0, 15.0, 14.0, 13.0, 12.0, 11.0, 10.0, 9.0, 8.0, 7.0, 6.0, 5.0, 4.0, 3.0, 2.0, 1.0, 1.0035, 1.0006, 0.9987, 0.9986, 0.9981, 0.998, 0.9975, 0.9969, 0.9967, 0.9961, 0.9955, 0.9954, 0.9954, 0.9953, 0.9951, 0.9943, 0.9941, 0.994, 0.9937, 0.9936, 0.9935, 0.9934, 0.9932, 0.993, 0.9926, 0.9925, 0.9923, 0.9923, 0.9923, 0.9922, 0.9875, 0.99, 0.9713, 0.9894, 0.9901, 0.9897, 0.9856, 0.9889, 0.9874, 0.9895, 0.9876, 0.9869, 0.9908, 0.9742, 0.9767, 0.9847, 0.9854, 0.9849, 0.9776, 0.9327, 0.9472, 0.9722, 0.9581, 0.9707, 0.8808, 0.9126, 0.9083, 0.8869, 0.8798, 0.871, 0.9106, 0.9241, 0.9496, 0.9102, 0.9144, 0.8341, 0.9502, 0.9659, 0.7512, 0.9015, 0.9305, 0.8807, 0.7077, 0.9094, 0.8686, 0.8207, 0.8602, 0.761, 0.8404, 0.7474, 0.7851, 0.7501, 0.7395, 0.7002, 0.7912, 0.6152, 0.7182, 0.6026, 0.6782, 0.7785, 0.5071, 0.5166, 0.5358, 0.4946, 0.5905, 0.7589, 0.4227, 0.4637, 0.3411, 0.388, 0.3851, 0.4046, 0.2529, 0.455, -0.1156, 0.0089, 0.0154, -0.067, 0.1459, -0.2184, 0.1256, 0.0403, 0.3303, 0.1171, 1.1211, 1.118, 1.1143, 1.1142, 1.1138, 1.1119, 1.1111, 1.1102, 1.1102, 1.1091, 1.1082, 1.1078, 1.1075, 1.107, 1.1066, 1.1062, 1.1062, 1.1055, 1.1054, 1.1053, 1.1053, 1.1051, 1.1049, 1.1049, 1.1047, 1.1046, 1.1044, 1.1044, 1.1043, 1.1043, 1.1006, 1.0985, 1.1014, 1.0997, 1.1019, 1.093, 1.0985, 1.097, 1.0904, 1.1005, 1.0995, 1.1019, 1.1018, 1.0392, 1.0963, 1.0709, 1.0946, 1.0943, 1.0945, 0.9921, 1.0195, 1.0525, 1.0282, 0.9859, 1.0348, 1.044, 0.9656, 1.0902, 1.0835, 0.973, 0.9511, 0.9894, 0.9516, 0.9881, 0.9893, 1.0705, 0.9247, 0.9927, 0.9954, 0.927, 0.9487, 0.9597, 0.8996, 0.9645, 0.9485, 0.8867, 0.9152, 0.8778, 0.8967, 0.8977, 0.8456, 0.8928, 0.8695, 0.697, 0.8169, 0.7729, 0.702, 0.7655, 0.6345, 0.8649, 0.4641, 0.5967, 0.5652, 0.4773, 0.5929, 0.8075, 0.6207, 0.5378, 0.5218, 0.3626, 0.363, -0.0159, 0.4281, 0.4429, 0.1324, 0.236, 0.3523, 1.1474, 1.1469, 1.1464, 1.1449, 1.1441, 1.1434, 1.1431, 1.1431, 1.1424, 1.1418, 1.1418, 1.1408, 1.1401, 1.1393, 1.1389, 1.1386, 1.1386, 1.1376, 1.1376, 1.1375, 1.1372, 1.1369, 1.1365, 1.1363, 1.1362, 1.1361, 1.1361, 1.1357, 1.1352, 1.135, 1.1243, 1.1349, 1.1117, 1.1244, 1.1177, 1.1331, 1.1336, 1.1135, 1.1287, 1.1189, 1.1306, 1.1291, 1.1327, 1.0715, 1.091, 1.1083, 1.1095, 1.1054, 1.0673, 1.0826, 1.107, 1.122, 1.0863, 1.0876, 1.1205, 1.1059, 1.0766, 1.1086, 1.1075, 1.0688, 1.1111, 1.0621, 0.9873, 1.0665, 1.0662, 1.0591, 0.9946, 1.0475, 1.068, 0.9578, 0.9943, 1.0484, 0.9804, 0.9633, 1.0038, 0.9803, 1.0065, 0.8475, 0.851, 0.9377, 0.7797, 0.9419, 0.9003, 0.7849, 0.8682, 0.69, 0.7112, 0.9039, 0.6307, 0.7745, 0.7133, 0.8367, 0.791, 0.5219, 0.4502, 0.6884, 0.4454, 0.6842, 0.2405, 0.4767, 0.1001, 0.4518]}, \"token.table\": {\"Topic\": [3, 1, 2, 3, 1, 2, 3, 1, 2, 3, 1, 2, 3, 1, 3, 1, 2, 3, 1, 2, 3, 1, 2, 3, 1, 2, 3, 1, 2, 3, 1, 2, 3, 1, 1, 2, 3, 1, 2, 3, 1, 3, 1, 2, 3, 1, 2, 3, 1, 2, 3, 1, 2, 3, 1, 2, 3, 1, 1, 2, 1, 2, 3, 1, 2, 3, 1, 2, 3, 3, 2, 3, 1, 2, 3, 1, 1, 2, 3, 1, 2, 3, 1, 2, 3, 1, 3, 1, 2, 3, 1, 3, 1, 2, 3, 1, 2, 3, 1, 2, 3, 1, 2, 3, 3, 1, 2, 3, 1, 2, 3, 3, 1, 2, 3, 1, 2, 3, 1, 2, 3, 1, 2, 3, 1, 2, 3, 1, 2, 3, 1, 1, 2, 3, 1, 2, 3, 1, 2, 3, 3, 1, 2, 3, 2, 1, 2, 3, 1, 2, 3, 2, 1, 2, 3, 1, 2, 3, 1, 2, 3, 1, 2, 3, 2, 1, 2, 3, 1, 2, 3, 3, 1, 2, 3, 1, 2, 1, 2, 3, 1, 2, 3, 1, 3, 2, 3, 1, 2, 3, 1, 2, 3, 1, 3, 1, 3, 1, 2, 3, 1, 2, 3, 1, 2, 3, 3, 1, 2, 3, 1, 2, 3, 1, 2, 3, 1, 2, 3, 1, 2, 3, 1, 2, 2, 2, 1, 2, 3, 1, 2, 1, 2, 3, 1, 2, 3, 1, 2, 3, 1, 2, 3, 1, 2, 3, 1, 2, 3, 1, 2, 3, 1, 2, 3, 1, 2, 3, 1, 2, 3, 1, 2, 3, 2, 1, 2, 3, 1, 2, 3, 1, 2, 3, 1, 2, 3, 3, 1, 3, 1, 2, 3, 2, 1, 2, 3, 1, 2, 1, 2, 3, 1, 1, 2, 3, 1, 2, 3, 3, 1, 3, 1, 3, 2, 1, 2, 3, 1, 2, 3, 1, 2, 3, 1, 2, 3, 1, 2, 1, 2, 3, 1, 2, 3, 1, 2, 3, 1, 2, 3, 1, 2, 3, 1, 2, 3, 1, 1, 2, 3, 1, 2, 3, 1, 2, 3, 2, 2, 1, 2, 3, 1, 2, 3, 1, 2, 3, 1, 2, 3, 1, 1, 1, 2, 3, 1, 2, 3, 1, 2, 3, 1, 2, 1, 2, 3, 1, 2, 3, 1, 2, 3, 1, 2, 3, 1, 2, 3, 1, 2, 3, 1, 2, 3, 2, 1, 2, 3, 1, 2, 3, 1, 2, 3, 1, 2, 3, 1, 2, 3, 1, 2, 3, 1, 2, 3, 3, 1, 2, 3, 1, 3, 1, 2, 3, 1, 2, 3, 1, 2, 3, 2, 3, 1, 2, 3, 1, 2, 3, 1, 2, 3, 1, 2, 1, 2, 3, 2, 1, 2, 3, 3, 1, 2, 3, 1, 1, 2, 3, 1, 2, 3, 1, 2, 3, 1, 2, 3, 1, 2, 3, 1, 3, 1, 1, 2, 3, 1, 2, 3, 1, 2, 3, 1, 2, 1, 2, 3, 1, 2, 3, 1, 2, 3, 1, 2, 3, 1, 2, 3, 1, 1, 2, 3, 1, 2, 3, 1, 2, 3, 1, 2, 3, 1, 2, 1, 2, 3, 1, 2, 3, 1, 2, 3, 1, 2, 3, 1, 1, 2, 3, 1, 2, 3, 1, 2, 3, 1, 1, 2, 3, 1, 2, 3, 1, 1, 3, 1, 2, 3, 1, 2, 3, 1, 1, 2, 3, 1, 2, 3, 1, 2, 3, 1, 2, 3, 1, 2, 3, 1, 2, 3, 1, 2, 3, 1, 2, 3, 1, 2, 3, 1, 2, 3, 1, 3, 1, 2, 3, 1, 2, 3, 1, 2, 3, 1, 2, 3, 1, 2, 3, 1, 2, 3, 1, 2, 3, 2, 1, 2, 3, 2, 1, 2, 3, 1, 2, 3, 1, 2, 3, 1, 2, 3, 1, 2, 3, 1, 2, 3, 1, 2, 3, 1, 3, 2, 3, 1, 2, 3, 1, 2, 3, 3, 1, 2, 1, 2, 1, 2, 3, 3, 3, 1, 2, 3, 1, 2, 3, 1, 2, 3, 1, 2, 3, 1, 2, 3, 1, 2, 3, 1, 2, 3, 1, 2, 3, 1, 2, 3, 1, 1, 2, 3, 1, 2, 3, 1, 2, 3, 1, 3, 1, 2, 3, 1, 2, 3, 1, 2, 3, 1, 1, 2, 3, 2, 3, 1, 2, 3, 1, 2, 3, 1, 2, 3, 1, 2, 3, 1, 2, 3, 1, 2, 3, 3, 1, 2, 3, 1, 2, 3, 3, 1, 2, 3, 1, 2, 3, 1, 2, 3, 1, 2, 3, 1, 2, 3, 1, 2, 3, 1, 2, 3, 1, 2, 3, 1, 1, 2, 3, 1, 2, 3, 1, 2, 3, 2, 1, 2, 3, 3, 1, 2, 3, 1, 2, 3, 1, 2, 3, 1, 1, 2, 3], \"Freq\": [0.9798452720855197, 0.0793166156341851, 0.8668654479226235, 0.05392631091276041, 0.07594850479973342, 0.8701896482138948, 0.05406503731506447, 0.1235561464489884, 0.7713678865113928, 0.10467951296372628, 0.10702260073021419, 0.8350251754648107, 0.05724464690220759, 0.02939914222815743, 0.9701716935291952, 0.9837672610863303, 0.005405314621353463, 0.010810629242706926, 0.02647435359522433, 0.013237176797612165, 0.9619015139598174, 0.03534026333587827, 0.021747854360540476, 0.9433131828884431, 0.07208636429119825, 0.022026389088977243, 0.9070867506642446, 0.1368365247773344, 0.7940372987079124, 0.07034553738553107, 0.9427343694813889, 0.021185042010817726, 0.03707382351893102, 0.9892282880267727, 0.039440885107875634, 0.014790331915453363, 0.9465812425890152, 0.6105810788376783, 0.32274589114757096, 0.06697155357146063, 0.02108077596614457, 0.9697156944426503, 0.1931247411749915, 0.6013814614728225, 0.20525117841156074, 0.5789075293229405, 0.3906056640719424, 0.030417993617468938, 0.2283890577534735, 0.5536704430387237, 0.21780418163655674, 0.9485161772179497, 0.022800869644662252, 0.0273610435735947, 0.7981723660034237, 0.13768732124313274, 0.06418506704567091, 0.9879125753065968, 0.023158778660008976, 0.972668703720377, 0.3094835690762615, 0.6492499389976196, 0.04126447587683487, 0.021175260612553846, 0.9634743578712, 0.010587630306276923, 0.97658695229266, 0.011489258262266589, 0.011489258262266589, 0.954121225991078, 0.01876634308321132, 0.9758498403269887, 0.01711279866473666, 0.9697252576684107, 0.011408532443157772, 0.9737130321344728, 0.04037734468573694, 0.011536384195924839, 0.9459835040658369, 0.7718886150860286, 0.0781691173206626, 0.15005454353837808, 0.008354160502340478, 0.9690826182714954, 0.025062481507021433, 0.017759434472624614, 0.9767688959943539, 0.008288558636218706, 0.9697613604375885, 0.024865675908656116, 0.028011702879393963, 0.9804096007787888, 0.04686116406182736, 0.022932059008979346, 0.9302439589294664, 0.05253327595579689, 0.03939995696684767, 0.9083878967356546, 0.039700197849979524, 0.01323339928332651, 0.9461880487578453, 0.15785931724909355, 0.5212483396294327, 0.3206680190323996, 0.9724518982612788, 0.026200535554441316, 0.0218337796287011, 0.9519527918113678, 0.029904667297319627, 0.07974577945951901, 0.8900198600392746, 0.9542204266737234, 0.052566625241608975, 0.815354067606261, 0.13198793946534426, 0.5737929596859224, 0.1579340764819161, 0.26818026623390295, 0.9249441979303781, 0.048625637834054165, 0.025369898000376083, 0.16693129096966552, 0.08873424104699829, 0.7442584467816982, 0.7175840658881545, 0.09943267579651753, 0.18287268345793084, 0.9075132882302872, 0.060820996389331416, 0.032011050731227064, 0.9736654884368717, 0.9754033552019453, 0.009657458962395499, 0.009657458962395499, 0.9034247438616607, 0.08119013220978978, 0.016238026441957955, 0.05766962744972006, 0.03932020053390004, 0.9043646122797009, 0.9955058059266846, 0.9618653833922561, 0.01997484023019062, 0.0184383140586375, 0.9807074946485617, 0.04988527721359637, 0.9450488627686868, 0.005542808579288486, 0.04840512828381897, 0.8556614864337582, 0.09580181639505837, 0.9836056718037598, 0.17476768180826086, 0.7848423201500128, 0.040628649276459164, 0.15178579039497775, 0.4960803881201712, 0.3520689918673752, 0.7468351260239372, 0.2245040814059811, 0.028724427923997584, 0.9076647479250032, 0.04348094600838339, 0.04891606425943131, 0.9758431383740691, 0.09741832090802814, 0.5872933060455411, 0.3152178526524053, 0.2198541429827148, 0.7319849701659799, 0.04849723742265768, 0.998276720823069, 0.05426616511850524, 0.14470977364934728, 0.8011796322357092, 0.01627786269492205, 0.9766717616953231, 0.5459674748011804, 0.35879132912422845, 0.09558876798229134, 0.05432745178100188, 0.8964029543865311, 0.049234253176532954, 0.984037862313673, 0.995829038002947, 0.9678499857119979, 0.017923147883555517, 0.1752474787089431, 0.5035009618049066, 0.3213509565822633, 0.9657141382303543, 0.020723479361166402, 0.016578783488933123, 0.014072704385076492, 0.9850893069553545, 0.01608417135407228, 0.9650502812443368, 0.9831733188753778, 0.010804102405223932, 0.010804102405223932, 0.536752952903445, 0.2148664630560365, 0.24833604672438064, 0.555791856042766, 0.3861877509752744, 0.05812722849730935, 0.9543962550604473, 0.8776673266683368, 0.06254640718785848, 0.06052878114954047, 0.016902123167863756, 0.016902123167863756, 0.963421020568234, 0.021294372733395177, 0.9688939593694805, 0.010647186366697588, 0.02550676802320081, 0.017004512015467203, 0.9565038008700303, 0.10743633216153776, 0.03760271625653822, 0.8551932040058406, 0.02113625790932537, 0.9722678638289671, 0.9588599342044676, 0.98056813008956, 0.0330569880449529, 0.019834192826971738, 0.9454298580856528, 0.01667365005881272, 0.9837453534699505, 0.032556729430638205, 0.926058081582598, 0.041600265383593266, 0.15643897616834762, 0.07198961735180598, 0.7718117629544584, 0.827093250711843, 0.10854242135326024, 0.06404002859842353, 0.8969266050629567, 0.054754240425354914, 0.04693220607887564, 0.9667897168877726, 0.017264102087281654, 0.011509401391521101, 0.622360612257393, 0.1517558950770297, 0.22601941819983146, 0.7687400803214569, 0.15524434712087815, 0.07606349537649451, 0.34062266757910353, 0.31414676516637796, 0.34520503530438296, 0.9875729658588371, 0.01007727516182487, 0.01007727516182487, 0.02247043921231673, 0.01572930744862171, 0.961734798287156, 0.31499639158005344, 0.4096504796903158, 0.2755830499734852, 0.956766489693043, 0.030151384252268085, 0.007537846063067021, 0.9573064500095118, 0.3698018643316806, 0.3692853812809381, 0.2610821821503695, 0.10527694342201652, 0.08038239554729466, 0.8143216563839739, 0.07176102221672348, 0.019038638547293985, 0.9094611182976589, 0.9989425719005351, 0.9806752956941869, 0.01381232810836883, 0.014130986913921454, 0.014130986913921454, 0.9750380970605804, 0.98070135327993, 0.6045574940192341, 0.3399598428751761, 0.0554426696876508, 0.021493657452594996, 0.9672145853667748, 0.9054697189288675, 0.07643575549399531, 0.019598911665127002, 0.9906467310088714, 0.9780329032759839, 0.010187842742458165, 0.010187842742458165, 0.12674892275424304, 0.7778762459317544, 0.09488062217603335, 0.988458299230623, 1.0005170253502595, 1.0009087366621294, 0.990594973866131, 0.9967321416547424, 0.9974973109664123, 0.010969821510056134, 0.9763141143949959, 0.010969821510056134, 0.03186244016611479, 0.9431282289169977, 0.02548995213289183, 0.2038770970870537, 0.5448930798394509, 0.25108217345850725, 0.05564021459112428, 0.019474075106893498, 0.9264095729422193, 0.9914225677907584, 0.019065818611360738, 0.21806119829410042, 0.58518622757097, 0.19702991520989785, 0.07684491730075635, 0.07865303300195062, 0.8448420613830213, 0.020415569480752994, 0.9697395503357673, 0.010207784740376497, 0.03668719586605261, 0.015286331610855255, 0.9477525598730258, 0.09644311181333273, 0.8373803121516914, 0.06583541764502952, 0.8615926548185648, 0.07580536233382223, 0.06286298339877941, 0.9857940870372843, 0.010504285208997927, 0.9768985244368072, 0.010504285208997927, 0.4128069654046185, 0.4382104709679796, 0.1488927687185889, 0.09825875611527181, 0.8491316386677967, 0.05279574955447441, 0.9940331445591318, 0.9870006674052975, 0.014118761207750616, 0.9741945233347924, 0.014118761207750616, 0.9699973070981481, 0.010898846147170203, 0.021797692294340407, 0.9768240241573827, 0.02056471629805016, 0.01028235814902508, 0.27977318944889, 0.0424398210798758, 0.6778010259844243, 0.9868876989640646, 0.9723197096786818, 0.9786549154246149, 0.015056229468071, 0.0075281147340355, 0.08112195605546864, 0.0997231689089519, 0.8189700659103044, 0.3674962980995266, 0.10608663853978047, 0.5266262559091973, 0.9712652672816067, 0.011990929225698848, 0.5972403566074381, 0.12637026413391886, 0.2764852594267588, 0.02107732160637725, 0.02107732160637725, 0.9695567938933535, 0.15495296378117732, 0.11593441718504872, 0.7292431812104032, 0.07298999216527932, 0.03649499608263966, 0.8917472955844995, 0.01409691602058214, 0.01409691602058214, 0.9726872054201676, 0.14810784210267872, 0.8073683587792365, 0.044251733311166205, 0.021482228364900005, 0.9624038307475202, 0.012889337018940003, 0.9677916148137952, 0.05261255360075074, 0.10277801168518749, 0.8442479531283259, 0.2314838451393099, 0.08377510585994072, 0.6848063752037917, 0.9237467871688692, 0.024309125978128135, 0.05266977295261096, 0.4213126846871555, 0.09089847093742566, 0.4876720246871012, 0.9035071226279069, 0.0704863712688438, 0.025631407734125016, 0.11537359439417595, 0.031381617675215856, 0.8528416097617486, 0.9835741668822581, 0.010463554966832532, 0.010463554966832532, 0.9990897974596507, 0.9674125808859266, 0.02687257169127574, 0.008957523897091913, 0.020208521831869622, 0.970009047929742, 0.7797830362269977, 0.10317561325415721, 0.11791498657617967, 0.10893775651183833, 0.767710961244845, 0.1226621982771093, 0.97153296895255, 0.011847963036006708, 0.011847963036006708, 0.9830563841888356, 0.014456711532188757, 0.04413701230247353, 0.03262300909313261, 0.9220797570147188, 0.030414936718461887, 0.9580705066315495, 0.007603734179615472, 0.06906908848997188, 0.6952574362048409, 0.23574821112692884, 0.01793542585641685, 0.9685129962465099, 0.0164655288739175, 0.9714662035611324, 0.00823276443695875, 0.9753592509175458, 0.06847266765166739, 0.019563619329047825, 0.9122443235285633, 0.9983593445950389, 0.03478784286049945, 0.008696960715124862, 0.9566656786637349, 0.9780620743969615, 0.90394668334307, 0.07099057722589555, 0.0260298783161617, 0.8835728493624126, 0.09500783326477555, 0.02090172331825062, 0.3428015024177032, 0.03803195079296857, 0.6193040635882044, 0.01428817063703218, 0.9715956033181882, 0.01428817063703218, 0.09468075883525325, 0.3182642375305501, 0.5870967535808475, 0.9917349861842434, 0.01871198087140082, 0.9948661424849281, 0.05020464838801909, 0.023428835914408908, 0.9271125068987526, 0.011201661856083081, 0.9745445814792281, 0.011201661856083081, 0.23576463039257964, 0.14184607126288673, 0.6220894251631722, 0.019407234424696218, 0.9703617212348108, 0.9531933852462552, 0.014333735116485039, 0.028667470232970078, 0.9419271335901392, 0.04461760106479607, 0.014872533688265356, 0.04433330697645646, 0.9101367138107826, 0.045637227769881654, 0.26059006287432096, 0.3419224520177677, 0.39741344661731, 0.8698983479727224, 0.10003831001686307, 0.029576543831072562, 0.9837565975886713, 0.9632666970344405, 0.03057989514395049, 0.007644973785987622, 0.9601616074093714, 0.03530005909593278, 0.007060011819186555, 0.09688057989092572, 0.8719252190183314, 0.03107490298388183, 0.9778201533439217, 0.0054779840523469, 0.0164339521570407, 0.9753687086060726, 0.018757090550116783, 0.12664944475763876, 0.8443296317175918, 0.028948444516031718, 0.5067560190808227, 0.21325027047292536, 0.2802062693741019, 0.1473782725928757, 0.7530512612750008, 0.09954497359343359, 0.9165797054484739, 0.06466666633532178, 0.016869565130953508, 0.9981463415198076, 0.7778035499396067, 0.17582086233664762, 0.046575062870635134, 0.2011702920305629, 0.06705676401018765, 0.7316796555296006, 0.018979684234233452, 0.9632189748873478, 0.018979684234233452, 0.9833698619233331, 0.7935755213990876, 0.17688129091425447, 0.02987859643821866, 0.6575135918558073, 0.27227155492870786, 0.07044788484169363, 0.9979629716260037, 0.9842726564038008, 0.968047390472124, 0.09528873953689856, 0.868593510394037, 0.03664951520649945, 0.011841629244559866, 0.9710135980539091, 0.011841629244559866, 0.9906467310088714, 0.937819153051255, 0.044285904449642595, 0.018235372420441067, 0.13930746064143376, 0.7953622539186133, 0.06548641312204151, 0.8388197327337392, 0.0593032690092848, 0.1021731020280449, 0.8028216514714489, 0.129370356487116, 0.06649878137188206, 0.13697776825752647, 0.7900337479078463, 0.07331204498290149, 0.10142895174975795, 0.06567342199624615, 0.8325930499746318, 0.10504931278700275, 0.21361259906512, 0.6813409653297854, 0.13046902020313345, 0.81730593115756, 0.05248753686332954, 0.18082704905656366, 0.7254355732739789, 0.09360459009986824, 0.5121747207027197, 0.22033434878593958, 0.26754885209721235, 0.019820521884013422, 0.9712055723166577, 0.06325887610884855, 0.10392529646453688, 0.8330968058977821, 0.5351519264759722, 0.2843123748381999, 0.18058794738996126, 0.09298502649356187, 0.8372242539883641, 0.0700080315299018, 0.029884602818166812, 0.009961534272722271, 0.9662688244540603, 0.03621931480878055, 0.014020379925979569, 0.9498807399851158, 0.0959114729173919, 0.06568087261009603, 0.8386273006110275, 0.06324708368684266, 0.9179862432261735, 0.018070595339097904, 0.9842452808731936, 0.05695282240631057, 0.025628770082839755, 0.9169404407416001, 0.9936649633742198, 0.07177010198572623, 0.020505743424493208, 0.9073791465338245, 0.28875199681150954, 0.610127416339704, 0.10099378734633326, 0.9770213553246833, 0.01123013052097337, 0.01123013052097337, 0.0787922365368915, 0.0135072405491814, 0.9094875303115477, 0.03170065518106561, 0.01152751097493295, 0.9567834109194348, 0.0942337339209614, 0.26944581719599703, 0.6362584592105833, 0.7707794997641627, 0.13482549732439517, 0.09421540776885444, 0.033551498946967545, 0.9729934694620588, 0.9812489551110376, 0.016918085432948923, 0.17525493211652285, 0.10355973261430895, 0.7215040711810097, 0.09511868938702463, 0.8494893902316695, 0.05537168661723047, 0.9678940487590547, 1.000541280101273, 0.9766179639188425, 0.9773961393058602, 0.01123443838282598, 0.2559189076328631, 0.2531670914217571, 0.4910026353816375, 0.9736751010856515, 0.9994478484134106, 0.01646783807920157, 0.9716024466728926, 0.008233919039600785, 0.09889559035869698, 0.21177118563720976, 0.6891624647509198, 0.04001658216145942, 0.015006218310547282, 0.9453917535644788, 0.409208749013952, 0.4598214100762039, 0.13065963565006888, 0.9693571578463926, 0.012270343770207501, 0.012270343770207501, 0.46908429848116456, 0.46479891838260157, 0.06625856921624321, 0.042536335997982656, 0.012760900799394797, 0.944306659155215, 0.6653912415903935, 0.29944620987381126, 0.03506301515346108, 0.23228472107767478, 0.5689851189883293, 0.19855042548548135, 0.9932429842414675, 0.048877851665622474, 0.9142602154054683, 0.03690277800754497, 0.05834202911172299, 0.8697283969432779, 0.07130692446988365, 0.026758992872257244, 0.9633237434012608, 0.01783932858150483, 0.9803474165831499, 0.9677554948881384, 0.09732543033607369, 0.8349497444621058, 0.06761556212821962, 0.7627884951518662, 0.20162148163310636, 0.03526459374571442, 0.6735798512107568, 0.25224918132120944, 0.07414478269006002, 0.9799539022867456, 0.2927813771832037, 0.5144052037041238, 0.1929845646444593, 0.9873512662608205, 0.027426424062800568, 0.21058883130260986, 0.2861646361813035, 0.5034450752075477, 0.08224662826644147, 0.7004763172490888, 0.21693238193766107, 0.37926143394246276, 0.4648497944546461, 0.15622262086052788, 0.14986022954798975, 0.7928968508811821, 0.05721936037286881, 0.7389397494859766, 0.22566274504504405, 0.03532977926835309, 0.08072469413880567, 0.0184994090734763, 0.9014257512166634, 0.988458299230623, 0.22745302371981438, 0.14948753966854655, 0.6228647486189439, 0.26762586332412885, 0.6524933974233792, 0.0799563337794998, 0.9989170616697615, 0.019423415951787894, 0.9614590896135008, 0.009711707975893947, 0.040703310300248666, 0.9041331053927576, 0.055425784238636484, 0.867054345365741, 0.11418796066200607, 0.01741850247386533, 0.8430558440021938, 0.09055044250393933, 0.06557101008905952, 0.0959337610773385, 0.8751508408483737, 0.02936747788081791, 0.8788391921156157, 0.06313339396634747, 0.058663773154570664, 0.014794940544867496, 0.9764660759612547, 0.014794940544867496, 0.015566613222695074, 0.9806966330297896, 0.015566613222695074, 0.9862014482992384, 0.7337710326770891, 0.18034406292992647, 0.08614372765381367, 0.8777504139860878, 0.05988915404595908, 0.0626964581418634, 0.17632345749116776, 0.055030888006797576, 0.7687478130745499, 0.9962439151339836, 0.10521888518653696, 0.09686818001300229, 0.7983274145899154, 0.9934832693126057, 0.00925395511780263, 0.9716652873692762, 0.02776186535340789, 0.3244468100230931, 0.1853981771560532, 0.4902195044621767, 0.1123930276366393, 0.872148721519479, 0.015350382110498618, 0.9833648604662322, 0.19539420862676923, 0.1669796109629123, 0.6377498586776776], \"Term\": [\"aaal\", \"abstract\", \"abstract\", \"abstract\", \"acceptance\", \"acceptance\", \"acceptance\", \"accepted\", \"accepted\", \"accepted\", \"accommodation\", \"accommodation\", \"accommodation\", \"accountant\", \"accountant\", \"accusative\", \"accusative\", \"accusative\", \"advertise\", \"advertise\", \"advertise\", \"advertisement\", \"advertisement\", \"advertisement\", \"advertising\", \"advertising\", \"advertising\", \"affiliation\", \"affiliation\", \"affiliation\", \"affix\", \"affix\", \"affix\", \"agbayani\", \"amazing\", \"amazing\", \"amazing\", \"analysis\", \"analysis\", \"analysis\", \"anytime\", \"anytime\", \"application\", \"application\", \"application\", \"approach\", \"approach\", \"approach\", \"area\", \"area\", \"area\", \"argues\", \"argues\", \"argues\", \"argument\", \"argument\", \"argument\", \"arrow\", \"auteur\", \"auteur\", \"author\", \"author\", \"author\", \"automatique\", \"automatique\", \"automatique\", \"autosegmental\", \"autosegmental\", \"autosegmental\", \"bahamas\", \"bang\", \"bang\", \"bergamo\", \"bergamo\", \"bergamo\", \"bimodal\", \"bonus\", \"bonus\", \"bonus\", \"book\", \"book\", \"book\", \"bozen\", \"bozen\", \"bozen\", \"braille\", \"braille\", \"brandeis\", \"brandeis\", \"brandeis\", \"budiman\", \"budiman\", \"bulk\", \"bulk\", \"bulk\", \"business\", \"business\", \"business\", \"cable\", \"cable\", \"cable\", \"call\", \"call\", \"call\", \"capacitor\", \"capitalfm\", \"capitalfm\", \"capitalfm\", \"cash\", \"cash\", \"cash\", \"certification\", \"chair\", \"chair\", \"chair\", \"change\", \"change\", \"change\", \"chapter\", \"chapter\", \"chapter\", \"check\", \"check\", \"check\", \"child\", \"child\", \"child\", \"chomsky\", \"chomsky\", \"chomsky\", \"chronoscope\", \"clausal\", \"clausal\", \"clausal\", \"clause\", \"clause\", \"clause\", \"click\", \"click\", \"click\", \"clipper\", \"cloth\", \"cloth\", \"cloth\", \"cogentex\", \"coling\", \"coling\", \"coling\", \"committee\", \"committee\", \"committee\", \"comptable\", \"computational\", \"computational\", \"computational\", \"computer\", \"computer\", \"computer\", \"construction\", \"construction\", \"construction\", \"contrast\", \"contrast\", \"contrast\", \"convener\", \"copy\", \"copy\", \"copy\", \"corpus\", \"corpus\", \"corpus\", \"cosmetic\", \"credit\", \"credit\", \"credit\", \"crete\", \"crete\", \"data\", \"data\", \"data\", \"deadline\", \"deadline\", \"deadline\", \"dega\", \"dendale\", \"departamento\", \"departamento\", \"department\", \"department\", \"department\", \"derivation\", \"derivation\", \"derivation\", \"descrambler\", \"descrambler\", \"detective\", \"detective\", \"dgfs\", \"dgfs\", \"dgfs\", \"different\", \"different\", \"different\", \"discourse\", \"discourse\", \"discourse\", \"disney\", \"dissertation\", \"dissertation\", \"dissertation\", \"drug\", \"drug\", \"drug\", \"eacl\", \"eacl\", \"eacl\", \"earn\", \"earn\", \"earn\", \"easy\", \"easy\", \"easy\", \"ecdl\", \"ecdl\", \"eleventh\", \"enric\", \"envelope\", \"envelope\", \"envelope\", \"esca\", \"esca\", \"esslli\", \"esslli\", \"esslli\", \"every\", \"every\", \"every\", \"evidence\", \"evidence\", \"evidence\", \"evolution\", \"evolution\", \"evolution\", \"examines\", \"examines\", \"examines\", \"example\", \"example\", \"example\", \"feature\", \"feature\", \"feature\", \"first\", \"first\", \"first\", \"flmp\", \"flmp\", \"flmp\", \"floodgate\", \"floodgate\", \"floodgate\", \"following\", \"following\", \"following\", \"fontenay\", \"forever\", \"forever\", \"forever\", \"form\", \"form\", \"form\", \"free\", \"free\", \"free\", \"friend\", \"friend\", \"friend\", \"girona\", \"gldv\", \"gldv\", \"goldrush\", \"goldrush\", \"goldrush\", \"gosse\", \"grammar\", \"grammar\", \"grammar\", \"grefenstette\", \"grefenstette\", \"gruyter\", \"gruyter\", \"gruyter\", \"hacer\", \"hardback\", \"hardback\", \"hardback\", \"held\", \"held\", \"held\", \"hibbs\", \"hizo\", \"hollander\", \"hypotaxis\", \"ials\", \"iatl\", \"icsc\", \"icsc\", \"icsc\", \"icslp\", \"icslp\", \"icslp\", \"include\", \"include\", \"include\", \"income\", \"income\", \"income\", \"infant\", \"infant\", \"international\", \"international\", \"international\", \"internet\", \"internet\", \"internet\", \"interpretacion\", \"interpretacion\", \"interpretacion\", \"investment\", \"investment\", \"investment\", \"invited\", \"invited\", \"invited\", \"isbn\", \"isbn\", \"isbn\", \"ishii\", \"issco\", \"issco\", \"issco\", \"issue\", \"issue\", \"issue\", \"italy\", \"italy\", \"italy\", \"jmacdoug\", \"kassel\", \"kbcs\", \"kbcs\", \"kbcs\", \"keck\", \"keck\", \"keck\", \"kitahara\", \"kitahara\", \"kitahara\", \"know\", \"know\", \"know\", \"konvens\", \"labphon\", \"laryngeal\", \"laryngeal\", \"laryngeal\", \"letter\", \"letter\", \"letter\", \"like\", \"like\", \"like\", \"linecut\", \"linecut\", \"linguist\", \"linguist\", \"linguist\", \"linux\", \"linux\", \"linux\", \"list\", \"list\", \"list\", \"live\", \"live\", \"live\", \"loader\", \"loader\", \"loader\", \"logic\", \"logic\", \"logic\", \"lrec\", \"lrec\", \"lrec\", \"ludwigs\", \"mailing\", \"mailing\", \"mailing\", \"make\", \"make\", \"make\", \"mandarin\", \"mandarin\", \"mandarin\", \"many\", \"many\", \"many\", \"marked\", \"marked\", \"marked\", \"marketing\", \"marketing\", \"marketing\", \"massaro\", \"massaro\", \"massaro\", \"mast\", \"matrix\", \"matrix\", \"matrix\", \"mclaughlin\", \"mclaughlin\", \"meaning\", \"meaning\", \"meaning\", \"meeting\", \"meeting\", \"meeting\", \"meulen\", \"meulen\", \"meulen\", \"milano\", \"milano\", \"million\", \"million\", \"million\", \"mining\", \"mining\", \"mining\", \"minute\", \"minute\", \"minute\", \"moghrabi\", \"moghrabi\", \"moncton\", \"moncton\", \"moncton\", \"mondada\", \"money\", \"money\", \"money\", \"monoconc\", \"mortgage\", \"mortgage\", \"mortgage\", \"motherese\", \"mouton\", \"mouton\", \"mouton\", \"movement\", \"movement\", \"movement\", \"much\", \"much\", \"much\", \"mumbai\", \"mumbai\", \"mumbai\", \"name\", \"name\", \"name\", \"nativism\", \"nativism\", \"nativist\", \"nbsp\", \"nbsp\", \"nbsp\", \"ncst\", \"ncst\", \"ncst\", \"need\", \"need\", \"need\", \"netter\", \"netter\", \"nilotic\", \"nilotic\", \"nilotic\", \"node\", \"node\", \"node\", \"notification\", \"notification\", \"notification\", \"number\", \"number\", \"number\", \"object\", \"object\", \"object\", \"oegai\", \"onset\", \"onset\", \"onset\", \"optimal\", \"optimal\", \"optimal\", \"organizing\", \"organizing\", \"organizing\", \"overt\", \"overt\", \"overt\", \"overtly\", \"overtly\", \"paris\", \"paris\", \"paris\", \"part\", \"part\", \"part\", \"participant\", \"participant\", \"participant\", \"particle\", \"particle\", \"particle\", \"passivization\", \"pattern\", \"pattern\", \"pattern\", \"people\", \"people\", \"people\", \"peseta\", \"peseta\", \"peseta\", \"phasing\", \"phonological\", \"phonological\", \"phonological\", \"phonology\", \"phonology\", \"phonology\", \"popper\", \"popperian\", \"portuguesa\", \"poster\", \"poster\", \"poster\", \"poznan\", \"poznan\", \"poznan\", \"precios\", \"predicate\", \"predicate\", \"predicate\", \"presentation\", \"presentation\", \"presentation\", \"press\", \"press\", \"press\", \"principle\", \"principle\", \"principle\", \"proceeding\", \"proceeding\", \"proceeding\", \"product\", \"product\", \"product\", \"program\", \"program\", \"program\", \"programme\", \"programme\", \"programme\", \"proposal\", \"proposal\", \"proposal\", \"question\", \"question\", \"question\", \"racer\", \"racer\", \"receive\", \"receive\", \"receive\", \"reference\", \"reference\", \"reference\", \"registration\", \"registration\", \"registration\", \"relax\", \"relax\", \"relax\", \"remove\", \"remove\", \"remove\", \"report\", \"report\", \"report\", \"retrieval\", \"retrieval\", \"retrieval\", \"revue\", \"sale\", \"sale\", \"sale\", \"satta\", \"save\", \"save\", \"save\", \"science\", \"science\", \"science\", \"scobbie\", \"scobbie\", \"scobbie\", \"secret\", \"secret\", \"secret\", \"selling\", \"selling\", \"selling\", \"send\", \"send\", \"send\", \"sentence\", \"sentence\", \"sentence\", \"sericels\", \"sericels\", \"seront\", \"seront\", \"service\", \"service\", \"service\", \"session\", \"session\", \"session\", \"shack\", \"sigma\", \"sigphon\", \"silverman\", \"silverman\", \"site\", \"site\", \"site\", \"sleuth\", \"slrf\", \"soco\", \"soco\", \"soco\", \"software\", \"software\", \"software\", \"sold\", \"sold\", \"sold\", \"speaker\", \"speaker\", \"speaker\", \"spec\", \"spec\", \"spec\", \"speech\", \"speech\", \"speech\", \"stealth\", \"stealth\", \"stealth\", \"structure\", \"structure\", \"structure\", \"student\", \"student\", \"student\", \"subir\", \"submission\", \"submission\", \"submission\", \"submitted\", \"submitted\", \"submitted\", \"summarization\", \"summarization\", \"summarization\", \"supralaryngeal\", \"surgery\", \"symposium\", \"symposium\", \"symposium\", \"syntactic\", \"syntactic\", \"syntactic\", \"syntax\", \"syntax\", \"syntax\", \"syntaxis\", \"system\", \"system\", \"system\", \"szeged\", \"szeged\", \"take\", \"take\", \"take\", \"technology\", \"technology\", \"technology\", \"text\", \"text\", \"text\", \"theme\", \"theme\", \"theme\", \"theory\", \"theory\", \"theory\", \"thousand\", \"thousand\", \"thousand\", \"thro\", \"time\", \"time\", \"time\", \"topic\", \"topic\", \"topic\", \"totaled\", \"traduccion\", \"traduccion\", \"traduccion\", \"tutorial\", \"tutorial\", \"tutorial\", \"typology\", \"typology\", \"typology\", \"universal\", \"universal\", \"universal\", \"universite\", \"universite\", \"universite\", \"verb\", \"verb\", \"verb\", \"vextal\", \"vextal\", \"vextal\", \"visualization\", \"visualization\", \"visualization\", \"volk\", \"volume\", \"volume\", \"volume\", \"vowel\", \"vowel\", \"vowel\", \"want\", \"want\", \"want\", \"webnet\", \"week\", \"week\", \"week\", \"wilrijk\", \"wordnet\", \"wordnet\", \"wordnet\", \"work\", \"work\", \"work\", \"workshop\", \"workshop\", \"workshop\", \"xxii\", \"year\", \"year\", \"year\"]}, \"R\": 30, \"lambda.step\": 0.01, \"plot.opts\": {\"xlab\": \"PC1\", \"ylab\": \"PC2\"}, \"topic.order\": [1, 3, 2]};\n",
       "\n",
       "function LDAvis_load_lib(url, callback){\n",
       "  var s = document.createElement('script');\n",
       "  s.src = url;\n",
       "  s.async = true;\n",
       "  s.onreadystatechange = s.onload = callback;\n",
       "  s.onerror = function(){console.warn(\"failed to load library \" + url);};\n",
       "  document.getElementsByTagName(\"head\")[0].appendChild(s);\n",
       "}\n",
       "\n",
       "if(typeof(LDAvis) !== \"undefined\"){\n",
       "   // already loaded: just create the visualization\n",
       "   !function(LDAvis){\n",
       "       new LDAvis(\"#\" + \"ldavis_el353842221733456800160508552\", ldavis_el353842221733456800160508552_data);\n",
       "   }(LDAvis);\n",
       "}else if(typeof define === \"function\" && define.amd){\n",
       "   // require.js is available: use it to load d3/LDAvis\n",
       "   require.config({paths: {d3: \"https://d3js.org/d3.v5\"}});\n",
       "   require([\"d3\"], function(d3){\n",
       "      window.d3 = d3;\n",
       "      LDAvis_load_lib(\"https://cdn.jsdelivr.net/gh/bmabey/pyLDAvis@3.3.1/pyLDAvis/js/ldavis.v3.0.0.js\", function(){\n",
       "        new LDAvis(\"#\" + \"ldavis_el353842221733456800160508552\", ldavis_el353842221733456800160508552_data);\n",
       "      });\n",
       "    });\n",
       "}else{\n",
       "    // require.js not available: dynamically load d3 & LDAvis\n",
       "    LDAvis_load_lib(\"https://d3js.org/d3.v5.js\", function(){\n",
       "         LDAvis_load_lib(\"https://cdn.jsdelivr.net/gh/bmabey/pyLDAvis@3.3.1/pyLDAvis/js/ldavis.v3.0.0.js\", function(){\n",
       "                 new LDAvis(\"#\" + \"ldavis_el353842221733456800160508552\", ldavis_el353842221733456800160508552_data);\n",
       "            })\n",
       "         });\n",
       "}\n",
       "</script>"
      ],
      "text/plain": [
       "PreparedData(topic_coordinates=              x         y  topics  cluster       Freq\n",
       "topic                                                \n",
       "0      0.048328  0.093730       1        1  36.415269\n",
       "2      0.095184 -0.100353       2        1  32.340225\n",
       "1     -0.143512  0.006623       3        1  31.244506, topic_info=            Term         Freq        Total Category  logprob  loglift\n",
       "6595    workshop  5667.000000  5667.000000  Default  30.0000  30.0000\n",
       "3733  submission  4091.000000  4091.000000  Default  29.0000  29.0000\n",
       "6393    abstract  4450.000000  4450.000000  Default  28.0000  28.0000\n",
       "249       report  4597.000000  4597.000000  Default  27.0000  27.0000\n",
       "227        money  2760.000000  2760.000000  Default  26.0000  26.0000\n",
       "...          ...          ...          ...      ...      ...      ...\n",
       "38          much  1205.028624  1945.732429   Topic3  -5.9993   0.6842\n",
       "228       number  1460.917564  3676.272186   Topic3  -5.8067   0.2405\n",
       "274         take  1278.618575  2540.495603   Topic3  -5.9400   0.4767\n",
       "202        first  1356.475890  3928.100292   Topic3  -5.8809   0.1001\n",
       "605         site  1248.750870  2543.774534   Topic3  -5.9636   0.4518\n",
       "\n",
       "[353 rows x 6 columns], token_table=       Topic      Freq        Term\n",
       "term                              \n",
       "9800       3  0.979845        aaal\n",
       "6393       1  0.079317    abstract\n",
       "6393       2  0.866865    abstract\n",
       "6393       3  0.053926    abstract\n",
       "2944       1  0.075949  acceptance\n",
       "...      ...       ...         ...\n",
       "6595       3  0.015350    workshop\n",
       "16240      1  0.983365        xxii\n",
       "62         1  0.195394        year\n",
       "62         2  0.166980        year\n",
       "62         3  0.637750        year\n",
       "\n",
       "[786 rows x 3 columns], R=30, lambda_step=0.01, plot_opts={'xlab': 'PC1', 'ylab': 'PC2'}, topic_order=[1, 3, 2])"
      ]
     },
     "execution_count": 81,
     "metadata": {},
     "output_type": "execute_result"
    }
   ],
   "source": [
    "vis = gensimvis.prepare(ldamodel_improved, doc_term_matrix, corpus_dict, mds = \"mmds\")\n",
    "vis"
   ]
  },
  {
   "cell_type": "markdown",
   "id": "66a27fee",
   "metadata": {},
   "source": [
    "## Topic distribution "
   ]
  },
  {
   "cell_type": "markdown",
   "id": "d89a3f76",
   "metadata": {},
   "source": [
    "##### Distributions of topic of document (each email)"
   ]
  },
  {
   "cell_type": "code",
   "execution_count": 82,
   "id": "c466fc93",
   "metadata": {},
   "outputs": [
    {
     "data": {
      "text/plain": [
       "[('doc:', 1, [(1, 0.99086064)]),\n",
       " ('doc:', 2, [(1, 0.99225235)]),\n",
       " ('doc:', 3, [(1, 0.9248747), (2, 0.06649985)]),\n",
       " ('doc:', 4, [(1, 0.9975228)]),\n",
       " ('doc:', 5, [(1, 0.99809337)]),\n",
       " ('doc:', 6, [(1, 0.99810654)]),\n",
       " ('doc:', 7, [(1, 0.991155)]),\n",
       " ('doc:', 8, [(1, 0.9975004)])]"
      ]
     },
     "execution_count": 82,
     "metadata": {},
     "output_type": "execute_result"
    }
   ],
   "source": [
    "doc = []\n",
    "count = 0\n",
    "for i in ldamodel_improved[doc_term_matrix]:\n",
    "    count += 1\n",
    "    doc.append( (\"doc:\", count, i))\n",
    "doc[0:8]"
   ]
  },
  {
   "cell_type": "code",
   "execution_count": 101,
   "id": "2b435f66",
   "metadata": {},
   "outputs": [],
   "source": [
    "def format_topics_sentences (ldamodel = None, corpus = doc_term_matrix, texts = emails):\n",
    "    sent_topics_df = pd.DataFrame()\n",
    "    \n",
    "    for i, row_list in enumerate(ldamodel_improved[doc_term_matrix]):\n",
    "        row = row_list[0] if ldamodel_improved.per_word_topics else row_list\n",
    "        row = sorted(row, key = lambda x:(x[1]), reverse = True)\n",
    "        for j, (topic_num, prop_topic) in enumerate(row):\n",
    "            if j == 0:\n",
    "                wp = ldamodel_improved.show_topic(topic_num)\n",
    "                topic_key_words = \", \".join([word for word, prop in wp])\n",
    "                sent_topics_df = sent_topics_df.append(pd.Series([int(topic_num), round(prop_topic, 4),\n",
    "                                                                  topic_key_words]), ignore_index = True)\n",
    "            else:\n",
    "                break\n",
    "    sent_topics_df.columns =['Dominant_Topic', 'Perc_Contribution', 'Topic_Keywords']\n",
    "    \n",
    "    contents = pd.Series(texts)\n",
    "    sent_topics_df = pd.concat([sent_topics_df, contents], axis = 1)\n",
    "    return(sent_topics_df)"
   ]
  },
  {
   "cell_type": "code",
   "execution_count": 102,
   "id": "e3805b10",
   "metadata": {},
   "outputs": [
    {
     "data": {
      "text/html": [
       "<div>\n",
       "<style scoped>\n",
       "    .dataframe tbody tr th:only-of-type {\n",
       "        vertical-align: middle;\n",
       "    }\n",
       "\n",
       "    .dataframe tbody tr th {\n",
       "        vertical-align: top;\n",
       "    }\n",
       "\n",
       "    .dataframe thead th {\n",
       "        text-align: right;\n",
       "    }\n",
       "</style>\n",
       "<table border=\"1\" class=\"dataframe\">\n",
       "  <thead>\n",
       "    <tr style=\"text-align: right;\">\n",
       "      <th></th>\n",
       "      <th>Dominant_Topic</th>\n",
       "      <th>Perc_Contribution</th>\n",
       "      <th>Topic_Keywords</th>\n",
       "      <th>0</th>\n",
       "    </tr>\n",
       "  </thead>\n",
       "  <tbody>\n",
       "    <tr>\n",
       "      <th>0</th>\n",
       "      <td>1</td>\n",
       "      <td>0.9909</td>\n",
       "      <td>report, program, list, name, people, time, fre...</td>\n",
       "      <td>[great, part, time, summer, display, credit, a...</td>\n",
       "    </tr>\n",
       "    <tr>\n",
       "      <th>1</th>\n",
       "      <td>1</td>\n",
       "      <td>0.9923</td>\n",
       "      <td>report, program, list, name, people, time, fre...</td>\n",
       "      <td>[auto, insurance, rate, high, dear, nlpeople, ...</td>\n",
       "    </tr>\n",
       "    <tr>\n",
       "      <th>2</th>\n",
       "      <td>1</td>\n",
       "      <td>0.9249</td>\n",
       "      <td>report, program, list, name, people, time, fre...</td>\n",
       "      <td>[want, best, economical, hunting, vacation, li...</td>\n",
       "    </tr>\n",
       "    <tr>\n",
       "      <th>3</th>\n",
       "      <td>1</td>\n",
       "      <td>0.9975</td>\n",
       "      <td>report, program, list, name, people, time, fre...</td>\n",
       "      <td>[million, people, million, want, make, money, ...</td>\n",
       "    </tr>\n",
       "    <tr>\n",
       "      <th>4</th>\n",
       "      <td>1</td>\n",
       "      <td>0.9981</td>\n",
       "      <td>report, program, list, name, people, time, fre...</td>\n",
       "      <td>[miss, attention, warning, adult, warning, adu...</td>\n",
       "    </tr>\n",
       "    <tr>\n",
       "      <th>...</th>\n",
       "      <td>...</td>\n",
       "      <td>...</td>\n",
       "      <td>...</td>\n",
       "      <td>...</td>\n",
       "    </tr>\n",
       "    <tr>\n",
       "      <th>2600</th>\n",
       "      <td>2</td>\n",
       "      <td>0.9963</td>\n",
       "      <td>workshop, abstract, submission, session, syste...</td>\n",
       "      <td>[computationally, intensive, method, quantitat...</td>\n",
       "    </tr>\n",
       "    <tr>\n",
       "      <th>2601</th>\n",
       "      <td>0</td>\n",
       "      <td>0.6897</td>\n",
       "      <td>book, theory, grammar, syntax, analysis, struc...</td>\n",
       "      <td>[book, survey, american, publishing, house, mo...</td>\n",
       "    </tr>\n",
       "    <tr>\n",
       "      <th>2602</th>\n",
       "      <td>2</td>\n",
       "      <td>0.9561</td>\n",
       "      <td>workshop, abstract, submission, session, syste...</td>\n",
       "      <td>[wecol, western, arizona, state, cordially, in...</td>\n",
       "    </tr>\n",
       "    <tr>\n",
       "      <th>2603</th>\n",
       "      <td>2</td>\n",
       "      <td>0.9437</td>\n",
       "      <td>workshop, abstract, submission, session, syste...</td>\n",
       "      <td>[euralex, revised, programme, euralex, liege, ...</td>\n",
       "    </tr>\n",
       "    <tr>\n",
       "      <th>2604</th>\n",
       "      <td>0</td>\n",
       "      <td>0.3650</td>\n",
       "      <td>book, theory, grammar, syntax, analysis, struc...</td>\n",
       "      <td>[body, label, great, part, time, summer, displ...</td>\n",
       "    </tr>\n",
       "  </tbody>\n",
       "</table>\n",
       "<p>2605 rows × 4 columns</p>\n",
       "</div>"
      ],
      "text/plain": [
       "      Dominant_Topic  Perc_Contribution  \\\n",
       "0                  1             0.9909   \n",
       "1                  1             0.9923   \n",
       "2                  1             0.9249   \n",
       "3                  1             0.9975   \n",
       "4                  1             0.9981   \n",
       "...              ...                ...   \n",
       "2600               2             0.9963   \n",
       "2601               0             0.6897   \n",
       "2602               2             0.9561   \n",
       "2603               2             0.9437   \n",
       "2604               0             0.3650   \n",
       "\n",
       "                                         Topic_Keywords  \\\n",
       "0     report, program, list, name, people, time, fre...   \n",
       "1     report, program, list, name, people, time, fre...   \n",
       "2     report, program, list, name, people, time, fre...   \n",
       "3     report, program, list, name, people, time, fre...   \n",
       "4     report, program, list, name, people, time, fre...   \n",
       "...                                                 ...   \n",
       "2600  workshop, abstract, submission, session, syste...   \n",
       "2601  book, theory, grammar, syntax, analysis, struc...   \n",
       "2602  workshop, abstract, submission, session, syste...   \n",
       "2603  workshop, abstract, submission, session, syste...   \n",
       "2604  book, theory, grammar, syntax, analysis, struc...   \n",
       "\n",
       "                                                      0  \n",
       "0     [great, part, time, summer, display, credit, a...  \n",
       "1     [auto, insurance, rate, high, dear, nlpeople, ...  \n",
       "2     [want, best, economical, hunting, vacation, li...  \n",
       "3     [million, people, million, want, make, money, ...  \n",
       "4     [miss, attention, warning, adult, warning, adu...  \n",
       "...                                                 ...  \n",
       "2600  [computationally, intensive, method, quantitat...  \n",
       "2601  [book, survey, american, publishing, house, mo...  \n",
       "2602  [wecol, western, arizona, state, cordially, in...  \n",
       "2603  [euralex, revised, programme, euralex, liege, ...  \n",
       "2604  [body, label, great, part, time, summer, displ...  \n",
       "\n",
       "[2605 rows x 4 columns]"
      ]
     },
     "execution_count": 102,
     "metadata": {},
     "output_type": "execute_result"
    }
   ],
   "source": [
    "df_topic_sents_keywords = format_topics_sentences(ldamodel = ldamodel_improved, corpus = doc_term_matrix, texts = emails)\n",
    "df_topic_sents_keywords"
   ]
  },
  {
   "cell_type": "code",
   "execution_count": 85,
   "id": "cc48382d",
   "metadata": {},
   "outputs": [
    {
     "data": {
      "text/html": [
       "<div>\n",
       "<style scoped>\n",
       "    .dataframe tbody tr th:only-of-type {\n",
       "        vertical-align: middle;\n",
       "    }\n",
       "\n",
       "    .dataframe tbody tr th {\n",
       "        vertical-align: top;\n",
       "    }\n",
       "\n",
       "    .dataframe thead th {\n",
       "        text-align: right;\n",
       "    }\n",
       "</style>\n",
       "<table border=\"1\" class=\"dataframe\">\n",
       "  <thead>\n",
       "    <tr style=\"text-align: right;\">\n",
       "      <th></th>\n",
       "      <th>Dominant_Topic</th>\n",
       "      <th>Num Documents</th>\n",
       "    </tr>\n",
       "  </thead>\n",
       "  <tbody>\n",
       "    <tr>\n",
       "      <th>0</th>\n",
       "      <td>0</td>\n",
       "      <td>991</td>\n",
       "    </tr>\n",
       "    <tr>\n",
       "      <th>1</th>\n",
       "      <td>1</td>\n",
       "      <td>861</td>\n",
       "    </tr>\n",
       "    <tr>\n",
       "      <th>2</th>\n",
       "      <td>2</td>\n",
       "      <td>753</td>\n",
       "    </tr>\n",
       "  </tbody>\n",
       "</table>\n",
       "</div>"
      ],
      "text/plain": [
       "   Dominant_Topic  Num Documents\n",
       "0               0            991\n",
       "1               1            861\n",
       "2               2            753"
      ]
     },
     "execution_count": 85,
     "metadata": {},
     "output_type": "execute_result"
    }
   ],
   "source": [
    "df_topic_distribution = df_topic_sents_keywords['Dominant_Topic'].value_counts().reset_index(name = \"num Documents\")\n",
    "df_topic_distribution.columns = ['Dominant_Topic', 'Num Documents']\n",
    "df_topic_distribution.sort_values(\"Dominant_Topic\")\n"
   ]
  },
  {
   "cell_type": "code",
   "execution_count": 110,
   "id": "9d14cd1d",
   "metadata": {},
   "outputs": [],
   "source": [
    "new_df = df_topic_sents_keywords.copy()\n",
    "new_df.rename(columns = {0: \"Email Text\"}, inplace = True)\n"
   ]
  },
  {
   "cell_type": "code",
   "execution_count": 111,
   "id": "85445e69",
   "metadata": {},
   "outputs": [],
   "source": [
    "new_df['Label'] = dataframe[\"Label\"]"
   ]
  },
  {
   "cell_type": "code",
   "execution_count": 112,
   "id": "ab1c2711",
   "metadata": {},
   "outputs": [
    {
     "data": {
      "text/html": [
       "<div>\n",
       "<style scoped>\n",
       "    .dataframe tbody tr th:only-of-type {\n",
       "        vertical-align: middle;\n",
       "    }\n",
       "\n",
       "    .dataframe tbody tr th {\n",
       "        vertical-align: top;\n",
       "    }\n",
       "\n",
       "    .dataframe thead th {\n",
       "        text-align: right;\n",
       "    }\n",
       "</style>\n",
       "<table border=\"1\" class=\"dataframe\">\n",
       "  <thead>\n",
       "    <tr style=\"text-align: right;\">\n",
       "      <th></th>\n",
       "      <th>Dominant_Topic</th>\n",
       "      <th>Perc_Contribution</th>\n",
       "      <th>Topic_Keywords</th>\n",
       "      <th>Email Text</th>\n",
       "      <th>Label</th>\n",
       "    </tr>\n",
       "  </thead>\n",
       "  <tbody>\n",
       "    <tr>\n",
       "      <th>0</th>\n",
       "      <td>1</td>\n",
       "      <td>0.9909</td>\n",
       "      <td>report, program, list, name, people, time, fre...</td>\n",
       "      <td>[great, part, time, summer, display, credit, a...</td>\n",
       "      <td>1</td>\n",
       "    </tr>\n",
       "    <tr>\n",
       "      <th>1</th>\n",
       "      <td>1</td>\n",
       "      <td>0.9923</td>\n",
       "      <td>report, program, list, name, people, time, fre...</td>\n",
       "      <td>[auto, insurance, rate, high, dear, nlpeople, ...</td>\n",
       "      <td>1</td>\n",
       "    </tr>\n",
       "    <tr>\n",
       "      <th>2</th>\n",
       "      <td>1</td>\n",
       "      <td>0.9249</td>\n",
       "      <td>report, program, list, name, people, time, fre...</td>\n",
       "      <td>[want, best, economical, hunting, vacation, li...</td>\n",
       "      <td>1</td>\n",
       "    </tr>\n",
       "    <tr>\n",
       "      <th>3</th>\n",
       "      <td>1</td>\n",
       "      <td>0.9975</td>\n",
       "      <td>report, program, list, name, people, time, fre...</td>\n",
       "      <td>[million, people, million, want, make, money, ...</td>\n",
       "      <td>1</td>\n",
       "    </tr>\n",
       "    <tr>\n",
       "      <th>4</th>\n",
       "      <td>1</td>\n",
       "      <td>0.9981</td>\n",
       "      <td>report, program, list, name, people, time, fre...</td>\n",
       "      <td>[miss, attention, warning, adult, warning, adu...</td>\n",
       "      <td>1</td>\n",
       "    </tr>\n",
       "    <tr>\n",
       "      <th>5</th>\n",
       "      <td>1</td>\n",
       "      <td>0.9981</td>\n",
       "      <td>report, program, list, name, people, time, fre...</td>\n",
       "      <td>[amazing, world, record, attention, warning, a...</td>\n",
       "      <td>1</td>\n",
       "    </tr>\n",
       "    <tr>\n",
       "      <th>6</th>\n",
       "      <td>1</td>\n",
       "      <td>0.9912</td>\n",
       "      <td>report, program, list, name, people, time, fre...</td>\n",
       "      <td>[help, loan, debt, help, qualifying, fingertip...</td>\n",
       "      <td>1</td>\n",
       "    </tr>\n",
       "    <tr>\n",
       "      <th>7</th>\n",
       "      <td>1</td>\n",
       "      <td>0.9975</td>\n",
       "      <td>report, program, list, name, people, time, fre...</td>\n",
       "      <td>[beat, read, founding, father, united, state, ...</td>\n",
       "      <td>1</td>\n",
       "    </tr>\n",
       "    <tr>\n",
       "      <th>8</th>\n",
       "      <td>1</td>\n",
       "      <td>0.9975</td>\n",
       "      <td>report, program, list, name, people, time, fre...</td>\n",
       "      <td>[million, people, million, want, make, money, ...</td>\n",
       "      <td>1</td>\n",
       "    </tr>\n",
       "    <tr>\n",
       "      <th>9</th>\n",
       "      <td>1</td>\n",
       "      <td>0.9791</td>\n",
       "      <td>report, program, list, name, people, time, fre...</td>\n",
       "      <td>[make, week, using, home, computer, free, soft...</td>\n",
       "      <td>1</td>\n",
       "    </tr>\n",
       "  </tbody>\n",
       "</table>\n",
       "</div>"
      ],
      "text/plain": [
       "   Dominant_Topic  Perc_Contribution  \\\n",
       "0               1             0.9909   \n",
       "1               1             0.9923   \n",
       "2               1             0.9249   \n",
       "3               1             0.9975   \n",
       "4               1             0.9981   \n",
       "5               1             0.9981   \n",
       "6               1             0.9912   \n",
       "7               1             0.9975   \n",
       "8               1             0.9975   \n",
       "9               1             0.9791   \n",
       "\n",
       "                                      Topic_Keywords  \\\n",
       "0  report, program, list, name, people, time, fre...   \n",
       "1  report, program, list, name, people, time, fre...   \n",
       "2  report, program, list, name, people, time, fre...   \n",
       "3  report, program, list, name, people, time, fre...   \n",
       "4  report, program, list, name, people, time, fre...   \n",
       "5  report, program, list, name, people, time, fre...   \n",
       "6  report, program, list, name, people, time, fre...   \n",
       "7  report, program, list, name, people, time, fre...   \n",
       "8  report, program, list, name, people, time, fre...   \n",
       "9  report, program, list, name, people, time, fre...   \n",
       "\n",
       "                                          Email Text  Label  \n",
       "0  [great, part, time, summer, display, credit, a...      1  \n",
       "1  [auto, insurance, rate, high, dear, nlpeople, ...      1  \n",
       "2  [want, best, economical, hunting, vacation, li...      1  \n",
       "3  [million, people, million, want, make, money, ...      1  \n",
       "4  [miss, attention, warning, adult, warning, adu...      1  \n",
       "5  [amazing, world, record, attention, warning, a...      1  \n",
       "6  [help, loan, debt, help, qualifying, fingertip...      1  \n",
       "7  [beat, read, founding, father, united, state, ...      1  \n",
       "8  [million, people, million, want, make, money, ...      1  \n",
       "9  [make, week, using, home, computer, free, soft...      1  "
      ]
     },
     "execution_count": 112,
     "metadata": {},
     "output_type": "execute_result"
    }
   ],
   "source": [
    "new_df.head(10)"
   ]
  },
  {
   "cell_type": "code",
   "execution_count": 113,
   "id": "c54e4d30",
   "metadata": {},
   "outputs": [
    {
     "name": "stderr",
     "output_type": "stream",
     "text": [
      "C:\\ProgramData\\Anaconda3\\lib\\site-packages\\seaborn\\categorical.py:381: DeprecationWarning: distutils Version classes are deprecated. Use packaging.version instead.\n",
      "  if LooseVersion(mpl.__version__) < \"3.0\":\n",
      "C:\\ProgramData\\Anaconda3\\lib\\site-packages\\setuptools\\_distutils\\version.py:351: DeprecationWarning: distutils Version classes are deprecated. Use packaging.version instead.\n",
      "  other = LooseVersion(other)\n"
     ]
    },
    {
     "data": {
      "text/plain": [
       "Text(0.5, 1.0, 'Spam and not-Spam email by Topic')"
      ]
     },
     "execution_count": 113,
     "metadata": {},
     "output_type": "execute_result"
    },
    {
     "data": {
      "image/png": "[encoded data removed]",
      "text/plain": [
       "<Figure size 432x288 with 1 Axes>"
      ]
     },
     "metadata": {
      "needs_background": "light"
     },
     "output_type": "display_data"
    }
   ],
   "source": [
    "import seaborn as sns\n",
    "sns.countplot(data = new_df, x = 'Dominant_Topic', hue = 'Label', palette = 'Dark2')\n",
    "plt.xlabel ('Topics')\n",
    "plt.title ('Spam and not-Spam email by Topic')\n"
   ]
  },
  {
   "cell_type": "markdown",
   "id": "8ddd2848",
   "metadata": {},
   "source": [
    "### Visualize Topics - in WordCloud "
   ]
  },
  {
   "cell_type": "code",
   "execution_count": 114,
   "id": "ec2e5338",
   "metadata": {},
   "outputs": [],
   "source": [
    "import matplotlib.colors as mcolors\n",
    "import matplotlib.pyplot as plt"
   ]
  },
  {
   "cell_type": "code",
   "execution_count": 115,
   "id": "b18f7fa4",
   "metadata": {},
   "outputs": [],
   "source": [
    "cols = [color for name, color in mcolors.TABLEAU_COLORS.items()]\n"
   ]
  },
  {
   "cell_type": "code",
   "execution_count": 116,
   "id": "065f1331",
   "metadata": {},
   "outputs": [],
   "source": [
    "cloud = WordCloud(stopwords = stop_words, \n",
    "                 background_color = 'white', \n",
    "                 width = 2500,\n",
    "                 height = 2800,\n",
    "                 max_words = 20, \n",
    "                 colormap = 'tab10',\n",
    "                 color_func = lambda *args, **kwargs :cols[i],\n",
    "                 prefer_horizontal = 1.0)"
   ]
  },
  {
   "cell_type": "code",
   "execution_count": 93,
   "id": "74954b76",
   "metadata": {},
   "outputs": [
    {
     "data": {
      "text/plain": [
       "[(0,\n",
       "  [('book', 0.005423746),\n",
       "   ('theory', 0.005245989),\n",
       "   ('grammar', 0.0032168725),\n",
       "   ('syntax', 0.003033063),\n",
       "   ('analysis', 0.0030267218),\n",
       "   ('structure', 0.0029154478),\n",
       "   ('verb', 0.002777601),\n",
       "   ('work', 0.0027442395),\n",
       "   ('example', 0.0027231064),\n",
       "   ('question', 0.0026439596)]),\n",
       " (1,\n",
       "  [('report', 0.007937217),\n",
       "   ('program', 0.007584165),\n",
       "   ('list', 0.0066938447),\n",
       "   ('name', 0.0063566067),\n",
       "   ('people', 0.0063348473),\n",
       "   ('time', 0.0059706075),\n",
       "   ('free', 0.005588175),\n",
       "   ('send', 0.005434623),\n",
       "   ('money', 0.0051834523),\n",
       "   ('make', 0.0051163468)]),\n",
       " (2,\n",
       "  [('workshop', 0.00983098),\n",
       "   ('abstract', 0.0076717525),\n",
       "   ('submission', 0.0074396892),\n",
       "   ('session', 0.0061624027),\n",
       "   ('system', 0.00464362),\n",
       "   ('registration', 0.004637332),\n",
       "   ('call', 0.003979577),\n",
       "   ('author', 0.0038806007),\n",
       "   ('student', 0.0035229775),\n",
       "   ('science', 0.0034954124)])]"
      ]
     },
     "execution_count": 93,
     "metadata": {},
     "output_type": "execute_result"
    }
   ],
   "source": [
    "topics = ldamodel_improved.show_topics(formatted = False)\n",
    "topics"
   ]
  },
  {
   "cell_type": "code",
   "execution_count": 117,
   "id": "46d132ff",
   "metadata": {},
   "outputs": [],
   "source": [
    "topics.append((3, [('dummy', 0.45566), ('summy', 0.5666)]))"
   ]
  },
  {
   "cell_type": "code",
   "execution_count": 96,
   "id": "cfebd6fa",
   "metadata": {},
   "outputs": [
    {
     "data": {
      "image/png": "[encoded data removed]",
      "text/plain": [
       "<Figure size 720x720 with 4 Axes>"
      ]
     },
     "metadata": {
      "needs_background": "light"
     },
     "output_type": "display_data"
    }
   ],
   "source": [
    "fig, axes = plt.subplots(2,2, figsize =(10,10))\n",
    "#axes[1,2].remove()\n",
    "axes[1,1].set_visible(False)\n",
    "#my_topics = ['Investment', 'Tech-Product', 'Delivery', 'Companies', 'Office', 'Promotionals']\n",
    "for i, ax in enumerate(axes.flatten()):\n",
    "    fig.add_subplot(ax)\n",
    "    topic_words = dict(topics[i][1])\n",
    "    cloud.generate_from_frequencies(topic_words, max_font_size = 300)\n",
    "    plt.gca().imshow(cloud)\n",
    "    #plt.gca().set_title('Topic ' + str([i]), fontdict = dict(size= 15))\n",
    "    #plt.gca().set_title(str([topic for topic in my_topics]), fontdict = dict(size = 20))\n",
    "    plt.gca().axis('on')\n",
    "    #for xlabel_i in plt.gca().axes.get_xticklabels():\n",
    "        #xlabel_i.set_visible(False)\n",
    "axes[0,0].set_title('Topic 1:  Language')\n",
    "axes[0,1].set_title('Topic 2: Spam Likely/Financials')\n",
    "axes[1,0].set_title('Topic 3: Workshops/Conferences')\n",
    "#axes[1,0].set_title('Topic 4: ....')\n",
    "#axes[1,1].set_title('Topic 5: ....')\n",
    "#axes[1,2].set_title('Topic 6: Promotionals')\n",
    "plt.subplots_adjust(wspace = 2, hspace = 2)\n",
    "for ax in axes.flat:\n",
    "    ax.axes.yaxis.set_visible(False)\n",
    "    ax.axes.xaxis.set_visible(False)\n",
    "\n",
    "#plt.axis('off')\n",
    "plt.margins(x=0.2, y=0.22)\n",
    "plt.tight_layout()\n",
    "for ax in axes.flat:\n",
    "    ax.label_outer()\n",
    "plt.show()"
   ]
  },
  {
   "cell_type": "markdown",
   "id": "dd9098c4",
   "metadata": {},
   "source": [
    "## CountVectorizer Implementation from scikit-learn "
   ]
  },
  {
   "cell_type": "code",
   "execution_count": null,
   "id": "fea05469",
   "metadata": {},
   "outputs": [],
   "source": [
    "from sklearn.feature_extraction.text import TfidfVectorizer, CountVectorizer\n",
    "from nltk import ne_chunk\n",
    "stop_words = set(nltk.corpus.stopwords.words('english'))"
   ]
  },
  {
   "cell_type": "code",
   "execution_count": null,
   "id": "da836269",
   "metadata": {},
   "outputs": [],
   "source": [
    "vect = TfidfVectorizer(stop_words = stop_words, max_features = 1000)"
   ]
  },
  {
   "cell_type": "code",
   "execution_count": null,
   "id": "326df60f",
   "metadata": {},
   "outputs": [],
   "source": [
    "vect_text = vect.fit_transform(processed_email_1)"
   ]
  },
  {
   "cell_type": "code",
   "execution_count": null,
   "id": "04e092aa",
   "metadata": {},
   "outputs": [],
   "source": [
    "print(vect_text.shape)"
   ]
  },
  {
   "cell_type": "code",
   "execution_count": null,
   "id": "67ef3ebe",
   "metadata": {},
   "outputs": [],
   "source": [
    "idf = vect.idf_"
   ]
  },
  {
   "cell_type": "code",
   "execution_count": null,
   "id": "ffad2778",
   "metadata": {},
   "outputs": [],
   "source": [
    "dd = dict(zip(vect.get_feature_names(), idf))\n",
    "l = sorted(dd, key = (dd).get)"
   ]
  },
  {
   "cell_type": "code",
   "execution_count": null,
   "id": "f879a130",
   "metadata": {},
   "outputs": [],
   "source": [
    "print(l[0], l[-1])"
   ]
  },
  {
   "cell_type": "code",
   "execution_count": null,
   "id": "6b46b883",
   "metadata": {},
   "outputs": [],
   "source": [
    "from sklearn.decomposition import LatentDirichletAllocation "
   ]
  },
  {
   "cell_type": "code",
   "execution_count": null,
   "id": "d35be886",
   "metadata": {},
   "outputs": [],
   "source": [
    "lda_model = LatentDirichletAllocation(n_components = 6, learning_method = 'online', random_state = 0, max_iter =20)"
   ]
  },
  {
   "cell_type": "code",
   "execution_count": null,
   "id": "6e92c162",
   "metadata": {},
   "outputs": [],
   "source": [
    "lda_top = lda_model.fit_transform(vect_text)"
   ]
  },
  {
   "cell_type": "code",
   "execution_count": null,
   "id": "174faf75",
   "metadata": {},
   "outputs": [],
   "source": [
    "print(lda_top.shape)"
   ]
  },
  {
   "cell_type": "code",
   "execution_count": null,
   "id": "4b1913e8",
   "metadata": {},
   "outputs": [],
   "source": [
    "vocab = vect.get_feature_names()\n",
    "\n",
    "for i, comp in enumerate(lda_model.components_):\n",
    "    vocab_comp = zip(vocab, comp)\n",
    "    sorted_words = sorted(vocab_comp, key= lambda x:x[1], reverse=True)[:10]\n",
    "    print(\"Topic \"+str(i)+\": \")\n",
    "    for t in sorted_words:\n",
    "        print(t[0],end=\" \")\n",
    "    print(\"\\n\")"
   ]
  },
  {
   "cell_type": "code",
   "execution_count": null,
   "id": "4a3491b4",
   "metadata": {},
   "outputs": [],
   "source": []
  }
 ],
 "metadata": {
  "kernelspec": {
   "display_name": "Python 3 (ipykernel)",
   "language": "python",
   "name": "python3"
  },
  "language_info": {
   "codemirror_mode": {
    "name": "ipython",
    "version": 3
   },
   "file_extension": ".py",
   "mimetype": "text/x-python",
   "name": "python",
   "nbconvert_exporter": "python",
   "pygments_lexer": "ipython3",
   "version": "3.9.12"
  }
 },
 "nbformat": 4,
 "nbformat_minor": 5
}
