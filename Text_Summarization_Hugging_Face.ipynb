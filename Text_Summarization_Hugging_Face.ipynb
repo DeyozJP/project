{
  "nbformat": 4,
  "nbformat_minor": 0,
  "metadata": {
    "colab": {
      "provenance": [],
      "gpuType": "T4",
      "mount_file_id": "1L9sLV_trWJiZjTwVWX8h9qnlSeWy_Rvn",
      "authorship_tag": "ABX9TyNfh4u34JJMs4dOG6DGjIKG",
      "include_colab_link": true
    },
    "kernelspec": {
      "name": "python3",
      "display_name": "Python 3"
    },
    "language_info": {
      "name": "python"
    },
    "accelerator": "GPU",
    "widgets": {
      "application/vnd.jupyter.widget-state+json": {
        "cd8e38722d254cbe9633650fcf27c4bb": {
          "model_module": "@jupyter-widgets/controls",
          "model_name": "HBoxModel",
          "model_module_version": "1.5.0",
          "state": {
            "_dom_classes": [],
            "_model_module": "@jupyter-widgets/controls",
            "_model_module_version": "1.5.0",
            "_model_name": "HBoxModel",
            "_view_count": null,
            "_view_module": "@jupyter-widgets/controls",
            "_view_module_version": "1.5.0",
            "_view_name": "HBoxView",
            "box_style": "",
            "children": [
              "IPY_MODEL_d179b3a77ed24ce89a219031e2f9a5c5",
              "IPY_MODEL_80c0a690dbd149bc87574452157c664a",
              "IPY_MODEL_34cefff541b54e04ad9364881d070740"
            ],
            "layout": "IPY_MODEL_0fc702f5e2fa484f9d1d397d0c874839"
          }
        },
        "d179b3a77ed24ce89a219031e2f9a5c5": {
          "model_module": "@jupyter-widgets/controls",
          "model_name": "HTMLModel",
          "model_module_version": "1.5.0",
          "state": {
            "_dom_classes": [],
            "_model_module": "@jupyter-widgets/controls",
            "_model_module_version": "1.5.0",
            "_model_name": "HTMLModel",
            "_view_count": null,
            "_view_module": "@jupyter-widgets/controls",
            "_view_module_version": "1.5.0",
            "_view_name": "HTMLView",
            "description": "",
            "description_tooltip": null,
            "layout": "IPY_MODEL_7b80469e956d4baab1c4799586dac52f",
            "placeholder": "​",
            "style": "IPY_MODEL_ab718303cc094f9fb6f11d9c7ca74e17",
            "value": "Map: 100%"
          }
        },
        "80c0a690dbd149bc87574452157c664a": {
          "model_module": "@jupyter-widgets/controls",
          "model_name": "FloatProgressModel",
          "model_module_version": "1.5.0",
          "state": {
            "_dom_classes": [],
            "_model_module": "@jupyter-widgets/controls",
            "_model_module_version": "1.5.0",
            "_model_name": "FloatProgressModel",
            "_view_count": null,
            "_view_module": "@jupyter-widgets/controls",
            "_view_module_version": "1.5.0",
            "_view_name": "ProgressView",
            "bar_style": "success",
            "description": "",
            "description_tooltip": null,
            "layout": "IPY_MODEL_0bcce855fd3c4fab8de954f529fc3628",
            "max": 500,
            "min": 0,
            "orientation": "horizontal",
            "style": "IPY_MODEL_2149cc1b6b50483fad564e63eefc806e",
            "value": 500
          }
        },
        "34cefff541b54e04ad9364881d070740": {
          "model_module": "@jupyter-widgets/controls",
          "model_name": "HTMLModel",
          "model_module_version": "1.5.0",
          "state": {
            "_dom_classes": [],
            "_model_module": "@jupyter-widgets/controls",
            "_model_module_version": "1.5.0",
            "_model_name": "HTMLModel",
            "_view_count": null,
            "_view_module": "@jupyter-widgets/controls",
            "_view_module_version": "1.5.0",
            "_view_name": "HTMLView",
            "description": "",
            "description_tooltip": null,
            "layout": "IPY_MODEL_fd053a91cfed42e08b6b4b20f23f1190",
            "placeholder": "​",
            "style": "IPY_MODEL_fda17ea4623d4d77aeae9f4533381d59",
            "value": " 500/500 [00:02&lt;00:00, 224.37 examples/s]"
          }
        },
        "0fc702f5e2fa484f9d1d397d0c874839": {
          "model_module": "@jupyter-widgets/base",
          "model_name": "LayoutModel",
          "model_module_version": "1.2.0",
          "state": {
            "_model_module": "@jupyter-widgets/base",
            "_model_module_version": "1.2.0",
            "_model_name": "LayoutModel",
            "_view_count": null,
            "_view_module": "@jupyter-widgets/base",
            "_view_module_version": "1.2.0",
            "_view_name": "LayoutView",
            "align_content": null,
            "align_items": null,
            "align_self": null,
            "border": null,
            "bottom": null,
            "display": null,
            "flex": null,
            "flex_flow": null,
            "grid_area": null,
            "grid_auto_columns": null,
            "grid_auto_flow": null,
            "grid_auto_rows": null,
            "grid_column": null,
            "grid_gap": null,
            "grid_row": null,
            "grid_template_areas": null,
            "grid_template_columns": null,
            "grid_template_rows": null,
            "height": null,
            "justify_content": null,
            "justify_items": null,
            "left": null,
            "margin": null,
            "max_height": null,
            "max_width": null,
            "min_height": null,
            "min_width": null,
            "object_fit": null,
            "object_position": null,
            "order": null,
            "overflow": null,
            "overflow_x": null,
            "overflow_y": null,
            "padding": null,
            "right": null,
            "top": null,
            "visibility": null,
            "width": null
          }
        },
        "7b80469e956d4baab1c4799586dac52f": {
          "model_module": "@jupyter-widgets/base",
          "model_name": "LayoutModel",
          "model_module_version": "1.2.0",
          "state": {
            "_model_module": "@jupyter-widgets/base",
            "_model_module_version": "1.2.0",
            "_model_name": "LayoutModel",
            "_view_count": null,
            "_view_module": "@jupyter-widgets/base",
            "_view_module_version": "1.2.0",
            "_view_name": "LayoutView",
            "align_content": null,
            "align_items": null,
            "align_self": null,
            "border": null,
            "bottom": null,
            "display": null,
            "flex": null,
            "flex_flow": null,
            "grid_area": null,
            "grid_auto_columns": null,
            "grid_auto_flow": null,
            "grid_auto_rows": null,
            "grid_column": null,
            "grid_gap": null,
            "grid_row": null,
            "grid_template_areas": null,
            "grid_template_columns": null,
            "grid_template_rows": null,
            "height": null,
            "justify_content": null,
            "justify_items": null,
            "left": null,
            "margin": null,
            "max_height": null,
            "max_width": null,
            "min_height": null,
            "min_width": null,
            "object_fit": null,
            "object_position": null,
            "order": null,
            "overflow": null,
            "overflow_x": null,
            "overflow_y": null,
            "padding": null,
            "right": null,
            "top": null,
            "visibility": null,
            "width": null
          }
        },
        "ab718303cc094f9fb6f11d9c7ca74e17": {
          "model_module": "@jupyter-widgets/controls",
          "model_name": "DescriptionStyleModel",
          "model_module_version": "1.5.0",
          "state": {
            "_model_module": "@jupyter-widgets/controls",
            "_model_module_version": "1.5.0",
            "_model_name": "DescriptionStyleModel",
            "_view_count": null,
            "_view_module": "@jupyter-widgets/base",
            "_view_module_version": "1.2.0",
            "_view_name": "StyleView",
            "description_width": ""
          }
        },
        "0bcce855fd3c4fab8de954f529fc3628": {
          "model_module": "@jupyter-widgets/base",
          "model_name": "LayoutModel",
          "model_module_version": "1.2.0",
          "state": {
            "_model_module": "@jupyter-widgets/base",
            "_model_module_version": "1.2.0",
            "_model_name": "LayoutModel",
            "_view_count": null,
            "_view_module": "@jupyter-widgets/base",
            "_view_module_version": "1.2.0",
            "_view_name": "LayoutView",
            "align_content": null,
            "align_items": null,
            "align_self": null,
            "border": null,
            "bottom": null,
            "display": null,
            "flex": null,
            "flex_flow": null,
            "grid_area": null,
            "grid_auto_columns": null,
            "grid_auto_flow": null,
            "grid_auto_rows": null,
            "grid_column": null,
            "grid_gap": null,
            "grid_row": null,
            "grid_template_areas": null,
            "grid_template_columns": null,
            "grid_template_rows": null,
            "height": null,
            "justify_content": null,
            "justify_items": null,
            "left": null,
            "margin": null,
            "max_height": null,
            "max_width": null,
            "min_height": null,
            "min_width": null,
            "object_fit": null,
            "object_position": null,
            "order": null,
            "overflow": null,
            "overflow_x": null,
            "overflow_y": null,
            "padding": null,
            "right": null,
            "top": null,
            "visibility": null,
            "width": null
          }
        },
        "2149cc1b6b50483fad564e63eefc806e": {
          "model_module": "@jupyter-widgets/controls",
          "model_name": "ProgressStyleModel",
          "model_module_version": "1.5.0",
          "state": {
            "_model_module": "@jupyter-widgets/controls",
            "_model_module_version": "1.5.0",
            "_model_name": "ProgressStyleModel",
            "_view_count": null,
            "_view_module": "@jupyter-widgets/base",
            "_view_module_version": "1.2.0",
            "_view_name": "StyleView",
            "bar_color": null,
            "description_width": ""
          }
        },
        "fd053a91cfed42e08b6b4b20f23f1190": {
          "model_module": "@jupyter-widgets/base",
          "model_name": "LayoutModel",
          "model_module_version": "1.2.0",
          "state": {
            "_model_module": "@jupyter-widgets/base",
            "_model_module_version": "1.2.0",
            "_model_name": "LayoutModel",
            "_view_count": null,
            "_view_module": "@jupyter-widgets/base",
            "_view_module_version": "1.2.0",
            "_view_name": "LayoutView",
            "align_content": null,
            "align_items": null,
            "align_self": null,
            "border": null,
            "bottom": null,
            "display": null,
            "flex": null,
            "flex_flow": null,
            "grid_area": null,
            "grid_auto_columns": null,
            "grid_auto_flow": null,
            "grid_auto_rows": null,
            "grid_column": null,
            "grid_gap": null,
            "grid_row": null,
            "grid_template_areas": null,
            "grid_template_columns": null,
            "grid_template_rows": null,
            "height": null,
            "justify_content": null,
            "justify_items": null,
            "left": null,
            "margin": null,
            "max_height": null,
            "max_width": null,
            "min_height": null,
            "min_width": null,
            "object_fit": null,
            "object_position": null,
            "order": null,
            "overflow": null,
            "overflow_x": null,
            "overflow_y": null,
            "padding": null,
            "right": null,
            "top": null,
            "visibility": null,
            "width": null
          }
        },
        "fda17ea4623d4d77aeae9f4533381d59": {
          "model_module": "@jupyter-widgets/controls",
          "model_name": "DescriptionStyleModel",
          "model_module_version": "1.5.0",
          "state": {
            "_model_module": "@jupyter-widgets/controls",
            "_model_module_version": "1.5.0",
            "_model_name": "DescriptionStyleModel",
            "_view_count": null,
            "_view_module": "@jupyter-widgets/base",
            "_view_module_version": "1.2.0",
            "_view_name": "StyleView",
            "description_width": ""
          }
        },
        "57d1a2437ac94596a1062c2112da98be": {
          "model_module": "@jupyter-widgets/controls",
          "model_name": "HBoxModel",
          "model_module_version": "1.5.0",
          "state": {
            "_dom_classes": [],
            "_model_module": "@jupyter-widgets/controls",
            "_model_module_version": "1.5.0",
            "_model_name": "HBoxModel",
            "_view_count": null,
            "_view_module": "@jupyter-widgets/controls",
            "_view_module_version": "1.5.0",
            "_view_name": "HBoxView",
            "box_style": "",
            "children": [
              "IPY_MODEL_f098bf8e69d444ecab3fb998d88e114a",
              "IPY_MODEL_d4adb39d0e8f4f1999363365da95da59",
              "IPY_MODEL_aaa31c5fb2364a2bae1a9e6a314721c6"
            ],
            "layout": "IPY_MODEL_dcf169c34de242709708164a6df217dd"
          }
        },
        "f098bf8e69d444ecab3fb998d88e114a": {
          "model_module": "@jupyter-widgets/controls",
          "model_name": "HTMLModel",
          "model_module_version": "1.5.0",
          "state": {
            "_dom_classes": [],
            "_model_module": "@jupyter-widgets/controls",
            "_model_module_version": "1.5.0",
            "_model_name": "HTMLModel",
            "_view_count": null,
            "_view_module": "@jupyter-widgets/controls",
            "_view_module_version": "1.5.0",
            "_view_name": "HTMLView",
            "description": "",
            "description_tooltip": null,
            "layout": "IPY_MODEL_0d71fbb756ea41078807c4005a97cb1e",
            "placeholder": "​",
            "style": "IPY_MODEL_9f1f2cfd634c4a09b0142847a7a67723",
            "value": "Map: 100%"
          }
        },
        "d4adb39d0e8f4f1999363365da95da59": {
          "model_module": "@jupyter-widgets/controls",
          "model_name": "FloatProgressModel",
          "model_module_version": "1.5.0",
          "state": {
            "_dom_classes": [],
            "_model_module": "@jupyter-widgets/controls",
            "_model_module_version": "1.5.0",
            "_model_name": "FloatProgressModel",
            "_view_count": null,
            "_view_module": "@jupyter-widgets/controls",
            "_view_module_version": "1.5.0",
            "_view_name": "ProgressView",
            "bar_style": "success",
            "description": "",
            "description_tooltip": null,
            "layout": "IPY_MODEL_bed7bd44efb245899e3a5d2aca18241e",
            "max": 100,
            "min": 0,
            "orientation": "horizontal",
            "style": "IPY_MODEL_01a45ac8818c491faee8fed8e92743b5",
            "value": 100
          }
        },
        "aaa31c5fb2364a2bae1a9e6a314721c6": {
          "model_module": "@jupyter-widgets/controls",
          "model_name": "HTMLModel",
          "model_module_version": "1.5.0",
          "state": {
            "_dom_classes": [],
            "_model_module": "@jupyter-widgets/controls",
            "_model_module_version": "1.5.0",
            "_model_name": "HTMLModel",
            "_view_count": null,
            "_view_module": "@jupyter-widgets/controls",
            "_view_module_version": "1.5.0",
            "_view_name": "HTMLView",
            "description": "",
            "description_tooltip": null,
            "layout": "IPY_MODEL_cfcb2e00e85244008aa0fccb2562b662",
            "placeholder": "​",
            "style": "IPY_MODEL_a6e4872c60414327a0ca47548c93debb",
            "value": " 100/100 [00:00&lt;00:00, 212.85 examples/s]"
          }
        },
        "dcf169c34de242709708164a6df217dd": {
          "model_module": "@jupyter-widgets/base",
          "model_name": "LayoutModel",
          "model_module_version": "1.2.0",
          "state": {
            "_model_module": "@jupyter-widgets/base",
            "_model_module_version": "1.2.0",
            "_model_name": "LayoutModel",
            "_view_count": null,
            "_view_module": "@jupyter-widgets/base",
            "_view_module_version": "1.2.0",
            "_view_name": "LayoutView",
            "align_content": null,
            "align_items": null,
            "align_self": null,
            "border": null,
            "bottom": null,
            "display": null,
            "flex": null,
            "flex_flow": null,
            "grid_area": null,
            "grid_auto_columns": null,
            "grid_auto_flow": null,
            "grid_auto_rows": null,
            "grid_column": null,
            "grid_gap": null,
            "grid_row": null,
            "grid_template_areas": null,
            "grid_template_columns": null,
            "grid_template_rows": null,
            "height": null,
            "justify_content": null,
            "justify_items": null,
            "left": null,
            "margin": null,
            "max_height": null,
            "max_width": null,
            "min_height": null,
            "min_width": null,
            "object_fit": null,
            "object_position": null,
            "order": null,
            "overflow": null,
            "overflow_x": null,
            "overflow_y": null,
            "padding": null,
            "right": null,
            "top": null,
            "visibility": null,
            "width": null
          }
        },
        "0d71fbb756ea41078807c4005a97cb1e": {
          "model_module": "@jupyter-widgets/base",
          "model_name": "LayoutModel",
          "model_module_version": "1.2.0",
          "state": {
            "_model_module": "@jupyter-widgets/base",
            "_model_module_version": "1.2.0",
            "_model_name": "LayoutModel",
            "_view_count": null,
            "_view_module": "@jupyter-widgets/base",
            "_view_module_version": "1.2.0",
            "_view_name": "LayoutView",
            "align_content": null,
            "align_items": null,
            "align_self": null,
            "border": null,
            "bottom": null,
            "display": null,
            "flex": null,
            "flex_flow": null,
            "grid_area": null,
            "grid_auto_columns": null,
            "grid_auto_flow": null,
            "grid_auto_rows": null,
            "grid_column": null,
            "grid_gap": null,
            "grid_row": null,
            "grid_template_areas": null,
            "grid_template_columns": null,
            "grid_template_rows": null,
            "height": null,
            "justify_content": null,
            "justify_items": null,
            "left": null,
            "margin": null,
            "max_height": null,
            "max_width": null,
            "min_height": null,
            "min_width": null,
            "object_fit": null,
            "object_position": null,
            "order": null,
            "overflow": null,
            "overflow_x": null,
            "overflow_y": null,
            "padding": null,
            "right": null,
            "top": null,
            "visibility": null,
            "width": null
          }
        },
        "9f1f2cfd634c4a09b0142847a7a67723": {
          "model_module": "@jupyter-widgets/controls",
          "model_name": "DescriptionStyleModel",
          "model_module_version": "1.5.0",
          "state": {
            "_model_module": "@jupyter-widgets/controls",
            "_model_module_version": "1.5.0",
            "_model_name": "DescriptionStyleModel",
            "_view_count": null,
            "_view_module": "@jupyter-widgets/base",
            "_view_module_version": "1.2.0",
            "_view_name": "StyleView",
            "description_width": ""
          }
        },
        "bed7bd44efb245899e3a5d2aca18241e": {
          "model_module": "@jupyter-widgets/base",
          "model_name": "LayoutModel",
          "model_module_version": "1.2.0",
          "state": {
            "_model_module": "@jupyter-widgets/base",
            "_model_module_version": "1.2.0",
            "_model_name": "LayoutModel",
            "_view_count": null,
            "_view_module": "@jupyter-widgets/base",
            "_view_module_version": "1.2.0",
            "_view_name": "LayoutView",
            "align_content": null,
            "align_items": null,
            "align_self": null,
            "border": null,
            "bottom": null,
            "display": null,
            "flex": null,
            "flex_flow": null,
            "grid_area": null,
            "grid_auto_columns": null,
            "grid_auto_flow": null,
            "grid_auto_rows": null,
            "grid_column": null,
            "grid_gap": null,
            "grid_row": null,
            "grid_template_areas": null,
            "grid_template_columns": null,
            "grid_template_rows": null,
            "height": null,
            "justify_content": null,
            "justify_items": null,
            "left": null,
            "margin": null,
            "max_height": null,
            "max_width": null,
            "min_height": null,
            "min_width": null,
            "object_fit": null,
            "object_position": null,
            "order": null,
            "overflow": null,
            "overflow_x": null,
            "overflow_y": null,
            "padding": null,
            "right": null,
            "top": null,
            "visibility": null,
            "width": null
          }
        },
        "01a45ac8818c491faee8fed8e92743b5": {
          "model_module": "@jupyter-widgets/controls",
          "model_name": "ProgressStyleModel",
          "model_module_version": "1.5.0",
          "state": {
            "_model_module": "@jupyter-widgets/controls",
            "_model_module_version": "1.5.0",
            "_model_name": "ProgressStyleModel",
            "_view_count": null,
            "_view_module": "@jupyter-widgets/base",
            "_view_module_version": "1.2.0",
            "_view_name": "StyleView",
            "bar_color": null,
            "description_width": ""
          }
        },
        "cfcb2e00e85244008aa0fccb2562b662": {
          "model_module": "@jupyter-widgets/base",
          "model_name": "LayoutModel",
          "model_module_version": "1.2.0",
          "state": {
            "_model_module": "@jupyter-widgets/base",
            "_model_module_version": "1.2.0",
            "_model_name": "LayoutModel",
            "_view_count": null,
            "_view_module": "@jupyter-widgets/base",
            "_view_module_version": "1.2.0",
            "_view_name": "LayoutView",
            "align_content": null,
            "align_items": null,
            "align_self": null,
            "border": null,
            "bottom": null,
            "display": null,
            "flex": null,
            "flex_flow": null,
            "grid_area": null,
            "grid_auto_columns": null,
            "grid_auto_flow": null,
            "grid_auto_rows": null,
            "grid_column": null,
            "grid_gap": null,
            "grid_row": null,
            "grid_template_areas": null,
            "grid_template_columns": null,
            "grid_template_rows": null,
            "height": null,
            "justify_content": null,
            "justify_items": null,
            "left": null,
            "margin": null,
            "max_height": null,
            "max_width": null,
            "min_height": null,
            "min_width": null,
            "object_fit": null,
            "object_position": null,
            "order": null,
            "overflow": null,
            "overflow_x": null,
            "overflow_y": null,
            "padding": null,
            "right": null,
            "top": null,
            "visibility": null,
            "width": null
          }
        },
        "a6e4872c60414327a0ca47548c93debb": {
          "model_module": "@jupyter-widgets/controls",
          "model_name": "DescriptionStyleModel",
          "model_module_version": "1.5.0",
          "state": {
            "_model_module": "@jupyter-widgets/controls",
            "_model_module_version": "1.5.0",
            "_model_name": "DescriptionStyleModel",
            "_view_count": null,
            "_view_module": "@jupyter-widgets/base",
            "_view_module_version": "1.2.0",
            "_view_name": "StyleView",
            "description_width": ""
          }
        },
        "456a2a940c5846e3a5022d3a3628ce38": {
          "model_module": "@jupyter-widgets/controls",
          "model_name": "HBoxModel",
          "model_module_version": "1.5.0",
          "state": {
            "_dom_classes": [],
            "_model_module": "@jupyter-widgets/controls",
            "_model_module_version": "1.5.0",
            "_model_name": "HBoxModel",
            "_view_count": null,
            "_view_module": "@jupyter-widgets/controls",
            "_view_module_version": "1.5.0",
            "_view_name": "HBoxView",
            "box_style": "",
            "children": [
              "IPY_MODEL_f4116a8544484cf19db8c92dcd3d4bb1",
              "IPY_MODEL_b11df2c551f14cf7a38cbfd396359818",
              "IPY_MODEL_13da2a09e2074f73b8e98080b092e466"
            ],
            "layout": "IPY_MODEL_c3ab7aa99ff547008de0939bec1c628d"
          }
        },
        "f4116a8544484cf19db8c92dcd3d4bb1": {
          "model_module": "@jupyter-widgets/controls",
          "model_name": "HTMLModel",
          "model_module_version": "1.5.0",
          "state": {
            "_dom_classes": [],
            "_model_module": "@jupyter-widgets/controls",
            "_model_module_version": "1.5.0",
            "_model_name": "HTMLModel",
            "_view_count": null,
            "_view_module": "@jupyter-widgets/controls",
            "_view_module_version": "1.5.0",
            "_view_name": "HTMLView",
            "description": "",
            "description_tooltip": null,
            "layout": "IPY_MODEL_dde4ffccf99b49bf8e8eb207da912fe6",
            "placeholder": "​",
            "style": "IPY_MODEL_7b50aad4c9014003af73d35b06991554",
            "value": "Downloading builder script: "
          }
        },
        "b11df2c551f14cf7a38cbfd396359818": {
          "model_module": "@jupyter-widgets/controls",
          "model_name": "FloatProgressModel",
          "model_module_version": "1.5.0",
          "state": {
            "_dom_classes": [],
            "_model_module": "@jupyter-widgets/controls",
            "_model_module_version": "1.5.0",
            "_model_name": "FloatProgressModel",
            "_view_count": null,
            "_view_module": "@jupyter-widgets/controls",
            "_view_module_version": "1.5.0",
            "_view_name": "ProgressView",
            "bar_style": "success",
            "description": "",
            "description_tooltip": null,
            "layout": "IPY_MODEL_ac6ee8c0bf434873a79268e2a4d72921",
            "max": 2169,
            "min": 0,
            "orientation": "horizontal",
            "style": "IPY_MODEL_29ac8960f5d543ab8c89a9bff81baa65",
            "value": 2169
          }
        },
        "13da2a09e2074f73b8e98080b092e466": {
          "model_module": "@jupyter-widgets/controls",
          "model_name": "HTMLModel",
          "model_module_version": "1.5.0",
          "state": {
            "_dom_classes": [],
            "_model_module": "@jupyter-widgets/controls",
            "_model_module_version": "1.5.0",
            "_model_name": "HTMLModel",
            "_view_count": null,
            "_view_module": "@jupyter-widgets/controls",
            "_view_module_version": "1.5.0",
            "_view_name": "HTMLView",
            "description": "",
            "description_tooltip": null,
            "layout": "IPY_MODEL_6120f018d5fc4579b9e3666b9113d846",
            "placeholder": "​",
            "style": "IPY_MODEL_d9bb8decf02a4bc1bcffa00b11933c0f",
            "value": " 5.65k/? [00:00&lt;00:00, 141kB/s]"
          }
        },
        "c3ab7aa99ff547008de0939bec1c628d": {
          "model_module": "@jupyter-widgets/base",
          "model_name": "LayoutModel",
          "model_module_version": "1.2.0",
          "state": {
            "_model_module": "@jupyter-widgets/base",
            "_model_module_version": "1.2.0",
            "_model_name": "LayoutModel",
            "_view_count": null,
            "_view_module": "@jupyter-widgets/base",
            "_view_module_version": "1.2.0",
            "_view_name": "LayoutView",
            "align_content": null,
            "align_items": null,
            "align_self": null,
            "border": null,
            "bottom": null,
            "display": null,
            "flex": null,
            "flex_flow": null,
            "grid_area": null,
            "grid_auto_columns": null,
            "grid_auto_flow": null,
            "grid_auto_rows": null,
            "grid_column": null,
            "grid_gap": null,
            "grid_row": null,
            "grid_template_areas": null,
            "grid_template_columns": null,
            "grid_template_rows": null,
            "height": null,
            "justify_content": null,
            "justify_items": null,
            "left": null,
            "margin": null,
            "max_height": null,
            "max_width": null,
            "min_height": null,
            "min_width": null,
            "object_fit": null,
            "object_position": null,
            "order": null,
            "overflow": null,
            "overflow_x": null,
            "overflow_y": null,
            "padding": null,
            "right": null,
            "top": null,
            "visibility": null,
            "width": null
          }
        },
        "dde4ffccf99b49bf8e8eb207da912fe6": {
          "model_module": "@jupyter-widgets/base",
          "model_name": "LayoutModel",
          "model_module_version": "1.2.0",
          "state": {
            "_model_module": "@jupyter-widgets/base",
            "_model_module_version": "1.2.0",
            "_model_name": "LayoutModel",
            "_view_count": null,
            "_view_module": "@jupyter-widgets/base",
            "_view_module_version": "1.2.0",
            "_view_name": "LayoutView",
            "align_content": null,
            "align_items": null,
            "align_self": null,
            "border": null,
            "bottom": null,
            "display": null,
            "flex": null,
            "flex_flow": null,
            "grid_area": null,
            "grid_auto_columns": null,
            "grid_auto_flow": null,
            "grid_auto_rows": null,
            "grid_column": null,
            "grid_gap": null,
            "grid_row": null,
            "grid_template_areas": null,
            "grid_template_columns": null,
            "grid_template_rows": null,
            "height": null,
            "justify_content": null,
            "justify_items": null,
            "left": null,
            "margin": null,
            "max_height": null,
            "max_width": null,
            "min_height": null,
            "min_width": null,
            "object_fit": null,
            "object_position": null,
            "order": null,
            "overflow": null,
            "overflow_x": null,
            "overflow_y": null,
            "padding": null,
            "right": null,
            "top": null,
            "visibility": null,
            "width": null
          }
        },
        "7b50aad4c9014003af73d35b06991554": {
          "model_module": "@jupyter-widgets/controls",
          "model_name": "DescriptionStyleModel",
          "model_module_version": "1.5.0",
          "state": {
            "_model_module": "@jupyter-widgets/controls",
            "_model_module_version": "1.5.0",
            "_model_name": "DescriptionStyleModel",
            "_view_count": null,
            "_view_module": "@jupyter-widgets/base",
            "_view_module_version": "1.2.0",
            "_view_name": "StyleView",
            "description_width": ""
          }
        },
        "ac6ee8c0bf434873a79268e2a4d72921": {
          "model_module": "@jupyter-widgets/base",
          "model_name": "LayoutModel",
          "model_module_version": "1.2.0",
          "state": {
            "_model_module": "@jupyter-widgets/base",
            "_model_module_version": "1.2.0",
            "_model_name": "LayoutModel",
            "_view_count": null,
            "_view_module": "@jupyter-widgets/base",
            "_view_module_version": "1.2.0",
            "_view_name": "LayoutView",
            "align_content": null,
            "align_items": null,
            "align_self": null,
            "border": null,
            "bottom": null,
            "display": null,
            "flex": null,
            "flex_flow": null,
            "grid_area": null,
            "grid_auto_columns": null,
            "grid_auto_flow": null,
            "grid_auto_rows": null,
            "grid_column": null,
            "grid_gap": null,
            "grid_row": null,
            "grid_template_areas": null,
            "grid_template_columns": null,
            "grid_template_rows": null,
            "height": null,
            "justify_content": null,
            "justify_items": null,
            "left": null,
            "margin": null,
            "max_height": null,
            "max_width": null,
            "min_height": null,
            "min_width": null,
            "object_fit": null,
            "object_position": null,
            "order": null,
            "overflow": null,
            "overflow_x": null,
            "overflow_y": null,
            "padding": null,
            "right": null,
            "top": null,
            "visibility": null,
            "width": null
          }
        },
        "29ac8960f5d543ab8c89a9bff81baa65": {
          "model_module": "@jupyter-widgets/controls",
          "model_name": "ProgressStyleModel",
          "model_module_version": "1.5.0",
          "state": {
            "_model_module": "@jupyter-widgets/controls",
            "_model_module_version": "1.5.0",
            "_model_name": "ProgressStyleModel",
            "_view_count": null,
            "_view_module": "@jupyter-widgets/base",
            "_view_module_version": "1.2.0",
            "_view_name": "StyleView",
            "bar_color": null,
            "description_width": ""
          }
        },
        "6120f018d5fc4579b9e3666b9113d846": {
          "model_module": "@jupyter-widgets/base",
          "model_name": "LayoutModel",
          "model_module_version": "1.2.0",
          "state": {
            "_model_module": "@jupyter-widgets/base",
            "_model_module_version": "1.2.0",
            "_model_name": "LayoutModel",
            "_view_count": null,
            "_view_module": "@jupyter-widgets/base",
            "_view_module_version": "1.2.0",
            "_view_name": "LayoutView",
            "align_content": null,
            "align_items": null,
            "align_self": null,
            "border": null,
            "bottom": null,
            "display": null,
            "flex": null,
            "flex_flow": null,
            "grid_area": null,
            "grid_auto_columns": null,
            "grid_auto_flow": null,
            "grid_auto_rows": null,
            "grid_column": null,
            "grid_gap": null,
            "grid_row": null,
            "grid_template_areas": null,
            "grid_template_columns": null,
            "grid_template_rows": null,
            "height": null,
            "justify_content": null,
            "justify_items": null,
            "left": null,
            "margin": null,
            "max_height": null,
            "max_width": null,
            "min_height": null,
            "min_width": null,
            "object_fit": null,
            "object_position": null,
            "order": null,
            "overflow": null,
            "overflow_x": null,
            "overflow_y": null,
            "padding": null,
            "right": null,
            "top": null,
            "visibility": null,
            "width": null
          }
        },
        "d9bb8decf02a4bc1bcffa00b11933c0f": {
          "model_module": "@jupyter-widgets/controls",
          "model_name": "DescriptionStyleModel",
          "model_module_version": "1.5.0",
          "state": {
            "_model_module": "@jupyter-widgets/controls",
            "_model_module_version": "1.5.0",
            "_model_name": "DescriptionStyleModel",
            "_view_count": null,
            "_view_module": "@jupyter-widgets/base",
            "_view_module_version": "1.2.0",
            "_view_name": "StyleView",
            "description_width": ""
          }
        }
      }
    }
  },
  "cells": [
    {
      "cell_type": "markdown",
      "metadata": {
        "id": "view-in-github",
        "colab_type": "text"
      },
      "source": [
        "<a href=\"https://colab.research.google.com/github/DeyozJP/project/blob/main/Text_Summarization_Hugging_Face.ipynb\" target=\"_parent\"><img src=\"https://colab.research.google.com/assets/colab-badge.svg\" alt=\"Open In Colab\"/></a>"
      ]
    },
    {
      "cell_type": "code",
      "execution_count": 1,
      "metadata": {
        "id": "qSbHhgwsfPp-"
      },
      "outputs": [],
      "source": [
        "# install libraries"
      ]
    },
    {
      "cell_type": "code",
      "source": [
        "# !pip install -U transformers\n",
        "# !pip install -U accelerate\n",
        "# !pip install -U datasets\n",
        "# !pip install -U bertviz\n",
        "# !pip install -U sentencepiece\n",
        "# !pip install py7zr"
      ],
      "metadata": {
        "id": "BgDyeaTPgAXq"
      },
      "execution_count": 2,
      "outputs": []
    },
    {
      "cell_type": "code",
      "source": [
        "# pip install \"transformers[sentencepiece]\""
      ],
      "metadata": {
        "id": "5nxxFO0LxgXe"
      },
      "execution_count": 3,
      "outputs": []
    },
    {
      "cell_type": "code",
      "source": [
        "import transformers"
      ],
      "metadata": {
        "id": "2HwnAiOjsMQu"
      },
      "execution_count": 4,
      "outputs": []
    },
    {
      "cell_type": "code",
      "source": [
        "# !pip install -U urllib3"
      ],
      "metadata": {
        "id": "MwvdBXXPhAVA"
      },
      "execution_count": 5,
      "outputs": []
    },
    {
      "cell_type": "code",
      "source": [
        "# !pip install datasets"
      ],
      "metadata": {
        "id": "oiMo3j0DpqvG"
      },
      "execution_count": 6,
      "outputs": []
    },
    {
      "cell_type": "code",
      "source": [
        "from transformers import pipeline\n",
        "\n",
        "model = pipeline('text-generation', model = 'gpt2-medium')"
      ],
      "metadata": {
        "colab": {
          "base_uri": "https://localhost:8080/"
        },
        "id": "c4ApusKX-qkb",
        "outputId": "e2ae9160-df2e-42f8-c940-24fc6dd4a232"
      },
      "execution_count": 7,
      "outputs": [
        {
          "output_type": "stream",
          "name": "stderr",
          "text": [
            "/usr/local/lib/python3.10/dist-packages/huggingface_hub/file_download.py:1132: FutureWarning: `resume_download` is deprecated and will be removed in version 1.0.0. Downloads always resume when possible. If you want to force a new download, use `force_download=True`.\n",
            "  warnings.warn(\n",
            "/usr/local/lib/python3.10/dist-packages/huggingface_hub/utils/_token.py:89: UserWarning: \n",
            "The secret `HF_TOKEN` does not exist in your Colab secrets.\n",
            "To authenticate with the Hugging Face Hub, create a token in your settings tab (https://huggingface.co/settings/tokens), set it as secret in your Google Colab and restart your session.\n",
            "You will be able to reuse this secret in all of your notebooks.\n",
            "Please note that authentication is recommended but still optional to access public models or datasets.\n",
            "  warnings.warn(\n"
          ]
        }
      ]
    },
    {
      "cell_type": "code",
      "source": [
        "# lets use text summarization"
      ],
      "metadata": {
        "id": "-H-qd5fi_3hR"
      },
      "execution_count": 8,
      "outputs": []
    },
    {
      "cell_type": "code",
      "source": [
        "new_input = \"\"\"Today, the Environmental Protection Agency (EPA) released a series of updates to rules aimed at better protecting our air and water from power plant pollution. Under the Clean Air Act, regulations have been strengthened for existing coal-fired and new power plant greenhouse gas emissions, and the Mercury Air Toxic Standards (MATS) for power plants will limit the amount of pollution allowed to be emitted. The Clean Water Act Effluent Guidelines (ELGs) have been strengthened, and updates to the coal ash management rule will help protect drinking water and provide health and environmental benefits. In response, Jeremy Symons, Senior Advisor at the Environmental Protection Network and former Climate Policy Advisor at EPA’s Office of Air and Radiation, released the following statement: By issuing these rules together, EPA is laying out a clear and achievable roadmap for power plants to clean up toxic air and water pollution and reduce greenhouse gas emissions. As a result of these actions, the public will have access to cleaner electricity, our air will be safer to breathe, and our waters will be less polluted.Ellen Kurlansky is available to speak to the media about the updated MATS rule and its effect on public health and the environment.Betsy Southerland is available to speak to the media about the updated ELGs for coal-fired power plants and their effect on public health and the environment.Jeremy Symons is available to speak to the media about the updated rules and their effects on public health and the environment.\"\"\""
      ],
      "metadata": {
        "id": "lDWoWXGHK061"
      },
      "execution_count": 9,
      "outputs": []
    },
    {
      "cell_type": "code",
      "source": [
        "query = new_input + \"\\nTL;DR:\\n\""
      ],
      "metadata": {
        "id": "r5_uDnaqNeLR"
      },
      "execution_count": 10,
      "outputs": []
    },
    {
      "cell_type": "code",
      "source": [
        "pipe_out = model(query, max_length= 512, clean_up_tokenization_spaces = True)"
      ],
      "metadata": {
        "colab": {
          "base_uri": "https://localhost:8080/"
        },
        "id": "2OuFYihHLlDj",
        "outputId": "842b81c7-dc92-49c1-c15f-11a1de37787a"
      },
      "execution_count": 11,
      "outputs": [
        {
          "output_type": "stream",
          "name": "stderr",
          "text": [
            "Truncation was not explicitly activated but `max_length` is provided a specific value, please use `truncation=True` to explicitly truncate examples to max length. Defaulting to 'longest_first' truncation strategy. If you encode pairs of sequences (GLUE-style) with the tokenizer you can select this strategy more precisely by providing a specific strategy to `truncation`.\n",
            "Setting `pad_token_id` to `eos_token_id`:50256 for open-end generation.\n"
          ]
        }
      ]
    },
    {
      "cell_type": "code",
      "source": [
        "pipe_out"
      ],
      "metadata": {
        "colab": {
          "base_uri": "https://localhost:8080/"
        },
        "id": "a9vl-XF0L6hD",
        "outputId": "fc133ae9-2080-4da8-e4b9-32004ad2786d"
      },
      "execution_count": 12,
      "outputs": [
        {
          "output_type": "execute_result",
          "data": {
            "text/plain": [
              "[{'generated_text': 'Today, the Environmental Protection Agency (EPA) released a series of updates to rules aimed at better protecting our air and water from power plant pollution. Under the Clean Air Act, regulations have been strengthened for existing coal-fired and new power plant greenhouse gas emissions, and the Mercury Air Toxic Standards (MATS) for power plants will limit the amount of pollution allowed to be emitted. The Clean Water Act Effluent Guidelines (ELGs) have been strengthened, and updates to the coal ash management rule will help protect drinking water and provide health and environmental benefits. In response, Jeremy Symons, Senior Advisor at the Environmental Protection Network and former Climate Policy Advisor at EPA’s Office of Air and Radiation, released the following statement: By issuing these rules together, EPA is laying out a clear and achievable roadmap for power plants to clean up toxic air and water pollution and reduce greenhouse gas emissions. As a result of these actions, the public will have access to cleaner electricity, our air will be safer to breathe, and our waters will be less polluted.Ellen Kurlansky is available to speak to the media about the updated MATS rule and its effect on public health and the environment.Betsy Southerland is available to speak to the media about the updated ELGs for coal-fired power plants and their effect on public health and the environment.Jeremy Symons is available to speak to the media about the updated rules and their effects on public health and the environment.\\nTL;DR:\\nCleaner air and more green power\\n\\nCleaner water\\n\\nImproved energy efficiency\\n\\nCleaner air and water\\n\\nBetter health for everyone\\n\\nPower plant carbon pollution pollution\\n\\nGreen power\\n\\nPower plants that make fewer plants than coal plants will improve emissions reductions, and they\\'re required to follow stricter requirements for carbon pollution and be regulated by regulators that take into account state power sector requirements.\\n\\nThe Cleaner Air Amendments signed into law by President Obama and Congress in November of 2006 requires the Clean Air Act amendments adopted between 2001 and 2010 to be \"enforceable in the United States.\" This mandate comes from Congress, and it\\'s essential that EPA continue to enforce it, otherwise there will be few, if any, regulations to enforce, as the agency will face no incentives to comply. The Clean Water Reauthorization Act of 2006 has added five new regulations that address climate change for new coal- and natural gas-fired power plants of 6,000 megawatts or more to comply with the Clean Air Act rules. These regulations'}]"
            ]
          },
          "metadata": {},
          "execution_count": 12
        }
      ]
    },
    {
      "cell_type": "code",
      "source": [
        "len(pipe_out[0]['generated_text'])"
      ],
      "metadata": {
        "colab": {
          "base_uri": "https://localhost:8080/"
        },
        "id": "pBz9XXPsM8vG",
        "outputId": "38500f5e-1585-4ef3-ed1e-47fa8a27f579"
      },
      "execution_count": 13,
      "outputs": [
        {
          "output_type": "execute_result",
          "data": {
            "text/plain": [
              "2616"
            ]
          },
          "metadata": {},
          "execution_count": 13
        }
      ]
    },
    {
      "cell_type": "code",
      "source": [
        "pipe_out[0]['generated_text'][len(query):]"
      ],
      "metadata": {
        "colab": {
          "base_uri": "https://localhost:8080/",
          "height": 87
        },
        "id": "PAGdfxi_NLrV",
        "outputId": "1b1f262c-dc9d-43f5-b184-13032def6758"
      },
      "execution_count": 14,
      "outputs": [
        {
          "output_type": "execute_result",
          "data": {
            "text/plain": [
              "'Cleaner air and more green power\\n\\nCleaner water\\n\\nImproved energy efficiency\\n\\nCleaner air and water\\n\\nBetter health for everyone\\n\\nPower plant carbon pollution pollution\\n\\nGreen power\\n\\nPower plants that make fewer plants than coal plants will improve emissions reductions, and they\\'re required to follow stricter requirements for carbon pollution and be regulated by regulators that take into account state power sector requirements.\\n\\nThe Cleaner Air Amendments signed into law by President Obama and Congress in November of 2006 requires the Clean Air Act amendments adopted between 2001 and 2010 to be \"enforceable in the United States.\" This mandate comes from Congress, and it\\'s essential that EPA continue to enforce it, otherwise there will be few, if any, regulations to enforce, as the agency will face no incentives to comply. The Clean Water Reauthorization Act of 2006 has added five new regulations that address climate change for new coal- and natural gas-fired power plants of 6,000 megawatts or more to comply with the Clean Air Act rules. These regulations'"
            ],
            "application/vnd.google.colaboratory.intrinsic+json": {
              "type": "string"
            }
          },
          "metadata": {},
          "execution_count": 14
        }
      ]
    },
    {
      "cell_type": "code",
      "source": [
        "summaries = {}\n",
        "summaries['gpt2-medium-380M'] = pipe_out[0]['generated_text'][len(query):]"
      ],
      "metadata": {
        "id": "5SoCG0irR-Gb"
      },
      "execution_count": 15,
      "outputs": []
    },
    {
      "cell_type": "code",
      "source": [
        "# Try out T5 Tranformers"
      ],
      "metadata": {
        "id": "2JG0l6sBR50K"
      },
      "execution_count": 16,
      "outputs": []
    },
    {
      "cell_type": "code",
      "source": [
        "model_t5 = pipeline('summarization', model = 't5-base')"
      ],
      "metadata": {
        "id": "cN75B_qkTV2x"
      },
      "execution_count": 17,
      "outputs": []
    },
    {
      "cell_type": "code",
      "source": [
        "pipe_out = model_t5(query)"
      ],
      "metadata": {
        "id": "F_cu3TA_WyJz"
      },
      "execution_count": 18,
      "outputs": []
    },
    {
      "cell_type": "code",
      "source": [
        "summaries['t5-base-223M'] =pipe_out[0]['summary_text']"
      ],
      "metadata": {
        "id": "u7uUu2B8XLbb"
      },
      "execution_count": 19,
      "outputs": []
    },
    {
      "cell_type": "code",
      "source": [
        "# lets try out to use BART"
      ],
      "metadata": {
        "id": "2LrT5Kb7YI-j"
      },
      "execution_count": 20,
      "outputs": []
    },
    {
      "cell_type": "code",
      "source": [
        "# model_bart = pipeline('summarization', model = 'facebook/bart-large-cnn')\n",
        "# pipe_out = model_bart(query)"
      ],
      "metadata": {
        "id": "sLE7In-_YMWs"
      },
      "execution_count": 21,
      "outputs": []
    },
    {
      "cell_type": "code",
      "source": [
        "# pipe_out[0]"
      ],
      "metadata": {
        "id": "uskGvMCuYmA5"
      },
      "execution_count": 22,
      "outputs": []
    },
    {
      "cell_type": "code",
      "source": [],
      "metadata": {
        "id": "Rry-K6ldY5K6"
      },
      "execution_count": 22,
      "outputs": []
    },
    {
      "cell_type": "code",
      "source": [
        "# summaries['bart-large-cnn-400M'] = pipe_out[0]['summary_text']"
      ],
      "metadata": {
        "id": "wwCk6UnZY0B5"
      },
      "execution_count": 23,
      "outputs": []
    },
    {
      "cell_type": "code",
      "source": [
        "# Pegasus model"
      ],
      "metadata": {
        "id": "reTOdZzhZCns"
      },
      "execution_count": 24,
      "outputs": []
    },
    {
      "cell_type": "code",
      "source": [
        "# model_pagasus = pipeline('summarization', model = 'google/pegasus-cnn_dailymail')"
      ],
      "metadata": {
        "id": "vkm9aSrpZXOS"
      },
      "execution_count": 25,
      "outputs": []
    },
    {
      "cell_type": "code",
      "source": [
        "# pipe_out = model_pagasus(query)"
      ],
      "metadata": {
        "id": "XEb_29zxZq9C"
      },
      "execution_count": 26,
      "outputs": []
    },
    {
      "cell_type": "code",
      "source": [
        "# pipe_out"
      ],
      "metadata": {
        "id": "d6jYsLDVZwJ7"
      },
      "execution_count": 27,
      "outputs": []
    },
    {
      "cell_type": "code",
      "source": [
        "# summaries['pegasus-cnn'] = pipe_out[0]['summary_text']"
      ],
      "metadata": {
        "id": "SsDbwtddZzGK"
      },
      "execution_count": 28,
      "outputs": []
    },
    {
      "cell_type": "code",
      "source": [
        "for model in summaries:\n",
        "  print(model.upper())\n",
        "  print (summaries[model])\n",
        "  print (\" \")\n",
        "\n"
      ],
      "metadata": {
        "colab": {
          "base_uri": "https://localhost:8080/"
        },
        "id": "yDFa0PH4aQ0H",
        "outputId": "f20016c2-b771-4d80-87bc-124c0a86b9b1"
      },
      "execution_count": 29,
      "outputs": [
        {
          "output_type": "stream",
          "name": "stdout",
          "text": [
            "GPT2-MEDIUM-380M\n",
            "Cleaner air and more green power\n",
            "\n",
            "Cleaner water\n",
            "\n",
            "Improved energy efficiency\n",
            "\n",
            "Cleaner air and water\n",
            "\n",
            "Better health for everyone\n",
            "\n",
            "Power plant carbon pollution pollution\n",
            "\n",
            "Green power\n",
            "\n",
            "Power plants that make fewer plants than coal plants will improve emissions reductions, and they're required to follow stricter requirements for carbon pollution and be regulated by regulators that take into account state power sector requirements.\n",
            "\n",
            "The Cleaner Air Amendments signed into law by President Obama and Congress in November of 2006 requires the Clean Air Act amendments adopted between 2001 and 2010 to be \"enforceable in the United States.\" This mandate comes from Congress, and it's essential that EPA continue to enforce it, otherwise there will be few, if any, regulations to enforce, as the agency will face no incentives to comply. The Clean Water Reauthorization Act of 2006 has added five new regulations that address climate change for new coal- and natural gas-fired power plants of 6,000 megawatts or more to comply with the Clean Air Act rules. These regulations\n",
            " \n",
            "T5-BASE-223M\n",
            "the EPA released a series of updates to rules aimed at better protecting our air and water from power plant pollution . under the Clean Air Act, regulations have been strengthened for existing coal-fired and new power plant greenhouse gas emissions . updates to the coal ash management rule will help protect drinking water and provide health and environmental benefits .\n",
            " \n"
          ]
        }
      ]
    },
    {
      "cell_type": "markdown",
      "source": [
        "## Finetune the model\n"
      ],
      "metadata": {
        "id": "2aBYerX2Ln2B"
      }
    },
    {
      "cell_type": "code",
      "source": [],
      "metadata": {
        "id": "74Xq7JHmLuHg"
      },
      "execution_count": 29,
      "outputs": []
    },
    {
      "cell_type": "code",
      "source": [
        "from transformers import TFAutoModelForSeq2SeqLM, AutoTokenizer\n",
        "import tensorflow\n",
        "from datasets import load_dataset"
      ],
      "metadata": {
        "id": "2qAqs_Imx6Zg"
      },
      "execution_count": 30,
      "outputs": []
    },
    {
      "cell_type": "code",
      "source": [
        "# device = 'gpu'\n",
        "model_checkpoint = 'facebook/bart-large-cnn'\n",
        "tokenizer = AutoTokenizer.from_pretrained(model_checkpoint)\n",
        "model = TFAutoModelForSeq2SeqLM.from_pretrained(model_checkpoint)"
      ],
      "metadata": {
        "colab": {
          "base_uri": "https://localhost:8080/"
        },
        "id": "H8SznR5tyQJc",
        "outputId": "fad0a6f9-feac-47b1-cab5-a3ce999002a8"
      },
      "execution_count": 31,
      "outputs": [
        {
          "output_type": "stream",
          "name": "stderr",
          "text": [
            "All PyTorch model weights were used when initializing TFBartForConditionalGeneration.\n",
            "\n",
            "All the weights of TFBartForConditionalGeneration were initialized from the PyTorch model.\n",
            "If your task is similar to the task the model of the checkpoint was trained on, you can already use TFBartForConditionalGeneration for predictions without further training.\n"
          ]
        }
      ]
    },
    {
      "cell_type": "code",
      "source": [
        "new_data = load_dataset('billsum')"
      ],
      "metadata": {
        "id": "4oTDwv6syD7y"
      },
      "execution_count": 32,
      "outputs": []
    },
    {
      "cell_type": "markdown",
      "source": [
        "#### Data preprocessing"
      ],
      "metadata": {
        "id": "LY1vrUvWNVt7"
      }
    },
    {
      "cell_type": "code",
      "source": [
        "new_data"
      ],
      "metadata": {
        "colab": {
          "base_uri": "https://localhost:8080/"
        },
        "id": "kRsgJRBN2Z2H",
        "outputId": "db293979-971a-4a4d-8e1f-09ee562da754"
      },
      "execution_count": 33,
      "outputs": [
        {
          "output_type": "execute_result",
          "data": {
            "text/plain": [
              "DatasetDict({\n",
              "    train: Dataset({\n",
              "        features: ['text', 'summary', 'title'],\n",
              "        num_rows: 18949\n",
              "    })\n",
              "    test: Dataset({\n",
              "        features: ['text', 'summary', 'title'],\n",
              "        num_rows: 3269\n",
              "    })\n",
              "    ca_test: Dataset({\n",
              "        features: ['text', 'summary', 'title'],\n",
              "        num_rows: 1237\n",
              "    })\n",
              "})"
            ]
          },
          "metadata": {},
          "execution_count": 33
        }
      ]
    },
    {
      "cell_type": "code",
      "source": [
        "new_data['train'][1]['text']"
      ],
      "metadata": {
        "colab": {
          "base_uri": "https://localhost:8080/",
          "height": 87
        },
        "id": "H86-48dn2eCX",
        "outputId": "71a3d3e5-700c-4e56-a6d4-9dd298ffc82f"
      },
      "execution_count": 34,
      "outputs": [
        {
          "output_type": "execute_result",
          "data": {
            "text/plain": [
              "\"SECTION 1. SHORT TITLE.\\n\\n    This Act may be cited as the ``Human Rights Information Act''.\\n\\nSEC. 2. FINDINGS.\\n\\n    Congress finds the following:\\n            (1) The people of the United States consider the national \\n        and international protection and promotion of human rights and \\n        the rule of law the most important values of any democracy. The \\n        founding fathers defined human rights prominently in the Bill \\n        of Rights, giving those rights a special priority and \\n        protection in the Constitution.\\n            (2) Federal agencies are in possession of documents \\n        pertaining to gross human rights violations abroad which are \\n        needed by foreign authorities to document, investigate, and \\n        subsequently prosecute instances of continued and systematic \\n        gross human rights violations, including those directed against \\n        citizens of the United States.\\n            (3) The United States will continue to receive requests \\n        from foreign authorities for legal assistance regarding human \\n        rights violations, including the declassification of documents. \\n        In addition to requests by Guatemala and Honduras, a Spanish \\n        court magistrate, Baltasar Garzon, recently requested from the \\n        United States information on General Augusto Pinochet. \\n        Currently, the United States responds to declassification \\n        requests by following procedures outlined in Presidential \\n        directives and executive orders. The overwhelming interest of \\n        the United States in the protection and promotion of human \\n        rights nationally and internationally requires a significant \\n        strengthening of existing declassification procedures, \\n        including section 552 of title 5, United States Code (commonly \\n        known as the ``Freedom of Information Act'').\\n            (4) The expedient declassification of human rights \\n        documents in full compliance with United States security \\n        interests according to the procedures outlined in this Act will \\n        protect global human rights by strengthening the rule of law \\n        internationally, creating a crucial level of accountability of \\n        Federal agencies, and will result in significant saving of \\n        Government resources.\\n            (5) The commitment to the promotion and protection of human \\n        rights and democracy around the world has led the United States \\n        to undertake tremendous diplomatic, economic, and military \\n        efforts to end systematic gross human rights violations abroad, \\n        consistent with the national interests and international \\n        leadership role of the United States. In addition, countless \\n        humanitarian United States nongovernmental organizations and \\n        citizens of the United States promote human rights and \\n        democracy in foreign countries. These efforts are thwarted if \\n        the cycle of impunity for human rights violations is not broken \\n        in those countries, and the likelihood of the need for renewed \\n        United States engagements in those areas remains.\\n            (6) The United States therefore has a significant interest \\n        that newly established or reestablished democratic societies \\n        take credible steps to fully investigate and prosecute human \\n        rights violations. These steps can include the creation of a \\n        national or international truth commission or tribunal, the \\n        appointment of a human rights officer, or official national \\n        investigations led by credible sections of the civil society, \\n        including churches and nongovernmental organizations.\\n            (7) The United States has long provided international \\n        leadership to end impunity for gross human rights violations \\n        and to promote the rule of law around the world by establishing \\n        and supporting the Nuremberg and Tokyo War Crimes Tribunal; in \\n        addition, the United States has actively participated in, among \\n        others, the International War Crimes Tribunals on the former \\n        Yugoslavia and Rwanda.\\n            (8) The United States has ratified the Convention against \\n        Torture and Other Cruel, Inhuman or Degrading Treatment or \\nPunishment, which in article 9 obligates parties to ``afford one \\nanother the greatest measure of assistance in connection with criminal \\nproceedings brought in respect of any [acts of, attempts of, or \\ncomplicity in acts of torture], including the supply of all evidence at \\ntheir disposal necessary for the proceedings.'' In addition, as a \\nmember State of the Organization of American States, the United States \\nshould seek to follow the December 8, 1998, recommendation of the \\nInter-American Commission on Human Rights ``that member States of the \\nOrganization of American States adopt legislative and such other \\nmeasures as may be necessary to effectuate the right of free access to \\ninformation in files and documents in the power of the State, \\nparticularly in cases of investigations to establish criminal \\nresponsibility for international crimes and serious violations of human \\nrights.''\\n            (9) The Guatemalan peace accords, which the Government of \\n        the United States firmly supports, included as an important and \\n        vital component an investigation and a report by the Commission \\n        for the Historical Clarification of Human Rights Violations and \\n        Acts of Violence which have Caused Suffering to the Guatemalan \\n        People (referred to in this Act as the ``Clarification \\n        Commission''). Despite the conclusion of this investigation, \\n        many questions, including the identity of perpetrators of human \\n        rights violations as well as the location of bodies of the \\n        ``disappeared'', remain unanswered. The Clarification \\n        Commission explicitly recommended that ``all available legal \\n        and material resources should be utilized [by the Guatemalan \\n        Government] to clarify the whereabouts of the disappeared and, \\n        in the case of death, to deliver the remains to the \\n        relatives.''\\n            (10) Two days after presenting a parallel investigation, \\n        ``Guatemala: Never Again'', by the Historical Memory Recovery \\n        Project by the Archbishop of Guatemala, the director of the \\n        project, Bishop Juan Jose Gerardi, was assassinated.\\n            (11) President Clinton stated in Guatemala on March 10, \\n        1999, that ``[f]or the United States, it is important that I \\n        state clearly that support for military forces or intelligence \\n        units which engaged in violent and widespread repression of the \\n        kind described in the report [by the Clarification Commission] \\n        was wrong, and the United States must not repeat that mistake. \\n        We must, and we will, instead, continue to support the peace \\n        and reconciliation process in Guatemala.''\\n            (12) The National Commissioner for the Protection of Human \\n        Rights in the Republic of Honduras has been requesting \\n        documentation of the United States on human rights violations \\n        in Honduras since November 15, 1993. The Commissioner's request \\n        has been partly fulfilled, but aspects of it are still pending.\\n\\nSEC. 3. DEFINITIONS.\\n\\n    In this Act:\\n            (1) Human rights record.--The term ``human rights record'' \\n        means a record in the possession, custody, or control of the \\n        United States Government containing information about gross \\n        violations of internationally recognized human rights committed \\n        after 1944.\\n            (2) Agency.--The term ``agency'' means any agency of the \\n        United States Government charged with the conduct of foreign \\n        policy or foreign intelligence, including, but not limited to, \\n        the Department of State, the Agency for International \\n        Development, the Department of Defense (and all of its \\n        components), the Central Intelligence Agency, the National \\n        Reconnaissance Office, the Department of Justice (and all of \\n        its components), the National Security Council, and the \\n        Executive Office of the President.\\n            (3) Gross violations of internationally recognized human \\n        rights.--The term ``gross violations of internationally \\n        recognized human rights'' has the meaning given that term in \\n        section 502B(d)(1) of the Foreign Assistance Act of 1961 (22 \\n        U.S.C. 2304(d)(1)).\\n\\nSEC. 4. IDENTIFICATION, REVIEW, AND PUBLIC DISCLOSURE OF HUMAN RIGHTS \\n              RECORDS REGARDING GUATEMALA AND HONDURAS.\\n\\n    (a) In General.--Notwithstanding any other provision of law, the \\nprovisions of this Act shall govern the declassification and public \\ndisclosure of human rights records by agencies.\\n    (b) Identification of Records.--Not later than 120 days after the \\ndate of enactment of this Act, each agency shall identify, review, and \\norganize all human rights records regarding activities occurring in \\nGuatemala and Honduras after 1944 for the purpose of declassifying and \\ndisclosing the records to the public. Except as provided in section 5, \\nall records described in the preceding sentence shall be made available \\nto the public not later than 30 days after a review under this section \\nis completed.\\n    (c) Report to Congress.--Not later than 150 days after the date of \\nenactment of this Act, the President shall report to Congress regarding \\neach agency's compliance with the provisions of this Act.\\n\\nSEC. 5. GROUNDS FOR POSTPONEMENT OF PUBLIC DISCLOSURE OF RECORDS.\\n\\n    (a) In General.--An agency may postpone public disclosure of a \\nhuman rights record or particular information in a human rights record \\nonly if the agency determines that there is clear and convincing \\nevidence that--\\n            (1) the threat to the military defense, intelligence \\n        operations, or conduct of foreign relations of the United \\n        States raised by public disclosure of the human rights record \\n        is of such gravity that it outweighs the public interest, and \\n        such public disclosure would reveal--\\n                    (A) an intelligence agent whose identity currently \\n                requires protection;\\n                    (B) an intelligence source or method--\\n                            (i) which is being utilized, or reasonably \\n                        expected to be utilized, by the United States \\n                        Government;\\n                            (ii) which has not been officially \\n                        disclosed; and\\n                            (iii) the disclosure of which would \\n                        interfere with the conduct of intelligence \\n                        activities; or\\n                    (C) any other matter currently relating to the \\n                military defense, intelligence operations, or conduct \\n                of foreign relations of the United States, the \\n                disclosure of which would demonstrably impair the \\n                national security of the \\n                United States;\\n            (2) the public disclosure of the human rights record would \\n        reveal the name or identity of a living individual who provided \\n        confidential information to the United States and would pose a \\n        substantial risk of harm to that individual;\\n            (3) the public disclosure of the human rights record could \\n        reasonably be expected to constitute an unwarranted invasion of \\n        personal privacy, and that invasion of privacy is so \\n        substantial that it outweighs the public interest; or\\n            (4) the public disclosure of the human rights record would \\n        compromise the existence of an understanding of confidentiality \\n        currently requiring protection between a Government agent and a \\n        cooperating individual or a foreign government, and public \\n        disclosure would be so harmful that it outweighs the public \\n        interest.\\n    (b) Special Treatment of Certain Information.--It shall not be \\ngrounds for postponement of disclosure of a human rights record that an \\nindividual named in the human rights record was an intelligence asset \\nof the United States Government, although the existence of such \\nrelationship may be withheld if the criteria set forth in subsection \\n(a) are met. For purposes of the preceding sentence, the term an \\n``intelligence asset'' means a covert agent as defined in section \\n606(4) of the National Security Act of 1947 (50 U.S.C. 426(4)).\\n\\nSEC. 6. REQUEST FOR HUMAN RIGHTS RECORDS FROM OFFICIAL ENTITIES IN \\n              OTHER COUNTRIES.\\n\\n    In the event that an agency of the United States receives a request \\nfor human rights records from an entity created by the United Nations, \\nthe Organization of American States or a similar entity, a national \\ntruth commission or entity of similar nature, or from the principal \\njustice or human rights official of a country that is investigating a \\npattern of gross violations of internationally recognized human rights, \\nthe agency shall conduct a review of records as described in section 4 \\nand shall declassify and publicly disclose such records in accordance \\nwith the standards and procedures set forth in this Act.\\n\\nSEC. 7. REVIEW OF DECISIONS TO WITHHOLD RECORDS.\\n\\n    (a) Duties of the Appeals Panel.--The Interagency Security \\nClassification Appeals Panel or any other entity subsequently \\nestablished by law or Executive order and charged with carrying out the \\nfunctions currently carried out by such Panel (referred to in this Act \\nas the ``Appeals Panel'') shall review all determinations by an agency \\nto postpone public disclosure of any human rights record.\\n    (b) Determinations of the Appeals Panel.--\\n            (1) In general.--The Appeals Panel shall direct that all \\n        human rights records be disclosed to the public, unless the \\n        Appeals Panel determines that there is clear and convincing \\n        evidence that--\\n                    (A) the record is not a human rights record; or\\n                    (B) the human rights record or particular \\n                information in the human rights record qualifies for \\n                postponement of disclosure pursuant to section 5.\\n            (2) Treatment in cases of nondisclosure.--If the Appeals \\n        Panel concurs with an agency decision to postpone disclosure of \\n        a human rights record, the Appeals Panel shall determine, in \\n        consultation with the originating agency and consistent with \\nthe standards set forth in this Act, which, if any, of the alternative \\nforms of disclosure described in paragraph (3) shall be made by the \\nagency.\\n            (3) Alternative forms of disclosure.--The forms of \\n        disclosure described in this paragraph are as follows:\\n                    (A) Disclosure of any reasonably segregable portion \\n                of the human rights record after deletion of the \\n                portions described in paragraph (1).\\n                    (B) Disclosure of a record that is a substitute for \\n                information which is not disclosed.\\n                    (C) Disclosure of a summary of the information \\n                contained in the human rights record.\\n            (4) Notification of determination.--\\n                    (A) In general.--Upon completion of its review, the \\n                Appeals Panel shall notify the head of the agency in \\n                control or possession of the human rights record that \\n                was the subject of the review of its determination and \\n                shall, not later than 14 days after the determination, \\n                publish the determination in the Federal Register.\\n                    (B) Notice to president.--The Appeals Panel shall \\n                notify the President of its determination. The notice \\n                shall contain a written unclassified justification for \\n                its determination, including an explanation of the \\n                application of the standards contained in section 5.\\n            (5) General procedures.--The Appeals Panel shall publish in \\n        the Federal Register guidelines regarding its policy and \\n        procedures for adjudicating appeals.\\n    (c) Presidential Authority Over Appeals Panel Determination.--\\n            (1) Public disclosure or postponement of disclosure.--The \\n        President shall have the sole and nondelegable authority to \\n        review any determination of the Appeals Panel under this Act, \\n        and such review shall be based on the standards set forth in \\n        section 5. Not later than 30 days after the Appeals Panel's \\n        determination and notification to the agency pursuant to \\n        subsection (b)(4), the President shall provide the Appeals \\n        Panel with an unclassified written certification specifying the \\n        President's decision and stating the reasons for the decision, \\n        including in the case of a determination to postpone \\n        disclosure, the standards set forth in section 5 which are the \\n        basis for the President's determination.\\n            (2) Record of presidential postponement.--The Appeals Panel \\n        shall, upon receipt of the President's determination, publish \\n        in the Federal Register a copy of any unclassified written \\n        certification, statement, and other materials transmitted by or \\n        on behalf of the President with regard to the postponement of \\n        disclosure of a human rights record.\\n\\nSEC. 8. REPORT REGARDING OTHER HUMAN RIGHTS RECORDS.\\n\\n    Upon completion of the review and disclosure of the human rights \\nrecords relating to Guatemala and Honduras, the Information Security \\nPolicy Advisory Council, established pursuant to Executive Order No. \\n12958, shall report to Congress on the desirability and feasibility of \\ndeclassification of human rights records relating to other countries. \\nThe report shall be available to the public.\\n\\nSEC. 9. RULES OF CONSTRUCTION.\\n\\n    (a) Freedom of Information Act.--Nothing in this Act shall be \\nconstrued to limit any right to file a request with any executive \\nagency or seek judicial review of a decision pursuant to section 552 of \\ntitle 5, United States Code.\\n    (b) Judicial Review.--Nothing in this Act shall be construed to \\npreclude judicial review, under chapter 7 of title 5, United States \\nCode, of final actions taken or required to be taken under this Act.\\n\\nSEC. 10. CREATION OF POSITIONS.\\n\\n    For purposes of carrying out the provisions of this Act, there \\nshall be 2 additional positions in the Appeals Panel. The President \\nshall appoint individuals who are not employees of the United States \\nwho have demonstrated substantial human rights expertise and who are \\nable to meet the security requirements for the positions. The President \\nshall seek recommendations with respect to such positions from \\nnongovernmental human rights organizations.\""
            ],
            "application/vnd.google.colaboratory.intrinsic+json": {
              "type": "string"
            }
          },
          "metadata": {},
          "execution_count": 34
        }
      ]
    },
    {
      "cell_type": "code",
      "source": [
        "report_len = [len(text['text'].split())for text in new_data['train']]\n",
        "summary_len = [len(text['summary'].split())for text in new_data['train']]"
      ],
      "metadata": {
        "id": "Fkg6tnRG3xBq"
      },
      "execution_count": 35,
      "outputs": []
    },
    {
      "cell_type": "code",
      "source": [
        "import pandas as pd\n",
        "import plotly.express as px\n",
        "\n",
        "data = pd.DataFrame([report_len, summary_len]).T\n",
        "data.columns = ['Report Length', 'summary Length']\n",
        "\n",
        "hist = px.histogram(data)"
      ],
      "metadata": {
        "id": "1roZwnjT4dC5"
      },
      "execution_count": 36,
      "outputs": []
    },
    {
      "cell_type": "code",
      "source": [
        "hist.show()"
      ],
      "metadata": {
        "colab": {
          "base_uri": "https://localhost:8080/",
          "height": 542
        },
        "id": "5lgebrNE464S",
        "outputId": "c5f07561-aa51-4089-ab7a-cc258f904a22"
      },
      "execution_count": 37,
      "outputs": [
        {
          "output_type": "display_data",
          "data": {
            "text/html": [
              "<html>\n",
              "<head><meta charset=\"utf-8\" /></head>\n",
              "<body>\n",
              "    <div>            <script src=\"https://cdnjs.cloudflare.com/ajax/libs/mathjax/2.7.5/MathJax.js?config=TeX-AMS-MML_SVG\"></script><script type=\"text/javascript\">if (window.MathJax && window.MathJax.Hub && window.MathJax.Hub.Config) {window.MathJax.Hub.Config({SVG: {font: \"STIX-Web\"}});}</script>                <script type=\"text/javascript\">window.PlotlyConfig = {MathJaxConfig: 'local'};</script>\n",
              "        <script charset=\"utf-8\" src=\"https://cdn.plot.ly/plotly-2.24.1.min.js\"></script>                <div id=\"2b1ccd5e-3344-4ac8-a576-78d22a88bdbb\" class=\"plotly-graph-div\" style=\"height:525px; width:100%;\"></div>            <script type=\"text/javascript\">                                    window.PLOTLYENV=window.PLOTLYENV || {};                                    if (document.getElementById(\"2b1ccd5e-3344-4ac8-a576-78d22a88bdbb\")) {                    Plotly.newPlot(                        \"2b1ccd5e-3344-4ac8-a576-78d22a88bdbb\",                        [{\"alignmentgroup\":\"True\",\"bingroup\":\"x\",\"hovertemplate\":\"variable=Report Length\\u003cbr\\u003evalue=%{x}\\u003cbr\\u003ecount=%{y}\\u003cextra\\u003e\\u003c\\u002fextra\\u003e\",\"legendgroup\":\"Report Length\",\"marker\":{\"color\":\"#636efa\",\"pattern\":{\"shape\":\"\"}},\"name\":\"Report Length\",\"offsetgroup\":\"Report Length\",\"orientation\":\"v\",\"showlegend\":true,\"x\":[650,2506,1541,1257,2441,1232,2234,2489,942,1282,709,640,1713,2083,2697,1028,1300,1431,885,1130,1973,1056,1116,2628,1269,966,1148,1064,745,1235,906,1263,1093,1824,711,1090,1897,1352,1222,1364,1157,815,649,1113,847,1976,852,2044,1067,655,1148,634,1101,1151,1594,878,1744,1076,947,1967,673,1375,1798,931,659,2058,2148,1718,2509,2504,2109,1300,2098,1258,868,930,924,967,1149,1126,825,1177,1540,1297,940,722,700,1253,632,2221,1016,653,1043,1055,637,1601,1406,2034,1066,752,1006,901,1884,1906,1149,2123,646,1248,773,938,1062,1233,1975,1327,1263,1115,815,1199,807,1318,1453,2368,1131,1578,764,1927,721,1282,761,1247,2474,1107,2102,1186,1761,1827,1203,797,728,2075,1195,1674,1197,2507,1231,2134,1130,1274,1671,806,1328,1541,873,899,1326,1242,1041,2429,1285,1430,973,806,1408,2693,1228,804,1031,781,742,1104,1441,1112,1693,1329,980,1212,1099,1167,1469,720,1549,1094,1415,947,2134,1111,1044,1252,1432,582,1673,707,1507,2267,1182,1106,1333,717,698,818,1014,911,1469,1931,1125,1273,853,1343,757,724,836,1156,912,1648,1872,1354,1147,1566,838,1532,1525,1730,1379,1319,894,1803,2266,2499,1000,577,983,850,951,1924,1648,1752,1314,1721,1359,1055,594,730,1134,1992,761,728,1701,1116,1355,1762,1242,862,1121,1483,1555,1085,641,2161,1166,1863,2155,2049,2172,781,967,978,1329,806,792,1577,1180,1122,653,2084,2002,1435,1884,948,994,941,1440,836,752,1162,1010,711,1226,718,2005,1562,2169,906,723,1797,816,1120,1022,813,782,1461,1270,1379,1138,1136,884,1385,737,1260,745,1849,1387,1918,1642,1322,1504,2434,844,831,2335,739,734,896,1299,1300,807,641,1535,2015,1462,1628,1734,1863,1287,1508,971,2273,837,1847,1417,2071,663,1475,1046,1825,1713,1608,759,1643,898,773,2169,1491,1718,1772,2112,699,1172,2237,1157,893,1131,1428,1531,743,1246,639,797,1769,1717,1308,1983,1656,708,1029,1778,1804,827,1256,960,1513,1053,1581,992,2137,1641,1392,2215,1085,770,942,623,1929,1106,803,797,1274,1554,1697,608,565,876,1417,616,708,1608,1129,951,714,930,938,825,2208,2334,1498,723,2272,1586,2458,2132,2260,841,895,1232,766,1843,878,1937,773,1595,1257,1513,726,1058,1199,1103,1268,2047,2511,1475,820,990,728,1266,946,1703,1165,1813,771,970,2366,1316,727,1352,783,1518,633,941,1802,751,757,1898,742,2202,956,1844,2149,1978,1012,759,1872,1268,1211,2167,1864,1798,2355,1639,1242,2473,744,1518,1413,1423,1253,2101,2202,827,2339,1063,1240,1174,617,1239,1543,1769,699,1198,1372,1589,1700,1284,1947,1527,887,686,1369,997,1325,1347,1177,1540,1340,990,1594,695,1763,810,1346,1107,1395,2347,775,2818,753,1660,564,871,1404,1849,902,1245,1056,878,2501,2337,948,1547,1276,869,2017,953,833,980,1102,1675,1065,1514,2436,1888,1121,2328,2658,1286,2149,942,901,2156,638,1481,749,2039,942,1051,2287,848,541,1966,880,1608,589,1885,570,831,1420,849,1877,1545,1265,469,1908,1632,1261,1223,2290,1650,1397,1048,916,976,935,725,1197,2284,1518,672,2431,1042,1566,1514,822,1337,1177,816,1847,845,1222,1430,717,1130,851,846,711,1021,1584,727,1569,1505,1618,935,1860,1360,1267,1768,1592,1960,1292,1060,1999,1401,1435,1059,1168,1310,1891,2145,973,872,1153,961,758,2630,1540,1976,709,1000,1226,1972,1537,2301,782,1071,713,1461,1190,1267,1095,2149,798,753,682,1267,745,1808,1780,1391,1761,785,923,1205,1388,1948,694,1985,2228,1748,1039,1263,721,1439,973,745,1185,1884,931,1684,867,1318,889,1491,1459,1363,651,1314,1342,1135,1432,1302,667,1229,2547,1206,719,2110,1831,475,1628,1072,836,1864,1394,2262,1572,2262,961,972,949,957,1098,692,729,1954,1375,1233,2008,1870,1356,961,2235,1077,1484,2155,1200,2248,808,1617,793,832,1826,793,2169,2145,1459,693,1816,2182,2043,1773,1515,1348,1985,1453,1657,600,1705,1171,1929,781,1236,1459,1432,827,1898,1859,1166,1531,1632,1567,1793,709,1864,1111,2129,1669,769,1532,750,752,1915,1990,707,1718,1679,1668,1240,1369,2513,899,1565,1609,1851,1962,906,985,2432,1652,739,2683,930,1108,1133,1116,1659,1011,2068,564,886,1712,1598,1199,975,1023,1910,870,864,1871,1004,1156,1391,1380,721,2232,987,1696,434,2303,830,1927,1984,1901,1396,791,1597,1433,1770,2105,743,1085,745,1089,812,667,970,962,1505,1190,953,2134,1642,722,824,1727,989,1213,2043,1645,1863,1412,840,761,1003,1578,1404,1760,1077,1079,625,1612,1193,946,2031,1360,746,956,983,920,1530,1632,2282,1242,1785,995,978,1201,1910,1816,1689,850,957,765,1096,1267,1077,2009,1039,1044,1404,1436,1000,1300,886,758,2601,899,1594,687,823,2356,707,951,833,1269,1022,1905,729,1852,1106,1367,1601,1001,1005,939,956,1632,2054,762,1018,1680,1808,694,2071,1190,1127,1155,1560,1175,1350,1526,1487,1039,785,839,1899,567,1426,2294,898,2102,1225,1553,1832,1034,699,1548,1814,613,1762,1094,1057,227,795,2016,843,1261,1007,985,2307,1018,1051,1475,870,1281,1580,1180,1235,2290,944,648,920,1030,792,848,2076,607,857,1763,1850,598,1038,1337,913,1670,1509,2114,1269,2002,1345,681,1166,1351,1048,1323,971,2755,1823,1491,1172,1961,1128,1032,2021,608,2295,1212,1579,1404,749,1787,901,2097,904,1295,670,1055,699,633,1650,676,1850,1109,903,1904,2161,1940,772,1116,1216,714,2064,2132,665,1716,1097,1923,649,1834,1005,671,2339,1871,1080,2073,787,1003,909,817,1585,1694,1877,642,1188,1183,1691,843,1026,1385,803,1449,1259,2122,714,1018,1375,770,1244,964,1163,1974,1338,815,736,934,2317,1850,1654,1499,945,829,868,784,943,1271,1214,1419,1799,1363,785,975,1232,681,1579,1241,1439,1638,1199,1946,734,2134,897,2502,1697,1159,1361,975,1494,1161,960,1085,1077,950,1242,946,1893,1598,650,1130,1272,837,956,1969,1079,1112,2060,1596,1596,1878,946,646,2003,1217,1687,808,943,1385,1887,1539,602,908,1037,813,852,2059,1390,1305,792,1445,1281,1232,1117,827,1056,852,852,742,1544,858,981,1301,1586,763,1224,762,2237,1499,1020,823,1673,1204,1507,1098,2512,1630,1079,2188,2215,979,1479,1024,864,2336,1595,1632,754,1110,772,674,624,1206,1083,1376,1143,978,1161,2483,1287,764,1287,1434,662,874,709,1821,1196,1313,794,1762,1799,687,982,2611,1158,1157,1020,1577,1655,1499,2105,1895,1894,2459,1362,893,1379,2648,1180,794,779,1471,1712,1438,948,2637,1820,2102,1058,832,1046,643,2286,1682,941,1323,1537,2364,1385,1200,869,2299,934,1878,1256,1104,1524,1168,969,1210,1407,1565,1776,718,772,702,1781,881,815,2082,738,902,1404,1274,721,921,1545,1135,1421,993,1852,1753,872,1195,2249,1030,2040,1782,1310,1419,2107,756,2005,1214,1223,1375,633,1070,1649,899,1066,1336,1024,1129,731,834,1271,633,1254,788,825,1175,1219,1588,1142,629,1249,2622,1098,1062,965,1516,1683,2051,822,1163,687,1335,1054,1006,761,1389,1453,2186,1686,1120,903,846,1670,1018,1120,767,1027,1771,796,1489,1555,761,935,1343,1091,729,1908,1923,564,1034,797,896,1096,787,2310,979,2260,769,1244,2023,1506,1211,618,845,907,880,2329,1263,1751,2122,1025,797,954,2132,2242,1833,1291,1014,2375,746,1886,848,706,1941,1161,898,1273,635,1774,1381,1958,2050,1142,748,2120,1506,780,1397,889,660,544,826,1731,1387,869,709,972,1544,885,796,749,1243,874,1622,1118,1867,947,871,1241,1715,1210,974,1002,939,1845,1300,1515,1047,1297,1193,1860,1495,849,2065,1239,1335,1811,1001,1952,1027,920,1006,1572,713,1102,1016,812,729,693,947,1674,1860,1499,1275,1001,690,853,2329,789,802,1095,1102,936,1654,824,1219,1479,1416,1446,788,1179,1991,1495,1275,1406,1979,1020,1993,774,1600,1166,1776,1875,1076,1817,1474,827,1302,1107,1282,1110,1061,643,1419,1391,800,934,1816,594,1653,920,1186,1869,1156,2103,1583,2305,811,933,1481,1449,772,739,1016,695,976,1382,812,766,1030,1483,2116,1675,1025,1488,1084,1785,1986,1477,1260,865,925,799,1794,637,1786,1565,753,870,716,1424,1013,2431,1082,771,723,1534,720,1302,1225,1289,1003,1810,1301,1303,1495,1118,1356,1523,1148,2132,747,848,759,704,1128,1518,1383,1245,2716,2243,1246,2375,940,1479,1121,900,1191,2095,1915,665,830,681,709,1567,2398,1924,1019,1865,1559,1631,680,1044,2071,1331,2130,1792,1908,722,2161,1329,1540,568,1438,666,742,990,1560,897,1340,1085,1152,2168,1406,923,2215,1975,1076,1301,717,1378,767,870,1257,931,1122,779,1945,1641,924,1167,730,1038,752,1274,1052,800,1494,931,1244,2018,2205,2585,921,1632,1292,1234,721,1822,803,1910,1056,844,804,848,1459,1289,1248,932,869,601,1229,711,1656,710,1278,2296,1821,2422,2110,818,842,1336,765,1231,984,1939,2244,1498,1249,875,2630,1479,797,1539,1493,1278,1261,1111,796,690,828,1879,1247,1494,995,790,1130,696,1152,697,2065,2231,679,1198,765,852,1195,640,1453,2371,1633,896,938,1507,1744,1004,2071,767,1806,907,1122,2279,802,633,868,780,679,745,1204,796,1334,937,1086,645,1354,2395,981,1591,688,1160,759,1241,1825,1366,1583,811,1155,2360,819,1124,1161,1456,768,1929,844,1947,1780,1089,1183,1576,1373,1455,949,1348,897,1057,646,1505,1445,1463,1474,1155,1234,1893,2011,997,868,1405,1159,1177,1146,2037,785,1917,1517,1816,879,926,1706,1136,2564,751,1868,959,1154,1269,1743,1717,1526,1830,647,1438,1544,1538,1936,1602,1470,1798,816,1472,1834,645,987,711,1103,1518,800,1234,971,685,1957,700,879,920,1727,1040,1830,867,1385,880,895,728,1487,2333,1209,1631,1643,1721,1078,1540,1317,1048,1884,1743,1260,1824,798,911,1448,913,2329,633,1076,1178,1184,1129,1119,875,1193,1182,1393,1554,1437,890,861,867,1028,1284,1543,1441,829,2148,1986,1451,920,1017,1153,1972,797,2685,1038,1347,889,830,1323,1074,820,1771,1784,736,1107,902,1264,1208,1826,960,2270,731,1225,752,986,1319,1712,1116,1542,1790,1633,850,1134,1626,1765,1229,821,713,2253,788,2521,749,714,728,1219,740,799,1093,1652,756,1559,665,830,1974,1415,1051,714,600,706,1011,1357,781,2379,1591,1579,1074,712,2277,1423,659,1361,2310,723,811,711,944,1633,1194,1284,1944,1226,2020,2119,2008,1544,869,1814,1923,941,816,1542,800,1405,1198,842,1501,1840,1031,645,1303,1013,1114,872,1927,2022,999,1556,688,564,712,2314,948,1992,1406,1693,1033,1014,1406,1004,801,2411,1032,1841,1140,708,777,489,1702,1824,1184,1259,1041,1474,641,1369,806,1354,1788,933,2095,1392,675,790,807,2353,1531,1432,2493,1167,796,1088,1813,1895,871,1855,893,1378,1413,699,2158,1608,1069,749,1882,1069,1711,2475,1140,1515,839,746,2077,943,743,952,1102,948,787,693,508,1337,796,1341,746,1120,1668,1562,1222,785,1961,768,2299,1958,911,1686,1771,946,1043,1782,1864,1637,1182,1315,1853,946,1386,474,862,1221,2289,1888,1541,1047,933,841,1527,2668,2039,1574,1619,959,841,856,2410,1217,1489,849,1001,1717,1145,793,1945,774,877,626,766,822,750,1621,1849,1758,1712,1186,1281,954,2135,907,1444,712,612,722,664,1553,1133,1972,743,741,1389,1908,1644,1280,839,1087,922,1588,1761,1639,835,1206,790,1195,883,791,1587,969,694,2011,2061,2236,1499,856,907,921,1751,1271,754,2414,2162,1171,1709,1338,1375,1365,2017,659,995,1695,795,1853,838,2301,518,895,1613,1733,1365,863,1050,1569,2608,1077,1474,1422,911,2271,923,1386,1225,1274,780,1321,1060,761,856,930,823,2229,1951,1417,1223,764,907,755,745,617,1532,2083,961,1655,728,832,919,1167,1664,1051,1632,1327,1538,1127,1393,1130,1706,1044,1697,794,1507,1208,1041,701,1255,1188,1618,450,841,1045,1018,1842,1753,1926,1159,1854,1310,1379,1187,861,848,1681,2167,796,1711,1832,1632,1383,2185,1191,1061,1909,1025,1282,1355,705,2032,875,1093,1758,1139,866,673,1214,1484,1988,1074,1573,1355,1164,1532,1097,1772,772,1561,877,1882,673,1512,735,2227,1091,1720,2094,2423,1616,827,1644,825,1110,633,675,2634,878,1614,1139,813,617,2358,1119,2329,1087,836,782,816,1508,809,895,1541,870,1107,2174,1024,1049,1672,1589,1817,1531,1510,810,1836,1352,853,645,840,1284,2187,899,1269,859,1526,1818,1158,1051,1069,1572,1207,1065,1224,1064,1092,1361,1873,889,1029,1112,790,817,899,714,1270,1074,754,1016,1631,924,2091,1094,1337,1436,1005,1810,1883,1606,1414,1000,2002,1906,799,1102,2014,1073,2266,2002,1001,940,2064,1281,1730,794,1834,1323,1926,1295,2098,541,1535,843,546,1001,1311,1983,1087,1162,1739,995,721,2353,2102,900,1171,1808,1299,2462,736,1717,1661,1847,1469,1386,874,799,789,2370,1417,1978,1976,1061,1339,1355,945,1278,1046,1198,1023,635,865,1137,1067,1978,1028,1280,1108,1350,988,2128,842,764,2132,1568,1536,1243,803,871,1478,932,2400,1136,1114,1091,1886,1468,978,675,1465,2344,1100,991,880,1417,1248,2220,1871,850,748,2265,1920,763,2470,908,1482,2059,2567,793,1342,1586,1514,1769,982,1236,960,1180,1063,1443,1409,1431,970,830,905,971,756,1653,1570,1570,770,1011,703,735,1311,2340,1697,1447,1499,1098,978,2011,937,1216,1102,1334,801,842,1897,1333,1019,1134,1565,1022,1042,711,1196,1508,1039,1393,961,1406,2067,2122,668,1452,1448,1197,1671,820,938,1034,1148,1168,985,2542,1534,1023,1234,864,799,771,1712,1412,1589,1111,1083,1297,860,1158,1371,734,1868,824,2681,1770,2216,1359,1228,1274,1005,900,1009,1305,1708,887,1566,1407,1659,1287,1337,2033,2172,791,1589,1835,904,881,1695,2240,1785,1057,1240,1702,1221,2133,2186,1581,1128,762,928,1436,869,2042,1584,1691,1601,2464,787,686,947,1337,675,893,1646,838,673,963,1158,1066,933,1421,1626,1021,1825,860,2151,827,1103,1526,1172,1584,1637,2369,1777,713,768,1697,2215,795,816,1772,1858,2231,687,1072,1547,2034,660,2554,796,1406,1154,1723,832,1756,1624,1723,1420,1241,1276,779,891,904,736,1819,1583,1027,1741,833,1007,775,792,2215,981,1353,876,834,1224,2068,771,1241,782,2014,864,1919,995,1918,1573,1143,1639,1231,2212,1292,1205,829,782,961,1640,1885,884,1543,1672,1247,676,2358,986,1292,1103,939,1224,909,1121,1042,825,1096,2237,938,2494,415,707,961,776,1250,1129,1765,1111,780,875,1434,1179,1097,1612,1962,1181,1048,576,2391,845,2110,2385,1363,1245,2213,991,1220,1808,1283,823,1522,509,713,1136,1918,907,726,1362,1965,1571,1469,979,997,2195,1164,1847,2621,862,1096,1851,811,1203,1962,1036,715,1873,660,795,1742,2387,1825,1038,2001,1057,1181,1442,2108,1016,1359,1175,2273,1858,1551,923,1215,2033,2641,1705,936,928,1278,1988,1645,1763,1113,698,1034,1034,1262,1822,868,1009,933,2346,2001,673,1831,683,1112,2187,1257,1797,1764,1064,1763,1496,967,950,653,1352,648,1244,629,785,1430,680,905,1010,756,1450,1688,623,1109,1010,815,1033,1284,1270,920,1099,653,2201,728,1053,977,2266,594,1446,782,1458,1099,937,1130,753,1109,819,1207,2163,2223,728,947,855,1526,1066,923,642,1216,1061,853,802,752,1679,678,1016,925,1178,959,1389,811,891,1693,734,1334,780,640,2189,807,1636,1160,1017,785,1504,1292,799,1053,1596,905,999,1571,1722,921,1411,1559,1164,1258,1281,1343,1386,1040,1205,2157,1095,735,744,2010,949,1132,1359,792,910,779,1808,1487,917,853,1049,680,974,1553,911,756,939,1363,1812,731,1411,1017,1086,1490,1730,1194,1918,776,1709,1256,1000,1289,2066,875,906,1058,773,771,1881,2099,1668,2467,2290,1689,847,1010,2127,1567,1878,1068,2039,859,1040,2393,2395,919,1280,1121,928,1254,632,1504,896,1675,1130,1697,1829,2559,1470,1644,1508,2125,1480,1164,1082,1045,1923,867,768,1004,2074,1514,1839,1523,1593,1043,2025,1464,1324,1442,1193,1645,1088,789,1694,1098,1745,888,2593,1246,1089,1356,1496,1558,1100,790,2099,2096,1072,2005,2130,2132,2245,965,1240,1540,1260,1746,1268,946,830,1365,1613,996,1638,1449,862,1216,1247,891,1225,775,2582,696,1131,1322,1414,1823,1161,1404,1108,1074,1328,1808,783,1063,721,1841,1667,1106,1043,1170,708,1384,1155,1747,1647,1262,1582,886,857,1053,1618,1548,1111,1122,2641,2535,878,1675,753,410,794,678,1180,932,839,1452,1258,2960,845,824,1252,1084,1516,2172,651,1335,1512,597,838,786,778,1855,2054,1768,972,1475,742,1002,861,1373,1789,1528,1480,1411,2120,1009,1453,2339,1319,1541,1072,1147,1779,1434,815,1479,1137,2029,1501,1458,951,832,798,701,1194,617,1490,1416,1650,1405,1390,976,891,1176,2184,1194,566,1681,799,2103,654,651,1373,1459,1427,1277,1143,1334,1904,1708,2370,824,1586,1431,1531,904,1010,1745,1155,683,1015,1155,1870,681,2002,1378,2178,673,1140,1815,1584,1067,901,795,1844,1698,1261,698,726,597,706,718,857,723,1693,847,1704,1435,1747,1003,1137,1009,2319,1443,2036,952,2367,879,1471,2233,1943,917,516,1533,1090,1356,1758,1318,1481,1719,1692,1237,1218,1067,1258,1225,1208,1458,2075,1095,1525,1308,748,1127,2091,1614,810,932,1106,1898,1915,1664,775,1348,1377,1498,1402,927,1251,2146,1235,1292,608,771,2337,707,1112,1034,1757,2344,1140,917,663,1266,1476,1083,858,1962,2157,1366,1925,1414,1266,744,658,570,721,1012,711,1336,1804,1720,1750,1340,966,1319,2199,894,2046,1574,1934,2623,1181,2455,1110,2050,1979,1240,2818,980,1837,1028,1215,684,905,782,873,1345,1933,1544,888,1875,1616,1336,1176,824,1265,1091,1739,1512,943,948,1701,1070,1541,840,938,1165,1027,1126,1670,645,616,1387,2122,1493,1711,1062,1099,826,1846,1261,831,1588,1039,1401,1123,736,1065,1650,1500,1206,1273,1157,1066,916,1557,968,1259,616,1306,593,927,2503,1049,773,769,982,1889,911,1645,844,1989,1093,701,1938,762,1366,721,2049,776,1321,847,812,1664,1646,846,835,832,779,1930,1676,1289,2257,722,2013,1786,1501,1906,2051,1228,1670,1756,799,861,1924,1091,2188,1047,1713,1819,1469,796,1535,666,2021,1968,1306,978,990,827,2050,1569,1575,2407,1047,1222,896,1428,1386,1015,530,2451,874,735,1307,795,847,883,1570,1510,1032,1055,1159,914,2113,1162,1249,612,624,670,995,1492,2119,1145,1530,747,932,2685,1193,985,763,1417,2594,575,591,1924,1751,1194,654,1606,716,576,1047,745,708,1224,2243,1973,947,795,1505,1780,854,1278,1057,758,2094,1871,1675,1455,1824,991,1428,1915,1801,2146,822,684,1765,1085,1795,1918,1983,769,821,803,679,743,1325,749,1510,1769,1533,1058,847,1070,825,1005,1286,1001,1930,940,1526,1911,1274,1110,949,707,1385,1087,2437,616,1234,726,869,698,1392,1168,727,1580,719,1262,748,851,851,1577,1165,761,1363,1862,2593,612,1303,956,1064,688,1792,754,668,923,890,636,1568,810,2523,526,1520,594,1444,2245,968,1235,1804,2205,1312,1435,1100,1374,1219,833,2111,2122,1364,966,989,1064,842,1319,1357,1184,898,1159,853,926,939,2058,621,707,772,1257,1318,644,1747,1024,1119,1785,1154,1233,1047,1386,816,814,2065,1370,2041,766,1916,1112,812,1056,742,2208,789,1236,1796,1620,860,1158,1424,1727,1754,1072,1329,849,2206,1473,747,915,2036,773,1000,727,1261,1183,724,1548,1286,1990,1397,916,873,995,1075,1544,708,899,1896,2083,675,2300,1931,2116,1490,743,934,1733,1079,2167,753,1912,906,1993,555,627,1497,1814,913,1003,1772,2355,777,941,1295,928,1413,969,1407,2013,2221,1074,1535,1472,921,1194,1979,1564,1220,739,1165,1098,1723,1811,838,820,828,1171,2067,839,2516,817,1481,2109,2061,731,1239,712,748,1206,881,806,635,1327,1771,794,935,1125,1571,682,1108,1763,1807,1170,766,1408,1731,1012,1593,1178,1881,2351,895,2150,777,1855,744,967,1362,804,1148,2254,1775,846,1896,1462,2316,1075,755,1225,661,2364,1173,687,1329,1041,2239,1355,1546,1677,1359,1095,1089,2187,662,731,771,702,1631,1045,859,1159,1323,1107,1576,1239,746,1620,684,1894,2070,737,1749,1862,1741,1688,929,438,1443,1404,657,1594,698,1819,607,2429,975,741,671,901,1493,894,735,2374,650,971,2162,1362,1372,2301,730,1147,744,952,1751,1266,1759,1173,1292,1268,1262,946,1441,1192,1968,577,1673,2485,1237,1343,2131,1272,943,864,1249,749,1473,836,700,904,1297,1504,2226,712,1476,2541,1124,836,1008,586,750,1553,1306,1631,711,1974,1131,829,1019,1325,1786,935,1745,639,1476,743,662,1690,907,1050,987,953,1657,1843,1512,1015,1249,1082,1080,718,1030,1235,1472,1269,1779,1086,2068,679,805,2219,1252,1779,533,1011,1723,735,1163,755,859,1267,1353,1019,557,2177,1057,942,708,855,1920,1980,1368,1340,1524,2118,982,973,1774,1807,644,1743,852,1500,1728,610,2198,837,1471,1667,1694,1260,1256,1392,1881,1693,725,1106,2157,987,1076,1828,1031,1397,986,1647,1203,1597,1338,1685,821,995,2406,979,701,1047,2173,1472,1194,932,1126,1259,1815,1052,1803,947,1084,721,2576,2115,1033,1517,1393,669,778,691,901,764,2315,608,775,1090,1363,1275,871,1637,1077,587,1812,755,1731,1520,1794,1016,1065,1498,873,1022,1723,2631,1213,833,700,939,1060,1258,1163,932,794,1980,2596,1254,736,770,975,960,2273,227,1183,740,787,626,758,1670,1168,1021,1246,885,1539,996,938,1363,1290,867,776,703,655,2433,637,1429,2104,2294,1027,2209,1847,1124,708,1449,1021,1028,1339,1165,1107,1160,1446,943,827,929,1862,873,1714,1001,809,1946,1330,1103,853,2318,1148,817,760,2061,712,1703,1459,825,323,1075,1362,1005,1278,1021,1559,1027,638,1820,1582,866,879,620,885,1756,2545,562,1529,904,869,1245,780,695,2411,981,1945,1002,783,1234,710,1477,750,880,785,798,1548,928,724,353,1739,937,775,2122,1322,833,625,1070,2014,1475,989,1619,761,1259,615,606,678,963,2198,1341,1393,1238,847,1412,861,671,1032,1577,1444,828,2188,2142,1655,2170,1830,954,949,1674,1174,1734,1587,2174,1199,876,822,2298,774,2168,531,2090,670,832,1127,1130,721,637,644,1164,880,783,1807,2261,640,763,1269,984,850,791,664,1730,907,956,1471,808,1601,1099,1231,774,2623,1430,2407,550,2397,1214,1150,894,1813,706,754,820,904,1485,1133,2519,619,2344,972,1292,1317,1057,1301,1471,1380,806,767,1121,766,1114,1277,678,2122,1809,1189,1157,1163,1443,1603,2184,1568,779,1276,2540,1441,2038,841,2001,1892,1094,1325,803,2598,800,941,1258,1135,911,1070,852,1849,752,1528,1338,909,2144,660,645,1959,1592,834,779,1142,2587,837,1275,2010,1738,1690,891,2300,659,1523,1269,2472,746,766,1319,761,2066,1169,1711,2399,2090,875,1140,1001,1081,2663,985,1425,1430,677,1161,965,707,662,1609,990,1388,1589,987,666,2490,1206,858,1935,1365,946,929,1517,923,1012,1029,2152,1198,933,1274,1227,1573,969,743,1088,1857,1020,1648,1932,866,990,821,1478,731,1126,1059,687,817,1903,582,939,1759,2552,1519,1291,1353,721,1072,978,1221,805,852,1517,1350,782,1321,894,1524,1496,1655,1143,922,1334,2270,1095,2264,614,1183,952,750,587,1794,1291,2165,969,2090,1775,1754,1070,1146,1808,1953,2258,977,598,905,1447,1904,1172,1239,703,1179,2318,2408,874,1398,656,1660,1148,1917,2513,1333,1032,810,1062,886,1648,838,1132,1587,1336,706,1439,1630,939,1855,823,917,868,675,2181,1690,2086,1225,906,1496,1267,904,1919,1434,1605,1678,752,1247,1130,817,1407,776,661,1300,690,835,1740,2254,1411,2131,2381,1928,1242,1621,1009,652,1732,716,1038,1000,1802,1734,946,1093,715,1148,866,664,1371,736,852,1550,2166,1810,434,1461,1628,1066,1050,1086,852,779,1031,1859,738,1145,728,745,991,1262,698,713,723,1440,2237,1318,1227,1281,1740,464,1358,1854,652,1018,718,1029,1262,696,1494,1127,2392,2355,1474,975,699,898,1151,765,1229,790,1519,1068,790,1879,2515,1272,748,832,690,1804,807,1724,1534,1786,1907,1044,2356,630,514,1863,957,740,1973,2143,884,835,2586,1039,1734,636,852,1838,1309,633,1239,887,1096,2355,1428,2433,957,739,433,1951,1618,1142,1592,639,1357,1161,925,919,1537,1357,1503,1359,827,2467,745,1165,1125,1526,857,1042,1609,844,1946,875,769,1028,870,871,1755,2076,1637,746,1815,1308,1688,1838,731,1930,911,752,1209,892,1045,815,1070,2338,2299,698,1022,1062,1155,1431,2478,1076,982,2014,1769,1560,795,652,719,760,994,812,904,1745,1626,1547,1945,905,1436,1046,1366,1632,1677,741,800,888,2429,2028,1846,1223,1173,674,916,2604,1374,2208,847,2248,688,1023,826,1240,1619,815,628,900,1374,2429,712,1274,1085,856,1093,785,2166,2307,308,1274,2034,1249,1186,1955,2331,508,1719,1088,1404,1248,1673,745,594,826,2459,1040,1762,2182,2379,603,797,1122,1474,928,1027,2174,769,909,1687,2828,2572,1119,801,689,919,996,2357,1706,794,842,1718,706,2107,1106,1271,813,1653,2420,837,702,1306,1579,1984,1352,640,1235,679,1047,1621,810,1676,875,1107,648,673,1461,1785,1830,910,719,980,1900,924,1154,1185,798,729,1751,571,872,918,711,894,637,845,679,647,1403,1321,716,1386,1242,1673,2422,777,718,1199,1037,1742,2007,664,1722,678,1845,1949,628,862,1114,1578,886,615,990,871,1321,879,1364,1435,593,681,1396,964,707,1507,1231,1655,672,2048,651,1944,1820,1134,1225,1772,1330,575,552,1715,1135,772,841,1057,1332,911,1531,2013,2332,739,1032,1063,793,598,1043,1043,1894,2415,1088,1851,1969,1578,686,775,1434,2090,1918,1523,712,743,2044,871,803,1588,1083,2608,717,1548,1179,1226,2129,1424,1792,2292,798,739,2222,1098,718,1356,1353,838,1224,1232,1581,678,2294,1105,703,933,701,1463,1689,1500,1808,1257,1964,1158,1590,1297,1979,1076,1041,1017,1263,1544,991,1207,903,1189,2463,714,711,1041,1691,1874,760,1889,713,1883,1021,811,2505,941,991,697,1500,633,1940,1954,763,1168,1669,769,912,1972,930,1499,1142,890,862,1107,2122,1411,651,1981,884,1264,867,901,713,1073,1403,744,980,1984,1443,1951,2098,845,707,2080,1797,689,2039,1724,1232,1517,1777,896,800,646,1493,748,546,1571,1017,1954,810,1169,1174,1409,932,950,1643,603,1396,894,827,1162,1737,1374,730,820,885,690,680,664,928,1005,1162,1840,1009,1027,2125,1084,783,665,2437,743,2683,2579,798,950,1179,1083,1357,766,1251,784,1944,1488,1001,1190,1813,770,752,1944,743,1382,720,1132,1938,1246,1675,755,1222,2038,825,743,1099,755,1220,2342,2360,1941,1003,1441,2248,2550,1413,1992,1037,752,1871,2471,1359,881,1108,1985,859,1210,1346,1716,2305,1365,1205,869,1395,1042,1844,1315,1874,764,1043,1470,834,1644,1804,1307,2178,1071,1093,1804,1355,1869,2336,1597,985,756,1368,596,1148,1004,2245,2539,999,2132,752,1047,847,1913,1150,700,758,714,1677,701,1625,1389,794,2060,1409,858,1412,2115,881,2003,1484,888,715,785,824,753,1809,1061,1138,779,1437,684,817,830,766,1239,1816,1217,812,863,957,1393,2497,1223,1036,1169,821,715,911,1110,2393,1231,796,848,1192,975,2000,700,1547,1085,2195,800,1803,984,881,2091,1497,1400,1165,1517,676,1539,1058,697,1017,961,1068,1076,1166,1469,984,1607,1482,654,694,1470,1256,1112,643,1699,2737,1381,1169,801,935,995,1882,2473,760,2080,1689,1660,1040,1710,2478,712,2128,1615,1507,928,1079,842,1802,1011,945,1325,635,933,1061,608,740,822,1369,948,690,741,663,2508,1035,705,1030,1346,936,1013,1741,1203,612,589,665,1183,897,857,1918,1721,1024,1420,814,1596,1576,965,2433,1612,982,1609,1043,1086,1742,1813,1762,2394,2425,781,1892,701,800,1740,799,1462,671,1895,1288,711,1218,2360,1802,624,955,1579,823,811,2329,2118,1730,959,1108,1097,1554,1356,2413,858,1222,1215,743,621,1366,2122,758,1932,674,1917,1627,2587,988,646,1678,2112,1196,1417,1546,982,348,1297,1711,1994,1896,786,1772,723,1961,945,2049,511,941,1393,738,2252,1889,706,874,1412,2564,853,2296,2593,1316,1790,670,1704,1839,996,1543,1654,965,698,999,1017,2315,799,1638,637,1764,983,763,1849,1083,703,810,2147,1505,969,2376,810,2003,1033,761,1370,1510,979,1214,782,1286,2225,1143,851,2375,1415,1510,1765,1991,664,916,1002,820,2344,2507,1035,1354,1601,988,1226,894,815,951,1577,720,1879,1530,2023,600,926,1079,2026,873,782,1155,1773,750,1152,724,541,972,2353,859,1101,1491,1770,680,2016,1891,1493,713,1260,638,656,1572,1391,804,1679,2009,1067,1181,991,754,2074,1661,1158,944,1681,2332,895,2095,680,572,692,762,1170,664,1914,848,1513,2366,1937,1659,1908,1227,906,793,1223,596,1474,1494,866,1171,1223,1176,477,1515,715,1122,1353,733,1297,1016,2145,2165,776,687,954,1090,1372,859,903,574,1205,664,695,1909,2166,835,637,1759,826,1314,1789,1196,760,922,1017,747,1344,1359,977,2116,1702,989,1201,1786,834,2008,668,1001,1918,940,2230,2115,974,912,862,2178,1087,2216,1461,1258,1251,669,689,956,924,2000,1706,919,2374,793,1127,2358,925,2126,1012,729,1035,684,880,2106,1648,1928,625,1507,1336,1544,746,1642,923,1171,1512,987,1035,930,861,2216,1591,1145,2072,1526,1416,1061,968,1615,1685,1787,1843,2346,1166,1188,914,1021,1545,1993,1191,638,1479,1926,792,678,1043,977,1991,2400,625,807,1697,1804,885,901,1475,666,1004,947,2656,614,646,1019,2186,2684,811,1628,2002,987,875,2538,1390,830,1449,886,669,977,929,2267,2238,1269,779,1746,667,932,723,1526,623,1315,793,1112,664,1388,1502,2095,726,1497,1965,1273,807,676,802,2122,842,1396,1641,835,1106,1660,724,701,1005,1048,1171,2263,2126,1331,1078,651,1201,780,1971,1900,2219,2261,770,789,1939,891,492,1179,1269,867,2565,851,2271,2104,1392,831,1704,793,1405,688,1380,863,760,853,1733,700,1799,696,611,945,964,1009,1702,1791,2287,959,739,854,1648,2382,768,878,757,518,1072,2350,680,1702,617,720,2205,1148,2245,884,2508,2768,1679,1974,1018,764,828,675,598,1055,953,739,921,1062,768,1083,778,1225,1471,1150,790,611,757,1693,680,920,597,2126,1205,1964,2439,1185,1212,1418,1115,1756,1749,1083,1117,2584,1638,1039,1049,2170,1633,1612,2719,810,1535,726,864,894,1860,1016,1056,1782,702,1453,2083,2398,737,898,1220,844,754,617,889,2516,994,873,1110,757,2038,936,1041,2076,1324,2340,1455,1344,1192,1960,1032,530,1447,838,954,1677,1506,670,642,843,701,1177,1046,679,1232,2003,1459,737,471,834,1144,1609,1284,1489,858,835,986,1541,1525,1865,1231,730,775,729,2030,1708,1934,1038,942,1086,941,837,1574,2418,710,1178,1443,2325,993,852,914,2155,736,1035,836,1587,771,1468,973,1792,2687,519,948,1124,2206,1797,891,906,1002,859,1362,1260,528,951,710,1034,1663,1001,677,783,810,858,522,566,440,1608,666,1352,993,1373,1330,834,1172,713,863,1092,688,1227,726,596,812,799,1095,1288,1587,1149,897,989,862,1213,1928,934,1007,1132,582,623,1086,1910,1371,1669,1047,1932,1226,932,608,2009,730,748,632,1879,1621,1130,616,2412,714,1991,950,1748,862,1775,1546,2091,1166,882,2195,1179,1201,2088,974,2311,1269,2237,797,1175,824,2082,1741,865,703,921,1075,785,2262,807,1531,935,1811,1796,974,1201,837,1468,1115,1285,757,838,1174,1043,1958,901,1963,1466,1142,1495,840,941,1284,571,1106,1297,1350,1502,1175,2097,1340,1318,1696,2005,600,839,982,688,2160,1596,1357,1374,1301,773,1041,1793,2421,726,2393,1226,2016,1325,1136,1431,1507,676,1246,750,1638,1071,1101,1201,2304,962,746,840,682,771,1182,1251,1117,686,1107,1364,1956,1240,1237,1784,1913,1160,2137,969,1753,928,834,1375,2204,1275,1405,1770,917,1848,1144,2678,1607,1506,1141,1038,2175,725,789,1336,680,2288,1767,839,663,924,1491,2143,671,1551,703,826,1770,225,888,2226,1876,1958,1282,1407,1587,1060,666,951,1491,790,2485,1276,1225,1315,1449,891,754,1636,1367,2400,822,1229,940,2010,1371,1466,880,1045,1030,1596,2461,659,1175,887,1682,759,897,719,2383,1067,1629,808,1014,1227,1273,851,963,1302,1289,914,923,1485,869,758,924,1526,993,742,2070,684,2539,1701,939,1768,2124,465,1319,650,697,1409,899,1405,1554,1788,1005,1363,1588,906,1693,726,633,1370,1707,987,850,545,2428,1365,1449,754,799,842,2525,2406,756,754,1442,550,1392,986,1490,1094,912,1582,994,717,707,1646,2494,1082,2127,984,675,1062,1117,827,966,1350,1165,1144,684,1241,1753,1491,1672,957,1367,1260,1173,1717,1673,1204,1531,1197,725,739,1527,1898,1143,941,1285,935,822,705,2531,922,1060,843,1898,1600,1152,962,782,922,772,855,794,988,665,682,2599,1319,1959,1188,970,926,718,1590,800,1031,1144,1738,1263,1032,2503,2490,1592,1472,990,1017,1133,922,463,886,1551,1080,1922,1019,1392,1379,1983,1129,1959,1417,1700,1860,2106,1350,1093,1379,1236,1899,2349,816,1384,1118,1349,1047,1882,740,906,2160,1931,2374,840,982,671,955,1351,1472,1064,794,806,1076,1329,1419,1398,1644,1326,2239,1331,1583,723,1900,942,1839,1045,1047,1126,1514,1082,808,1651,828,980,1128,1351,1338,694,1431,1207,899,760,855,1908,1411,1054,1626,772,1539,874,1107,1278,899,1939,654,796,674,656,1279,1180,1266,1610,1766,866,858,992,869,1030,885,1886,819,1585,740,1117,1696,701,1026,2310,882,1508,1818,1694,981,745,937,729,1528,584,1897,1555,656,1958,1832,1421,808,1099,776,962,793,1069,1124,1137,646,543,1503,1171,733,738,1758,2056,2322,1291,924,938,2138,1726,1410,1657,1408,1193,1048,1729,967,663,1657,2089,1014,1118,1619,1295,1479,897,1397,1028,767,943,684,2086,2277,1609,1285,2070,682,851,2003,2167,1161,1116,1383,2397,1706,880,1784,1755,1758,865,1359,1269,1924,1209,1147,838,642,1318,1558,1224,2026,1114,1091,2484,853,622,1044,1666,774,1670,850,709,1000,1946,794,1265,725,1699,2145,1555,1779,776,1020,905,1497,1237,1675,1102,743,798,1362,631,1294,1943,895,417,1749,831,1072,2096,1166,2137,1301,918,1296,2072,1923,1358,982,1635,1473,643,642,1838,2163,1677,1846,1280,1614,733,644,895,1205,818,1067,1369,719,2585,1423,907,1853,684,890,1457,763,1703,798,1134,926,807,1216,1053,860,837,772,1793,1923,921,2171,1798,1118,1538,1329,846,1113,1924,2202,1091,1631,1205,1995,638,1104,2247,1112,794,704,1126,1086,1167,1021,1068,810,1143,1137,1291,1849,1096,1615,949,661,760,674,1478,795,1897,1406,1096,1226,1945,2490,1899,2146,980,738,1455,1371,625,777,1257,1359,1150,901,1380,645,1763,925,1449,1101,1115,891,649,1616,1386,1843,1036,784,1517,955,1408,1597,2478,753,1724,619,896,875,753,790,2546,1759,2547,1052,1370,1395,966,899,1774,1647,1362,1273,1402,860,662,2513,773,1951,1152,2229,2054,822,907,1861,956,1054,1251,733,743,832,724,1438,784,692,1071,995,987,765,1403,725,788,1685,2177,1096,1076,1699,863,592,1564,2537,1449,2603,2096,1215,760,1193,1100,952,1118,981,1368,1964,1698,1021,874,1480,1206,995,1405,1724,879,696,1005,769,624,971,1161,1288,1012,1852,1680,912,2290,1582,2322,714,1619,1642,1631,2049,1316,1415,863,763,654,781,986,699,1547,1437,1535,2173,1245,734,1061,1727,679,1518,788,658,954,988,1505,2587,1410,673,741,1795,1231,643,744,1703,1226,1219,720,1557,726,747,863,946,1789,1961,1656,877,2144,1007,1031,1595,847,1046,1798,2125,868,960,1236,1132,1064,2260,1237,830,1422,1313,983,638,831,962,1371,1645,741,760,806,2097,1964,1518,919,1082,2318,1134,1479,1063,1259,1185,2127,776,894,1191,1473,1402,960,890,1316,897,760,940,734,2099,1117,1118,1847,1287,736,1437,1953,779,1369,850,659,741,907,635,1929,1826,893,963,916,2054,1272,658,1144,1502,1289,2303,1020,980,551,1189,690,1554,1352,1608,831,1018,741,784,895,1334,1721,1100,2001,2079,1561,1532,1013,894,1002,1330,794,1100,1066,943,2122,2343,1240,582,1752,1174,2211,1469,1067,1004,2164,2337,1254,886,2308,899,1576,901,1143,1919,1175,2151,2304,924,2032,1707,1464,2085,1584,2712,798,1646,979,807,1129,1319,949,1396,847,810,897,1956,1996,1116,2005,770,1370,1121,884,956,941,962,670,2225,741,1666,1054,945,1011,1190,1248,1895,874,862,2432,740,1552,1646,1189,1635,2227,769,1904,1485,1076,736,549,660,1350,1273,1766,913,1033,375,1295,2122,782,1366,925,738,950,741,467,1768,1707,868,692,1366,1386,838,953,1607,894,1247,1658,1424,633,620,1096,567,1836,682,1587,1474,838,1087,1669,1236,1062,1031,1856,888,1676,1057,1253,922,2332,713,850,1009,1964,709,1644,1228,1998,1769,1764,1510,1138,688,948,716,1744,1488,594,1706,1231,2196,1073,593,1773,2174,1161,715,1663,667,833,1029,2284,957,2024,880,1080,947,1596,1116,652,687,2126,1508,1242,1375,2304,1440,1093,941,1635,1466,988,2196,1048,1027,688,732,868,805,643,1431,1994,804,2086,1274,1947,1876,1829,961,1150,1757,930,1913,2623,793,1285,712,789,1412,622,1648,2210,856,649,786,1730,741,2025,597,2304,951,585,2029,960,1563,671,896,1017,2298,709,719,1959,889,658,2072,925,1245,1100,515,1024,1796,1747,1981,1140,1903,2042,1113,1042,1664,826,1169,2567,2481,1540,747,570,1046,876,714,673,1346,1313,1442,1007,1020,1824,2302,865,750,2255,725,981,715,853,755,1577,1160,1081,858,1692,1240,1345,1989,1803,977,973,2168,1031,1655,736,1018,919,891,813,2078,722,1407,714,2172,1325,1536,1930,1303,968,1622,863,629,934,2016,245,1595,866,2383,755,1637,895,851,1364,832,1880,1548,793,1843,1342,774,983,1406,2032,667,1193,1328,627,979,2121,997,829,1136,1143,975,864,1447,711,828,1148,1670,1430,1618,1169,1581,648,872,856,763,1093,819,837,1650,1147,2326,819,1181,1365,1949,1449,1410,1469,1025,848,1164,2040,741,1774,1818,768,2177,1206,951,1106,301,1207,858,725,788,1948,1213,558,1883,1166,1851,982,2490,1701,580,1276,735,653,858,1782,1954,902,963,569,900,859,722,2154,867,2097,2032,921,2045,1662,686,773,1349,1846,2349,804,1879,814,981,2097,1361,2338,1109,2255,657,1090,1600,877,1807,796,857,874,2035,767,903,1056,2513,989,1008,915,716,1516,1441,782,1591,1347,1013,1145,645,1793,1529,829,838,1190,757,1445,1103,1572,2628,667,693,802,1351,583,660,2091,1585,831,1277,1589,2091,754,2377,1529,2386,898,1086,1072,1100,843,2151,1084,747,1911,642,813,1200,1206,2709,706,1115,696,997,2015,1492,2461,2323,1901,1908,1108,911,1591,610,1152,743,895,1056,916,789,762,1527,1160,866,1235,807,1247,1283,1279,607,1937,1158,959,784,990,815,2061,1322,1500,2137,1300,931,1115,780,865,1582,1034,2115,690,1625,2014,877,910,878,2189,704,1708,1684,2259,731,850,1361,1597,2569,1109,1339,842,730,1286,1554,1043,1529,1763,1764,818,1929,2099,1134,1209,1263,1077,2296,777,1118,625,2431,1176,846,2070,1313,1204,1180,1044,1135,805,1726,904,2202,1573,2197,1184,1099,1087,748,2406,1930,717,1491,855,1067,1621,1317,739,821,1492,2001,2400,1791,784,2479,1811,1672,622,1033,1751,1560,754,1490,1369,950,2430,1411,1600,1461,722,1554,1068,1783,1023,1067,2231,1754,1884,762,1571,1495,804,1679,1566,754,632,852,1108,1570,1800,1914,1756,868,901,1628,2120,2059,2170,1836,738,1037,1803,1297,2595,797,1302,1851,2781,738,1455,1589,1023,939,885,1352,1036,861,2112,1475,909,2209,2094,693,1576,1554,1882,1240,2032,878,845,688,1383,2120,1135,2350,1371,1912,633,1831,1824,935,1184,1105,1794,1656,1059,788,1938,795,1124,650,994,2102,891,984,1056,974,702,678,677,1209,1383,1711,763,876,1708,658,842,996,1597,1469,1348,1386,917,825,722,2227,626,976,726,836,1133,2199,1017,1547,1710,1742,941,2366,2811,1193,831,626,754,854,853,1004,1071,1108,882,1752,1462,2015,748,835,1283,2277,1581,859,853,1945,949,2102,894,1464,2372,1586,1168,2163,1956,722,574,876,1930,2327,852,1531,1143,1448,618,1308,624,759,760,729,898,1405,2198,900,1478,813,637,631,1238,2590,1997,1360,683,1652,894,1203,684,1238,668,2369,1871,1028,1201,1224,2025,1361,1170,787,1884,759,873,867,754,1045,1097,713,1184,2476,996,615,660,976,2330,1982,1658,2234,1412,769,2145,2152,882,604,1463,1666,2594,1147,787,695,1587,838,1557,1247,1911,1929,787,1198,1413,2160,1990,1278,2181,961,1724,2345,937,775,2122,920,2089,901,724,1767,708,711,674,1599,1004,2406,1297,1545,1788,525,1950,2111,1858,788,624,1099,1187,2094,813,1517,1308,856,1115,1279,782,815,1648,816,625,569,2011,754,1030,2257,766,855,1116,1206,717,790,1031,1022,849,2902,1593,1117,1307,826,712,1526,900,1784,913,1001,1029,764,803,941,660,748,575,1441,1800,2408,1278,668,941,926,551,2598,761,843,1927,2062,1228,1621,1119,1901,1688,897,673,1918,707,1101,1236,1345,1220,1432,711,1045,1205,632,934,782,917,1346,549,490,2478,665,1205,2341,1715,879,1208,2196,1004,1132,1021,1296,2045,262,1559,1579,645,2252,1517,624,686,2219,1320,2406,2120,1731,1385,1267,512,905,809,1905,1133,1535,807,1099,2466,640,726,1458,2449,775,1971,916,1463,2785,1429,941,1434,713,1184,1078,1556,948,1491,1169,995,761,995,1074,708,1700,2091,1003,1476,983,545,1937,1982,856,1574,1220,2367,1025,2026,1854,792,843,1602,2336,861,1663,1441,2005,997,1165,843,808,1395,766,1757,1368,2428,567,729,1144,1125,741,1020,799,1173,952,2294,858,1550,1109,966,1117,1468,1169,708,1078,914,1680,2013,1778,1348,1151,2243,783,801,1421,2079,1691,2321,1593,1181,1075,1407,864,892,1470,1554,2887,698,623,2328,1379,703,1241,667,2031,718,1085,742,681,771,851,2049,602,1768,2134,905,1726,1560,1686,776,1727,1160,1318,851,2379,1807,724,1556,670,1275,963,1543,917,779,705,1168,1195,885,2229,1467,2290,1326,1676,1823,673,728,2488,720,1827,1353,763,1016,2056,1524,955,1589,991,1176,827,1528,1153,1166,627,1795,1405,947,990,1252,653,826,1183,703,839,1367,904,634,544,727,1674,2221,1518,1554,2197,885,606,1720,2013,1691,1551,1264,637,2057,736,2337,541,617,742,1707,534,1780,2145,1700,1797,1322,553,1509,1893,1152,800,990,961,2471,2180,1268,1202,658,1291,845,900,674,834,2332,1548,2432,2277,672,619,2290,1087,754,2344,829,1313,728,1822,948,1722,1508,1147,703,737,739,664,2482,1578,982,1055,1052,571,1125,1535,899,2092,1015,655,1611,1101,1889,1089,1321,830,769,1095,1719,2278,858,966,952,799,1334,1849,685,1260,1271,1493,745,1796,1095,1588,906,858,743,632,2364,1491,1345,1058,1055,952,979,1278,1123,1649,1543,1351,1016,2289,2008,1874,2694,975,1510,839,2482,804,1735,874,929,804,1187,2636,1968,2358,1550,764,1639,1142,700,806,634,671,949,1926,664,1133,540,754,1337,777,2102,727,1171,2569,1397,772,2268,836,2048,713,2300,1247,662,1442,911,707,1878,2406,725,916,757,1904,1529,2154,763,1345,828,2043,1412,1917,2334,809,1193,584,2243,883,669,1864,1342,1271,1872,2404,1763,762,1888,2380,1117,2015,890,2335,1191,778,776,1797,1261,1049,1677,1415,2372,926,659,1677,822,1079,1158,2371,693,1325,1204,519,970,841,490,1581,982,1681,1276,759,863,1997,750,540,1682,777,844,1100,770,2367,1208,1439,845,1406,766,1009,662,1963,1496,2240,2090,863,1096,789,2794,1404,686,815,1198,1581,875,795,983,731,1278,1358,662,712,2299,686,832,1054,781,727,1657,822,1513,1646,926,2311,1190,1130,984,1142,672,1003,2138,782,1266,872,886,2079,698,1116,704,2086,2509,776,1290,1523,734,789,1456,563,1025,1009,2130,1467,826,1151,1957,1163,910,723,725,1225,913,1295,2535,1138,2062,1802,1759,1363,1423,822,2148,807,616,2389,915,737,2236,2208,1688,1191,975,1053,2100,756,1996,871,2063,1880,1266,756,1229,1929,1077,1418,695,1220,1406,1089,925,1743,1964,1346,2115,1000,1454,1932,1404,1567,1068,1930,1625,1163,985,1641,2266,1704,1864,1434,1002,899,736,1672,751,598,2284,935,1136,971,1249,2572,2120,865,1338,823,2722,775,2030,1408,2536,753,1175,856,1440,2475,1436,744,1195,1106,747,947,657,671,1491,1766,2016,805,1972,1381,1865,2076,1058,2133,1354,759,949,917,1478,752,2392,1337,1082,625,1410,855,1500,962,1304,601,883,1635,860,2113,1135,1797,1108,1772,1715,1645,1059,839,722,1196,791,1142,807,2245,691,1566,1204,677,1067,1370,1361,1839,1290,818,1745,984,857,794,799,978,963,1371,632,2246,919,861,1084,1266,945,1452,1670,2183,869,710,2037,1091,1484,1222,1520,820,900,631,1862,923,1041,835,1449,608,1160,1429,1871,738,758,1970,852,979,1496,2155,1213,2251,1356,1539,744,715,2114,1048,1404,853,980,1606,727,801,1186,1805,653,980,800,2065,1909,1498,944,761,1684,1472,690,1065,1258,668,795,1106,737,1388,792,994,1590,1431,1737,1010,713,1314,2083,1120,1745,1185,711,692,1632,2003,1424,1837,1587,1265,1748,737,793,1519,739,729,956,1505,1065,2560,971,964,2002,1911,1753,1396,926,1004,985,766,2382,750,1133,1100,1095,829,589,324,855,2310,1719,1059,1472,1699,999,1060,730,1437,1681,508,1347,1036,986,874,980,1657,1039,1341,1393,678,2388,899,845,1067,1846,1820,2158,973,650,1964,724,762,764,1150,750,1685,2429,1233,674,724,1722,1685,1118,2190,723,1894,647,1080,1646,1428,835,682,1759,1400,2651,961,825,1903,795,1465,706,962,1175,828,857,1033,906,843,1391,1100,1118,1050,760,1332,2319,2179,1150,1650,1095,948,1999,1046,1998,904,1888,1684,714,915,809,2071,687,2539,1405,1889,1345,2072,1046,1082,1618,900,935,1056,2539,2509,545,717,1852,879,824,702,2130,1485,1016,2045,1157,1399,1602,575,2297,1853,2031,2429,694,569,727,1950,980,838,1347,752,1249,1739,1894,1017,806,722,2134,1230,754,1001,630,979,979,1797,657,2156,1019,2322,657,760,1325,992,2053,1073,750,888,961,1282,1648,2135,2178,916,1054,1478,696,639,1134,1203,757,1658,724,642,726,1823,839,1174,2382,1050,1754,705,1124,1937,1937,1303,783,1063,1344,729,1474,1460,1078,700,1626,743,737,1402,1598,840,2384,1756,962,876,985,1356,1581,1065,1581,867,1196,1082,1256,831,809,945,1075,1213,2035,869,2199,723,1555,663,1325,1629,1520,2422,1813,1495,1124,743,1930,1605,978,1687,1383,703,1673,1637,705,1041,937,1805,2494,1168,974,951,1868,838,1282,1295,2097,2468,1251,591,995,1105,2237,877,777,824,2204,2203,1491,1230,876,1127,807,1730,1071,833,2391,1898,888,1278,2056,765,586,680,955,1707,993,966,1435,2247,1860,748,1076,740,819,1766,350,2128,1082,1850,1461,671,1896,1104,746,1255,1908,827,751,1185,910,748,796,763,1653,1250,1828,2253,2234,2509,1212,2503,2103,716,1093,1753,605,2573,2339,1223,1028,751,1090,932,1250,1082,838,1239,1506,957,1934,963,2279,1530,1063,1225,1272,2248,1793,1372,677,1152,636,1963,675,1267,1579,2188,1574,653,900,1214,1128,2513,1166,834,1114,1867,804,2361,1048,1488,1584,865,661,1250,2112,1200,687,2373,1772,2587,822,1143,805,2596,2084,661,1103,516,635,721,859,1736,867,1822,750,1812,810,708,1184,2031,829,2180,845,846,1939,1619,1044,611,1597,888,712,724,729,1062,1576,1958,1898,1025,1296,1447,2408,1878,768,1661,1936,855,1296,809,604,1169,917,1005,699,2778,1809,2468,1024,1125,1279,927,878,750,884,2342,1233,1297,1188,865,819,1761,1275,1616,990,1329,855,913,1578,1588,1609,1499,907,2929,647,1602,2101,1674,1516,766,1832,774,1005,929,708,1932,2241,1392,2394,1044,1150,1258,1994,799,1114,2232,996,969,868,2187,1078,935,2495,1255,1668,853,935,1045,2094,1862,887,905,1613,2123,652,906,551,832,1584,1199,2081,1346,742,922,954,1011,1330,1161,857,1895,2165,829,1720,1749,917,1605,1755,1059,709,1789,1585,1006,731,1778,762,1774,1111,1543,1762,1513,1864,1430,648,1063,1846,2311,806,899,1300,1073,2309,877,736,601,1924,2501,726,1086,916,2357,2548,1509,701,770,1057,1261,668,1230,1059,1585,1607,902,891,1965,690,2186,859,997,663,1701,574,774,779,748,2288,816,709,515,885,784,959,1413,2089,706,593,654,2076,2353,704,647,988,1826,1842,1161,888,2298,1032,885,578,1662,844,700,955,1522,1465,1031,1110,1701,1714,1691,992,647,1053,921,1883,651,1873,655,1019,1212,728,1006,2019,881,710,743,632,1078,825,709,645,631,980,1149,1406,2342,647,2132,983,837,1307,1742,1224,1875,741,927,981,1450,1172,879,1158,1936,1897,834,2208,1281,1953,2053,884,1831,892,1111,1353,1800,1996,1536,1143,1061,2351,1390,801,1246,1060,689,1083,1641,1238,796,673,2479,996,1857,1358,2269,551,672,1296,1073,1142,1851,1943,1005,2103,1564,945,772,2206,1173,727,2175,1267,1376,700,880,1257,1109,843,887,1911,1308,2190,2280,733,1125,553,1306,783,711,1756,1789,1161,1363,735,740,906,1179,1240,1452,2167,2163,928,1384,2240,851,904,1639,855,1188,1329,1787,1851,943,860,772,869,1930,1769,970,2475,784,935,771,1108,973,1400,1147,1852,2116,1090,2535,1329,729,1918,678,1294,1233,678,1886,754,1694,844,1929,861,1553,2138,931,741,1203,1252,1436,776,1591,1041,897,608,694,1128,886,1488,1828,1816,1176,1935,663,752,721,682,1753,1323,1404,1534,688,1413,971,1295,1182,1715,1743,892,608,850,686,1948,1888,1707,1309,2528,1097,1153,2693,2267,2058,2664,1259,1861,763,1087,1696,2088,661,1924,1468,1799,888,959,1404,912,702,993,865,1658,890,669,1651,2068,2362,1824,589,604,2151,2344,696,1414,872,879,1293,767,764,338,1670,1426,1589,737,1632,642,1299,1424,1404,781,1342,949,1221,1846,1965,699,2117,1594,831,1126,1123,1100,986,1766,2083,1234,1158,2107,1157,960,1106,1342,674,2235,2533,821,2696,1866,933,1210,1069,851,819,1102,2484,2079,843,601,2553,1155,1120,705,2037,792,755,798,697,962,2117,731,1061,1024,1487,651,999,1545,1686,891,1316,1133,2386,717,2039,1581,2400,1011,2038,1487,1206,804,1685,735,706,1227,1908,1288,1266,916,683,1139,1002,906,994,745,614,795,1246,1444,580,968,759,909,1257,955,956,1293,1065,716,792,1357,1579,1192,676,753,786,805,1148,729,1029,1215,1057,1570,2629,781,825,788,1059,640,1272,1043,1858,831,834,1051,1372,2000,2168,1407,1135,1180,1249,809,1351,1269,898,1918,904,1691,1319,901,1565,1385,916,721,965,1047,688,834,798,1414,1093,2128,650,2067,716,1315,939,1888,779,2238,1131,883,602,1672,580,1226,1014,1649,913,1553,950,896,1017,674,1001,1161,700,1251,1244,2002,2451,729,1150,1766,796,1167,979,1826,668,1763,2046,1329,1123,1836,1979,1385,1508,1426,1895,649,2313,883,2018,1642,1608,1941,1411,850,1021,977,1495,1565,853,966,1261,1309,943,1925,2391,2574,1377,2045,1736,1039,783,894,2263,888,1857,1975,1265,647,1070,1453,783,2112,1029,2410,742,1064,857,738,1770,872,1770,712,1354,1276,1252,822,1769,1032,2286,1511,1299,832,707,2016,1361,896,2398,664,563,1111,1807,885,1022,1988,778,1261,1811,1301,1457,868,1618,843,1535,577,1660,1327,848,772,2256,839,1737,1159,1253,2546,1476,2014,982,666,1584,2091,842,961,1222,1695,817,2232,1049,2272,1178,960,1816,732,924,808,1128,980,2613,903,1226,745,1183,821,1291,825,919,657,1683,1021,1532,1934,1072,1132,1174,2071,562,1154,609,1335,730,1932,1855,1789,1335,1384,1448,928,1322,908,1635,1105,2290,906,872,1245,1036,693,1027,1124,1193,1182,1556,1607,2165,1135,950,690,683,654,1184,2229,1306,1462,1804,805,1703,1808,1214,641,871,1430,1224,1852,873,1996,1990,1361,1442,1515,1306,799,2445,922,743,1404,1195,890,1320,2265,974,2058,1680,1383,585,1066,1357,2261,1059,880,2058,970,609,1035,748,1246,2272,1132,1289,2367,1177,1077,1121,1146,1635,741,1373,869,1072,1566,1680,652,1191,802,864,787,831,1657,731,1060,1349,1886,791,1522,905,760,1045,1061,1068,2040,1886,1943,664,738,1985,876,2103,2602,2103,1097,1069,1368,445,1933,890,1218,1771,1800,988,2606,1629,2237,753,1279,987,1984,1542,941,748,753,1560,1253,1099,1984,742,1284,2465,1354,824,1265,1673,870,1953,700,1264,1802,1381,1272,1128,1085,1411,783,711,1966,1071,1772,1890,1478,2817,783,1954,1028,712,1624,2600,1320,675,687,925,1184,1145,1619,2732,895,673,677,1008,1995,779,1008,1584,2475,2167,823,2041,794,964,619,817,912,1812,1107,756,1057,1692,1755,1431,622,2277,2033,1036,819,994,865,661,716,1468,1822,1128,1022,2104,1616,1456,2132,1044,1277,1966,665,1488,2489,2071,1191,2362,539,1461,1925,1013,694,1141,785,1083,886,1548,1013,1277,678,700,957,1090,1519,1397,628,788,1386,1322,793,2357,1240,1445,1241,771,2280,804,966,964,650,2445,1264,1209,1388,1333,2423,1566,2434,1650,737,1067,1330,646,2457,849,1156,1777,923,1321,882,1246,1588,1773,663,867,1684,1376,1167,472,1289,725,683,932,1115,723,1453,1216,1738,2077,713,844,524,1790,2016,1152,482,1229,1049,1327,1542,1667,994,772,1446,1169,969,1653,754,1173,2549,688,916,857,677,1037,2494,792,1469,1692,843,817,1237,900,1548,683,762,2100,781,854,1883,942,709,2048,1188,1405,860,1310,1108,782,1151,2008,727,1060,755,2206,2216,2261,1886,1036,1259,2302,1775,1206,673,1643,1029,1349,1600,2076,1076,2353,1893,2191,2045,1359,698,1905,2367,2021,956,941,1037,753,861,2609,782,1103,1096,1569,1164,535,990,1434,1415,768,1034,1106,1110,1417,2141,2052,1356,921,893,1594,2448,903,1203,1020,1343,900,839,675,976,989,658,1184,2306,920,1036,771,2387,1357,1672,865,2035,763,1595,1036,2028,745,1486,694,2072,1353,929,1959,1131,1471,2090,2013,836,1817,996,1514,706,704,740,755,755,1339,960,970,1989,541,792,984,1726,1295,1201,2079,1104,1246,1772,2318,1772,1446,2367,916,1796,2419,1086,974,1703,1289,1085,755,2274,2709,894,727,1550,839,2041,1312,701,1097,1790,1167,1658,1503,1116,791,1306,1111,1029,1242,899,1131,1241,1568,914,993,1272,2216,2546,946,2576,813,1894,1338,1111,1180,936,1875,2073,1026,1811,1262,1968,759,1228,1093,826,1467,1637,825,859,991,1254,924,677,989,938,1260,2113,2217,725,2342,727,921,2525,378,813,637,1134,785,824,1197,1402,1484,922,922,2451,1746,962,874,1156,774,991,1366,1379,821,1644,704,1016,943,666,2153,1123,1549,883,1039,1984,2574,704,639,2273,1923,1235,2240,941,2211,702,1104,936,1518,735,1095,976,663,1037,1825,769,741,2089,1602,1981,595,1292,1049,767,668,1451,2036,663,993,1561,2084,944,1005,1374,1348,1168,1511,1699,703,1068,1485,707,1324,606,926,713,859,2151,570,780,871,842,877,1213,1680,1270,975,1190,973,1985,1382,831,1020,1176,2402,1468,904,717,1308,970,983,980,1205,1244,1685,1089,615,840,1192,472,1033,863,845,2280,885,1142,864,854,675,777,1337,1056,701,1212,806,1918,2161,1745,1663,1061,1789,929,899,1032,913,726,1023,2218,1354,552,622,1216,733,1457,1375,1873,969,1314,741,1612,2043,738,840,699,985,768,1222,954,1198,1136,1308,782,1929,688,1970,947,933,2159,2064,1223,928,1030,1106,1156,1072,1600,703,1266,2493,741,2101,585,1854,1094,1378,2080,1158,1162,1664,1862,2033,1156,2391,1330,1607,747,2079,1080,854,936,1552,815,1174,1002,789,857,979,1962,775,964,827,882,750,891,1159,1335,785,1117,834,1566,759,848,899,875,722,1494,1021,693,950,1092,678,2269,756,869,665,968,898,1093,807,1065,2258,2460,881,817,926,1987,767,1487,582,770,1976,871,1704,1580,1079,1092,900,872,1303,1242,1096,1816,974,823,996,1980,1081,788,1517,2303,1133,1279,1862,819,1162,1089,1064,1886,892,2346,1125,824,771,2008,941,2062,732,731,914,1876,1364,1064,1031,1200,1244,776,1339,886,1065,2298,981,1669,1081,901,1452,1382,718,670,678,1265,859,733,2126,2137,1675,871,1006,758,1898,1149,700,757,759,1214,778,1530,1152,731,1225,940,1619,803,2017,535,1786,1689,1478,1511,891,996,787,1001,1480,1266,1825,628,1196,1425,776,489,1051,1085,1773,1440,720,1041,1297,914,606,888,1020,1217,567,2105,2211,2035,721,883,1241,774,1320,825,2435,1347,871,2091,1545,1681,1910,740,1262,892,1319,1921,870,1612,1338,931,1788,1607,938,1181,808,703,1905,688,1753,2372,705,883,834,1164,1160,1578,820,1569,889,1459,1348,1129,2050,981,710,1622,1071,2054,1726,1799,1284,1312,654,2160,1221,1095,1088,427,2139,1749,1350,939,2173,1450,883,1108,1958,1584,598,753,1100,1864,1932,1974,1994,841,1536,2797,1605,911,782,1404,907,690,1256,1862,739,2283,1528,1627,794,1687,1709,2294,1988,717,1130,958,2288,681,1134,649,1429,2167,711,1093,777,622,2199,778,1610,864,726,1701,1171,843,1144,1391,2345,1560,2530,1273,686,1039,1498,1385,745,1153,1028,960,763,1151,735,682,714,1302,669,731,885,663,1090,1011,1315,1127,989,953,1206,1898,1092,1503,1130,817,765,2077,706,2036,1093,1549,826,1179,1301,877,1304,1687,1243,2031,1123,2377,723,643,650,1185,1524,983,713,476,704,1826,1251,1658,807,648,1047,848,1940,1445,1235,696,2245,817,1488,825,1811,1115,2270,2178,1650,1075,734,1205,1503,1331,1020,644,750,1002,1175,932,1322,1366,1299,884,2566,1540,414,734,768,1178,1829,774,833,869,1162,881,1435,1882,1812,1733,711,789,988,1897,1814,1366,721,2217,1625,2131,1664,1418,1258,901,1602,1599,767,1609,798,944,1016,1074,1022,651,796,1385,626,674,983,767,737,2021,1610,1067,1054,2289,724,2183,893,1786,1041,1267,919,1774,756,755,1324,746,2550,792,630,737,830,1942,1002,1862,602,702,1150,895,790,1013,1553,2034,762,1634,1202,681,625,1299,962,643,873,1155,1915,1197,1131,1961,1384,757,648,601,1545,1476,1139,1385,1435,1250,2214,1030,987,633,670,1307,1030,2663,850,1523,683,1046,721,1301,1936,1850,2477,999,1291,1275,1417,1532,1331,1539,917,2027,1813,933,826,1768,694,1612,1748,953,1508,2124,1404,1702,2543,2119,1816,1698,1191,959,1172,1675,841,873,700,1380,743,1172,1321,2333,1258,955,1118,812,1611,773,1972,1085,2041,1769,1484,1109,592,1916,1288,676,1026,1542,807,680,1105,1093,799,1205,741,1137,2171,2435,708,673,805,903,1742,2415,692,1974,627,1550,845,1232,827,1730,1066,829,1968,2273,1754,1624,1611,1962,732,864,881,1081,1724,1242,2327,1292,1889,885,1365,2231,1713,761,737,1433,791,755,1030,1031,758,2163,1798,1714,617,1116,1976,2334,1016,2066,1983,930,1065,702,582,718,2360,2070,1012,962,868,759,2303,1276,1243,1990,805,1702,2051,1813,2173,881,869,890,956,1590,944,1456,2282,1730,1081,1266,1444,1490,2101,2056,871,2227,639,1889,1603,770,1290,820,2096,784,2234,2265,1230,601,788,618,1867,1480,1628,625,2201,1910,1200,808,737,1085,895,1025,925,817,1040,1358,989,988,891,1250,913,1993,1007,1005,771,1305,1517,719,1485,835,2648,633,848,770,1014,1053,1259,1204,1256,1802,1721,950,889,1346,1672,1582,899,626,1587,777,1354,739,1423,1916,406,957,705,699,1629,1365,1806,757,801,1984,1853,734,1506,1029,1224,1809,885,1009,2073,839,888,1018,2174,2125,1218,674,1610,840,1101,625,716,679,863,2064,2214,727,1158,1857,849,2086,1317,994,511,634,518,1748,1219,2283,1972,750,1617,1391,808,2158,767,730,1266,1802,1863,1246,1678,653,2254,803,1514,1574,1509,1182,1947,838,1150,1025,1558,2136,2035,764,2107,769,1537,1090,892,1084,1410,791,835,1248,909,725,1717,1794,1273,884,1722,1122,507,1585,704,975,1526,724,743,1255,2501,1139,2262,2331,1063,1347,647,675,1418,844,1968,909,1646,724,2148,1970,1754,886,1304,748,794,802,699,1476,1544,756,1231,671,944,1125,898,781,1425,951,1348,1465,806,1024,1378,1051,837,677,1090,1538,604,1393,1444,806,2562,688,1595,1296,681,799,856,836,953,1268,634,1664,716,1874,637,696,1515,864,1024,790,1670,1009,737,1789,620,1405,1285,757,2096,1525,757,1223,1057,1225,979,862,788,764,1013,553,1525,1688,2162,2336,704,1364,1707,1024,1961,2745,1954,1331,2429,598,850,1799,1422,1295,1035,714,2084,1532,753,1675,810,1055,980,862,2048,697,576,857,2159,807,650,2222,1537,734,1419,2331,621,2586,1453,2270,998,897,1752,1878,1716,922,2019,775,383,838,688,1449,1676,1372,1314,689,1569,1069,1690,654,1382,1416,1344,760,1505,893,726,2428,1686,1589,1030,939,869,2623,2394,1144,1426,715,803,1442,1512,995,954,2163,826,832,823,887,1016,2376,1034,1296,1178,1871,1307,1997,631,1989,1541,1098,780,973,1352,768,1130,1677,752,1226,2197,904,2137,2276,1345,1208,2386,1419,1816,1810,1893,1532,1080,830,766,1047,1868,756,608,1208,1149,674,970,1660,1960,1739,1516,1471,1535,1758,599,1086,970,2739,707,1583,965,1393,1113,1093,2070,2565,2074,2240,728,1905,1418,2191,623,881,764,897,856,2408,1534,1366,916,857,1037,1947,1323,919,659,1373,1191,2564,2358,1164,685,1266,597,807,955,1967,951,680,851,1931,2311,1073,1386,1544,1062,1460,1771,613,746,747,1163,1007,850,1978,2465,1095,1625,1979,1864,994,946,872,1544,675,635,647,707,1402,699,800,2603,1051,704,886,2220,1096,979,1645,1315,975,1993,805,1341,964,685,692,2088,2321,941,1993,1191,2300,847,2366,797,1328,743,1534,1142,1086,678,667,1947,2018,618,1142,833,2356,701,796,942,1645,758,1096,1587,1504,1652,811,1550,823,1747,626,898,1712,823,772,1367,1796,950,1306,1868,1337,1727,986,698,801,1866,1937,690,868,2525,980,793,1092,613,1240,1627,1365,925,2437,1089,861,2350,581,882,1066,752,811,896,784,1676,1498,1175,1575,1367,982,1948,910,2315,1379,741,2155,1467,1303,1730,754,1626,1359,992,794,1437,2159,2701,1316,1294,1648,950,1744,1346,887,1081,2510,688,1550,1017,1201,1751,1253,764,2517,1485,926,1329,1436,1293,1474,870,1291,1045,1013,1219,1064,976,838,709,1895,1316,843,754,1906,1163,2461,1028,920,1675,1792,1561,827,938,825,1614,1085,975,796,1061,772,607,1510,2322,1046,1548,1429,686,1953,1820,1096,699,2385,2530,2470,626,2071,868,1946,1315,1935,1153,916,819,1764,1360,1435,1516,902,1517,1225,757,1637,1173,1208,683,1301,2013,2035,1266,666,2500,1815,1499,1585,1641,668,1646,1906,809,1189,1149,1374,1999,772,1955,1442,2240,669,831,622,1534,2133,2383,1531,839,1099,602,1565,1299,830,767,2042,649,1010,974,1179,2028,2079,969,1679,2084,1145,1114,850,1592,1392,782,820,865,710,745,1217,1106,776,2387,1325,692,1544,1236,951,1231,1629,2269,1197,1216,721,1003,714,1390,723,551,1293,932,539,421,781,1560,1605,937,2107,786,836,449,850,751,1490,2230,2047,1934,1358,1402,1080,2085,2338,1993,1603,764,618,828,930,1740,824,826,1539,1620,866,1113,1000,794,900,2035,652,987,2148,959,673,1608,1135,1369,941,2490,739,857,1211,1712,622,672,2350,684,1760,1452,814,1633,1587,1143,1144,776,1231,1578,1414,940,844,2164,2324,1117,785,844,793,1560,643,1016,1426,724,788,1401,1671,1551,1412,842,1737,845,1643,703,2349,880,728,897,603,837,988,650,1210,1469,735,1518,823,1571,1048,2370,2417,1513,2441,1847,2063,1890,750,1750,966,1026,2114,842,2429,1315,1247,658,1577,740,1097,958,2398,1224,1278,1336,1542,973,1892,2151,2631,662,1573,1090,1531,1607,918,2189,1178,1974,1193,1591,1858,1779,1745,1154,1377,1038,1516,622,2397,1864,1327,707,1684,1732,965,1058,1038,2249,1128,1481,892,2260,806,1040,717,1484,2482,1077,1457,2228,955,794,1052,2244,1020,1657,2453,671,779,1095,767,1646,1022,1982,1379,2449,2146,813,1740,1124,1028,704,1061,1880,1427,799,836,2233,1105,1763,1061,1179,933,1947,1024,1777,1297,1190,1184,1187,896,1651,1573,737,1177,1860,638,1236,796,721,1365,1051,1842,1384,1282,1543,771,695,720,990,1325,739,2102,1718,1686,1611,696,1486,2445,1485,2073,1783,855,621,1009,888,847,945,1346,1758,798,2591,1281,2315,685,1834,2026,1069,1171,1100,890,1270,2189,1711,1768,1145,2023,2245,1874,805,2410,1306,1028,868,711,2296,2760,1342,866,2002,793,854,721,916,1851,852,1087,1318,1213,1048,1544,2182,2169,2384,1802,1464,1871,2250,995,1606,1205,1344,1241,1284,748,2088,1100,901,809,1273,707,1014,699,1742,1082,1361,1404,1544,833,1370,1321,448,745,782,1165,796,1807,759,1436,1013,1066,1309,1308,624,1217,2278,1028,756,717,734,1399,1175,990,1267,699,1104,2250,1516,1023,1420,824,1047,971,2145,747,1048,1694,749,1190,897,1055,2358,1672,1894,871,2106,1158,615,2562,746,1349,784,1873,1566,811,2263,828,1114,1747,1162,2099,645,1172,929,898,1198,1842,1225,995,2459,1991,870,825,1797,674,970,1899,1011,1829,996,1194,1301,901,939,917,911,2100,1920,1007,1093,1448,1842,805,2084,909,1230,1879,1767,1286,886,1107,813,1061,936,1120,1455,1334,1038,836,1007,2107,1001,1130,1697,920,712,1918,1755,587,1992,2524,813,1903,795,2449,959,1263,892,493,831,2568,1209,930,762,1876,2111,2400,1952,817,767,1609,1168,799,993,1603,842,1958,683,1402,1923,936,1214,1451,372,1595,2253,1490,2736,832,803,980,700,1753,1255,2144,859,1626,1174,2343,1233,2160,1908,787,1624,1968,1391,853,693,1797,794,719,2486,951,1805,802,2449,813,765,1133,898,908,1115,642,1179,883,1290,1081,2349,612,879,1153,1225,1128,2026,698,1119,848,2641,1102,1082,774,818,1615,1194,2166,1672,840,2343,941,1567,1756,775,1757,1176,1936,1392,2151,1166,1137,1578,587,859,733,1165,741,2217,854,794,1346,845,1063,656,807,1238,1501,1406,698,937,693,730,2035,874,1226,668,677,1902,670,2061,1097,1010,730,777,1120,1143,2336,1371,678,1237,1013,638,1036,1485,665,1175,952,1510,1164,1123,995,2407,2353,955,1190,2640,1026,1105,738,2395,739,1133,2352,904,1050,871,636,1922,1155,972,1262,641,2507,684,625,979,2030,2006,811,1427,1333,1057,1842,584,904,1330,912,1361,2306,1617,1318,1090,1031,877,1279,1126,1265,1657,1128,1512,821,921,1340,1674,1243,769,1163,1155,841,1603,1311,1010,1533,1278,2299,1422,2231,2271,2386,1085,810,1027,1417,2115,919,2644,656,1124,582,1243,942,1236,1243,1255,969,1831,1146,1393,874,732,2282,638,1670,892,1027,680,877,2039,909,688,1168,1081,1468,2430,2079,1872,1762,2036,1149,1932,710,1584,1192,974,1246,856,876,729,1960,737,931,2020,1732,2370,2371,1859,878,772,625,1482,1303,1012,734,1178,1573,1086,755,1015,1270,1689,806,1032,1296,1145,900,1072,1171,1624,2273,1260,1446,1257,1940,997,865,814,1575,1081,687,2384,1278,1030,2401,2349,2218,756,916,1225,754,2523,760,1304,1397,550,936,681,624,708,683,1106,993,616,639,904,1505,1347,1088,2143,1069,784,687,796,1088,2460,1112,1497,1057,1838,1519,1534,1759,1196,1276,2338,938,1695,1511,1007,767,1611,790,769,1178,2048,2686,722,774,1338,2863,1181,786,1010,2364,666,922,395,748,1185,1006,1126,2128,1166,854,1738,2529,804,2221,718,1170,1636,1554,1383,1879,2209,1067,1046,780,859,1181,1631,970,1296,1004,992,750,1910,1141,687,1149,973,1069,1002,1106,690,1508,1096,1179,1007,956,762,887,765,904,2138,1912,630,2013,1070,846,1126,777,1307,1543,731,1699,879,616,1161,1772,1000,2044,1653,819,2160,1678,673,930,1507,997,782,722,2010,1875,918,1425,1119,1434,1079,1042,773,1798,2112,979,1128,697,2156,844,2448,1329,1591,680,2123,1162,812,755,1696,1647,777,394,905,1137,1119,1330,961,1077,1766,1970,963,1575,939,839,1235,824,1109,801,604,1587,980,831,879,840,1113,985,776,1481,889,2080,2025,1741,947,1051,867,1176,1246,734,764,1830,814,902,1496,635,940,903,586,713,918,820,1328,1005,2245,2378,1279,909,787,993,1405,1192,2035,1354,777,401,1420,1101,898,1296,1099,1906,1930,1094,1161,1718,740,983,1575,1585,830,1445,863,1247,938,806,775,2434,786,1429,1084,814,1462,1797,1225,2277,1720,2349,736,606,838,953,774,1191,1440,1660,896,1111,828,910,940,698,1776,1412,1063,966,856,549,1950,864,1025,973,1030,678,627,669,1799,1313,1786,718,659,949,960,1357,1073,1671,680,837,1714,784,2310,835,962,1338,1564,716,1981,968,1606,1871,1287,713,1573,902,2646,1014,1032,884,2102,875,898,1209,924,1066,1886,1333,750,1469,867,1503,761,868,1026,1070,768,979,767,1763,2277,614,2008,826,703,1395,1400,2081,1089,608,931,1714,1316,577,1586,1841,2357,2119,693,1266,1052,523,1630,1862,1192,1260,750,1510,565,1941,1389,814,794,1575,1431,1463,1215,701,1539,1085,1985,1761,1841,1171,2073,910,1552,580,702,1342,1066,744,781,793,2567,1912,1870,1702,1388,684,2168,2042,1662,1394,1062,997,927,1009,1727,2193,1221,2465,1625,2251,975,868,2615,811,981,1544,2306,729,1594,1475,2098,1395,905,1923,1049,1937,1152,1364,1495,653,1130,834,1048,1365,1375,1067,1357,1360,699,851,673,645,2251,1953,2266,1143,1197,999,791,1486,665,1189,1074,854,1600,797,1428,842,1216,1272,1186,1176,1234,2069,2402,1069,1544,838,1037,1429,666,763,1208,1279,943,731,804,861,1880,1772,721,2495,1552,1128,2538,930,1422,796,1202,1537,1377,1363,1284,1959,763,1499,781,1371,891,684,1460,1487,920,1506,1740,728,1046,1799,893,1610,1715,807,2190,1353,1187,1407,1473,2049,876,2200,1237,1043,1806,1324,1145,2135,1770,721,2331,1716,1063,1673,679,1484,1341,1446,1119,1698,1945,791,1397,1585,2084,1509,826,916,964,1255,1590,1126,848,1906,1137,1291,959,2013,1794,2832,722,1166,1877,1359,1894,1175,1883,756,1701,1054,855,810,754,712,1456,997,1198,1300,882,819,2425,1565,1420,705,1187,1386,1958,1265,417,861,679,1218,914,862,1250,1902,662,2222,856,803,2230,765,1220,1450,1251,711,1081,676,2017,2236,1985,1014,859,1031,785,1389,927,1316,984,1546,1021,753,1268,1380,1283,2400,1175,1364,1394,662,1572,803,1672,1085,1806,715,1036,779,707,1644,1092,863,725,606,621,771,1392,1049,1014,2373,593,2184,1540,1440,889,1426,718,1014,1678,1438,862,1977,898,1105,2585,712,2160,1297,1192,1540,2193,1033,2018,342,2678,1825,766,1411,1393,1849,1888,575,2062,744,720,702,2509,1531,812,751,1082,1641,1564,1620,1282,897,1090,1124,1912,906,1488,1012,717,1052,1373,930,2065,925,1058,1196,746,752,1624,1002,1482,1188,2352,1084,1435,712,1079,864,1081,1102,958,856,574,2181,2961,1624,702,610,924,1371,2228,985,1730,2555,1719,1627,1755,1648,756,1345,2529,2061,2140,595,794,1878,1337,778,903,1356,450,1602,925,840,1628,1268,773,2263,1073,639,1408,893,863,854,930,1471,1750,732,746,753,560,1656,1779,2408,1870,829,1261,1066,1914,2472,1374,758,729,1136,2261,2404,1970,1696,1126,1896,714,1399,1402,829,2490,738,1608,2228,652,2044,1887,1650,2094,1604,561,1732,1066,2095,798,2151,856,1182,862,2507,1294,2472,706,1723,1760,2445,853,1162,1441,2336,1222,645,850,826,1088,632,973,1174,813,1524,936,669,842,1492,965,1203,1558,1092,645,706,1280,2197,627,963,1470,841,698,1234,1396,1050,1588,1334,1108,2406,791,1664,880,2446,1003,2196,1024,1625,778,1549,1215,888,1811,724,2165,1540,747,635,2252,598,729,1909,1312,765,1641,2109,1132,1992,968,1291,2298,783,1064,1434,1506,1179,880,822,1099,888,1130,1235,1085,1517,2267,861,927,1921,1859,833,1988,721,2066,2254,804,712,2374,852,911,1471,1283,1377,1587,994,1617,1318,1492,739,1343,1533,1550,2878,2230,1538,594,746,1094,1102,2132,931,1310,725,1443,809,1200,1554,2327,1798,788,1658,850,2754,1812,1419,1631,2292,1004,2062,1563,711,2330,1625,696,1176,1237,884,2417,1109,829,1746,674,1273,1198,1971,825,1926,886,2035,917,1477,782,835,717,2254,1515,1061,863,1577,1495,1625,2404,1134,1229,1184,1618,913,1589,1194,1396,699,1585,975,1242,1742,868,675,747,1835,1942,1570,652,697,844,690,1522,827,911,1057,1328,1160,1136,1404,770,794,1022,1893,743,813,1020,2579,766,764,1179,2376,967,2306,2481,1785,761,952,1452,1992,1412,902,1230,714,1133,1278,2254,1613,663,1450,1004,1249,653,648,686,707,730,1752,1123,2194,1424,1239,880,1606,1358,1519,697,782,871,1409,974,1468,2461,819,1057,2677,1022,2505,1378,1142,778,1098,2363,1068,692,2750,1013,967,660,724,2234,1179,2469,1310,2233,2359,2221,1917,1521,1610,602,2294,690,1413,503,1695,2283,587,926,2088,1475,2212,1437,671,815,842,1400,1356,708,770,946,1822,556,814,1334,959,1432,2391,1861,766,2413,743,1371,2534,2156,1181,768,2069,1169,1714,782,965,1819,1778,1379,632,1388,778,832,1898,620,1181,1386,1584,1914,841,1792,2500,1880,791,1125,821,824,722,1323,747,838,1396,748,776,1118,1414,2214,2368,1638,894,1877,1739,808,593,1264,1482,857,1137,2433,1788,1811,799,1342,2336,1335,2428,679,826,1549,1238,1545,2143,907,881,1198,1533,841,1673,778,1214,1867,1905,1331,1252,1282,679,1741,962,962,1773,1498,911,719,1049,898,1598,688,1379,1522,828,1406,1143,1328,1877,644,612,1518,1602,744,784,1775,2070,1878,1872,842,692,691,793,1778,927,821,2486,2130,1306,1738,1914,2483,1127,1277,1563,796,2269,1995,1274,1191,793,749,908,1761,1076,1411,1396,891,1035,920,1833,1507,796,738,944,1122,1499,718,1099,555,747,754,551,947,2353,2046,796,1996,1612,1403,1200,714,797,1814,2292,1319,857,874,2193,1465,1689,706,529,1240,1926,613,925,1227,1145,1458,2067,2381,827,928,1086,739,901,1118,991,830,879,1836,1660,1265,1182,2141,1773,708,2045,1504,1445,1108,992,1094,1133,1821,1529,1571,2461,1040,1032,945,846,740,785,1432,1056,917,884,1801,1928,776,1385,829,1036,1282,591,2615,775,984,654,630,1314,1248,1516,2165,1427,1549,1886,1173,1534,746,916,933,1527,1317,1147,837,2176,863,1817,1335,1609,2290,897,1154,1232,914,1608,1957,1558,714,1386,2414,1168,1691,693,1516,1738,1557,1269,1431,870,892,1695,2280,1005,842,1796,1442,2280,1773,1415,1311,1241,1592,982,1945,1752,1412,994,861,2274,1427,829,644,1955,1127,1041,1015,1446,802,830,999,1556,1383,952,763,650,1065,1564,804,718,927,1485,2419,1355,1616,1596,1148,2010,885,1470,649,457,850,1020,1552,1516,1277,671,946,766,1033,1810,906,1175,693,692,709,1544,2375,679,1151,960,1099,1400,1115,2155,943,1687,958,856,1341,1203,964,1621,749,1532,978,851,1314,1260,1224,886,850,939,827,1080,2134,1492,963,624,858,645,1204,1108,802,913,692,1320,1119,2248,1104,2176,664,2047,1042,1388,1204,998,1209,936,738,707,1867,890,2179,1402,796,2621,923,1484,1260,1158,1070,1455,1996,2264,875,810,2078,956,1138,797,1888,786,1251,1924,723,1633,1121,892,903,795,2077,1672,1735,1834,1762,1143,2137,993,1511,1214,643,1138,1405,2198,1741,769,733,2330,2162,1171,2333,1163,1642,1628,2099,992,782,1368,1168,1756,792,2429,1051,1261,1541,936,1563,609,1051,740,827,599,890,756,1560,2269,1842,1408,720,818,1951,1117,737,1627,2008,2162,1645,2124,1585,2039,812,624,717,1923,1792,1154,2566,1301,2473,788,752,1128,1588,1002,749,1037,907,962,901,1367,1648,2471,751,1385,1215,2216,1164,1134,1831,772,1551,955,971,270,829,2342,1448,726,730,922,1373,1197,1245,1849,911,947,1461,854,865,1204,1768,1255,1285,1002,855,903,754,793,2186,991,2630,693,1518,749,850,747,1006,1166,809,2140,977,1771,1795,1807,2126,983,1296,2674,1191,1181,1438,515,1569,2285,2290,1857,2268,792,2317,1568,2016,1173,1293,1164,988,1333,929,1235,427,1788,720,966,1308,887,808,666,948,1159,2009,2018,648,1020,1391,1026,858,1482,704,1054,660,2365,1615,1132,805,1956,1481,1335,1930,865,2939,779,747,2496,658,1198,1341,2833,1255,1276,2373,794,1926,1319,1558,828,1393,1504,907,1414,615,633,782,2055,717,1039,1240,2116,1425,783,2233,1378,744,712,1567,1460,905,1367,2078,1594,1204,1323,1515,764,1227,1557,689,2210,609,1135,1319,1310,1201,828,1018,1561,615,680,915,1661,2639,1800,1869,1452,2019,2570,768,1809,2087,1396,1932,951,732,690,869,1260,2181,851,1970,1015,2778,894,943,1698,1738,1761,974,2595,919,790,1549,766,943,843,1984,779,2072,2141,690,1225,1533,1309,1185,916,1031,1542,903,820,1259,1793,865,717,1172,864,1687,833,678,683,675,764,1688,2094,1505,1876,1772,1423,1294,2461,925,1020,1290,1454,845,1740,1304,901,916,1852,2632,730,2329,587,923,1998,778,1010,1119,1775,1208,896,701,1482,805,2309,796,731,1546,1392,371,728,1663,1467,965,1424,1395,784,1108,1303,920,1846,1438,887,2661,687,2014,754,710,1083,1042,1154,1887,717,742,2265,1832,1432,2107,762,1878,1564,1588,771,1865,1110,640,2261,846,767,1152,2117,1644,1660,1226,1222,1198,1555,933,763,2093,1396,839,997,1136,848,1510,1725,1533,1208,1850,1133,526,1201,692,960,710,737,2121,758,952,738,667,1145,1032,1885,1113,1100,1146,866,809,1069,1636,637,2041,690,1042,1246,1628,1069,1206,656,1141,1678,673,1163,2003,2143,668,809,789,994,1731,1293,754,1124,1000,2101,745,1740,1140,548,1452,706,1501,1722,695,1119,742,2255,719,941,1218,675,2108,663,2312,649,722,890,923,920,649,1305,1112,1340,718,1151,2027,588,1441,789,2139,1021,1381,900,1682,1257,2025,1210,836,1097,1646,739,759,1652,1191,842,1317,639,2478,1419,1204,798,1074,883,783,1004,1448,761,2743,880,1203,775,2464,1697,2463,715,1970,1051,967,1199,1287,986,674,2103,2546,995,1669,1705,1063,560,936,2854,788,1319,1698,2000,826,733,868,1331,977,2227,999,1803,1041,1246,1172,1132,2400,1387,1559,789,824,572,1339,1106,707,1691,1396,2360,1544,1334,1045,902,988,713,935,903,835,2778,1766,840,2413,1743,994,1331,980,2101,1347,793,1151,821,1054,1463,1345,2242,954,806,1216,839,2223,638,719,2055,896,1807,1007,1010,1339,1805,971,1348,1510,1525,536,1978,2155,2186,629,1303,1022,1224,767,1874,951,1052,1528,884,1289,1915,736,1561,1348,1336,908,781,1136,1800,1692,777,842,1273,1419,1972,663,1161,732,1778,1740,1665,908,710,1000,939,2195,1767,927,805,2535,1395,1136,990,1302,983,2032,1006,1916,645,2438,938,548,1232,1479,1489,1285,1644,1497,899,2102,1006,1276,909,989,1407,720,737,809,703,1723,2378,2215,667,710,2274,670,1570,1235,1827,976,1489,910,2543,723,2438,892,1824,705,2543,2176,803,884,1551,817,1844,776,888,780,512,1174,2048,805,764,833,2163,2198,2030,1373,1281,712,2013,669,1384,1698,1715,2257,833,1496,1201,722,1266,1578,1270,2556,957,1609,826,607,950,742,1198,1160,1156,923,698,2524,638,1452,1828,1427,882,1200,1929,803,1123,1710,1534,1358,965,682,966,962,2709,2653,2867,680,817,1584,671,848,1457,1354,683,2196,1191,1884,1416,728,2195,910,1009,2424,1586,2305,726,992,695,1485,520,711,724,1333,2320,1305,1740,1456,747,1038,1041,830,961,1000,642,1979,590,1029,819,1077,1302,2210,1246,1016,741,765,961,1445,1900,1397,2625,745,1968,306,585,612,1162,1364,1367,1086,1369,1020,1682,1473,1827,983,1983,1378,872,976,794,844,952,1532,1076,1618,738,1134,2028,1829,1580,818,856,1818,687,2440,2004,1020,1653,1590,585,1055,913,1958,898,1326,1045,529,1752,1184,1731,1632,1563,873,1567,1289,1080,797,2306,1064,1310,2165,1833,1233,1447,664,1693,863,755,780,1829,1905,1695,1269,1065,1504,805,834,685,600,1438,2246,2510,1555,854,816,877,1102,1771,825,1042,2143,2217,1555,1161,1494,732,1528,1192,710,620,968,1262,824,837,972,800,617,870,2165,1771,2009,772,1970,1056,878,1614,731,2262,841,1562,1398,703,702,2070,949,861,2290,2114,1098,1051,2791,1153,923,1464,1001,1155,780,1049,2015,1218,734,888,830,1865,1826,1110,1253,3055,1848,1222,1729,457,1488,948,2107,1401,2631,1820,705,735,1981,519,1056,792,1400,698,844,1052,1604,2053,915,728,2287,1141,1782,1549,997,711,911,2224,1529,1077,744,1002,1350,1345,1111,2120,630,655,1669,2776,821,1596,1261,1708,977,960,997,1904,712,1417,925,2010,1675,907,1053,761,648,958,1118,986,923,641,1498,2033,842,1682,1507,710,673,1507,1805,1508,1074,467,2054,1082,747,1858,1085,633,1636,1487,1354,2312,852,2867,740,2372,724,675,1108,1046,734,1121,748,1223,564,1611,821,801,874,1067,2306,802,1247,913,845,1943,1554,748,910,829,689,1306,743,1247,960,1740,2625,273,1110,929,2153,1127,1041,933,1304,2159,898,1406,825,997,1496,1129,1116,686,771,1825,780,1353,1558,1650,850,1211,782,1581,704,2478,1003,1830,823,1050,2167,871,718,848,1366,2171,882,1238,194,1135,1751,1078,1695,1446,2107,1105,924,1453,658,1153,885,1165,1085,2066,584,605,901,1243,1517,1136,1724,1381,1710,986,984,2353,713,2025,838,871,2088,2100,1788,2538,1333,2111,1018,1160,879,1612,901,1200,791,801,791,829,1888,824,2418,1628,744,2235,1898,2142,1280,758,1552,654,732,723,1757,2422,768,2047,1301,1528,790,1165,1989,1462,995,1711,1843,1370,1141,758,674,1121,913,831,1267,1917,839,844,508,970,1631,1219,987,1024,1968,800,1434,1148,1882,2394,1025,1052,2223,1260,758,1765,831,1560,1857,686,886,1155,1062,665,767,949,1982,646,1215,950,1021,1035,1559,767,936,787,717,1690,1727,1646,673,1640,1924,1875,1307,563,779,1394,2217,661,1542,1549,776,1554,402,707,1926,817,724,1386,1146,1998,1278,1295,1590,873,2267,2025,1858,1598,1367,956,1041,547,800,668,1056,1066,689,789,1553,1554,968,564,1277,683,1413,1765,1426,1039,1265,736,1793,1366,2000,1810,1218,1677,932,1423,726,685,669,1986,787,962,2211,780,1281,1304,688,1409,1301,931,906,1017,1326,761,1096,1826,1444,1267,1633,1019,792,1923,943,1482,2091,1105,2072,1620,811,945,987,1011,1574,2076,725,801,939,1019,2215,834,1837,676,2129,2265,1812,767,1033,643,1038,685,1538,841,1861,708,765,1318,1507,499,1510,1784,1600,2379,2015,853,864,2021,1990,1459,754,903,816,608,2127,2172,630,869,1632,707,943,2014,929,1046,1118,1475,889,1347,2304,1506,1132,2557,1307,1185,1252,905,835,1917,1591,1689,1876,1100,2025,996,1901,927,1284,967,490,891,880,1437,1233,714,775,1452,989,929,816,913,1177,1106,1134,2160,847,834,811,1096,1037,1272,1226,978,1677,1155,1362,691,898,935,1372,991,1071,2083,1777,735,989,2548,699,1242,722,649,1398,1403,1398,565,1376,777,1097,2401,1259,1120,1020,766,774,713,859,1917,1020,1732,1701,829,1154,807,809,849,2474,1228,810,2117,1331,1037,1675,689,1221,1646,750,839,1135,920,713,1068,587,641,761,2638,1893,1170,2564,687,2399,919,1612,750,1938,781,1142,738,1709,1206,1337,937,1047,1388,826,751,2314,1145,1448,1809,1796,1531,768,2591,1010,1009,1124,666,1109,709,2809,730,2022,935,1068,1893,1373,1260,978,1107,1195,2459,968,1705,716,1002,734,1594,2066,1310,575,2208,1321,1916,1570,1268,2131,1955,826,902,925,788,2377,2198,936,711,1359,2310,924,1722,1417,1990,1842,1064,1934,1016,1622,1374,728,1225,1513,2624,684,739,1623,842,1272,2654,713,986,1048,2300,1467,919,1078,1119,1964,1163,1056,1179,758,1775,1111,1971,1507,783,2573,1117,1383,736,1536,1400,760,1813,820,2114,1771,1259,775,2453,2042,1302,2132,826,2135,723,998,1004,832,1033,2140,1196,1330,1913,1728,1181,769,905,1436,1062,1234,978,1053,1126,1257,1386,1827,1937,1631,1530,1265,1204,2232,926,1241,1321,928,709,1812,1584,951,697,795,2284,1207,694,2213,1007,1272,2777,1616,933,1688,723,2043,1716,1505,1015,682,1364,1044,913,933,1099,824,1217,1688,1772,714,825,1131,606,630,924,1752,2081,765,1483,1927,1131,665,850,1243,1004,911,1191,844,993,1857,2131,586,2586,972,662,810,1020,1175,1837,772,2010,1272,1517,1958,878,1344,857,887,692,955,1414,1018,711,774,927,738,2027,959,1036,801,1540,1079,961,1455,845,957,1180,1550,782,2482,1282,1712,1583,577,949,1210,864,1253,2494,1209,1215,1892,1709,2241,769,1533,2035,1628,1121,722,831,1432,927,590,1082,2724,1241,1961,1154,1147,754,1255,1283,863,2257,999,2211,1319,1248,678,1911,2111,1104,776,1439,2375,921,965,799,708,2199,1160,1781,667,843,657,1834,1422,1180,1108,1657,784,1307,2068,1855,716,799,1065,1759,1329,1190,703,1050,649,1251,652,961,1302,1460,1088,1410,1583,1779,952,933,2790,1590,2069,1654,1862,758,714,855,1869,2484,840,2270,1031,2306,1688,797,1336,723,732,1238,986,665,1123,2134,692,1531,1652,1408,1829,1515,1051,993,738,959,823,941,736,1431,1132,1105,1337,2022,777,2590,1365,825,1217,1504,738,689,711,961,1083,1956,1476,1011,1286,877,741,755,790,1690,1556,1989,656,1101,1113,1436,2513,1946,739,1258,703,1866,1659,1467,999,1005,1321,716,1466,987,809,715,982,1033,2170,1333,743,1600,1875,708,1980,1059,802,2520,1782,1789,1157,799,2668,1044,1068,1241,851,1290,1552,944,661,1050,1499,1216,2572,1654,1543,1699,1231,709,791,1286,906,981,1732,2020,929,829,1065,1622,2093,588,651,1681,792,1196,1057,1996,1132,1633,2015,2235,826,914,2556,2569,1254,1190,923,1496,1300,1773,1066,1317,1870,1570,748,2375,734,768,856,827,2050,1950,1666,1440,795,2098,724,981,646,952,928,744,760,742,936,697,927,1077,1407,1629,1076,1119,874,862,1053,2403,1656,720,2263,1252,782,1015,619,1045,1447,1649,2460,956,1301,2208,819,1061,1223,1783,728,1882,1461,2311,1344,748,2016,1243,703,1912,974,735,2295,2309,586,874,1562,1027,913,1384,1039,1885,1451,1033,1420,1232,1251,1592,785,1282,2236,761,1629,2378,691,2110,1056,997,1221,1019,2551,2799,798,1442,1063,556,1061,788,2100,1139,1168,1865,2398,2243,2041,2073,1672,641,741,901,988,761,1125,1294,1396,698,2079,876,868,763,1762,1415,1498,1197,976,936,2085,1107,1113,1980,2402,1107,1082,874,518,1514,1241,769,954,498,1943,1443,1498,804,797,2025,839,675,464,718,1640,957,949,1419,2168,2025,836,964,1059,774,1712,1173,1838,842,899,1327,1680,981,1963,1315,607,1887,1034,1796,788,1099,1168,1754,731,1289,2184,2090,1048,833,1295,826,1133,714,1210,1327,882,955,1330,965,933,1347,997,1144,1592,1564,622,716,1608,942,2426,1555,680,746,680,1384,712,1383,1215,828,1608,2388,802,547,1346,1411,1603,1058,1486,768,899,1459,750,992,1477,1488,1123,1033,944,1132,1030,1034,789,1799,810,1928,1288,1586,1088,1031,1644,955,778,384,881,2331,757,1116,780,1517,1230,1006,1735,1611,705,1064,2187,797,1350,1772,983,1108,723,1971,957,546,2041,799,814,1297,2490,1472,649,1341,726,2161,880,1718,2370,1376,936,1505,880,748,1408,1476,597,1605,1066,2724,752,1067,1017,1138,614,1236,2035,2455,909,738,636,1626,2552,986,824,639,1356,1877,797,1391,1751,1232,1037,1630,787,682,1423,739,2664,819,1839,960,938,1019,1093,772,1003,921,1686,711,2337,782,1165,854,2166,756,1194,2538,728,896,2109,1026,711,2232,853,1615,1313,2493,1252,1884,2313,882,744,815,907,1005,2103,2046,1218,1041,2455,804,701,1045,1213,1690,1367,1304,818,1207,2245,930,638,2072,1319,724,748,1120,2062,1147,1162,1358,2074,1270,746,2145,891,694,1069,1273,1590,753,920,2005,878,946,1545,980,1537,1249,589,1291,1155,1783,686,2665,1097,1690,1133,1477,2473,1288,778,804,786,1030,693,1185,981,2195,1787,819,1530,790,919,1051,757,833,1381,2330,1689,1306,1190,1359,1387,2045,970,702,1858,660,1465,743,1895,1093,1181,1552,2066,1814,2307,970,2374,650,1764,816,542,1272,912,705,753,1388,1732,834,1033,1816,2439,1266,775,2156,1002,778,769,1412,1363,1009,2102,1389,1793,615,1484,997,1171,1091,1823,1655,780,1937,530,1939,839,1115,1001,2226,810,2392,743,910,1514,573,734,2074,1853,558,2419,2025,1169,2313,1871,681,739,1385,1049,1882,642,999,884,725,729,965,1619,719,695,808,816,1550,1993,1325,1366,1775,1450,772,992,920,859,799,1273,2057,1349,1166,791,972,1433,2063,1154,726,1446,809,2173,2131,992,2093,964,800,884,897,1324,765,1307,1085,1176,1157,1933,779,824,1174,1958,1151,746,820,1415,1079,831,735,1719,2311,882,751,2003,1701,858,1729,1400,812,1976,1651,1476,1320,747,993,956,867,1068,743,1020,1036,1014,1901,1664,780,1320,1423,2350,847,1126,1120,742,1873,855,1831,754,1166,652,1065,797,740,1011,753,1764,1321,2080,949,1252,686,1255,694,626,1885,720,755,518,1897,1307,1385,1610,740,1340,1789,1968,653,1210,1438,1295,967,787,1717,1705,675,1923,1675,2367,1186,1208,743,2067,1927,1484,839,731,1172,1115,824,733,1274,1054,1476,1041,1215,844,751,922,2249,982,1322,1129,789,767,956,1512,1121,957,1166,648,1107,1343,2242,772,1003,563,1701,868,1495,1119,1758,1311,618,800,1014,1588,1061,1218,588,1739,1299,1034,1579,1294,2698,1469,1545,730,1663,807,1084,2299,1832,604,692,2356,1125,2191,838,710,2248,2130,946,740,1504,643,1106,948,1095,1773,765,642,937,842,689,2233,1157,915,1143,1121,1355,800,935,728,1075,973,1779,1264,558,1083,1242,837,1082,1612,1025,614,2672,374,917,1736,1599,1080,1319,732,1465,1399,851,894,1958,1589,884,800,1164,879,1365,945,1630,891,989,1895,1410,1284,1839,1929,1649,1581,2027,1185,2285,708,1245,1018,1079,727,1477,629,762,1809,1854,706,901,866,1143,942,741,1751,1207,866,1633,1882,1075,795,1367,1142,619,703,1415,1421,1263,1373,1844,2212,1001,2442,833,954,2248,835,768,1142,778,1004,1187,1121,900,965,816,856,1258,1452,2194,809,1170,973,994,2458,1588,2062,1365,738,1832,1328,774,1731,1556,1271,942,698,2060,1007,1719,875,1531,768,2473,696,1502,1781,735,810,825,1519,1309,656,2540,753,2313,2166,1759,901,999,1297,803,1750,789,1524,1387,949,636,2156,1756,716,816,905,1707,1448,645,1015,658,1196,1920,749,1327,2622,1112,1718,819,857,1563,2057,710,1235,1177,1313,1252,653,1868,633,800,717,682,1085,655,2555,2034,1972,1647,1784,1088,730,815,2050,1097,924,2083,1170,835,1262,2026,704,1225,1542,1089,1610,2181,978,947,775,1196,1611,678,824,1057,2151,1035,1006,1210,2219,690,697,1675,1916,1720,1601,2475,915,617,2001,939,1182,843,2752,1468,860,1341,1325,729,1697,1412,1155,783,1164,854,2412,2344,715,670,657,693,742,1099,1159,1332,1872,795,1041,1656,2071,777,985,1649,933,1145,1681,1281,1287,1624,857,876,1014,619,827,1745,1066,946,767,2447,1891,769,1802,1712,784,1741,1618,1329,683,1222,728,1572,1530,1106,1348,1687,1541,1079,2651,623,867,1010,1138,753,1014,1321,2654,732,2558,903,1625,895,1836,1986,1967,909,1584,1966,1403,1380,793,1518,1805,1150,980,1227,839,803,727,1229,753,2083,1549,801,899,481,2015,994,924,1044,1344,625,771,1219,2187,1879,1431,2078,689,344,1761,2213,2243,1740,2301,1831,951,703,647,1928,1470,1596,1923,2224,1191,836,2125,766,1001,642,715,1289,1391,1620,1416,915,896,1033,1540,801,671,1552,1557,1494,1492,2355,651,911,1084,2252,940,2174,1129,595,1404,814,686,1322,2159,1883,618,1108,1038,628,1122,1763,2568,1535,655,546,640,2324,728,2245,667,1204,1196,1358,1301,680,1939,1223,699,761,1764,529,1156,759,2502,897,1103,2178,1719,1282,1439,1645,844,931,1204,1014,697,2237,1834,700,1355,2026,2107,1353,883,685,2084,2369,1444,886,789,849,902,907,1657,1343,845,961,746,1555,885,1291,1509,1460,1272,2342,1188,1092,1396,830,1086,1010,1366,862,2077,1219,2193,1996,1116,1520,2147,2037,991,1863,1357,748,796,1336,1854,1003,1728,1226,2250,1709,2527,882,1297,1153,1116,1260,1295,878,760,1888,1958,1337,698,974,1029,820,1167,1558,2134,678,750,1451,789,1325,2222,912,936,702,2467,851,1447,1965,698,767,1111,1205,2188,767,756,1396,889,1397,827,1079,1125,1320,609,1135,1504,784,959,1299,880,985,1329,1181,851,774,1190,1951,763,1555,1317,2053,1044,1833,981,982,1279,2245,1340,564,768,980,869,2249,2354,1761,490,1963,1461,1188,1624,815,691,1052,1361,1031,874,2706,1754,1565,1433,2692,1589,1372,1972,1303,848,1232,2410,759,2493,1263,1359,1087,1082,1098,1659,809,778,1086,1285,1024,704,1083,1247,886,1023,1641,2229,732,655,685,618,837,895,2191,1205,2128,764,964,695,1561,1971,826,774,1571,776,1166,1511,1264,1969,1453,878,650,749,775,1523,1113,1116,1511,1041,1145,764,1262,1751,2173,1996,937,1767,1090,1008,1517,1212,934,639,1507,1537,1089,2235,962,1969,1113,602,1096,1430,552,1755,1404,796,819,2178,2847,1482,1642,2306,1922,948,2413,1426,2501,734,1054,2620,840,888,2400,1705,1128,1342,2036,683,2385,1340,1074,2298,1144,1466,1252,728,714,2362,2129,963,981,2109,1140,662,1803,2101,1300,1977,2378,1764,1781,1059,1127,847,1180,1322,722,2139,889,1456,1100,1597,1243,695,1138,647,1959,950,1001,788,2603,606,1455,617,2626,1062,696,904,2598,1248,884,612,753,1233,1230,988,778,2315,1646,700,776,1537,2406,733,1621,1078,1098,1499,1387,635,2066,1761,682,668,1367,787,1496,991,1835,934,1229,709,643,700,1627,1815,901,1097,1010,700,1119,1012,1550,745,704,325,861,767,1789,2553,901,782,940,1046,2273,2148,703,1579,1494,1754,1682,2396,2507,1327,1838,842,1283,2017,1217,1469,1274,889,1626,1366,1370,1109,1483,791,1121,1780,708,1467,799,2588,911,2196,1427,1617,993,1965,776,2312,981,1768,1401,685,1067,2117,727,784,1006,1647,1993,781,2788,738,1443,981,652,867,789,1719,907,2315,2205,2240,941,1501,1442,1659,784,1929,1280,875,1393,1723,1171,1724,1353,1550,760,1138,903,1257,951,802,1433,1631,2279,731,1299,737,2024,756,1473,1082,785,749,814,1251,1271,934,735,1541,898,1035,1032,1214,1037,1504,1293,1301,1418,989,794,1641,1516,947,2204,2218,926,949,1047,1308,817,2811,688,1608,2646,939,1785,1175,1062,927,1225,1702,1130,825,938,1035,1742,774,1304,1254,1987,2453,1424,900,936,1372,1269,1223,1454,1264,1907,599,2225,1401,1338,2544,769,1840,1160,1215,776,1256,1716,771,1302,1095,1509,2501,1497,1421,1278,930,662,1440,1809,837,1489,999,832,790,2260,981,693,690,790,2465,1162,1135,894,588,1217,1459,752,1492,2067,799,721,784,1638,2533,619,1584,968,2276,719,969,870,1376,1475,844,1717,2241,854,1301,1057,1134,1326,787,1010,977,1740,2042,2107,1287,1571,1820,1001,820,1888,1107,1081,734,1109,722,689,1827,1204,869,1029,2081,1077,836,625,563,2458,1318,871,770,1308,746,1838,628,1675,1751,2426,1563,1553,2054,691,2549,808,744,745,1842,2176,593,1837,658,1469,807,1860,1510,1729,2162,1267,794,2521,1388,1470,657,1169,1842,2447,862,1388,1646,975,690,827,1422,747,708,780,662,1564,1578,982,919,754,1506,1068,1102,688,1604,1336,1101,848,735,1893,610,1295,1499,1235,2123,757,1585,924,1136,941,907,610,732,709,2253,584,1508,1425,567,1215,1814,948,1248,1680,960,1113,1961,1143,1548,847,1432,604,665,1715,1031,917,866,1096,1223,626,930,1548,958,1102,1477,1031,833,1004,1237,1246,2243,728,904,761,1057,1145,1473,1698,607,828,1764,1635,969,2508,597,1499,756,1375,1370,1771,702,1389,619,985,701,1471,1430,2099,1672,837,1500,1052,2417,1908,1037,2219,634,1956,1237,807,904,1373,791,860,1321,1354,928,664,1639,1227,858,934,894,1397,1644,807,658,1077,1217,1017,758,1833,1194,1297,1070,2177,724,668,2319,929,1427,1160,994,1210,1253,1366,750,673,853,1009,2244,1188,1139,1593,552,1631,1119,1093,1616,1328,2315,748,1302,1747,809,1419,1963,1115,1269,1450,1140,1607,695,2410,1697,1305,2042,930,1515,622,2516,2268,907,955,746,1863,1465,1904,1087,1259,847,1065,927,2113,1674,2201,809,1503,2386,1201,995,1288,1693,1903,1393,600,945,1764,694,1537,903,925,1655,1721,857,989,1301,1165,564,1918,1435,1395,1168,1481,675,914,817,1186,667,2238,1141,1425,1786,2356,810,2462,1790,620,1002,746,707,1687,1957,2290,955,735,1253,1478,1232,2239,714,1483,703,1109,1974,1379,2150,1129,1486,759,857,1577,1072,840,1444,739,1220,888,2017,2420,1986,1017,905,2368,819,943,1809,1187,1666,696,1752,1826,632,940,1122,754,830,1321,1574,872,1204,1472,1710,747,973,1330,789,1185,939,677,675,673,2351,949,1726,681,1115,1910,748,1709,1300,1449,1701,2111,1721,708,908,2068,1861,1898,685,1210,1458,2149,1202,2029,1274,847,1975,1525,1101,988,994,1355,1611,2042,2086,1435,997,1485,1423,695,669,1811,906,802,989,1011,1699,2107,1310,639,704,2524,1439,2132,1404,758,2125,1673,2405,1946,682,987,2254,857,1323,2365,1077,1408,1595,955,2537,2045,643,1163,766,1388,719,541,1377,2278,1034,2052,658,913,1255,1110,1144,2015,1147,1159,727,865,1379,1020,1514,1638,997,1428,1179,723,988,2122,1722,1761,626,886,1065,935,2510,1320,1586,2128,914,1754,1841,1337,673,928,2082,1478,677,1221,723,1855,743,1007,584,879,1143,655,817,1039,1304,2628,1154,890,686,1724,1919,2161,1982,1054,732,1262,1433,1392,704,1965,1142,892,867,689,870,890,1217,1624,2230,2447,1057,1581,659,1381,2253,1228,1881,1367,875,667,1441,1247,768,1877,1677,767,1077,1183,2288,1429,1727,1795,2427,2118,924,1050,636,1032,1123,1836,1859,1460,1832,1122,1584,2107,2400,2222,656,1248,811,1772,964,1441,2415,1181,1644,1167,1742,2163,963,885,1350,724,1114,1832,794,1740,1403,1005,1262,1402,720,1238,638,922,926,1119,1504,690,871,1437,1069,1390,925,652,1581,1176,921,1241,1942,727,705,1017,1842,1893,1077,1980,1319,2561,1927,1932,858,1453,1580,1807,2037,875,1577,933,1282,842,2347,1689,1897,872,920,683,1999,732,828,1475,860,2410,1043,1619,1301,1944,1196,553,1847,788,1158,689,1769,983,1382,864,1151,1394,1186,861,2148,2409,1244,917,1102,1260,920,1545,733,1132,566,884,777,920,2054,729,557,1358,1293,1288,2031,1302,1246,1685,845,822,2038,1424,2272,942,1254,2070,1613,704,1496,1060,1580,2622,1610,888,708,1319,1267,1465,1801,1003,1108,2391,808,1125,1448,1940,1748,1304,1193,699,1992,1561,2494,2150,1704,782,573,797,2720,883,1850,1266,1767,776,2034,838,1136,1917,846,2224,818,907,722,855,1374,1072,1215,938,1183,1944,1020,944,1964,2005,589,1191,1816,612,1127,934,976,821,1048,702,1184,759,816,938,1253,863,1896,1314,1415,558,910,587,1624,2090,975,1261,1789,937,1074,889,965,1002,1382,1942,1265,1464,717,1818,1112,573,792,2151,1830,2359,1041,1443,926,2000,1853,711,985,808,2165,863,929,2018,1493,460,597,1259],\"xaxis\":\"x\",\"yaxis\":\"y\",\"type\":\"histogram\"},{\"alignmentgroup\":\"True\",\"bingroup\":\"x\",\"hovertemplate\":\"variable=summary Length\\u003cbr\\u003evalue=%{x}\\u003cbr\\u003ecount=%{y}\\u003cextra\\u003e\\u003c\\u002fextra\\u003e\",\"legendgroup\":\"summary Length\",\"marker\":{\"color\":\"#EF553B\",\"pattern\":{\"shape\":\"\"}},\"name\":\"summary Length\",\"offsetgroup\":\"summary Length\",\"orientation\":\"v\",\"showlegend\":true,\"x\":[264,189,69,24,695,142,154,110,261,199,95,28,51,279,154,94,157,232,130,169,223,348,199,252,64,265,207,126,112,95,49,250,172,191,165,187,70,83,295,223,118,169,140,80,31,298,241,175,305,206,179,179,260,56,75,152,144,168,24,448,72,184,200,54,252,441,224,404,296,463,239,363,395,86,61,57,142,155,250,82,68,248,120,129,77,144,239,329,88,30,229,32,214,69,111,616,249,413,227,127,26,269,614,29,78,392,90,115,157,39,70,149,206,276,121,314,70,210,299,121,136,173,207,337,123,270,28,101,29,142,740,186,249,104,215,307,156,208,171,470,268,248,87,74,235,233,112,80,389,105,112,157,76,225,93,162,196,384,167,187,249,31,242,214,147,214,415,45,150,171,248,380,175,31,194,159,369,108,178,352,193,236,102,57,188,87,253,156,116,166,96,127,240,505,104,136,174,141,105,243,156,118,189,247,266,103,70,93,104,94,74,285,93,187,639,139,290,471,90,56,258,191,92,180,181,85,233,310,30,101,22,263,213,71,170,244,78,124,148,109,176,189,306,258,391,72,326,428,190,200,286,179,296,403,113,68,87,311,65,686,140,316,480,289,132,307,61,49,51,263,264,101,149,79,219,302,234,59,136,412,340,153,62,109,117,32,165,56,280,117,317,40,145,280,85,189,61,74,160,478,25,218,283,179,47,406,300,131,32,234,69,240,218,55,273,684,69,152,365,113,107,146,83,235,94,154,246,242,303,77,139,295,207,175,190,477,207,91,328,189,136,197,134,70,17,71,168,131,84,127,293,226,100,284,231,209,142,83,242,93,307,364,404,32,249,43,79,142,470,77,301,381,99,296,210,200,119,136,204,287,127,169,199,32,59,102,247,155,233,53,249,402,102,41,233,215,316,88,52,172,112,240,190,130,295,277,63,209,46,153,40,308,144,46,80,604,78,229,146,53,133,93,226,27,323,145,217,77,151,48,350,93,118,65,117,81,149,154,126,129,196,80,206,144,50,99,369,153,177,135,196,428,68,172,213,73,67,229,314,302,535,84,159,181,98,54,130,18,258,289,91,299,284,249,243,86,69,133,451,69,295,351,268,213,398,45,229,166,91,81,288,202,157,269,247,439,411,167,151,44,218,27,315,153,49,120,507,58,180,240,419,370,256,140,112,114,177,140,231,225,189,195,289,88,276,214,90,56,176,121,328,212,23,40,106,106,165,402,101,239,416,161,255,60,178,210,208,545,165,213,452,299,225,100,137,97,196,58,95,133,571,102,227,240,228,28,242,154,68,166,258,157,159,318,104,122,64,192,177,294,429,302,196,289,89,58,32,98,76,146,121,308,584,594,187,160,45,216,94,114,68,318,161,510,30,36,149,182,205,202,136,54,167,121,143,224,202,182,229,401,112,234,278,411,151,403,353,124,289,172,291,78,204,321,91,199,273,266,260,319,564,580,247,170,94,108,97,244,286,125,265,65,316,259,163,243,89,47,133,87,92,52,219,387,258,157,339,80,458,64,253,211,106,244,161,79,250,30,272,95,178,249,208,696,54,116,379,182,126,170,572,232,301,76,162,232,89,98,87,131,31,123,298,266,83,204,222,69,244,164,470,109,621,161,161,46,120,224,66,50,144,273,257,292,261,357,186,279,106,128,91,106,69,217,200,82,148,68,105,224,54,152,190,301,283,88,141,483,118,248,287,89,157,543,56,188,36,139,193,224,117,205,94,210,269,335,295,520,42,221,52,231,130,278,316,64,214,165,92,154,228,124,368,177,209,54,84,220,210,258,147,100,165,412,156,66,155,346,335,506,167,498,47,305,119,125,139,105,153,273,252,251,449,366,516,68,228,285,118,76,45,47,163,127,349,144,150,505,211,376,101,226,144,224,630,171,187,28,60,54,44,36,56,233,204,73,324,55,210,118,11,95,183,331,393,172,62,151,108,141,330,378,256,80,76,98,122,246,231,156,80,99,172,243,253,53,104,483,78,267,122,69,110,80,148,296,179,150,81,344,234,327,224,275,189,89,167,173,53,244,246,340,159,257,70,116,232,148,83,152,114,44,192,29,307,341,323,40,71,206,72,132,237,237,36,284,243,208,100,277,219,59,305,109,236,103,206,81,43,200,105,90,47,52,343,48,758,111,533,428,67,159,169,91,97,253,214,67,31,41,273,98,136,206,101,125,119,210,53,101,142,220,159,257,123,244,123,104,170,97,44,172,150,203,585,207,190,213,173,103,130,406,251,65,208,290,220,288,233,171,201,226,241,132,149,125,333,289,285,207,23,340,184,425,114,92,372,61,154,88,147,207,108,58,60,120,66,55,105,59,276,284,80,194,319,80,27,468,62,59,463,229,374,148,257,265,89,170,238,108,114,129,23,91,167,135,329,125,89,155,79,362,161,168,307,179,117,70,247,173,177,291,99,280,236,129,230,142,83,38,19,243,167,103,82,108,169,172,25,131,206,153,82,93,314,132,300,122,113,136,119,296,567,154,106,43,191,93,226,275,133,233,202,207,80,182,123,106,56,99,328,494,174,144,144,201,86,166,302,51,37,64,374,109,431,102,78,66,222,330,263,66,180,275,92,90,164,197,147,201,17,69,175,208,444,385,100,114,128,46,252,208,172,60,247,236,82,220,438,146,153,484,389,274,86,130,75,46,675,70,68,146,84,251,191,68,271,282,123,90,385,314,202,137,65,59,290,61,189,154,285,20,287,80,96,229,11,175,84,220,195,174,280,180,378,344,115,94,229,60,58,159,73,176,275,358,389,248,174,212,66,333,544,181,97,108,114,217,134,52,113,68,230,240,197,89,42,235,108,111,43,387,466,248,57,68,207,315,281,170,337,308,53,185,401,123,295,290,251,130,53,666,38,203,162,95,291,77,85,172,150,170,52,434,210,75,185,175,101,580,421,11,186,92,232,100,389,270,229,365,369,95,292,83,77,213,98,366,87,188,231,179,113,106,79,235,100,112,43,55,142,118,159,375,296,164,327,64,380,253,32,178,330,167,109,141,294,226,72,309,50,310,36,74,221,170,77,72,196,49,56,164,52,208,196,42,267,79,247,209,276,116,176,112,27,516,44,79,86,348,86,111,78,160,46,120,10,48,164,114,189,16,221,170,214,329,321,145,89,592,55,175,348,140,154,352,87,225,107,409,149,378,272,133,200,111,322,250,209,250,92,101,284,106,241,115,229,40,296,87,423,58,63,69,320,274,399,91,97,138,138,111,459,318,110,184,452,193,232,192,43,350,292,55,213,95,345,49,177,162,84,44,243,274,101,101,80,39,104,98,89,201,174,272,177,77,274,225,362,198,281,196,293,78,447,68,87,166,381,272,67,320,187,182,156,160,79,78,258,320,266,153,339,143,241,433,101,131,173,58,162,171,212,38,207,400,106,94,313,82,83,104,242,99,351,302,157,253,142,295,105,371,381,203,96,50,225,119,390,152,128,196,46,91,71,88,117,221,194,92,192,117,195,42,152,261,234,72,163,96,200,94,93,390,232,66,56,141,64,193,187,157,172,249,62,299,275,82,183,140,221,68,105,243,160,150,149,248,218,67,159,201,159,268,72,288,195,171,289,121,174,60,97,97,26,210,173,247,108,197,154,123,169,423,82,257,313,282,236,90,371,482,461,59,84,37,91,77,86,188,510,107,258,363,119,122,378,403,95,109,109,150,168,153,270,178,497,62,218,225,115,247,101,105,139,360,57,68,206,117,219,137,179,47,358,164,328,125,58,145,183,748,208,160,141,188,231,212,136,57,117,97,145,140,86,25,633,180,274,237,166,101,65,191,200,210,187,148,83,157,106,46,734,291,46,268,27,179,275,397,254,210,87,258,317,76,173,58,282,315,114,265,156,165,223,168,145,263,118,200,168,41,398,230,74,431,213,63,274,43,149,138,177,138,90,50,36,25,298,131,75,56,68,129,211,147,111,32,394,100,77,236,88,218,87,333,235,63,321,267,174,366,72,89,152,157,167,208,178,40,498,227,499,124,166,227,179,38,123,199,45,160,201,83,215,83,247,107,250,98,347,116,212,256,95,431,37,319,744,62,97,119,252,56,103,26,113,512,302,93,91,238,142,311,225,37,129,241,111,128,81,142,438,62,138,54,185,130,63,60,152,255,335,121,182,131,242,114,72,35,23,72,233,294,99,199,84,233,356,127,179,217,587,133,469,225,45,284,237,124,166,33,66,136,150,267,199,103,218,91,231,123,330,114,403,224,298,123,183,221,86,109,96,216,139,161,120,328,41,420,49,403,125,295,83,213,105,45,174,262,141,31,164,110,372,225,273,112,146,190,148,90,293,184,262,175,266,196,129,44,153,10,303,64,276,333,341,107,379,273,188,80,445,51,181,121,145,141,204,258,262,423,263,187,163,71,153,207,351,46,544,288,245,30,128,23,192,183,109,58,175,179,70,310,131,197,101,121,110,325,266,194,415,66,217,173,63,212,166,147,269,126,45,115,202,183,35,277,274,214,306,183,57,44,115,64,121,231,79,76,89,118,135,61,320,342,135,202,253,110,144,490,38,248,20,97,407,176,446,107,71,115,408,31,372,48,153,333,119,82,225,130,381,164,318,124,143,305,69,560,177,121,314,51,109,94,36,90,149,106,43,524,80,453,243,93,338,215,246,237,128,241,398,221,150,80,135,134,77,155,147,53,222,37,41,103,70,160,174,234,232,243,94,287,146,322,503,197,320,52,56,179,87,468,79,203,192,249,482,99,285,154,133,280,309,120,82,100,91,85,128,119,273,384,85,24,325,198,51,355,91,243,223,38,370,158,103,103,175,251,178,100,203,747,205,128,107,76,205,26,179,403,402,18,194,43,135,153,65,149,99,22,238,135,105,60,146,114,100,174,184,85,115,73,64,242,68,232,285,122,268,38,446,161,55,144,198,224,329,262,357,201,21,158,188,57,262,91,514,61,149,259,88,230,164,43,276,246,45,483,380,38,342,244,259,27,201,101,252,106,130,34,202,123,178,129,70,121,180,140,45,353,70,160,143,179,190,278,138,94,228,119,115,410,334,269,58,177,360,78,472,181,52,79,179,260,241,405,268,227,28,89,107,359,133,165,165,280,240,261,320,151,149,94,195,211,24,371,109,146,225,272,251,242,258,207,105,125,78,197,391,329,92,79,49,162,476,463,346,146,165,126,295,195,61,43,269,442,147,203,87,131,88,118,290,90,250,351,205,69,13,288,34,88,149,280,54,195,116,151,66,292,203,154,179,81,57,86,74,165,130,270,192,169,222,196,50,251,119,222,227,107,21,219,133,19,56,122,230,139,73,225,212,600,244,105,236,145,486,49,488,46,105,327,273,100,138,101,282,337,44,158,73,168,27,186,153,330,380,73,208,29,127,164,242,225,74,180,216,338,83,196,61,93,183,254,370,208,57,169,140,112,239,163,226,37,445,406,38,196,79,148,191,248,564,179,45,243,505,127,406,110,34,130,92,343,353,351,198,207,65,322,126,97,54,47,191,241,138,281,206,619,181,341,358,56,175,199,227,244,56,99,246,169,123,151,194,140,107,62,135,189,47,264,257,178,92,175,212,232,190,363,324,40,150,18,98,101,249,104,224,249,145,139,191,207,42,322,151,279,222,90,38,310,342,241,130,125,186,167,81,25,160,231,289,63,168,54,109,109,51,76,121,145,432,158,56,173,53,96,87,331,202,99,92,52,72,123,161,56,118,85,139,248,161,633,103,218,186,240,220,252,121,177,422,65,29,105,159,268,362,158,92,126,246,108,261,403,61,206,128,135,63,194,178,94,236,107,141,418,123,142,271,211,194,132,143,177,33,251,46,196,364,773,135,70,79,49,322,93,156,137,44,86,322,44,61,179,96,103,236,139,141,73,67,131,313,86,27,265,276,115,371,46,197,187,202,29,303,274,137,273,249,29,285,98,56,75,74,34,56,286,153,32,77,180,210,35,190,79,105,435,185,544,300,32,265,70,37,197,157,266,103,177,198,388,171,58,313,275,519,143,265,93,91,371,181,212,461,331,142,167,76,378,357,227,178,130,121,219,35,328,56,396,92,478,59,293,59,128,402,75,122,146,112,131,66,58,81,62,455,123,248,254,114,188,87,223,486,43,62,202,175,183,140,86,155,101,508,153,190,89,255,244,255,129,156,209,237,171,69,86,182,457,98,500,98,99,173,51,252,208,244,158,85,73,119,37,157,116,243,42,104,121,200,264,260,406,211,385,41,213,257,290,334,146,135,16,180,96,294,76,196,548,95,96,99,376,188,224,195,335,183,262,291,307,282,40,73,133,227,85,221,108,152,199,252,258,342,193,51,88,805,377,248,213,146,39,333,357,29,276,77,217,213,553,156,198,233,75,87,144,319,138,69,75,250,174,106,284,197,40,235,58,110,185,24,132,129,164,172,194,133,117,221,317,24,196,247,104,196,205,99,109,325,256,234,263,180,349,113,201,79,221,105,218,100,142,178,167,127,234,302,138,108,17,65,227,421,131,376,113,58,187,131,58,115,54,346,218,100,18,78,239,223,30,124,382,157,69,18,131,113,149,88,256,173,120,226,80,39,344,38,132,49,82,111,242,238,126,95,119,32,113,488,101,323,60,40,207,136,195,260,186,105,89,79,77,156,229,149,214,486,105,100,252,275,371,411,197,98,254,103,210,52,71,324,216,103,281,66,42,216,166,286,119,136,186,91,110,391,121,115,249,216,138,209,273,100,257,473,217,67,242,255,153,429,69,316,243,37,366,14,133,226,198,197,197,350,105,83,85,309,263,171,100,19,254,326,102,284,202,544,211,237,144,45,287,146,158,404,239,202,214,181,218,37,252,215,119,145,58,403,154,174,298,96,193,110,166,28,551,79,51,153,41,99,270,141,481,135,184,123,198,39,101,338,204,103,72,182,49,338,79,19,75,168,298,451,179,224,56,62,332,185,193,192,223,308,144,419,185,271,39,251,223,400,47,264,16,94,37,10,237,223,253,144,489,210,127,233,152,79,215,246,266,289,52,243,138,83,160,179,49,205,43,82,70,241,179,279,101,49,220,419,159,227,113,229,109,180,35,123,208,265,95,185,46,461,306,133,79,113,556,257,103,163,350,145,224,192,40,362,329,169,233,136,98,66,200,89,256,365,308,92,293,87,72,76,293,276,102,34,280,93,38,324,282,77,96,234,119,265,177,113,162,29,126,310,218,296,293,234,268,218,328,276,58,27,291,262,102,122,62,151,222,95,163,162,125,127,112,177,162,118,216,12,295,222,402,280,228,114,64,143,138,164,308,110,284,208,415,252,392,127,155,186,193,30,357,177,125,178,129,213,29,138,197,378,165,242,132,491,205,156,179,151,140,256,283,175,112,137,225,207,33,143,158,218,88,163,197,196,332,174,45,251,250,234,158,41,317,319,131,446,40,73,91,182,44,197,174,188,157,137,22,120,390,228,144,129,295,169,647,172,159,296,121,109,210,299,203,248,213,135,273,175,83,296,183,51,64,180,186,326,100,208,242,430,544,137,280,163,103,58,92,230,260,36,89,475,264,212,39,242,32,193,189,234,99,160,149,266,16,100,243,91,624,66,187,241,215,219,138,182,101,62,172,43,92,81,255,120,285,333,71,111,71,167,100,266,204,341,207,99,99,123,73,263,54,193,133,76,147,85,142,175,275,261,49,193,42,172,199,372,136,121,134,360,249,652,143,217,182,167,245,210,91,119,175,59,110,67,371,219,141,142,118,452,142,348,169,259,166,165,245,47,131,471,279,288,173,137,287,247,538,177,49,569,121,297,68,76,145,268,202,193,179,192,213,199,158,153,44,42,339,303,96,135,120,102,156,303,230,72,159,203,201,359,126,396,160,112,111,304,244,76,264,249,167,111,470,494,41,243,194,409,51,107,142,288,236,77,198,29,110,236,58,82,53,178,180,237,270,120,42,32,129,146,79,159,117,344,198,108,108,100,339,183,98,398,378,330,151,257,318,398,47,224,147,36,108,310,197,17,209,243,202,236,90,266,128,191,101,90,248,146,243,97,265,154,164,544,93,270,45,141,240,202,36,103,637,221,150,135,182,30,32,230,158,165,69,263,165,444,210,215,69,250,281,217,177,140,93,351,71,380,255,349,119,84,117,725,331,115,219,315,618,43,40,193,418,261,97,196,142,170,67,67,138,46,271,251,84,83,140,49,346,107,197,214,52,111,244,207,144,226,161,157,165,296,128,29,97,118,78,222,119,332,145,651,120,201,155,55,295,246,99,100,75,281,127,367,506,80,113,146,224,89,277,38,123,395,164,376,76,159,183,141,252,19,109,234,45,88,45,173,76,139,198,484,252,116,251,353,168,278,134,240,81,242,252,135,49,64,48,194,49,436,273,119,130,169,248,56,146,360,147,103,241,243,353,343,78,146,290,237,21,275,73,137,101,247,417,452,294,37,77,41,92,240,292,207,313,215,83,290,183,108,124,191,197,39,113,115,198,246,59,106,85,118,47,60,224,251,222,66,63,156,112,247,111,279,735,210,43,231,119,248,283,81,103,162,413,282,202,39,103,187,69,95,282,309,173,330,62,183,139,310,132,214,157,41,152,16,299,142,170,71,143,88,99,227,57,420,87,124,155,239,233,151,35,139,99,194,243,199,227,38,24,365,175,47,153,25,196,218,199,125,82,76,219,99,195,106,60,228,164,246,170,483,545,195,64,54,80,271,86,33,104,672,88,184,53,187,459,60,158,339,305,61,131,155,351,51,53,100,74,214,213,72,122,70,269,171,64,120,524,188,204,32,194,91,326,86,26,187,388,273,125,115,91,85,101,266,142,107,111,78,396,205,99,111,310,77,283,249,130,227,146,171,282,39,418,243,112,220,286,170,39,98,108,221,64,212,104,183,87,261,47,48,185,99,76,41,241,225,119,225,53,114,534,131,65,104,762,362,257,123,369,90,226,162,216,414,55,153,67,103,241,51,237,223,159,140,322,139,241,86,243,218,79,130,242,305,327,33,24,87,46,18,164,294,286,27,106,289,146,83,142,249,48,29,207,177,66,89,363,269,221,68,263,78,42,215,165,164,61,336,203,66,90,185,154,208,182,246,170,275,134,149,124,162,140,137,234,186,251,119,173,197,215,61,55,231,139,339,81,110,119,407,64,90,20,186,320,147,22,99,50,56,62,138,421,237,122,92,203,382,146,168,255,161,18,111,111,112,172,72,62,305,222,166,243,505,67,121,94,111,137,237,196,235,97,291,209,237,51,263,107,19,91,197,150,99,236,265,305,194,84,105,226,58,257,523,200,21,56,282,92,323,101,300,264,74,155,87,310,69,64,297,258,487,146,125,34,121,318,255,208,129,54,407,230,130,86,74,169,149,138,108,141,186,117,11,28,251,43,203,85,198,138,276,89,189,122,93,182,104,81,25,185,249,146,129,221,463,19,112,88,130,89,111,135,170,195,150,157,164,148,233,66,82,255,190,74,49,170,43,197,131,220,198,124,181,146,188,195,208,70,113,46,129,109,371,167,41,311,85,241,238,67,118,175,71,142,272,91,255,48,234,143,215,135,372,61,496,38,90,155,113,43,266,35,55,81,169,499,178,491,78,87,110,52,351,157,153,85,41,30,205,63,323,33,85,231,303,474,198,305,174,40,304,187,349,236,131,428,299,92,145,119,30,103,282,45,150,115,135,271,379,82,63,235,730,131,276,57,201,217,47,83,215,91,152,27,41,221,189,72,192,69,210,33,243,133,522,73,164,95,146,166,124,108,55,90,206,262,235,118,354,207,259,27,180,211,114,244,117,99,122,263,53,248,80,95,163,189,258,209,145,154,376,296,191,137,67,250,98,86,230,441,266,340,33,155,204,524,297,182,147,169,203,86,197,59,73,59,121,94,344,42,61,232,157,253,223,163,208,314,147,74,131,71,93,321,177,373,167,76,267,67,365,120,251,181,155,129,96,213,199,39,20,112,190,277,255,300,212,217,242,370,89,146,193,145,67,41,156,360,111,92,144,144,48,185,159,183,206,108,166,654,235,128,143,160,153,74,140,146,338,213,539,34,185,195,284,442,126,337,151,167,90,119,228,178,432,301,66,73,98,121,217,227,39,218,124,62,291,69,138,213,128,43,180,116,184,261,419,362,70,104,23,271,127,172,406,314,38,534,334,170,137,184,130,32,58,133,74,218,102,190,67,188,126,303,249,84,199,112,138,172,207,250,187,324,43,73,110,27,131,221,532,198,404,98,232,136,91,115,34,247,67,166,116,118,244,376,207,92,254,94,123,13,229,130,146,243,213,68,96,151,234,40,80,163,34,252,437,153,246,122,123,190,571,110,91,129,110,30,123,113,40,219,161,201,137,129,48,220,40,166,219,120,342,257,114,85,106,291,21,235,113,142,37,97,203,252,247,352,255,261,302,50,126,195,319,269,153,165,102,104,147,200,250,235,315,60,223,285,275,154,365,144,356,49,210,645,130,181,168,60,216,193,94,124,99,224,205,96,86,280,473,71,317,142,190,283,210,256,190,308,144,59,43,85,390,214,178,69,144,103,150,144,260,301,304,111,107,99,307,216,70,211,173,109,99,212,429,419,69,259,102,81,79,219,212,266,100,190,539,235,175,112,344,235,211,64,62,160,23,360,359,228,201,377,553,182,54,332,204,258,17,56,201,139,416,190,165,231,263,147,129,106,356,75,136,365,98,115,266,131,128,371,153,157,244,112,73,249,133,78,48,119,252,74,173,85,92,409,86,129,287,143,223,91,221,134,115,61,359,89,202,181,154,130,139,194,79,227,140,47,305,172,185,157,44,67,31,469,119,198,232,261,168,79,142,227,61,251,428,83,181,230,129,247,269,189,211,40,176,188,314,253,49,250,209,144,86,68,49,147,131,96,306,257,69,74,264,55,47,102,414,52,243,220,177,209,662,123,165,244,317,146,69,356,93,340,253,79,51,97,71,39,174,437,52,408,265,188,225,83,169,36,129,84,163,114,112,240,139,138,305,192,49,108,306,179,195,217,155,145,253,404,83,127,109,57,155,468,284,73,304,86,167,38,154,82,229,205,188,430,161,109,69,224,19,277,40,133,275,323,215,297,158,159,91,103,28,249,341,72,44,130,338,166,234,258,189,104,122,160,91,276,209,96,106,54,288,212,79,641,77,220,167,149,33,102,247,97,89,266,108,77,160,64,190,196,202,147,25,228,164,133,269,151,58,70,315,355,417,163,125,198,36,31,287,106,192,174,235,541,49,119,402,98,60,162,37,75,63,61,306,39,433,331,102,80,130,136,34,237,133,90,187,374,117,199,423,295,193,27,155,66,279,215,60,47,119,154,241,147,98,291,123,90,88,204,51,469,370,31,96,166,139,111,73,309,184,46,164,29,44,108,295,129,195,81,73,142,29,174,307,329,163,26,209,149,160,184,35,117,259,77,133,78,149,226,413,343,203,193,239,185,107,210,41,155,351,288,394,28,416,413,81,28,115,165,86,380,82,131,62,151,100,56,148,162,200,112,209,288,263,210,135,112,146,110,78,46,275,309,104,255,157,169,174,135,99,102,189,452,118,36,162,252,195,201,29,54,315,116,62,260,650,35,255,252,117,162,148,181,62,243,85,229,142,164,99,38,117,113,192,184,147,77,261,178,195,264,119,181,89,109,202,106,388,761,166,122,264,163,105,177,56,82,394,249,194,385,54,107,172,370,193,179,97,154,51,257,246,136,130,277,62,47,212,129,113,302,112,85,85,216,32,172,84,258,130,236,44,175,303,86,406,110,263,242,227,98,336,260,237,346,218,79,242,164,282,214,282,169,319,115,32,107,238,82,303,159,214,149,139,31,315,140,27,176,271,183,200,295,287,166,168,132,130,295,72,224,79,257,177,163,355,38,80,408,249,32,254,84,204,211,96,173,19,390,83,322,207,85,131,81,356,206,227,352,281,13,415,268,196,219,118,50,166,255,77,144,216,64,163,183,154,196,76,45,118,54,99,225,367,310,570,91,157,211,166,94,132,233,189,170,408,52,182,20,48,314,271,110,225,131,51,163,75,180,234,130,107,152,163,86,67,221,208,189,70,292,680,127,223,40,55,138,40,74,335,62,223,208,175,70,249,508,101,377,188,190,45,323,51,138,207,58,269,289,257,43,166,92,81,304,149,482,123,83,329,168,33,264,202,36,189,173,115,51,153,48,105,319,105,172,84,119,192,168,128,188,588,109,71,133,171,32,89,140,335,278,75,84,75,41,113,51,30,114,155,79,155,95,566,62,220,132,148,108,362,241,125,116,34,25,117,282,82,138,365,185,32,108,71,91,485,317,166,243,131,73,42,182,157,41,138,124,49,222,462,158,374,188,229,129,601,132,226,284,300,169,173,118,72,124,342,270,43,206,323,142,151,339,85,155,334,200,226,240,136,210,326,147,184,548,138,183,234,286,256,116,125,176,130,327,371,60,74,62,219,465,317,35,89,233,62,247,70,409,266,234,47,268,339,71,45,94,119,106,156,54,120,324,248,211,138,455,192,248,244,65,307,337,135,212,233,172,349,38,78,114,36,116,144,283,125,57,276,193,102,434,148,287,251,126,65,172,170,88,283,268,125,116,229,22,624,222,310,50,161,172,148,55,145,141,154,55,350,135,123,125,147,89,244,319,150,149,299,384,250,62,295,81,83,92,310,95,238,90,301,146,157,123,297,218,87,320,89,92,30,322,108,277,72,242,171,227,126,60,19,78,111,38,300,269,77,351,60,172,118,338,110,176,146,477,199,148,134,300,123,104,63,115,58,183,107,203,99,165,40,650,201,200,129,284,61,62,138,340,392,238,137,155,200,53,142,220,246,38,201,156,205,418,77,254,110,67,103,164,256,212,340,94,140,40,174,77,67,106,76,218,34,187,332,55,116,66,342,668,203,267,23,59,415,422,44,260,34,101,166,191,231,73,599,362,87,64,56,95,232,201,54,81,163,52,124,100,169,55,93,522,128,67,56,58,83,30,60,118,201,107,211,196,251,263,238,217,348,103,280,224,57,302,134,257,177,266,74,202,79,112,235,117,148,228,210,91,130,283,29,243,274,149,164,177,43,170,79,38,144,236,100,70,195,122,14,143,176,273,56,195,439,144,34,411,20,157,212,164,234,96,157,104,134,107,38,49,66,67,85,219,141,67,124,49,468,215,147,75,251,329,93,279,287,138,241,178,109,150,309,297,270,199,24,89,127,77,89,264,98,46,252,112,228,282,44,210,138,324,427,191,29,186,34,156,394,50,150,57,247,465,57,65,59,201,27,282,292,88,198,259,499,411,129,74,230,264,185,106,17,365,163,314,151,77,292,44,318,193,336,139,225,31,251,196,152,223,290,219,191,163,218,187,157,57,599,196,161,242,154,58,128,80,541,330,221,41,194,198,84,506,108,225,199,47,135,33,33,219,182,191,119,490,224,40,161,267,209,176,239,224,80,52,82,135,256,252,117,36,45,381,236,151,201,215,96,272,335,70,276,58,162,222,208,72,174,125,357,140,324,98,379,513,617,39,259,220,104,53,113,115,266,66,70,99,101,467,130,196,230,37,163,153,142,262,182,91,179,264,220,129,160,158,68,462,296,25,420,224,101,125,134,59,211,164,128,183,39,126,60,152,379,160,429,196,305,72,97,489,176,159,100,50,211,85,232,283,145,518,97,94,258,129,166,311,45,249,69,342,207,35,280,152,337,50,120,41,348,174,193,350,104,309,111,150,229,317,551,273,101,25,197,22,165,44,134,212,188,295,290,410,85,82,262,176,40,63,262,356,167,270,76,59,107,37,88,289,272,156,148,306,127,26,248,222,226,243,168,26,276,80,190,162,42,142,118,223,430,262,237,29,411,156,159,219,227,141,67,267,173,77,26,250,87,168,271,169,262,204,251,148,210,244,129,87,149,86,208,214,102,101,149,114,119,58,190,73,121,222,238,249,235,65,225,181,258,226,102,107,170,218,82,75,189,54,209,307,397,136,185,226,167,89,80,211,177,44,451,180,79,49,112,214,95,259,357,94,127,75,193,197,20,133,140,82,271,208,70,337,112,142,143,221,182,140,283,45,87,260,52,132,607,209,155,50,264,351,40,152,75,169,65,91,92,350,146,87,126,376,141,469,340,14,314,353,95,168,160,397,302,83,112,196,281,195,127,101,273,75,102,282,59,79,230,104,234,48,605,100,167,515,176,80,570,24,183,87,127,623,393,260,91,141,38,349,165,99,193,101,163,337,116,241,43,213,358,203,235,190,255,44,248,192,87,211,27,362,156,285,214,317,170,61,153,219,167,198,152,114,82,145,58,246,108,286,36,257,53,351,59,308,139,99,13,169,160,327,14,275,230,227,133,100,312,104,215,281,142,246,124,254,43,227,128,46,51,60,246,129,106,81,231,139,84,184,283,216,117,161,225,139,21,161,181,213,62,81,117,86,143,300,280,141,139,37,143,113,237,46,238,55,217,102,247,49,356,123,218,91,220,74,74,562,366,180,298,33,155,143,272,104,99,146,86,73,223,178,188,91,154,50,135,67,58,147,197,215,247,270,108,141,132,200,159,21,94,95,216,175,129,41,107,137,73,45,179,211,80,136,453,64,454,355,309,251,95,212,207,132,209,335,162,13,225,203,55,194,242,55,66,41,248,245,245,167,107,90,255,116,168,100,117,86,120,131,251,223,186,209,25,302,91,75,147,161,306,166,134,151,136,231,68,63,186,235,214,248,255,155,532,607,147,118,237,246,116,221,159,116,93,37,150,386,117,60,78,124,265,141,289,125,202,200,199,106,88,93,161,73,286,75,150,49,53,65,131,141,443,153,282,305,232,134,185,278,187,260,44,354,154,161,46,216,37,222,175,178,146,205,38,38,46,131,313,147,157,44,279,52,203,244,85,194,204,337,388,116,89,225,124,211,78,293,112,58,133,319,208,101,413,146,147,469,79,268,126,51,179,356,152,80,162,59,89,503,180,212,216,46,63,50,255,60,139,122,191,107,127,267,57,248,284,466,237,117,190,167,42,247,76,92,113,11,281,98,136,189,83,204,128,71,164,350,45,178,225,113,35,161,70,173,49,227,111,286,332,143,101,545,55,204,241,200,280,542,94,148,175,38,97,74,46,65,124,236,210,31,158,316,149,200,105,137,47,227,109,357,82,164,23,92,112,257,82,261,101,290,220,131,84,159,126,92,31,48,90,385,90,188,145,203,101,93,499,195,251,136,133,279,60,142,264,120,137,74,170,502,160,38,170,408,52,166,179,33,30,93,169,42,111,75,140,52,266,77,519,126,165,60,119,30,29,208,194,226,34,72,228,343,109,279,63,47,150,193,93,284,233,238,227,85,324,75,181,558,139,532,82,109,275,162,353,216,99,28,87,205,93,114,124,200,153,178,201,257,185,82,137,59,142,136,94,209,156,250,165,22,161,112,236,87,116,275,462,256,281,175,91,465,48,77,246,122,411,18,92,257,97,116,230,266,443,229,184,149,261,115,66,516,170,134,192,134,264,364,232,49,234,45,175,131,49,108,165,427,114,188,119,589,91,80,88,182,146,201,226,160,254,66,213,50,267,210,214,79,566,69,53,35,112,245,65,112,222,87,192,195,156,224,51,163,81,115,55,324,226,295,91,151,223,191,154,145,30,71,52,430,195,261,213,263,112,215,158,107,234,65,283,139,232,319,279,71,73,50,192,203,42,149,36,28,165,124,154,189,99,70,104,336,229,93,131,64,115,254,59,285,219,139,293,69,278,44,70,234,177,88,153,93,242,107,37,162,67,72,173,196,184,319,226,157,57,171,394,331,51,92,86,285,251,116,264,197,119,57,347,312,222,110,79,277,153,135,108,36,256,179,105,261,88,225,158,125,209,631,47,123,268,86,85,226,146,179,206,58,243,69,101,348,351,74,296,234,68,132,380,219,212,218,237,360,56,233,319,359,294,153,249,143,54,62,235,128,511,194,46,252,492,111,68,353,247,110,36,241,168,156,56,198,160,203,236,117,55,54,332,60,210,110,175,76,119,121,168,296,202,112,32,349,142,159,225,126,138,274,141,228,77,123,150,195,20,216,54,266,250,53,168,130,262,80,138,181,335,68,217,100,109,75,175,295,232,344,95,272,103,145,130,145,233,243,136,125,150,149,129,59,132,27,241,462,196,341,45,258,59,269,44,177,131,75,222,61,20,35,174,449,84,140,145,101,285,54,67,296,214,35,209,263,48,197,185,111,99,163,259,28,134,184,255,198,235,141,137,80,64,123,305,191,154,66,126,254,91,79,144,326,248,205,268,330,191,129,142,227,45,81,44,220,91,231,58,160,106,98,158,296,222,252,111,35,150,271,131,110,174,176,118,179,282,79,333,201,89,101,171,133,79,17,547,126,83,128,375,116,111,169,135,179,185,187,296,101,261,131,81,185,207,221,100,128,240,246,160,122,637,161,271,249,152,147,360,153,355,142,143,159,46,275,41,156,233,104,415,94,339,154,45,634,365,274,90,208,287,88,134,181,118,190,297,143,134,157,72,175,95,272,214,214,137,77,392,182,217,210,177,52,110,118,104,208,155,252,165,113,153,196,535,86,239,174,218,317,43,341,46,157,252,255,214,196,92,385,186,75,274,154,137,299,159,322,183,116,94,14,104,124,34,152,174,226,223,107,232,153,243,114,164,164,74,164,64,170,143,92,87,123,107,72,65,43,226,168,35,48,213,38,23,192,210,507,189,166,300,38,114,77,278,572,153,445,187,400,104,111,379,135,119,257,171,318,136,53,165,156,201,70,85,274,63,179,378,76,109,118,64,414,213,215,162,245,51,201,222,264,150,208,137,189,24,151,185,339,28,220,228,46,175,250,77,250,75,63,187,89,78,71,124,250,68,71,135,117,68,270,208,123,79,214,102,25,91,45,89,51,282,243,108,224,185,234,23,67,91,179,254,134,65,397,51,85,157,131,139,147,141,171,110,96,278,31,133,184,38,137,119,204,336,39,249,364,135,254,178,77,106,146,188,60,248,253,123,59,778,135,240,189,70,124,165,139,100,60,161,224,111,527,143,145,179,260,262,287,207,271,29,84,206,51,58,106,256,146,76,122,235,51,105,261,196,168,268,172,163,247,211,112,392,284,164,274,18,124,35,227,75,43,304,636,160,350,33,43,58,209,74,257,170,70,39,365,274,119,240,270,84,50,40,114,46,265,180,247,80,77,455,324,111,228,257,256,183,306,132,138,135,47,120,109,63,38,136,166,196,70,121,284,100,228,93,138,231,138,78,98,65,259,16,149,110,324,206,148,60,215,37,24,109,108,164,112,72,244,283,375,210,212,64,134,128,556,253,585,184,220,244,223,158,254,87,248,192,243,182,148,185,195,121,58,407,9,121,59,72,212,166,248,88,38,49,20,66,204,514,198,243,245,225,58,255,230,165,113,221,318,177,134,73,241,189,79,326,65,215,219,135,186,159,220,241,49,335,323,373,239,11,148,298,129,388,295,111,374,49,220,145,63,89,318,470,420,82,144,121,531,230,39,207,24,147,150,46,452,165,224,146,232,92,89,76,126,240,192,104,71,116,100,90,69,190,161,73,79,61,246,78,250,349,141,48,81,110,252,145,45,171,100,274,292,90,282,44,81,138,96,72,160,123,173,161,320,110,149,190,238,229,102,119,111,124,516,80,167,152,276,95,24,103,179,97,164,64,37,99,201,76,351,84,123,291,32,392,186,246,195,179,142,138,302,236,204,345,77,35,21,274,127,68,243,74,88,125,199,85,199,411,82,273,150,27,124,153,344,85,249,173,57,156,75,271,381,420,49,50,104,56,334,213,97,46,108,70,154,89,122,198,152,38,36,75,181,97,220,228,158,151,152,131,467,172,108,87,77,674,261,159,290,56,216,113,91,236,248,75,224,250,227,184,229,339,92,350,190,92,128,441,206,169,240,42,63,142,304,202,165,19,244,212,239,444,132,97,227,124,169,128,262,149,67,285,113,51,507,73,337,449,221,221,10,156,131,210,196,108,334,133,58,355,101,186,251,123,331,188,85,103,41,140,66,47,68,296,168,148,53,488,246,288,185,509,107,137,422,486,95,79,74,175,210,257,142,62,211,95,102,48,120,114,248,177,100,221,169,190,257,73,382,58,277,212,223,95,42,651,195,313,100,116,134,227,232,222,85,276,122,149,71,230,155,32,282,239,66,198,206,95,149,254,93,23,238,162,61,324,77,595,282,96,76,48,136,303,52,71,53,215,277,303,250,251,59,87,183,151,503,158,244,71,97,211,283,182,272,73,294,219,95,68,77,182,140,217,494,139,129,50,89,143,121,174,140,102,344,75,99,205,187,119,140,157,59,52,200,203,116,56,279,300,269,258,461,101,70,299,39,235,119,76,198,72,148,173,116,267,30,122,109,131,293,439,323,218,295,42,250,29,60,93,289,118,157,278,303,228,222,125,212,43,245,252,72,179,57,226,631,112,283,376,561,206,105,79,185,161,177,98,271,52,414,219,169,221,286,160,100,54,95,79,23,56,98,64,27,113,92,432,198,69,52,217,157,50,186,128,39,152,98,109,253,162,162,77,61,362,362,290,279,192,228,349,138,12,406,81,546,157,330,475,122,82,166,264,44,45,197,370,228,104,233,47,185,109,191,57,473,70,112,68,87,187,141,99,178,142,148,158,256,28,91,138,268,64,63,281,356,269,63,30,336,24,142,43,134,119,202,153,297,98,80,66,73,146,120,35,185,180,221,81,134,193,207,134,288,275,183,441,111,258,64,145,212,54,149,322,176,125,215,286,104,135,65,45,45,359,59,184,39,201,122,232,92,65,39,70,338,58,361,162,376,184,68,228,107,283,94,123,717,117,163,203,240,186,104,131,189,57,49,333,178,120,55,282,113,145,281,71,90,43,138,79,61,141,197,428,60,538,329,124,264,87,154,392,63,102,159,259,177,357,146,299,503,57,535,313,241,104,113,208,156,296,105,49,247,168,83,31,105,125,102,22,194,221,57,533,140,319,84,143,259,487,266,251,41,53,357,281,69,252,41,174,129,88,22,215,156,163,66,33,194,233,683,80,38,334,198,281,133,542,563,486,88,145,83,241,279,132,207,112,41,109,354,75,166,195,79,163,173,154,116,49,242,143,95,216,174,104,100,52,309,262,119,204,252,273,113,341,146,271,199,203,97,70,270,238,74,43,376,265,376,116,134,63,115,204,170,572,183,104,128,142,77,294,423,44,393,164,43,119,132,108,100,164,222,63,156,108,270,301,218,345,57,44,127,174,560,325,227,240,103,157,131,184,234,159,68,45,83,57,138,179,119,258,325,216,100,45,30,295,151,259,297,91,44,126,239,114,32,291,110,71,100,161,651,311,200,279,101,78,119,106,257,159,208,223,109,384,139,94,83,302,319,265,296,226,176,73,110,84,215,464,239,26,81,255,49,188,52,62,195,304,231,267,363,155,248,254,64,109,247,161,125,151,39,176,528,134,284,146,188,242,191,134,159,75,180,69,258,220,189,98,175,101,22,189,299,65,110,207,169,123,103,106,155,350,43,113,275,264,187,187,200,20,109,150,266,177,109,79,130,168,352,178,168,104,169,38,174,65,114,32,72,199,167,51,50,123,459,238,195,128,80,118,319,232,79,139,66,168,133,219,127,161,164,62,66,244,152,119,66,42,190,192,231,69,215,299,237,29,58,45,99,115,75,177,54,170,188,448,225,171,148,64,134,82,96,95,196,93,54,267,631,163,186,286,143,267,57,245,363,120,193,324,113,120,174,243,257,241,234,73,41,176,65,420,264,345,511,104,254,71,195,70,242,104,54,183,175,85,69,203,207,137,197,94,91,235,127,74,36,13,284,66,205,277,110,99,197,179,120,194,225,164,238,255,160,139,61,88,199,182,244,62,233,355,85,119,65,156,151,32,115,136,64,236,82,245,166,296,40,212,124,90,145,191,236,89,222,142,146,53,52,116,242,214,240,182,169,53,69,143,122,374,87,209,107,171,150,180,82,119,98,215,194,69,201,268,46,220,132,86,254,74,275,108,128,299,330,90,53,85,186,54,202,256,211,83,296,196,46,330,97,54,37,269,202,101,261,211,127,258,125,177,36,40,82,273,273,379,239,135,87,176,565,204,74,265,218,68,147,281,101,130,109,119,776,198,59,260,296,180,117,62,245,332,68,49,215,67,302,205,378,245,34,245,148,412,86,184,125,52,91,180,102,125,189,580,233,689,64,166,112,341,124,226,124,152,240,174,113,362,107,150,38,187,312,72,106,138,185,71,254,317,76,243,349,30,294,235,141,72,336,105,258,135,483,49,432,196,290,30,225,162,439,143,15,96,284,104,137,70,171,239,182,231,265,244,227,43,201,143,237,250,198,291,200,450,170,243,120,55,209,59,213,170,130,99,237,201,87,130,246,142,154,119,149,36,172,91,265,205,83,189,186,38,69,195,183,172,189,206,188,231,87,61,382,573,129,252,75,186,200,55,134,427,168,189,53,38,472,26,92,137,158,166,281,193,88,131,537,126,380,125,166,48,228,56,120,172,41,410,42,72,382,278,127,136,114,573,122,171,34,281,103,109,303,212,362,154,241,182,96,278,57,250,158,243,125,116,93,117,98,343,197,371,131,113,246,437,137,174,183,265,496,126,120,101,216,256,134,63,171,475,35,235,109,222,162,148,268,35,68,103,110,45,172,105,133,52,97,237,32,55,59,141,159,216,248,98,127,267,59,68,21,240,508,102,180,109,204,147,160,30,164,237,124,131,130,107,401,264,264,110,192,208,45,231,321,113,175,112,386,190,102,39,106,209,62,119,301,93,88,75,47,518,162,253,76,184,52,45,249,133,115,120,32,236,112,128,214,243,55,30,119,20,202,228,117,310,260,52,199,106,94,508,74,309,287,230,75,67,194,52,168,138,106,298,37,41,69,76,185,93,133,94,101,285,163,80,41,57,307,60,99,107,486,45,190,106,73,67,130,238,416,366,36,124,247,159,96,120,183,368,129,199,453,435,367,281,134,130,57,226,41,239,239,265,100,220,247,307,283,244,52,63,349,219,236,60,50,166,429,142,209,163,163,212,53,66,76,564,298,305,99,80,72,127,151,81,252,374,459,153,108,119,260,215,39,327,236,230,429,90,173,77,134,32,95,227,74,53,112,228,157,228,175,320,77,143,210,67,243,134,31,183,134,63,158,313,275,117,303,137,218,150,41,43,184,298,242,366,194,40,67,239,316,241,497,595,210,259,36,236,475,190,56,185,441,161,200,49,299,111,198,217,299,37,113,142,128,179,136,86,135,83,264,380,267,37,64,318,285,214,203,33,122,223,180,208,94,160,133,53,132,229,258,40,187,102,92,76,52,230,295,158,126,331,216,263,141,98,129,257,89,130,177,106,344,240,215,252,37,130,41,26,376,90,37,23,233,259,131,71,98,183,95,198,22,95,177,102,96,162,108,88,123,199,29,45,261,288,74,35,179,64,332,323,237,154,534,45,172,262,133,65,305,338,199,147,41,167,246,204,139,88,304,214,85,329,142,126,46,243,134,23,116,118,157,254,250,115,144,135,78,265,223,116,270,63,94,166,247,109,218,235,51,161,85,63,303,222,148,71,150,285,96,232,75,76,282,195,279,201,219,314,156,180,280,103,249,109,163,84,46,40,65,231,410,149,198,118,60,263,64,131,131,194,40,256,138,261,73,80,265,94,130,362,228,281,62,182,256,163,177,37,103,213,213,57,59,133,398,228,201,133,89,77,152,154,178,118,52,266,162,296,80,268,311,36,168,125,101,145,35,132,108,137,134,53,191,40,46,88,81,110,105,142,54,49,133,52,260,63,205,288,48,626,50,245,56,67,147,59,72,32,99,240,202,147,147,180,199,123,34,285,194,536,305,555,285,203,129,361,180,190,74,162,86,406,95,246,154,112,211,281,305,180,126,97,59,77,429,205,73,97,187,35,111,65,227,469,178,140,199,109,154,190,597,459,83,340,216,258,55,441,428,202,268,189,84,201,211,473,107,707,116,333,60,154,196,63,405,380,414,186,76,196,245,44,300,182,98,77,152,346,88,223,161,204,277,60,127,428,367,83,260,95,139,126,76,157,47,101,180,38,264,115,399,299,89,83,146,90,378,66,201,137,82,124,369,219,401,564,134,160,116,396,357,269,96,301,198,76,125,78,62,127,85,210,38,96,295,77,272,148,118,98,224,19,236,191,188,278,94,62,128,241,172,286,111,210,183,112,100,183,155,82,251,430,188,20,241,74,202,92,67,142,68,118,296,124,186,457,370,175,183,36,187,139,193,258,120,119,77,49,216,46,265,317,191,100,58,216,169,240,141,265,195,289,283,220,64,59,255,57,97,33,424,158,313,58,78,273,164,59,107,91,53,423,84,82,261,136,197,61,97,283,192,239,167,130,52,235,166,246,190,59,162,82,73,131,134,51,96,37,241,96,96,176,106,192,599,210,269,241,68,129,44,463,321,338,171,265,136,231,219,249,271,322,114,137,193,52,25,82,122,52,393,198,113,383,319,606,95,346,134,155,149,289,85,171,57,292,519,516,152,256,363,84,100,396,289,154,174,30,223,157,311,133,70,149,145,69,126,72,163,160,373,280,199,18,154,475,267,249,173,310,48,31,17,268,75,425,571,315,267,373,121,304,64,211,237,596,386,40,370,71,74,69,211,103,150,146,184,75,118,258,266,180,292,251,148,205,199,122,95,284,136,212,73,290,325,252,188,218,189,283,447,182,216,276,61,342,229,53,141,42,80,190,85,368,77,209,53,117,119,158,69,101,247,685,158,269,135,234,40,261,336,137,242,175,21,273,151,130,168,39,51,210,338,35,134,166,116,636,229,216,72,89,33,330,19,402,216,80,117,165,193,307,366,101,126,133,196,165,49,107,158,168,144,250,44,528,21,140,249,39,176,122,140,142,276,30,86,52,189,336,222,47,35,267,196,104,217,63,179,214,83,60,57,135,276,393,107,189,51,155,86,212,277,195,119,159,211,50,73,349,74,326,29,238,242,187,111,87,89,317,137,98,105,100,313,326,481,79,206,160,205,397,228,207,399,188,122,129,282,328,182,58,217,49,185,49,134,285,30,273,230,62,221,38,172,162,406,109,88,56,98,156,231,415,81,255,42,338,13,253,753,269,215,227,270,240,258,193,73,310,77,134,132,385,191,156,197,218,192,73,92,287,72,195,53,142,50,115,145,190,173,158,123,200,69,310,80,166,268,390,95,38,20,136,55,159,92,182,128,159,58,319,115,291,143,264,107,244,153,133,221,519,182,115,181,374,130,240,61,121,111,60,77,235,262,278,86,87,580,30,112,70,333,277,271,51,227,96,307,164,129,193,168,124,258,247,138,28,163,209,204,182,58,126,143,173,83,227,56,128,206,224,116,100,90,523,174,167,97,52,63,32,103,170,240,105,223,190,67,89,203,57,257,54,77,139,596,261,488,127,348,225,24,136,181,272,113,133,162,439,165,78,156,590,210,58,149,71,134,122,61,126,159,221,177,119,36,92,144,210,58,31,206,196,228,152,48,227,265,329,517,146,180,52,229,220,208,183,199,84,40,312,181,72,71,52,265,128,193,209,333,116,114,125,379,112,344,385,271,134,192,270,130,75,70,75,122,250,90,209,121,177,241,260,225,57,62,87,135,130,196,188,256,100,245,235,61,202,265,253,163,69,384,102,138,34,327,129,70,153,230,57,227,60,81,239,67,27,145,41,66,142,75,319,138,248,124,101,126,239,136,245,114,227,40,144,37,156,202,187,74,124,137,172,248,172,222,276,167,60,35,81,187,116,188,77,160,336,221,362,105,275,29,60,49,124,92,273,378,162,224,86,87,266,163,197,214,347,332,202,501,217,84,68,278,210,320,126,134,159,245,152,68,334,122,24,111,145,171,73,85,485,33,56,271,174,230,115,163,316,144,214,41,56,109,96,305,71,101,91,70,415,141,180,255,100,114,273,53,102,134,174,83,49,138,61,318,57,120,369,61,80,135,88,173,51,279,279,459,271,147,227,89,154,74,304,232,257,261,38,394,176,106,139,177,207,186,185,223,498,192,290,96,340,62,137,154,203,24,82,305,153,22,146,137,259,109,92,213,205,117,233,58,119,274,161,43,57,79,45,123,23,64,22,82,169,87,171,137,51,72,349,474,51,137,207,147,163,206,156,586,199,202,117,211,98,199,36,102,119,394,80,246,271,75,317,226,38,98,126,109,108,234,129,243,196,76,104,171,215,467,625,32,175,187,184,161,93,51,106,200,270,132,70,190,147,141,215,128,193,50,160,152,232,245,78,353,96,513,175,151,66,102,212,236,83,319,73,181,72,116,137,71,540,179,121,738,116,246,106,90,78,44,27,238,382,279,114,294,145,123,155,96,86,114,356,189,477,417,281,169,71,246,215,42,8,40,315,43,282,62,77,553,78,147,60,71,133,406,310,154,175,345,131,75,383,222,277,100,330,436,100,50,265,106,227,159,134,130,91,135,248,49,43,179,206,253,168,176,335,288,81,169,47,356,98,174,154,198,116,319,181,278,69,58,141,89,153,219,377,243,82,100,62,60,244,22,113,92,81,462,443,132,159,98,233,193,135,122,71,136,666,105,73,175,38,194,84,379,214,89,324,31,97,349,387,159,306,37,139,64,188,225,156,120,85,264,262,197,56,132,198,136,123,134,91,32,72,271,37,117,35,203,262,276,102,67,202,246,45,204,53,66,63,43,67,323,27,401,81,160,258,11,34,55,40,186,352,171,194,152,136,266,46,259,40,84,143,123,230,63,117,148,130,298,173,70,71,70,80,115,339,187,245,146,120,18,64,208,123,35,166,171,244,91,148,41,121,290,117,274,178,229,295,234,27,56,72,49,162,89,147,400,105,129,238,45,364,410,111,43,22,168,247,222,321,78,238,186,121,167,118,50,204,46,135,49,48,105,155,57,198,265,143,218,304,170,73,66,99,95,204,82,164,56,76,162,286,319,118,33,188,77,234,40,406,225,77,372,361,115,32,254,422,351,157,40,216,325,557,259,256,171,28,210,146,188,328,237,168,158,11,65,196,213,242,59,30,89,148,295,396,148,72,211,223,42,283,454,107,124,330,170,103,147,73,173,327,47,147,100,179,98,125,386,290,68,40,115,116,73,439,546,138,62,245,148,350,59,41,156,226,135,131,201,42,95,216,219,255,132,245,402,159,22,156,169,196,112,135,98,177,207,229,79,192,143,203,242,29,368,141,257,170,307,267,49,23,190,196,58,170,530,337,208,252,91,86,266,167,145,160,83,260,327,214,41,238,150,550,206,70,610,95,127,549,236,55,74,157,133,121,198,328,132,52,210,242,68,255,48,372,120,162,540,222,196,117,70,105,59,362,226,139,107,257,266,426,61,165,69,246,304,329,42,237,158,312,40,205,229,122,304,204,122,205,12,170,153,220,188,29,85,166,139,306,142,28,208,117,56,223,96,134,16,46,158,141,119,245,141,80,186,201,372,57,201,263,612,114,236,118,236,42,154,284,268,161,270,87,60,147,124,311,140,91,276,69,188,446,153,28,21,103,48,71,51,244,70,124,119,194,131,46,73,276,57,226,191,209,130,204,75,177,99,140,212,26,295,168,123,183,156,26,125,152,244,357,83,293,212,280,265,171,158,77,94,505,715,182,151,73,247,305,65,115,31,70,135,395,219,41,158,175,224,124,396,178,88,102,284,27,114,62,264,242,332,170,278,105,226,227,202,365,405,235,221,191,170,83,632,127,80,36,52,58,29,178,207,61,148,72,113,213,585,210,113,156,111,201,77,89,114,74,151,104,247,29,201,273,43,59,417,344,232,264,59,83,31,45,221,158,70,80,224,197,102,71,84,148,125,51,176,129,86,198,218,73,172,92,244,108,162,98,166,139,175,71,216,83,86,44,36,393,114,206,146,177,217,160,211,96,109,81,106,349,256,376,167,91,82,293,374,132,228,58,176,118,148,115,221,249,46,181,302,245,218,229,186,192,213,546,362,201,77,86,218,382,95,73,238,181,247,321,169,181,173,48,177,57,176,189,116,204,145,175,134,133,104,167,369,251,191,240,51,94,277,205,232,215,209,156,639,26,20,116,245,223,139,101,52,127,395,142,252,177,459,147,68,386,222,247,64,306,184,173,121,43,72,38,257,24,322,60,321,129,86,105,83,110,176,370,69,52,76,198,51,156,122,47,134,309,75,274,338,176,136,107,108,88,95,195,75,96,68,67,210,19,180,182,246,48,496,292,146,314,28,168,97,195,392,79,51,61,190,102,85,252,281,267,158,35,361,306,154,152,212,227,207,685,84,187,85,97,396,565,108,77,43,148,307,282,78,161,219,45,57,423,121,98,45,28,268,205,101,249,52,191,681,330,141,264,96,246,200,248,127,260,45,96,174,343,208,136,393,221,249,193,289,252,69,198,62,41,189,118,120,182,141,285,384,212,180,70,112,192,76,362,121,75,313,177,232,59,180,125,205,152,108,173,123,170,507,165,181,220,113,72,220,156,318,158,357,508,250,179,87,59,287,601,118,22,152,83,131,28,46,134,35,170,132,238,21,109,242,48,263,171,501,78,592,36,43,40,184,88,108,107,156,39,88,246,221,130,268,271,173,26,270,93,257,178,295,200,174,210,362,202,135,280,89,285,350,92,281,146,264,156,124,111,52,46,219,330,63,484,141,473,385,293,216,46,233,414,518,286,290,186,58,315,219,101,247,241,192,576,161,169,237,173,142,247,54,56,163,104,41,233,263,36,193,237,303,94,32,75,182,228,80,259,48,132,105,107,94,96,94,263,54,457,113,305,119,271,134,356,96,128,136,99,148,247,184,160,142,110,192,16,354,185,381,53,92,157,52,73,264,245,157,332,69,577,33,283,87,158,97,155,449,56,74,37,147,66,176,116,194,308,161,35,250,59,81,128,183,228,140,65,39,118,245,241,194,101,311,103,117,265,167,90,170,294,146,85,292,152,193,107,590,107,282,305,115,246,76,227,264,184,89,113,224,99,220,164,242,157,44,151,279,29,182,123,312,310,85,97,194,109,131,187,89,153,77,157,101,248,98,103,26,544,458,110,123,123,70,180,77,97,35,169,116,27,172,99,144,383,185,247,44,224,26,77,148,149,251,64,85,284,103,112,341,120,201,178,289,54,82,59,93,195,189,118,71,190,84,156,108,30,53,39,71,282,147,75,154,208,100,135,631,114,229,54,89,60,119,89,63,270,144,143,153,328,45,69,173,72,62,210,91,38,554,255,147,162,66,11,163,47,81,96,34,63,219,283,185,151,126,181,94,43,131,276,211,115,223,222,163,139,218,163,130,233,110,100,301,85,360,248,140,238,199,280,167,249,212,73,180,230,64,226,175,163,77,227,106,242,157,64,143,134,127,85,59,248,304,638,57,230,240,214,144,190,553,54,562,110,90,122,184,224,156,265,170,138,95,141,172,106,148,148,102,49,69,50,369,238,93,229,315,150,148,144,85,84,128,148,213,274,68,215,381,86,268,122,153,80,406,104,347,120,258,68,228,206,99,78,96,111,52,306,335,163,63,571,262,150,110,147,319,70,190,221,741,139,218,212,178,160,113,259,143,139,192,72,91,82,89,332,304,417,267,94,236,296,135,163,74,204,89,95,103,167,250,119,68,98,29,242,231,110,123,49,100,256,36,25,258,367,106,74,295,152,326,75,71,63,61,203,271,464,262,151,121,170,232,157,56,130,184,127,122,144,128,144,201,115,27,106,405,86,115,234,104,136,177,288,283,528,264,92,389,42,147,178,293,89,406,57,141,322,196,64,305,154,290,158,58,74,309,42,184,186,45,62,115,9,368,89,43,68,192,294,103,80,52,99,268,445,202,327,192,75,275,255,118,65,73,242,378,147,96,224,78,237,424,78,108,90,131,245,367,194,120,44,220,57,199,170,248,78,228,157,238,33,150,322,31,142,284,137,104,164,136,62,137,247,126,300,169,42,123,244,229,38,241,155,283,276,130,144,56,117,94,392,219,306,360,148,339,230,119,71,163,69,208,73,40,198,229,101,98,79,430,319,100,28,65,240,48,177,37,47,40,126,207,161,113,168,151,138,235,61,72,174,34,127,83,276,36,374,262,260,133,185,209,73,101,17,215,48,134,99,216,163,333,135,155,153,290,223,353,191,164,264,147,287,276,68,155,136,180,249,112,275,442,27,81,71,113,161,114,44,131,76,66,281,52,66,159,209,309,238,38,163,79,349,137,126,276,41,331,171,193,116,148,135,160,85,151,46,302,128,93,141,149,44,382,22,111,134,114,169,191,52,273,197,176,68,224,732,94,146,310,66,236,142,211,157,73,198,244,285,297,204,161,64,111,137,131,18,49,199,282,140,96,66,105,262,115,148,118,160,116,111,130,62,134,211,171,108,67,46,143,138,160,116,251,201,79,45,135,227,219,234,423,30,91,352,173,53,105,90,160,91,217,138,236,247,249,140,399,124,341,58,247,189,128,114,115,52,68,137,60,129,117,303,157,226,192,255,62,395,227,74,23,242,193,168,197,102,103,194,275,75,80,146,193,179,183,266,35,239,192,66,217,247,105,141,105,146,248,100,265,108,171,97,354,85,209,188,178,428,84,290,88,244,153,41,130,47,493,69,212,117,123,82,76,70,63,152,16,144,250,217,85,276,274,161,79,200,326,77,195,261,54,203,65,204,85,267,87,514,242,69,277,84,76,155,145,298,57,251,45,299,121,39,252,161,24,195,157,134,71,319,125,236,104,91,104,64,121,401,118,223,268,67,339,353,93,127,188,102,57,153,53,113,288,191,225,98,80,216,30,104,71,120,120,289,145,149,165,329,126,111,76,94,328,514,159,181,272,231,72,277,97,12,38,33,21,208,340,172,231,183,123,74,253,135,213,44,121,275,170,213,103,149,84,99,233,115,368,186,174,224,88,297,389,52,263,323,162,38,145,224,150,81,88,281,246,285,16,247,95,20,195,207,56,204,233,229,124,523,167,80,98,156,304,15,225,54,199,80,103,129,705,196,141,49,164,98,235,191,44,157,160,125,42,278,92,167,333,230,89,46,154,55,78,65,285,227,103,239,212,79,266,74,335,262,96,190,122,82,72,256,88,429,223,21,255,264,80,73,193,61,162,257,95,192,156,41,310,85,67,116,78,344,74,142,193,61,285,151,56,135,61,271,87,379,115,40,166,165,25,18,203,267,248,102,232,211,300,691,113,184,101,85,143,50,185,59,86,223,114,113,30,58,149,149,157,105,160,97,538,207,169,88,50,197,201,263,96,277,171,98,160,274,83,166,287,81,51,131,303,264,57,259,193,78,176,104,51,81,221,161,96,156,94,362,145,316,524,621,195,232,90,386,282,74,332,135,161,424,34,13,92,161,83,98,51,88,118,350,226,178,63,74,112,150,158,197,201,69,434,82,126,148,47,48,90,122,102,53,65,235,105,107,67,21,63,595,226,271,15,129,105,162,140,414,63,239,200,135,208,52,160,421,144,173,245,221,93,39,61,456,272,200,141,109,133,274,254,14,253,221,407,47,253,24,248,256,143,164,185,238,303,236,60,268,68,116,312,111,164,155,245,139,102,262,135,55,148,45,225,409,220,267,280,97,186,224,90,105,565,245,746,130,39,392,154,61,233,301,68,193,135,37,136,115,379,265,247,252,269,241,70,136,155,221,442,157,48,247,242,119,199,53,238,116,137,70,223,77,105,199,442,141,288,121,143,283,236,133,73,96,210,168,70,360,64,61,341,114,50,39,191,210,125,109,412,237,244,269,765,90,323,19,382,74,290,248,204,61,93,234,41,429,50,41,147,108,80,166,182,114,373,261,354,237,39,248,108,120,79,241,176,84,129,213,244,63,247,82,219,345,57,175,514,122,237,274,142,52,115,116,310,132,169,188,96,130,242,47,221,586,340,257,236,90,145,107,297,462,138,130,66,110,36,141,48,299,191,64,150,164,109,85,44,106,247,27,202,324,289,20,217,26,42,288,112,87,167,266,98,108,306,99,34,171,808,75,222,301,19,112,118,135,151,265,144,342,146,47,196,739,101,192,88,217,526,183,400,47,205,32,166,35,134,154,484,661,207,99,121,295,453,105,395,242,181,84,186,165,57,80,29,195,324,241,248,140,100,169,233,108,28,115,160,75,21,232,151,337,45,17,231,188,40,509,213,102,107,62,23,239,46,64,44,44,336,59,203,222,217,139,52,281,38,159,208,62,103,47,118,273,82,209,218,252,188,40,171,110,200,191,320,112,152,48,367,84,240,94,196,260,315,87,198,108,101,260,30,328,443,148,114,192,45,37,74,50,64,74,80,118,54,200,252,557,216,216,186,41,237,12,155,258,117,52,41,167,323,113,76,83,51,104,549,97,111,161,110,334,289,127,52,118,195,174,47,279,253,47,96,187,212,476,52,68,98,94,69,266,251,55,75,142,332,73,333,99,104,92,82,67,259,250,256,187,289,410,142,168,439,46,121,189,145,450,191,94,295,349,135,72,90,305,379,145,49,303,224,70,152,203,70,104,52,276,367,114,113,146,36,56,52,268,148,185,27,220,458,60,226,42,90,120,307,187,544,313,211,47,229,124,85,244,368,189,338,471,336,222,272,355,194,195,187,75,266,42,702,362,110,217,194,463,127,167,38,401,105,239,132,251,297,197,172,255,87,132,312,212,168,288,260,129,410,61,276,122,452,130,151,107,85,35,56,343,174,41,113,360,99,118,301,204,165,288,136,348,95,103,461,189,143,143,643,227,594,136,287,716,351,148,355,193,72,220,208,255,210,158,214,244,82,114,238,57,76,151,471,54,369,58,176,155,304,208,327,163,89,246,495,123,229,134,116,80,46,256,210,260,182,58,25,335,259,63,302,289,139,71,313,56,93,383,140,163,28,113,92,221,180,236,291,111,34,90,173,361,183,200,82,299,238,483,25,71,246,190,153,119,73,145,140,84,148,154,122,124,127,314,89,49,115,267,51,180,520,151,263,147,192,160,150,252,256,265,190,93,107,140,181,252,42,199,252,61,537,136,100,92,160,225,293,74,164,153,68,112,111,208,271,205,82,415,150,71,202,131,222,62,204,174,300,192,107,315,168,99,267,216,47,140,48,241,19,262,160,165,216,278,276,95,175,193,236,187,80,197,98,109,65,174,69,229,149,340,57,232,134,73,132,126,254,152,213,41,272,32,41,68,192,211,101,241,256,137,185,37,143,56,85,338,42,91,151,145,84,211,31,48,182,97,77,328,291,190,114,356,148,213,171,82,128,222,139,92,122,517,232,198,161,161,580,201,307,134,209,233,152,383,75,212,95,183,153,40,125,154,182,31,139,265,97,176,82,170,93,91,118,130,121,125,116,244,72,209,225,116,79,171,516,93,307,117,180,71,233,262,71,291,58,231,205,175,64,108,58,188,222,229,111,198,41,240,151,181,337,119,30,63,174,158,127,176,99,143,372,260,139,80,54,164,125,117,203,265,107,125,170,282,128,153,42,458,63,172,241,144,523,78,83,261,256,183,50,300,289,103,254,168,191,58,245,51,156,120,8,42,393,360,223,43,267,180,377,221,155,233,209,173,78,210,55,290,77,83,164,87,213,240,58,72,88,104,187,226,60,225,273,91,209,262,202,52,38,90,64,156,398,203,165,101,293,230,343,366,160,386,50,173,83,49,207,116,239,150,252,141,193,134,232,270,91,211,139,138,273,540,47,95,102,35,73,282,48,161,377,129,42,61,204,277,102,60,81,223,209,59,262,204,158,258,80,91,174,273,396,261,147,51,146,105,311,64,286,31,180,145,133,191,248,204,129,104,142,331,119,160,98,216,132,127,48,186,173,84,168,287,150,184,491,373,217,181,46,50,100,149,230,46,188,43,152,667,183,61,159,221,117,212,442,169,238,49,56,238,331,171,109,574,225,349,86,175,40,126,51,41,358,42,59,184,62,210,165,105,227,369,147,290,129,173,201,35,61,70,319,147,247,33,224,188,259,277,235,113,248,91,224,180,44,213,199,161,454,199,46,179,155,136,90,90,111,83,116,147,32,237,35,218,148,396,37,82,190,143,78,55,166,179,196,120,100,201,260,55,133,149,360,146,639,152,240,130,89,154,35,188,146,133,35,150,118,47,286,148,138,90,170,260,52,129,202,245,296,273,196,75,84,234,149,268,106,78,55,214,164,58,192,211,205,118,322,95,246,91,179,26,80,54,369,104,76,350,208,88,313,38,44,43,110,232,187,118,141,706,49,131,152,357,428,204,109,79,281,106,78,63,110,103,83,78,155,67,174,161,72,206,174,234,399,269,352,142,304,159,333,63,117,49,205,291,191,320,105,131,39,338,258,275,255,80,300,372,67,46,294,275,129,40,235,117,259,199,265,181,148,129,468,161,440,415,332,95,116,165,198,95,199,557,150,248,290,194,235,80,266,100,65,200,246,183,175,335,167,223,116,130,250,74,282,92,184,55,211,31,206,408,98,370,206,37,160,166,324,242,576,153,293,113,113,128,22,141,175,146,50,389,180,123,67,69,128,458,120,375,256,138,432,57,74,109,126,526,82,123,112,45,224,35,63,194,213,152,102,102,23,256,164,70,130,116,108,117,426,247,180,191,100,70,118,319,107,37,142,352,140,490,200,186,398,258,279,83,52,350,125,359,198,136,128,139,331,178,277,73,174,213,93,283,137,68,159,31,164,204,77,396,94,58,54,151,188,115,187,245,342,196,118,56,299,481,185,247,177,36,225,192,80,79,247,152,153,246,92,41,386,116,99,388,77,244,264,77,59,127,176,263,347,102,105,190,134,292,190,163,53,44,63,187,164,468,163,616,54,201,248,261,172,185,180,228,228,163,34,162,72,732,281,294,226,162,131,257,58,48,119,223,771,93,128,60,182,67,87,55,233,248,284,124,330,586,57,218,39,245,172,272,247,130,107,197,83,48,354,148,347,165,220,172,333,333,119,377,256,111,287,154,224,300,203,94,496,714,236,124,74,64,72,157,48,266,158,63,262,120,504,44,508,83,298,55,231,196,137,216,71,268,136,78,701,282,89,217,79,296,89,249,132,374,184,67,63,72,222,96,120,51,78,345,159,33,145,132,288,68,212,129,117,116,97,104,261,278,122,69,43,187,100,141,243,51,199,167,176,253,192,105,718,91,98,329,27,177,192,228,225,29,123,418,10,290,553,151,664,182,297,173,104,549,137,248,59,77,196,37,153,450,191,62,146,78,83,103,211,98,268,198,196,130,461,58,272,334,242,236,65,106,258,164,216,130,413,43,190,129,60,243,110,483,211,140,210,91,261,62,539,86,183,48,188,73,169,66,64,181,128,227,24,137,317,177,186,307,238,276,119,53,167,209,181,421,50,172,130,41,277,190,96,156,161,214,279,225,179,221,223,76,29,161,188,94,67,171,171,108,155,249,137,103,215,201,144,80,111,101,143,117,212,273,231,101,325,260,168,233,315,97,347,255,162,90,280,70,62,162,585,117,120,312,87,82,273,130,106,83,108,62,180,192,251,82,212,44,104,89,550,65,80,118,636,347,23,253,160,66,37,624,108,144,147,226,52,101,133,254,43,169,128,143,219,163,179,160,189,197,120,147,122,54,167,276,100,168,398,146,46,166,210,359,244,83,117,119,210,472,124,315,258,48,91,256,441,205,192,200,47,119,51,127,447,553,349,122,313,251,509,134,187,245,367,249,101,118,264,107,68,70,70,187,144,226,429,261,93,245,63,183,33,95,42,372,328,201,419,215,71,209,208,95,136,66,60,116,209,108,188,235,314,48,81,191,206,346,192,34,116,138,154,351,190,173,164,102,409,46,71,56,613,145,312,237,320,235,400,91,165,87,280,413,95,162,207,117,72,234,107,138,40,256,86,295,118,84,98,282,91,41,79,170,43,149,129,117,70,114,124,468,85,299,347,9,166,406,462,209,52,230,100,379,60,442,47,64,226,271,65,111,158,248,277,255,264,131,48,119,273,195,83,160,199,97,67,93,177,82,243,76,135,239,284,229,123,188,157,122,123,219,230,80,626,196,178,133,116,65,129,242,198,256,603,332,178,69,97,170,133,200,372,400,65,310,45,76,203,239,129,105,241,230,162,136,225,187,108,335,530,197,104,114,82,158,199,135,215,159,58,261,198,152,208,55,217,113,69,172,60,96,196,143,51,59,203,146,476,118,189,98,290,247,169,168,228,232,119,416,89,77,111,227,73,123,80,166,292,385,70,129,98,252,209,282,95,266,49,361,85,197,49,161,88,140,126,286,84,84,696,112,274,415,38,39,234,101,72,87,223,69,418,73,47,321,56,64,231,72,346,248,348,285,244,90,82,56,45,402,80,306,156,254,110,42,109,332,271,308,230,273,69,51,347,29,89,589,249,108,288,135,99,59,157,84,91,354,83,116,78,124,129,56,77,317,449,76,125,325,75,150,90,109,155,201,269,345,43,233,203,215,165,375,48,100,181,83,205,229,192,87,90,220,550,285,344,267,296,330,164,499,131,199,108,44,466,138,44,40,201,75,175,228,63,172,241,40,69,25,290,168,23,203,277,371,226,187,58,104,37,68,41,119,116,69,160,39,120,91,284,117,104,136,48,34,264,160,75,237,62,225,29,215,193,191,73,77,257,414,242,391,276,107,182,66,178,267,242,152,146,429,245,185,70,62,122,233,66,75,162,72,87,125,62,256,269,116,201,276,377,100,109,84,241,182,207,149,55,45,43,77,157,154,55,232,108,202,60,170,43,193,94,52,94,242,91,360,439,79,47,221,309,41,543,60,251,342,93,50,122,206,51,205,283,61,42,50,246,29,350,315,215,73,39,67,423,424,81,182,259,80,32,191,197,225,127,83,251,332,250,251,51,281,94,155,244,35,247,323,51,229,312,205,190,68,208,724,129,250,114,180,279,204,438,252,151,165,118,411,358,204,95,280,150,39,21,102,296,60,339,125,108,67,270,342,100,269,34,336,159,174,296,488,104,66,86,232,97,108,85,74,173,200,31,243,111,79,656,47,215,123,74,194,248,134,107,405,494,75,148,55,121,390,53,252,100,251,105,142,149,214,131,210,322,293,220,67,133,140,333,272,229,55,93,137,158,233,416,116,73,252,27,164,547,136,294,278,288,206,141,67,112,72,330,35,222,94,132,31,204,277,44,245,92,226,192,70,300,60,39,111,85,57,179,352,265,533,143,184,300,131,85,187,131,107,216,112,132,213,52,238,35,105,236,145,202,150,451,171,32,30,103,82,238,218,151,123,197,328,154,82,155,334,109,183,184,171,79,47,378,55,140,152,482,325,373,331,218,79,30,86,146,388,104,44,98,135,219,219,63,40,100,173,346,209,201,206,125,210,82,145,231,63,163,112,73,163,74,99,242,129,67,99,236,285,680,103,472,352,65,57,97,81,130,392,147,182,177,208,344,118,161,67,132,332,238,159,87,138,226,98,253,145,449,77,104,251,223,40,194,295,572,100,379,19,168,247,99,149,46,91,168,99,168,122,209,136,352,70,226,332,186,62,136,186,158,232,437,134,225,344,229,539,252,108,258,249,177,111,268,208,291,173,670,193,224,146,175,128,87,244,354,230,97,25,318,138,31,61,130,328,127,244,296,149,330,60,133,272,63,95,217,96,248,48,233,65,75,109,208,501,255,183,200,175,73,450,231,116,413,186,106,48,92,164,59,205,169,22,100,40,25,153,55,367,102,210,291,85,88,163,197,77,172,277,189,417,261,51,253,38,215,263,185,246,174,158,139,211,212,85,79,151,345,127,387,275,86,78,123,127,270,204,134,80,169,136,111,138,196,83,123,45,210,126,54,488,35,355,281,206,23,97,250,140,204,57,559,79,350,208,246,294,51,69,56,98,110,363,93,325,491,64,70,111,129,256,166,268,147,153,326,47,69,165,35,90,342,327,284,699,174,45,329,291,243,174,83,268,244,104,227,83,262,232,97,85,199,253,232,77,760,141,90,105,145,97,65,693,211,193,329,254,481,71,69,197,62,84,79,212,216,44,133,67,224,131,216,167,97,326,37,105,306,47,162,145,158,294,11,114,176,118,58,124,87,83,387,205,265,142,257,99,188,117,278,469,44,412,185,128,157,119,81,136,290,244,370,50,473,104,103,166,106,80,60,122,219,15,179,65,235,202,164,258,218,366,158,111,330,90,343,98,167,113,51,328,396,248,26,303,179,213,310,233,239,86,65,88,125,255,72,254,229,91,37,78,166,68,274,242,80,261,239,257,117,204,179,257,26,137,27,227,70,263,153,70,171,312,208,58,49,266,121,225,70,151,137,261,135,58,100,205,223,148,98,79,554,191,133,46,173,194,171,52,330,240,166,24,287,123,171,87,153,461,108,85,110,148,328,162,115,512,62,82,79,174,138,18,115,107,117,144,199,92,163,157,59,262,213,323,108,145,112,483,64,212,254,120,114,341,325,138,85,80,82,364,141,228,87,223,182,115,156,244,86,124,83,206,238,248,144,174,58,52,96,193,83,405,100,207,105,16,601,186,68,306,123,224,182,129,421,211,120,176,226,256,130,40,276,434,349,175,165,251,258,96,289,42,38,49,279,58,283,198,56,167,256,234,276,185,209,271,260,19,149,61,163,173,318,105,156,325,140,65,129,108,208,27,105,210,190,109,196,393,277,105,200,99,131,177,50,252,43,311,119,64,178,168,291,187,53,180,36,238,143,287,94,303,515,208,69,52,81,115,77,182,351,300,46,99,231,275,170,125,160,303,107,97,331,51,527,168,266,247,84,160,231,136,105,110,243,56,244,120,388,241,114,55,92,92,105,238,295,359,145,339,126,197,70,180,191,182,331,113,470,75,195,205,106,156,178,100,263,221,248,94,43,76,175,152,186,104,405,113,157,185,109,128,32,274,431,249,73,201,97,81,138,131,58,110,88,117,187,262,156,177,297,95,599,266,315,71,170,69,128,175,445,46,365,237,305,249,119,46,258,312,299,131,126,169,330,70,140,91,204,132,231,208,534,81,193,166,144,104,237,158,527,205,64,65,118,180,185,154,247,91,163,134,401,251,191,27,60,85,34,105,153,66,138,233,120,488,156,296,216,614,123,110,189,64,89,66,123,121,138,231,225,364,187,246,58,259,102,272,102,53,277,248,124,253,161,101,250,113,235,72,81,54,77,57,80,225,303,154,535,243,157,256,107,601,289,80,210,39,178,57,133,169,250,252,251,149,71,93,193,108,149,298,121,325,73,288,326,89,105,155,99,134,140,58,228,145,60,99,207,418,165,81,161,55,68,172,180,230,99,92,33,125,238,108,53,96,187,220,308,260,31,123,157,256,275,137,271,107,191,127,236,102,106,139,110,265,178,173,35,373,62,94,218,339,239,211,145,124,205,209,272,141,471,118,48,139,204,238,141,56,149,35,127,150,73,86,141,321,78,190,65,299,550,89,45,45,54,213,88,271,101,408,70,128,135,286,25,233,125,238,130,220,67,67,89,90,143,304,119,84,206,214,104,210,86,40,25,192,213,79,166,68,115,133,201,34,74,127,21,61,98,710,223,196,190,266,78,130,294,280,237,181,136,232,120,183,327,131,207,196,129,205,210,217,170,231,126,43,110,100,252,96,28,57,187,259,155,156,234,50,53,48,151,35,152,139,298,145,160,292,141,47,488,65,76,306,144,365,132,325,405,214,366,225,103,254,197,224,495,222,108,134,171,124,161,240,527,450,109,223,192,267,93,56,126,106,178,95,276,134,195,231,372,364,640,114,53,259,152,29,136,126,99,147,236,263,114,47,245,107,290,59,112,250,166,296,260,535,348,173,181,130,25,61,224,72,49,175,137,346,67,352,99,48,306,41,237,71,146,68,569,283,280,458,365,303,153,444,93,52,159,59,378,265,209,41,52,130,400,52,219,137,134,232,178,71,22,150,199,59,68,323,146,178,62,388,132,281,234,239,85,25,71,167,412,134,52,298,101,159,55,62,84,142,132,203,62,173,82,177,113,161,119,189,93,78,416,210,310,154,132,50,55,134,602,74,56,382,129,236,40,489,190,284,312,195,118,137,82,241,216,84,126,382,218,117,49,192,487,199,90,49,86,174,308,60,143,118,250,253,110,250,101,489,132,138,68,210,203,352,48,83,256,143,103,135,55,177,220,217,263,40,365,232,168,212,67,46,141,211,63,27,77,138,219,473,48,135,256,95,121,116,223,100,206,78,93,240,145,54,109,120,51,85,45,10,29,217,284,255,227,319,255,139,123,119,173,126,99,217,120,37,43,50,166,68,241,164,550,75,210,269,158,41,111,117,75,93,209,69,145,163,206,173,106,131,309,249,91,77,78,193,102,24,28,275,46,148,37,364,54,269,152,120,281,293,394,160,122,31,430,25,52,193,155,365,105,75,271,150,299,91,146,179,311,292,250,81,246,117,143,262,23,177,150,42,460,115,208,104,80,22,384,19,118,111,65,226,291,84,149,151,68,173,122,34,403,305,81,258,37,158,136,96,283,253,202,218,522,173,239,46,18,222,369,113,152,170,157,178,61,193,267,82,228,54,67,208,234,110,268,52,364,117,22,74,111,130,268,145,123,70,273,232,47,346,150,328,67,132,19,34,180,89,228,94,123,156,124,156,66,93,161,97,201,208,46,313,256,377,102,42,97,478,146,111,102,235,117,154,123,408,96,249,132,113,101,121,71,72,408,110,102,38,54,118,93,243,198,54,133,224,108,33,44,93,105,201,288,16,46,204,97,159,122,81,56,175,59,106,72,107,93,64,535,53,144,344,109,283,39,25,169,204,86,243,59,150,301,216,48,39,35,252,494,57,419,149,228,199,28,98,146,100,61,166,52,73,93,229,181,200,30,26,79,144,124,162,348,216,132,31,90,197,155,159,220,127,233,278,100,74,182,194,290,149,49,220,514,187,175,349,169,47,223,362,260,86,231,330,73,176,53,86,171,245,197,145,172,411,127,96,112,373,115,185,184,260,146,228,371,70,144,119,259,279,122,115,231,55,146,378,111,50,169,246,166,386,108,158,166,258,273,244,30,110,61,137,151,174,340,168,136,213,110,259,170,134,75,14,277,150,57,387,217,89,145,64,174,95,190,176,202,106,95,165,699,154,68,208,107,155,258,405,167,165,254,40,201,45,55,130,68,310,74,237,126,213,247,119,192,174,87,129,260,86,210,129,126,729,387,101,506,287,156,361,662,162,83,667,144,76,280,115,92,125,66,218,695,192,122,44,39,21,104,109,60,382,331,132,92,262,239,97,213,16,249,140,120,250,206,239,275,109,105,209,376,113,92,64,87,99,383,681,159,155,231,58,77,125,330,66,179,101,150,250,85,241,80,125,221,197,119,266,97,62,40,74,77,28,112,195,248,515,178,124,50,281,179,30,163,73,286,44,124,227,206,73,201,85,329,164,542,299,321,91,69,261,82,110,151,128,394,199,158,270,45,150,63,26,262,81,458,72,126,93,179,113,87,154,118,591,75,261,260,132,201,454,83,84,295,135,115,62,353,226,78,74,50,139,97,214,115,290,209,212,110,238,129,90,96,188,108,100,247,208,284,159,111,68,170,160,149,300,160,86,130,51,233,260,513,145,102,175,137,160,309,160,55,261,111,312,20,102,286,275,47,137,248,178,351,327,37,237,243,116,29,91,33,110,177,269,259,249,261,25,340,62,279,143,58,100,416,251,348,194,62,146,222,36,116,138,260,72,275,354,267,164,218,305,197,242,143,218,107,97,87,94,66,145,43,53,124,170,56,67,192,136,59,53,28,237,162,113,19,56,104,552,149,230,386,156,129,160,229,150,161,87,79,72,233,205,104,25,135,238,224,290,43,265,159,71,100,52,333,163,32,127,327,88,288,97,25,98,300,383,23,287,122,400,65,672,151,44,115,273,102,180,512,159,242,160,94,135,184,174,151,112,261,153,157,12,111,444,119,242,92,26,144,156,100,74,37,54,256,387,216,573,94,273,227,165,317,225,37,229,199,189,248,160,280,65,113,34,294,56,246,344,53,60,143,203,99,157,343,65,133,90,230,124,118,313,442,202,50,185,38,100,163,188,196,168,280,55,56,141,220,197,284,241,333,376,122,499,266,249,55,541,131,167,152,119,240,94,81,276,223,124,174,662,139,749,171,87,260,23,110,195,42,136,332,58,212,184,152,202,180,304,69,366,115,248,326,84,120,290,250,139,62,104,160,117,117,242,266,349,213,222,288,318,180,113,242,38,206,172,40,327,95,81,181,157,155,37,320,123,215,106,116,49,260,428,117,194,323,259,238,259,208,259,261,79,134,237,146,202,179,190,130,372,211,100,165,251,129,145,203,323,115,67,45,36,149,55,210,182,303,87,65,222,61,66,227,222,69,68,190,82,356,53,250,175,52,154,362,214,102,231,118,125,118,129,75,170,193,311,117,304,312,153,81,250,699,115,113,180,274,173,106,244,216,179,159,184,269,111,474,32,44,173,107,44,158,126,52,214,173,294,141,79,124,191,89,213,236,137,374,762,107,42,408,167,107,394,144,38,193,426,119,318,460,242,83,250,213,77,134,313,93,140,227,156,192,133,106,378,172,198,31,95,86,302,246,84,25,242,36,115,110,86,248,97,571,252,67,143,113,169,164,100,254,402,37,58,102,172,107,157,409,152,107,124,153,156,212,407,176,58,138,94,229,159,430,162,349,161,266,101,407,179,175,71,52,377,226,221,98,195,79,176,50,293,691,169,349,207,229,110,244,318,238,80,453,103,184,142,70,99,275,139,244,125,57,205,126,156,161,210,86,311,130,163,422,156,86,220,99,181,74,130,88,291,141,306,208,36,229,163,250,234,127,92,267,130,208,192,107,35,301,100,178,38,265,411,163,328,392,334,52,241,389,84,191,73,174,100,236,193,181,140,60,33,128,132,40,227,324,164,119,301,206,202,75,197,98,98,47,202,171,134,363,164,312,140,470,313,266,28,208,68,206,240,37,374,142,223,50,440,244,315,113,382,249,404,203,287,188,329,334,186,102,63,88,307,238,314,291,109,116,67,284,361,106,304,69,233,291,214,84,148,88,31,243,280,234,105,64,113,126,188,214,116,256,83,214,92,42,186,116,127,656,183,124,69,37,104,106,97,186,218,104,389,279,149,126,213,67,80,68,462,377,81,205,258,28,96,188,258,185,91,240,36,229,174,297,33,296,137,107,133,62,254,155,166,117,38,123,117,54,343,80,184,206,212,24,461,116,204,71,53,115,427,294,252,319,80,74,193,101,331,70,201,143,128,290,98,84,62,169,238,248,192,89,134,344,60,223,220,90,250,209,257,140,373,101,163,188,130,261,337,43,197,79,116,288,173,60,235,57,56,95,126,249,65,200,300,289,445,331,99,325,107,79,34,214,168,175,162,137,231,161,115,133,202,339,220,280,196,89,314,77,128,120,196,172,175,378,331,100,224,156,220,20,132,347,199,84,159,267,137,199,199,121,290,266,192,27,209,216,152,70,38,181,101,188,200,174,45,328,272,235,276,175,105,176,136,361,81,285,42,28,40,14,62,69,179,186,102,148,285,173,261,69,104,535,117,30,177,439,278,176,172,248,92,283,141,89,134,9,85,184,45,247,143,294,85,44,61,279,46,240,237,226,194,83,244,94,377,661,359,121,281,223,132,339,234,330,251,94,233,247,146,75,233,217,102,146,156,448,77,88,174,170,30,75,85,151,200,605,73,102,159,112,121,130,198,134,114,152,136,167,199,243,137,213,193,40,73,68,220,134,159,129,352,225,143,274,85,301,36,463,567,306,204,76,113,591,64,182,373,122,109,164,173,140,248,130,232,101,384,412,267,119,22,276,32,511,236,43,51,286,66,88,234,140,238,396,106,84,387,129,176,44,229,128,43,39,192,83,309,43,192,298,107,53,59,156,105,103,151,229,250,82,41,72,264,134,43,398,351,127,135,59,167,59,42,454,261,290,346,57,252,303,92,77,185,181,268,55,281,146,197,251,21,83,177,72,74,94,71,170,190,141,128,108,317,191,220,253,90,216,33,129,266,119,182,164,122,37,122,174,304,195,121,234,531,66,232,29,176,182,222,125,339,25,96,129,317,45,260,454,122,190,189,31,165,163,28,139,336,96,249,31,61,59,144,285,165,154,159,70,524,131,166,107,168,198,248,76,143,250,240,357,73,157,125,166,52,58,83,176,335,284,225,70,333,117,395,285,477,121,66,402,76,128,191,107,341,103,226,117,168,234,191,229,266,216,190,242,209,150,167,279,341,116,724,343,249,155,467,539,73,292,92,46,87,216,188,259,299,389,204,167,59,268,132,45,190,416,251,74,18,126,334,142,161,295,92,152,103,154,61,237,183,87,229,137,164,284,78,428,151,227,124,125,182,173,178,52,228,133,146,393,121,89,148,56,162,102,243,115,55,100,177,170,64,375,54,263,172,183,130,236,190,313,205,106,343,198,247,104,19,316,68,71,356,173,47,205,265,287,244,205,375,266,216,240,175,58,191,22,90,277,213,149,114,339,115,201,89,156,96,327,331,149,321,53,114,138,280,237,293,217,339,171,196,146,517,83,105,103,180,99,44,302,48,81,363,67,28,73,37,174,66,137,171,189,180,148,148,188,396,204,72,199,67,34,31,233,171,214,226,367,151,204,124,242,148,285,169,95,286,87,69,202,135,335,174,61,245,96,38,36,88,337,26,206,138],\"xaxis\":\"x\",\"yaxis\":\"y\",\"type\":\"histogram\"}],                        {\"template\":{\"data\":{\"histogram2dcontour\":[{\"type\":\"histogram2dcontour\",\"colorbar\":{\"outlinewidth\":0,\"ticks\":\"\"},\"colorscale\":[[0.0,\"#0d0887\"],[0.1111111111111111,\"#46039f\"],[0.2222222222222222,\"#7201a8\"],[0.3333333333333333,\"#9c179e\"],[0.4444444444444444,\"#bd3786\"],[0.5555555555555556,\"#d8576b\"],[0.6666666666666666,\"#ed7953\"],[0.7777777777777778,\"#fb9f3a\"],[0.8888888888888888,\"#fdca26\"],[1.0,\"#f0f921\"]]}],\"choropleth\":[{\"type\":\"choropleth\",\"colorbar\":{\"outlinewidth\":0,\"ticks\":\"\"}}],\"histogram2d\":[{\"type\":\"histogram2d\",\"colorbar\":{\"outlinewidth\":0,\"ticks\":\"\"},\"colorscale\":[[0.0,\"#0d0887\"],[0.1111111111111111,\"#46039f\"],[0.2222222222222222,\"#7201a8\"],[0.3333333333333333,\"#9c179e\"],[0.4444444444444444,\"#bd3786\"],[0.5555555555555556,\"#d8576b\"],[0.6666666666666666,\"#ed7953\"],[0.7777777777777778,\"#fb9f3a\"],[0.8888888888888888,\"#fdca26\"],[1.0,\"#f0f921\"]]}],\"heatmap\":[{\"type\":\"heatmap\",\"colorbar\":{\"outlinewidth\":0,\"ticks\":\"\"},\"colorscale\":[[0.0,\"#0d0887\"],[0.1111111111111111,\"#46039f\"],[0.2222222222222222,\"#7201a8\"],[0.3333333333333333,\"#9c179e\"],[0.4444444444444444,\"#bd3786\"],[0.5555555555555556,\"#d8576b\"],[0.6666666666666666,\"#ed7953\"],[0.7777777777777778,\"#fb9f3a\"],[0.8888888888888888,\"#fdca26\"],[1.0,\"#f0f921\"]]}],\"heatmapgl\":[{\"type\":\"heatmapgl\",\"colorbar\":{\"outlinewidth\":0,\"ticks\":\"\"},\"colorscale\":[[0.0,\"#0d0887\"],[0.1111111111111111,\"#46039f\"],[0.2222222222222222,\"#7201a8\"],[0.3333333333333333,\"#9c179e\"],[0.4444444444444444,\"#bd3786\"],[0.5555555555555556,\"#d8576b\"],[0.6666666666666666,\"#ed7953\"],[0.7777777777777778,\"#fb9f3a\"],[0.8888888888888888,\"#fdca26\"],[1.0,\"#f0f921\"]]}],\"contourcarpet\":[{\"type\":\"contourcarpet\",\"colorbar\":{\"outlinewidth\":0,\"ticks\":\"\"}}],\"contour\":[{\"type\":\"contour\",\"colorbar\":{\"outlinewidth\":0,\"ticks\":\"\"},\"colorscale\":[[0.0,\"#0d0887\"],[0.1111111111111111,\"#46039f\"],[0.2222222222222222,\"#7201a8\"],[0.3333333333333333,\"#9c179e\"],[0.4444444444444444,\"#bd3786\"],[0.5555555555555556,\"#d8576b\"],[0.6666666666666666,\"#ed7953\"],[0.7777777777777778,\"#fb9f3a\"],[0.8888888888888888,\"#fdca26\"],[1.0,\"#f0f921\"]]}],\"surface\":[{\"type\":\"surface\",\"colorbar\":{\"outlinewidth\":0,\"ticks\":\"\"},\"colorscale\":[[0.0,\"#0d0887\"],[0.1111111111111111,\"#46039f\"],[0.2222222222222222,\"#7201a8\"],[0.3333333333333333,\"#9c179e\"],[0.4444444444444444,\"#bd3786\"],[0.5555555555555556,\"#d8576b\"],[0.6666666666666666,\"#ed7953\"],[0.7777777777777778,\"#fb9f3a\"],[0.8888888888888888,\"#fdca26\"],[1.0,\"#f0f921\"]]}],\"mesh3d\":[{\"type\":\"mesh3d\",\"colorbar\":{\"outlinewidth\":0,\"ticks\":\"\"}}],\"scatter\":[{\"fillpattern\":{\"fillmode\":\"overlay\",\"size\":10,\"solidity\":0.2},\"type\":\"scatter\"}],\"parcoords\":[{\"type\":\"parcoords\",\"line\":{\"colorbar\":{\"outlinewidth\":0,\"ticks\":\"\"}}}],\"scatterpolargl\":[{\"type\":\"scatterpolargl\",\"marker\":{\"colorbar\":{\"outlinewidth\":0,\"ticks\":\"\"}}}],\"bar\":[{\"error_x\":{\"color\":\"#2a3f5f\"},\"error_y\":{\"color\":\"#2a3f5f\"},\"marker\":{\"line\":{\"color\":\"#E5ECF6\",\"width\":0.5},\"pattern\":{\"fillmode\":\"overlay\",\"size\":10,\"solidity\":0.2}},\"type\":\"bar\"}],\"scattergeo\":[{\"type\":\"scattergeo\",\"marker\":{\"colorbar\":{\"outlinewidth\":0,\"ticks\":\"\"}}}],\"scatterpolar\":[{\"type\":\"scatterpolar\",\"marker\":{\"colorbar\":{\"outlinewidth\":0,\"ticks\":\"\"}}}],\"histogram\":[{\"marker\":{\"pattern\":{\"fillmode\":\"overlay\",\"size\":10,\"solidity\":0.2}},\"type\":\"histogram\"}],\"scattergl\":[{\"type\":\"scattergl\",\"marker\":{\"colorbar\":{\"outlinewidth\":0,\"ticks\":\"\"}}}],\"scatter3d\":[{\"type\":\"scatter3d\",\"line\":{\"colorbar\":{\"outlinewidth\":0,\"ticks\":\"\"}},\"marker\":{\"colorbar\":{\"outlinewidth\":0,\"ticks\":\"\"}}}],\"scattermapbox\":[{\"type\":\"scattermapbox\",\"marker\":{\"colorbar\":{\"outlinewidth\":0,\"ticks\":\"\"}}}],\"scatterternary\":[{\"type\":\"scatterternary\",\"marker\":{\"colorbar\":{\"outlinewidth\":0,\"ticks\":\"\"}}}],\"scattercarpet\":[{\"type\":\"scattercarpet\",\"marker\":{\"colorbar\":{\"outlinewidth\":0,\"ticks\":\"\"}}}],\"carpet\":[{\"aaxis\":{\"endlinecolor\":\"#2a3f5f\",\"gridcolor\":\"white\",\"linecolor\":\"white\",\"minorgridcolor\":\"white\",\"startlinecolor\":\"#2a3f5f\"},\"baxis\":{\"endlinecolor\":\"#2a3f5f\",\"gridcolor\":\"white\",\"linecolor\":\"white\",\"minorgridcolor\":\"white\",\"startlinecolor\":\"#2a3f5f\"},\"type\":\"carpet\"}],\"table\":[{\"cells\":{\"fill\":{\"color\":\"#EBF0F8\"},\"line\":{\"color\":\"white\"}},\"header\":{\"fill\":{\"color\":\"#C8D4E3\"},\"line\":{\"color\":\"white\"}},\"type\":\"table\"}],\"barpolar\":[{\"marker\":{\"line\":{\"color\":\"#E5ECF6\",\"width\":0.5},\"pattern\":{\"fillmode\":\"overlay\",\"size\":10,\"solidity\":0.2}},\"type\":\"barpolar\"}],\"pie\":[{\"automargin\":true,\"type\":\"pie\"}]},\"layout\":{\"autotypenumbers\":\"strict\",\"colorway\":[\"#636efa\",\"#EF553B\",\"#00cc96\",\"#ab63fa\",\"#FFA15A\",\"#19d3f3\",\"#FF6692\",\"#B6E880\",\"#FF97FF\",\"#FECB52\"],\"font\":{\"color\":\"#2a3f5f\"},\"hovermode\":\"closest\",\"hoverlabel\":{\"align\":\"left\"},\"paper_bgcolor\":\"white\",\"plot_bgcolor\":\"#E5ECF6\",\"polar\":{\"bgcolor\":\"#E5ECF6\",\"angularaxis\":{\"gridcolor\":\"white\",\"linecolor\":\"white\",\"ticks\":\"\"},\"radialaxis\":{\"gridcolor\":\"white\",\"linecolor\":\"white\",\"ticks\":\"\"}},\"ternary\":{\"bgcolor\":\"#E5ECF6\",\"aaxis\":{\"gridcolor\":\"white\",\"linecolor\":\"white\",\"ticks\":\"\"},\"baxis\":{\"gridcolor\":\"white\",\"linecolor\":\"white\",\"ticks\":\"\"},\"caxis\":{\"gridcolor\":\"white\",\"linecolor\":\"white\",\"ticks\":\"\"}},\"coloraxis\":{\"colorbar\":{\"outlinewidth\":0,\"ticks\":\"\"}},\"colorscale\":{\"sequential\":[[0.0,\"#0d0887\"],[0.1111111111111111,\"#46039f\"],[0.2222222222222222,\"#7201a8\"],[0.3333333333333333,\"#9c179e\"],[0.4444444444444444,\"#bd3786\"],[0.5555555555555556,\"#d8576b\"],[0.6666666666666666,\"#ed7953\"],[0.7777777777777778,\"#fb9f3a\"],[0.8888888888888888,\"#fdca26\"],[1.0,\"#f0f921\"]],\"sequentialminus\":[[0.0,\"#0d0887\"],[0.1111111111111111,\"#46039f\"],[0.2222222222222222,\"#7201a8\"],[0.3333333333333333,\"#9c179e\"],[0.4444444444444444,\"#bd3786\"],[0.5555555555555556,\"#d8576b\"],[0.6666666666666666,\"#ed7953\"],[0.7777777777777778,\"#fb9f3a\"],[0.8888888888888888,\"#fdca26\"],[1.0,\"#f0f921\"]],\"diverging\":[[0,\"#8e0152\"],[0.1,\"#c51b7d\"],[0.2,\"#de77ae\"],[0.3,\"#f1b6da\"],[0.4,\"#fde0ef\"],[0.5,\"#f7f7f7\"],[0.6,\"#e6f5d0\"],[0.7,\"#b8e186\"],[0.8,\"#7fbc41\"],[0.9,\"#4d9221\"],[1,\"#276419\"]]},\"xaxis\":{\"gridcolor\":\"white\",\"linecolor\":\"white\",\"ticks\":\"\",\"title\":{\"standoff\":15},\"zerolinecolor\":\"white\",\"automargin\":true,\"zerolinewidth\":2},\"yaxis\":{\"gridcolor\":\"white\",\"linecolor\":\"white\",\"ticks\":\"\",\"title\":{\"standoff\":15},\"zerolinecolor\":\"white\",\"automargin\":true,\"zerolinewidth\":2},\"scene\":{\"xaxis\":{\"backgroundcolor\":\"#E5ECF6\",\"gridcolor\":\"white\",\"linecolor\":\"white\",\"showbackground\":true,\"ticks\":\"\",\"zerolinecolor\":\"white\",\"gridwidth\":2},\"yaxis\":{\"backgroundcolor\":\"#E5ECF6\",\"gridcolor\":\"white\",\"linecolor\":\"white\",\"showbackground\":true,\"ticks\":\"\",\"zerolinecolor\":\"white\",\"gridwidth\":2},\"zaxis\":{\"backgroundcolor\":\"#E5ECF6\",\"gridcolor\":\"white\",\"linecolor\":\"white\",\"showbackground\":true,\"ticks\":\"\",\"zerolinecolor\":\"white\",\"gridwidth\":2}},\"shapedefaults\":{\"line\":{\"color\":\"#2a3f5f\"}},\"annotationdefaults\":{\"arrowcolor\":\"#2a3f5f\",\"arrowhead\":0,\"arrowwidth\":1},\"geo\":{\"bgcolor\":\"white\",\"landcolor\":\"#E5ECF6\",\"subunitcolor\":\"white\",\"showland\":true,\"showlakes\":true,\"lakecolor\":\"white\"},\"title\":{\"x\":0.05},\"mapbox\":{\"style\":\"light\"}}},\"xaxis\":{\"anchor\":\"y\",\"domain\":[0.0,1.0],\"title\":{\"text\":\"value\"}},\"yaxis\":{\"anchor\":\"x\",\"domain\":[0.0,1.0],\"title\":{\"text\":\"count\"}},\"legend\":{\"title\":{\"text\":\"variable\"},\"tracegroupgap\":0},\"margin\":{\"t\":60},\"barmode\":\"relative\"},                        {\"responsive\": true}                    ).then(function(){\n",
              "                            \n",
              "var gd = document.getElementById('2b1ccd5e-3344-4ac8-a576-78d22a88bdbb');\n",
              "var x = new MutationObserver(function (mutations, observer) {{\n",
              "        var display = window.getComputedStyle(gd).display;\n",
              "        if (!display || display === 'none') {{\n",
              "            console.log([gd, 'removed!']);\n",
              "            Plotly.purge(gd);\n",
              "            observer.disconnect();\n",
              "        }}\n",
              "}});\n",
              "\n",
              "// Listen for the removal of the full notebook cells\n",
              "var notebookContainer = gd.closest('#notebook-container');\n",
              "if (notebookContainer) {{\n",
              "    x.observe(notebookContainer, {childList: true});\n",
              "}}\n",
              "\n",
              "// Listen for the clearing of the current output cell\n",
              "var outputEl = gd.closest('.output');\n",
              "if (outputEl) {{\n",
              "    x.observe(outputEl, {childList: true});\n",
              "}}\n",
              "\n",
              "                        })                };                            </script>        </div>\n",
              "</body>\n",
              "</html>"
            ]
          },
          "metadata": {}
        }
      ]
    },
    {
      "cell_type": "markdown",
      "source": [
        "As we can see that the length of the reports are more that 1024, which bart model cannot handle. We will remove all the text that has tokens > 1024."
      ],
      "metadata": {
        "id": "H57fth6HNz7r"
      }
    },
    {
      "cell_type": "markdown",
      "source": [],
      "metadata": {
        "id": "x1XiaA-sNw7C"
      }
    },
    {
      "cell_type": "code",
      "source": [],
      "metadata": {
        "id": "799cpVNdOHAJ"
      },
      "execution_count": 37,
      "outputs": []
    },
    {
      "cell_type": "markdown",
      "source": [
        "#### removing text from the dataset that has more than 1024 tokens\n"
      ],
      "metadata": {
        "id": "mVuPtiQuOHkT"
      }
    },
    {
      "cell_type": "code",
      "source": [
        "new_data.set_format('pandas')"
      ],
      "metadata": {
        "id": "DQA5GpqKOQBb"
      },
      "execution_count": 38,
      "outputs": []
    },
    {
      "cell_type": "code",
      "source": [
        "train_df = new_data['train'][:]\n",
        "train_df.head()"
      ],
      "metadata": {
        "colab": {
          "base_uri": "https://localhost:8080/",
          "height": 206
        },
        "id": "zsV9M_RdOYB_",
        "outputId": "86584a5b-0ea0-4b54-8e74-55ac2cbff56a"
      },
      "execution_count": 39,
      "outputs": [
        {
          "output_type": "execute_result",
          "data": {
            "text/plain": [
              "                                                text  \\\n",
              "0  SECTION 1. LIABILITY OF BUSINESS ENTITIES PROV...   \n",
              "1  SECTION 1. SHORT TITLE.\\n\\n    This Act may be...   \n",
              "2  SECTION 1. SHORT TITLE.\\n\\n    This Act may be...   \n",
              "3  SECTION 1. NONRECOGNITION OF GAIN WHERE ROLLOV...   \n",
              "4  SECTION 1. SHORT TITLE.\\n\\n    This Act may be...   \n",
              "\n",
              "                                             summary  \\\n",
              "0  Shields a business entity from civil liability...   \n",
              "1  Human Rights Information Act - Requires certai...   \n",
              "2  Jackie Robinson Commemorative Coin Act - Direc...   \n",
              "3  Amends the Internal Revenue Code to provide (t...   \n",
              "4  Native American Energy Act - (Sec. 3) Amends t...   \n",
              "\n",
              "                                               title  \n",
              "0  A bill to limit the civil liability of busines...  \n",
              "1                       Human Rights Information Act  \n",
              "2             Jackie Robinson Commemorative Coin Act  \n",
              "3  To amend the Internal Revenue Code to provide ...  \n",
              "4                         Native American Energy Act  "
            ],
            "text/html": [
              "\n",
              "  <div id=\"df-a552f7d8-6c28-48cb-9ca5-73d7695bd0fa\" class=\"colab-df-container\">\n",
              "    <div>\n",
              "<style scoped>\n",
              "    .dataframe tbody tr th:only-of-type {\n",
              "        vertical-align: middle;\n",
              "    }\n",
              "\n",
              "    .dataframe tbody tr th {\n",
              "        vertical-align: top;\n",
              "    }\n",
              "\n",
              "    .dataframe thead th {\n",
              "        text-align: right;\n",
              "    }\n",
              "</style>\n",
              "<table border=\"1\" class=\"dataframe\">\n",
              "  <thead>\n",
              "    <tr style=\"text-align: right;\">\n",
              "      <th></th>\n",
              "      <th>text</th>\n",
              "      <th>summary</th>\n",
              "      <th>title</th>\n",
              "    </tr>\n",
              "  </thead>\n",
              "  <tbody>\n",
              "    <tr>\n",
              "      <th>0</th>\n",
              "      <td>SECTION 1. LIABILITY OF BUSINESS ENTITIES PROV...</td>\n",
              "      <td>Shields a business entity from civil liability...</td>\n",
              "      <td>A bill to limit the civil liability of busines...</td>\n",
              "    </tr>\n",
              "    <tr>\n",
              "      <th>1</th>\n",
              "      <td>SECTION 1. SHORT TITLE.\\n\\n    This Act may be...</td>\n",
              "      <td>Human Rights Information Act - Requires certai...</td>\n",
              "      <td>Human Rights Information Act</td>\n",
              "    </tr>\n",
              "    <tr>\n",
              "      <th>2</th>\n",
              "      <td>SECTION 1. SHORT TITLE.\\n\\n    This Act may be...</td>\n",
              "      <td>Jackie Robinson Commemorative Coin Act - Direc...</td>\n",
              "      <td>Jackie Robinson Commemorative Coin Act</td>\n",
              "    </tr>\n",
              "    <tr>\n",
              "      <th>3</th>\n",
              "      <td>SECTION 1. NONRECOGNITION OF GAIN WHERE ROLLOV...</td>\n",
              "      <td>Amends the Internal Revenue Code to provide (t...</td>\n",
              "      <td>To amend the Internal Revenue Code to provide ...</td>\n",
              "    </tr>\n",
              "    <tr>\n",
              "      <th>4</th>\n",
              "      <td>SECTION 1. SHORT TITLE.\\n\\n    This Act may be...</td>\n",
              "      <td>Native American Energy Act - (Sec. 3) Amends t...</td>\n",
              "      <td>Native American Energy Act</td>\n",
              "    </tr>\n",
              "  </tbody>\n",
              "</table>\n",
              "</div>\n",
              "    <div class=\"colab-df-buttons\">\n",
              "\n",
              "  <div class=\"colab-df-container\">\n",
              "    <button class=\"colab-df-convert\" onclick=\"convertToInteractive('df-a552f7d8-6c28-48cb-9ca5-73d7695bd0fa')\"\n",
              "            title=\"Convert this dataframe to an interactive table.\"\n",
              "            style=\"display:none;\">\n",
              "\n",
              "  <svg xmlns=\"http://www.w3.org/2000/svg\" height=\"24px\" viewBox=\"0 -960 960 960\">\n",
              "    <path d=\"M120-120v-720h720v720H120Zm60-500h600v-160H180v160Zm220 220h160v-160H400v160Zm0 220h160v-160H400v160ZM180-400h160v-160H180v160Zm440 0h160v-160H620v160ZM180-180h160v-160H180v160Zm440 0h160v-160H620v160Z\"/>\n",
              "  </svg>\n",
              "    </button>\n",
              "\n",
              "  <style>\n",
              "    .colab-df-container {\n",
              "      display:flex;\n",
              "      gap: 12px;\n",
              "    }\n",
              "\n",
              "    .colab-df-convert {\n",
              "      background-color: #E8F0FE;\n",
              "      border: none;\n",
              "      border-radius: 50%;\n",
              "      cursor: pointer;\n",
              "      display: none;\n",
              "      fill: #1967D2;\n",
              "      height: 32px;\n",
              "      padding: 0 0 0 0;\n",
              "      width: 32px;\n",
              "    }\n",
              "\n",
              "    .colab-df-convert:hover {\n",
              "      background-color: #E2EBFA;\n",
              "      box-shadow: 0px 1px 2px rgba(60, 64, 67, 0.3), 0px 1px 3px 1px rgba(60, 64, 67, 0.15);\n",
              "      fill: #174EA6;\n",
              "    }\n",
              "\n",
              "    .colab-df-buttons div {\n",
              "      margin-bottom: 4px;\n",
              "    }\n",
              "\n",
              "    [theme=dark] .colab-df-convert {\n",
              "      background-color: #3B4455;\n",
              "      fill: #D2E3FC;\n",
              "    }\n",
              "\n",
              "    [theme=dark] .colab-df-convert:hover {\n",
              "      background-color: #434B5C;\n",
              "      box-shadow: 0px 1px 3px 1px rgba(0, 0, 0, 0.15);\n",
              "      filter: drop-shadow(0px 1px 2px rgba(0, 0, 0, 0.3));\n",
              "      fill: #FFFFFF;\n",
              "    }\n",
              "  </style>\n",
              "\n",
              "    <script>\n",
              "      const buttonEl =\n",
              "        document.querySelector('#df-a552f7d8-6c28-48cb-9ca5-73d7695bd0fa button.colab-df-convert');\n",
              "      buttonEl.style.display =\n",
              "        google.colab.kernel.accessAllowed ? 'block' : 'none';\n",
              "\n",
              "      async function convertToInteractive(key) {\n",
              "        const element = document.querySelector('#df-a552f7d8-6c28-48cb-9ca5-73d7695bd0fa');\n",
              "        const dataTable =\n",
              "          await google.colab.kernel.invokeFunction('convertToInteractive',\n",
              "                                                    [key], {});\n",
              "        if (!dataTable) return;\n",
              "\n",
              "        const docLinkHtml = 'Like what you see? Visit the ' +\n",
              "          '<a target=\"_blank\" href=https://colab.research.google.com/notebooks/data_table.ipynb>data table notebook</a>'\n",
              "          + ' to learn more about interactive tables.';\n",
              "        element.innerHTML = '';\n",
              "        dataTable['output_type'] = 'display_data';\n",
              "        await google.colab.output.renderOutput(dataTable, element);\n",
              "        const docLink = document.createElement('div');\n",
              "        docLink.innerHTML = docLinkHtml;\n",
              "        element.appendChild(docLink);\n",
              "      }\n",
              "    </script>\n",
              "  </div>\n",
              "\n",
              "\n",
              "<div id=\"df-fb341ee0-2154-4039-b4a1-b7889021db9b\">\n",
              "  <button class=\"colab-df-quickchart\" onclick=\"quickchart('df-fb341ee0-2154-4039-b4a1-b7889021db9b')\"\n",
              "            title=\"Suggest charts\"\n",
              "            style=\"display:none;\">\n",
              "\n",
              "<svg xmlns=\"http://www.w3.org/2000/svg\" height=\"24px\"viewBox=\"0 0 24 24\"\n",
              "     width=\"24px\">\n",
              "    <g>\n",
              "        <path d=\"M19 3H5c-1.1 0-2 .9-2 2v14c0 1.1.9 2 2 2h14c1.1 0 2-.9 2-2V5c0-1.1-.9-2-2-2zM9 17H7v-7h2v7zm4 0h-2V7h2v10zm4 0h-2v-4h2v4z\"/>\n",
              "    </g>\n",
              "</svg>\n",
              "  </button>\n",
              "\n",
              "<style>\n",
              "  .colab-df-quickchart {\n",
              "      --bg-color: #E8F0FE;\n",
              "      --fill-color: #1967D2;\n",
              "      --hover-bg-color: #E2EBFA;\n",
              "      --hover-fill-color: #174EA6;\n",
              "      --disabled-fill-color: #AAA;\n",
              "      --disabled-bg-color: #DDD;\n",
              "  }\n",
              "\n",
              "  [theme=dark] .colab-df-quickchart {\n",
              "      --bg-color: #3B4455;\n",
              "      --fill-color: #D2E3FC;\n",
              "      --hover-bg-color: #434B5C;\n",
              "      --hover-fill-color: #FFFFFF;\n",
              "      --disabled-bg-color: #3B4455;\n",
              "      --disabled-fill-color: #666;\n",
              "  }\n",
              "\n",
              "  .colab-df-quickchart {\n",
              "    background-color: var(--bg-color);\n",
              "    border: none;\n",
              "    border-radius: 50%;\n",
              "    cursor: pointer;\n",
              "    display: none;\n",
              "    fill: var(--fill-color);\n",
              "    height: 32px;\n",
              "    padding: 0;\n",
              "    width: 32px;\n",
              "  }\n",
              "\n",
              "  .colab-df-quickchart:hover {\n",
              "    background-color: var(--hover-bg-color);\n",
              "    box-shadow: 0 1px 2px rgba(60, 64, 67, 0.3), 0 1px 3px 1px rgba(60, 64, 67, 0.15);\n",
              "    fill: var(--button-hover-fill-color);\n",
              "  }\n",
              "\n",
              "  .colab-df-quickchart-complete:disabled,\n",
              "  .colab-df-quickchart-complete:disabled:hover {\n",
              "    background-color: var(--disabled-bg-color);\n",
              "    fill: var(--disabled-fill-color);\n",
              "    box-shadow: none;\n",
              "  }\n",
              "\n",
              "  .colab-df-spinner {\n",
              "    border: 2px solid var(--fill-color);\n",
              "    border-color: transparent;\n",
              "    border-bottom-color: var(--fill-color);\n",
              "    animation:\n",
              "      spin 1s steps(1) infinite;\n",
              "  }\n",
              "\n",
              "  @keyframes spin {\n",
              "    0% {\n",
              "      border-color: transparent;\n",
              "      border-bottom-color: var(--fill-color);\n",
              "      border-left-color: var(--fill-color);\n",
              "    }\n",
              "    20% {\n",
              "      border-color: transparent;\n",
              "      border-left-color: var(--fill-color);\n",
              "      border-top-color: var(--fill-color);\n",
              "    }\n",
              "    30% {\n",
              "      border-color: transparent;\n",
              "      border-left-color: var(--fill-color);\n",
              "      border-top-color: var(--fill-color);\n",
              "      border-right-color: var(--fill-color);\n",
              "    }\n",
              "    40% {\n",
              "      border-color: transparent;\n",
              "      border-right-color: var(--fill-color);\n",
              "      border-top-color: var(--fill-color);\n",
              "    }\n",
              "    60% {\n",
              "      border-color: transparent;\n",
              "      border-right-color: var(--fill-color);\n",
              "    }\n",
              "    80% {\n",
              "      border-color: transparent;\n",
              "      border-right-color: var(--fill-color);\n",
              "      border-bottom-color: var(--fill-color);\n",
              "    }\n",
              "    90% {\n",
              "      border-color: transparent;\n",
              "      border-bottom-color: var(--fill-color);\n",
              "    }\n",
              "  }\n",
              "</style>\n",
              "\n",
              "  <script>\n",
              "    async function quickchart(key) {\n",
              "      const quickchartButtonEl =\n",
              "        document.querySelector('#' + key + ' button');\n",
              "      quickchartButtonEl.disabled = true;  // To prevent multiple clicks.\n",
              "      quickchartButtonEl.classList.add('colab-df-spinner');\n",
              "      try {\n",
              "        const charts = await google.colab.kernel.invokeFunction(\n",
              "            'suggestCharts', [key], {});\n",
              "      } catch (error) {\n",
              "        console.error('Error during call to suggestCharts:', error);\n",
              "      }\n",
              "      quickchartButtonEl.classList.remove('colab-df-spinner');\n",
              "      quickchartButtonEl.classList.add('colab-df-quickchart-complete');\n",
              "    }\n",
              "    (() => {\n",
              "      let quickchartButtonEl =\n",
              "        document.querySelector('#df-fb341ee0-2154-4039-b4a1-b7889021db9b button');\n",
              "      quickchartButtonEl.style.display =\n",
              "        google.colab.kernel.accessAllowed ? 'block' : 'none';\n",
              "    })();\n",
              "  </script>\n",
              "</div>\n",
              "\n",
              "    </div>\n",
              "  </div>\n"
            ],
            "application/vnd.google.colaboratory.intrinsic+json": {
              "type": "dataframe",
              "variable_name": "train_df",
              "summary": "{\n  \"name\": \"train_df\",\n  \"rows\": 18949,\n  \"fields\": [\n    {\n      \"column\": \"text\",\n      \"properties\": {\n        \"dtype\": \"string\",\n        \"num_unique_values\": 18941,\n        \"samples\": [\n          \"SECTION 1. SHORT TITLE.\\n    This Act may be cited as the ``Civil Rights History Project Act of \\n2009''.\\nSEC. 2. FINDINGS; PURPOSE.\\n    (a) Findings.--Congress finds as follows:\\n        (1) A fundamental principle of American democracy is that \\n    individuals should stand up for their rights and beliefs and fight \\n    for justice.\\n        (2) The actions of those who participated in the Civil Rights \\n    movement from the 1950s through the 1960s are a shining example of \\n    this principle in action, demonstrated in events as varied as the \\n    Montgomery Bus Boycott, the sit-ins, the Freedom Rides, the March \\n    on Washington, the drive for voting rights in Mississippi, and the \\n    March to Selma.\\n        (3) While the Civil Rights movement had many visible leaders, \\n    including Thurgood Marshall, Dr. Martin Luther King, Jr., and Rosa \\n    Parks, there were many others whose impact and experience were just \\n    as important to the cause but who are not as well known.\\n        (4) The participants in the Civil Rights movement possess an \\n    invaluable resource in their first-hand memories of the movement, \\n    and the recording of the retelling of their stories and memories \\n    will provide a rich, detailed history of our Nation during an \\n    important and tumultuous period.\\n        (5) It is in the Nation's interest to undertake a project to \\n    collect oral histories of individuals from the Civil Rights \\n    movement so future generations will be able to learn of their \\n    struggle and sacrifice through primary-source, eyewitness material. \\n    A coordinated Federal project would also focus attention on the \\n    efforts undertaken by various public and private entities to \\n    collect and interpret articles in all formats relating to the Civil \\n    Rights movement, and serve as a model for future projects \\n    undertaken in museums, libraries, and universities throughout the \\n    Nation.\\n        (6) The Library of Congress and the Smithsonian Institution are \\n    appropriate repositories to collect, preserve, and make available \\n    to the public a collection of these oral histories. The Library and \\n    Smithsonian have expertise in the management of documentation \\n    projects, and experience in the development of cultural and \\n    educational programs for the public.\\n    (b) Purpose.--It is the purpose of this Act to create a new \\nfederally sponsored, authorized, and funded project that will \\ncoordinate at a national level the collection of video and audio \\nrecordings of personal histories and testimonials of individuals who \\nparticipated in the American Civil Rights movement that will build upon \\nand complement previous and ongoing documentary work on this subject, \\nand to assist and encourage local efforts to preserve the memories of \\nsuch individuals so that Americans of all current and future \\ngenerations may hear from them directly and better appreciate the \\nsacrifices they made.\\nSEC. 3. ESTABLISHMENT OF JOINT PROJECT AT LIBRARY OF CONGRESS AND \\nNATIONAL MUSEUM OF AFRICAN AMERICAN HISTORY AND CULTURE TO COLLECT \\nVIDEO AND AUDIO RECORDINGS OF HISTORIES OF PARTICIPANTS IN AMERICAN \\nCIVIL RIGHTS MOVEMENT.\\n    (a) Establishment of Project.--\\n        (1) In general.--Within the limits of available funds, the \\n    Librarian of Congress (hereafter referred to as the ``Librarian'') \\n    and the Secretary of the Smithsonian Institution (hereafter \\n    referred to as the ``Secretary)'', acting jointly, shall establish \\n    an oral history project--\\n            (A) to survey, during the initial phase of the project, \\n        collections of audio and video recordings of the reminiscences \\n        of participants in the Civil Rights movement that are housed in \\n        archives, libraries, museums, and other educational \\n        institutions, as well as ongoing documentary work, in order to \\n        augment and complement these endeavors and avoid duplication of \\n        effort;\\n            (B) to solicit, reproduce, and collect--\\n                (i) video and audio recordings of personal histories \\n            and testimonials of individuals who participated in the \\n            Civil Rights movement, and\\n                (ii) visual and written materials (such as letters, \\n            diaries, photographs, and ephemera) relevant to the \\n            personal histories of individuals;\\n            (C) to create a collection of the recordings and other \\n        materials obtained, and to catalog and index the collection in \\n        a manner the Librarian and the Secretary consider appropriate; \\n        and\\n            (D) to make the collection available for public use through \\n        the Library of Congress and the National Museum of African \\n        American History and Culture, as well as through such other \\n        methods as the Librarian and the Secretary consider \\n        appropriate.\\n        (2) Role of director of museum.--The Secretary shall carry out \\n    the Secretary's duties under this Act through the Director of the \\n    National Museum of African American History and Culture.\\n    (b) Use of and Consultation With Other Entities.--The Librarian and \\nthe Secretary may carry out the activities described in subsection \\n(a)(1) through agreements and partnerships entered into with other \\ngovernment and private entities, and may otherwise consult with \\ninterested persons (within the limits of available resources) and \\ndevelop appropriate guidelines and arrangements for soliciting, \\nacquiring, and making available recordings under the project under this \\nAct.\\n    (c) Services of Experts and Consultants; Acceptance of Volunteer \\nServices; Advance Payments.--In carrying out activities described in \\nsubsection (a)(1), the Librarian and the Secretary may--\\n        (1) procure temporary and intermittent services under section \\n    3109 of title 5, United States Code;\\n        (2) accept and utilize the services of volunteers and other \\n    uncompensated personnel and reimburse them for travel expenses, \\n    including per diem, as authorized under section 5703 of title 5, \\n    United States Code; and\\n        (3) make advances of money and payments in advance in \\n    accordance with section 3324 of title 31, United States Code.\\n    (d) Timing.--As soon as practicable after the enactment of this \\nAct, the Librarian and the Secretary shall begin collecting video and \\naudio recordings and other materials under subsection (a)(1), and shall \\nattempt to collect the first such recordings from the oldest \\nindividuals involved.\\n    (e) Definition.--In this Act, the term ``Civil Rights movement'' \\nmeans the movement to secure racial equality in the United States for \\nAfrican Americans that, focusing on the period 1954 through 1968, \\nchallenged the practice of racial segregation in the Nation and \\nachieved equal rights legislation for all American citizens.\\nSEC. 4. PRIVATE SUPPORT FOR CIVIL RIGHTS HISTORY PROJECT.\\n    (a) Encouraging Solicitation and Acceptance of Donations.--The \\nLibrarian of Congress and the Secretary are encouraged to solicit and \\naccept donations of funds and in-kind contributions to support \\nactivities under section 3.\\n    (b) Dedication of Funds Provided to Library of Congress.--\\nNotwithstanding any other provision of law--\\n        (1) any funds donated to the Librarian of Congress to support \\n    the activities of the Librarian under section 3 shall be deposited \\n    entirely into an account established for such purpose;\\n        (2) the funds contained in such account shall be used solely to \\n    support such activities; and\\n        (3) the Librarian of Congress may not deposit into such account \\n    any funds donated to the Librarian which are not donated for the \\n    exclusive purpose of supporting such activities.\\nSEC. 5. AUTHORIZATION OF APPROPRIATIONS.\\n    There are authorized to be appropriated to carry out this Act--\\n        (1) $500,000 for fiscal year 2010; and\\n        (2) such sums as may be necessary for each of the fiscal years \\n    2011 through 2014.\\n\\n                               Speaker of the House of Representatives.\\n\\n                            Vice President of the United States and    \\n                                               President of the Senate.\",\n          \"SECTION 1. SHORT TITLE.\\n\\n    This Act may be cited as the ``Haiti Economic Recovery Opportunity \\nAct of 2004''.\\n\\nSEC. 2. TRADE BENEFITS TO HAITI.\\n\\n    (a) In General.--The Caribbean Basin Economic Recovery Act (19 \\nU.S.C. 2701 et seq.) is amended by inserting after section 213 the \\nfollowing new section:\\n\\n``SEC. 213A. SPECIAL RULE FOR HAITI.\\n\\n    ``(a) In General.--In addition to any other preferential treatment \\nunder this Act, beginning on October 1, 2003, and in each of the 7 \\nsucceeding 1-year periods, apparel articles described in subsection (b) \\nthat are imported directly into the customs territory of the United \\nStates from Haiti shall enter the United States free of duty, subject \\nto the limitations described in subsections (b) and (c), if Haiti has \\nsatisfied the requirements and conditions set forth in subsections (d) \\nand (e).\\n    ``(b) Apparel Articles Described.--Apparel articles described in \\nthis subsection are apparel articles that are wholly assembled or knit-\\nto-shape in Haiti from any combination of fabrics, fabric components, \\ncomponents knit-to-shape, and yarns without regard to the country of \\norigin of the fabrics, components, or yarns.\\n    ``(c) Preferential Treatment.--The preferential treatment described \\nin subsection (a), shall be extended--\\n            ``(1) during the 12-month period beginning on October 1, \\n        2003, to a quantity of apparel articles that is equal to 1.5 \\n        percent of the aggregate square meter equivalents of all \\n        apparel articles imported into the United States during the 12-\\n        month period beginning October 1, 2002; and\\n            ``(2) during the 12-month period beginning on October 1 of \\n        each succeeding year, to a quantity of apparel articles that is \\n        equal to the product of--\\n                    ``(A) the percentage applicable during the previous \\n                12-month period plus 0.5 percent (but not over 3.5 \\n                percent); and\\n                    ``(B) the aggregate square meter equivalents of all \\n                apparel articles imported into the United States during \\n                the 12-month period that ends on September 30 of that \\n                year.\\n    ``(d) Eligibility Requirements.--Haiti shall be eligible for \\npreferential treatment under this section if the President determines \\nand certifies to Congress that Haiti is meeting the conditions of \\nsubsection (e) and that Haiti--\\n            ``(1) has established, or is making continual progress \\n        toward establishing--\\n                    ``(A) a market-based economy that protects private \\n                property rights, incorporates an open rules-based \\n                trading system, and minimizes government interference \\n                in the economy through measures such as price controls, \\n                subsidies, and government ownership of economic assets;\\n                    ``(B) the rule of law, political pluralism, and the \\n                right to due process, a fair trial, and equal \\n                protection under the law;\\n                    ``(C) the elimination of barriers to United States \\n                trade and investment, including by--\\n                            ``(i) the provision of national treatment \\n                        and measures to create an environment conducive \\n                        to domestic and foreign investment;\\n                            ``(ii) the protection of intellectual \\n                        property; and\\n                            ``(iii) the resolution of bilateral trade \\n                        and investment disputes;\\n                    ``(D) economic policies to reduce poverty, increase \\n                the availability of health care and educational \\n                opportunities, expand physical infrastructure, promote \\n                the development of private enterprise, and encourage \\n                the formation of capital markets through microcredit or \\n                other programs;\\n                    ``(E) a system to combat corruption and bribery, \\n                such as signing and implementing the Convention on \\n                Combating Bribery of Foreign Public Officials in \\n                International Business Transactions; and\\n                    ``(F) protection of internationally recognized \\n                worker rights, including the right of association, the \\n                right to organize and bargain collectively, a \\n                prohibition on the use of any form of forced or \\n                compulsory labor, a minimum age for the employment of \\n                children, and acceptable conditions of work with \\n                respect to minimum wages, hours of work, and \\n                occupational safety and health;\\n            ``(2) does not engage in activities that undermine United \\n        States national security or foreign policy interests; and\\n            ``(3) does not engage in gross violations of \\n        internationally recognized human rights or provide support for \\n        acts of international terrorism and cooperates in international \\n        efforts to eliminate human rights violations and terrorist \\n        activities.\\n    ``(e) Conditions Regarding Enforcement of Circumvention.--\\n            ``(1) In general.--The preferential treatment under \\n        subsection (b) shall not apply unless the President certifies \\n        to Congress that Haiti is meeting the following conditions:\\n                    ``(A) Haiti has adopted an effective visa system, \\n                domestic laws, and enforcement procedures applicable to \\n                articles described in subsection (b) to prevent \\n                unlawful transshipment of the articles and the use of \\n                counterfeit documents relating to the importation of \\n                the articles into the United States.\\n                    ``(B) Haiti has enacted legislation or promulgated \\n                regulations that would permit the Bureau of Customs and \\n                Border Protection verification teams to have the access \\n                necessary to investigate thoroughly allegations of \\n                transshipment through such country.\\n                    ``(C) Haiti agrees to report, on a timely basis, at \\n                the request of the Bureau of Customs and Border \\n                Protection, on the total exports from and imports into \\n                that country of articles described in subsection (b), \\n                consistent with the manner in which the records are \\n                kept by Haiti.\\n                    ``(D) Haiti agrees to cooperate fully with the \\n                United States to address and take action necessary to \\n                prevent circumvention.\\n                    ``(E) Haiti agrees to require all producers and \\n                exporters of articles described in subsection (b) in \\n                that country to maintain complete records of the \\n                production and the export of the articles, including \\n                materials used in the production, for at least 2 years \\n                after the production or export (as the case may be).\\n                    ``(F) Haiti agrees to report, on a timely basis, at \\n                the request of the Bureau of Customs and Border \\n                Protection, documentation establishing the country of \\n                origin of articles described in subsection (b) as used \\n                by that country in implementing an effective visa \\n                system.\\n            ``(2) Definitions.--In this subsection:\\n                    ``(A) Circumvention.--The term `circumvention' \\n                means any action involving the provision of a false \\n                declaration or false information for the purpose of, or \\n                with the effect of, violating or evading existing \\n                customs, country of origin labeling, or trade laws of \\n                the United States or Haiti relating to imports of \\n                textile and apparel goods, if such action results--\\n                            ``(i) in the avoidance of tariffs, quotas, \\n                        embargoes, prohibitions, restrictions, trade \\n                        remedies, including antidumping or \\n                        countervailing duties, or safeguard measures; \\n                        or\\n                            ``(ii) in obtaining preferential tariff \\n                        treatment.''.\\n                    ``(B) Transshipment.--The term `transshipment' has \\n                the meaning given such term under section \\n                213(b)(2)(D)(iii).''.\\n    (b) Effective Date.--\\n            (1) In general.--The amendment made by subsection (a) \\n        applies with respect to goods entered, or withdrawn from \\n        warehouse for consumption, on or after October 1, 2003.\\n            (2) Retroactive application to certain entries.--\\n        Notwithstanding section 514 of the Tariff Act of 1930 (19 \\n        U.S.C. 1514) or any other provision of law, upon proper request \\n        filed with the United States Customs Service before the 90th \\n        day after the date of the enactment of this Act, any entry or \\n        withdrawal from warehouse for consumption, of any goods \\n        described in the amendment made by subsection (a)--\\n                    (A) that was made on or after October 1, 2003, and \\n                before the date of the enactment of this Act, and\\n                    (B) with respect to which there would have been no \\n                duty if the amendment made by subsection (a) applied to \\n                such entry or withdrawal,\\n        shall be liquidated or reliquidated as though such amendment \\n        applied to such entry or withdrawal.\\n\\n            Passed the Senate July 16, 2004.\\n\\n            Attest:\\n\\n                                                             Secretary.\\n108th CONGRESS\\n\\n  2d Session\\n\\n                                S. 2261\\n\\n_______________________________________________________________________\\n\\n                                 AN ACT\\n\\n       To expand certain preferential trade treatment for Haiti.\",\n          \"SECTION 1. SHORT TITLE.\\n\\n    This Act may be cited as the Howard M. Metzenbaum ``Menu Education \\nand Labeling Act'' or the ``MEAL Act''.\\n\\nSEC. 2. FINDINGS.\\n\\n    Congress finds that--\\n            (1) research continues to reveal that--\\n                    (A) there is a strong link between diet and health; \\n                and\\n                    (B) diet-related diseases start early in life;\\n            (2)(A) increased caloric intake is a key factor \\n        contributing to the alarming increase in obesity in the United \\n        States;\\n            (B) according to the Centers for Disease Control and \\n        Prevention, \\\\2/3\\\\ of American adults are overweight or obese, \\n        and the rates of obesity have doubled in children and tripled \\n        in teens since 1980;\\n            (C) obesity increases the risk of diabetes, heart disease, \\n        stroke, several types of cancer, and other health problems; and\\n            (D) the annual cost of obesity to families, businesses, and \\n        governments in the United States is $117,000,000,000;\\n            (3) over the past 2 decades, there has been a significant \\n        increase in the number of meals prepared or eaten outside the \\n        home, with an estimated \\\\1/3\\\\ of calories and almost half of \\n        total food dollars being spent on food purchased from or eaten \\n        at restaurants and other food-service establishments;\\n            (4)(A) excess saturated fat intake is a major risk factor \\n        for heart disease, which is the leading cause of death in the \\n        United States; and\\n            (B) heart disease is a leading cause of disability among \\n        working adults and its impact on the United States economy is \\n        significant, estimated in 2005 to total $142,000,000,000 in \\n        healthcare expenditures and lost productivity;\\n            (5)(A) increased sodium intake is associated with increased \\n        risk of high blood pressure, or hypertension, a condition that \\n        can lead to cardiovascular disease, especially stroke; and\\n            (B) the proportion of adults with high blood pressure is 45 \\n        percent at age 50, 60 percent at age 60, and more than 70 \\n        percent at age 70;\\n            (6) the Nutrition Labeling and Education Act of 1990 \\n        (Public Law 101-535) requires food manufacturers to provide \\n        nutrition information on almost all packaged foods, however, \\n        restaurant foods are exempt from those requirements unless a \\n        nutrient content or health claim is made for a menu item;\\n            (7) about 75 percent of adults report using food labels on \\n        packaged foods, which is associated with eating more healthful \\n        diets, and approximately half of people report that the \\n        nutrition information on food labels has caused them to change \\n        their minds about buying a food product;\\n            (8) it is difficult for consumers to limit their intake of \\n        calories at restaurants, given the limited availability of \\n        nutrition information;\\n            (9) studies show that consumers would like nutrition \\n        information to be provided at the time of ordering their food \\n        at a restaurant, at the point of the sale, so as to enable them \\n        to make an educated decision regarding what to order; and\\n            (10) a call to action from the Surgeon General and \\n        Secretary of Health and Human Services recommends that, to \\n        reduce the incidence of obesity, there be increased \\n        availability of nutrition information for foods eaten and \\n        prepared away from home.\\n\\nSEC. 3. NUTRITION LABELING OF STANDARD MENU ITEMS AT CHAIN RESTAURANTS.\\n\\n    Section 403(q)(5) of the Federal Food, Drug, and Cosmetic Act (21 \\nU.S.C. 343(q)(5)) is amended--\\n            (1) in clause (A)--\\n                    (A) in subclause (i), by inserting ``except as \\n                provided in clauses (H) and (I),'' before ``which'' the \\n                first place it appears; and\\n                    (B) in subclause (ii), by inserting ``except as \\n                provided in clauses (H) and (I),'' before ``which'' the \\n                first place it appears; and\\n            (2) by adding at the end the following:\\n    ``(H) Restaurants and Retail Food Establishments.--\\n            ``(i) In general.--Except for food described in subclause \\n        (iii), in the case of food that is served, processed, or \\n        prepared in a restaurant or similar retail food establishment \\n        that is part of a chain with 20 or more locations doing \\n        business under the same trade name (regardless of the type of \\n        ownership of the locations), the restaurant or establishment \\n        shall disclose the information described in subclause (ii).\\n            ``(ii) Information required to be disclosed.--Except as \\n        provided in subclause (iii), the establishment shall disclose--\\n                    ``(I)(aa) in a statement adjacent to the name of \\n                the food on any menu listing the food for sale, or by \\n                any other means deemed equivalent by the Secretary, the \\n                number of calories, grams of saturated fat plus trans \\n                fat, and milligrams of sodium contained in a standard \\n                serving of the food, as usually offered for sale, in a \\n                clear and conspicuous manner; and\\n                    ``(bb) information, specified by the Secretary by \\n                regulation, designed to enable the public to \\n                understand, in the context of a total daily diet, the \\n                significance of the nutrition information that is \\n                provided; and\\n                    ``(II) in a statement adjacent to the name of the \\n                food on any menu board or other sign listing the food \\n                for sale, or by any other means deemed equivalent by \\n                the Secretary--\\n                            ``(aa) the number of calories contained in \\n                        a serving of the food, as usually offered for \\n                        sale, in a clear and conspicuous manner; and\\n                            ``(bb) notification that the information \\n                        required by subitems (aa) and (bb) of item (I) \\n                        shall be provided in writing at the request of \\n                        a prospective purchaser.\\n            ``(iii) Nonapplicability to certain food.--This clause does \\n        not apply to--\\n                    ``(I) items that are not listed on a menu or menu \\n                board (such as condiments and other items placed on the \\n                table or counter for general use); or\\n                    ``(II) daily specials, temporary menu items, or \\n                other irregular menu items, as specified by the \\n                Secretary by regulation.\\n            ``(iv) Self-service facilities.--In the case of food sold \\n        at a salad bar, buffet line, cafeteria line, or similar self-\\n        service facility, a restaurant or other establishment shall \\n        place a sign that lists calories per standard serving adjacent \\n        to each food offered.\\n            ``(v) Voluntary provision of nutrition information; state \\n        regulation of nutrition information for restaurant food.--\\n                    ``(I) Retail food establishments.--Nothing in this \\n                clause precludes a restaurant or similar retail food \\n                establishment from providing additional nutrition \\n                information, voluntarily, if the information complies \\n                with the nutrition labeling requirements contained in \\n                this subparagraph.\\n                    ``(II) State or local requirements.--Nothing in \\n                this clause precludes a State or political subdivision \\n                of a State from requiring that a restaurant or similar \\n                food establishment provide nutrition information in \\n                addition to that required under this clause.\\n            ``(vi) Regulations.--\\n                    ``(I) Proposed regulation.--Not later than 1 year \\n                after the date of enactment of this clause, the \\n                Secretary shall promulgate proposed regulations to \\n                carry out this clause.\\n                    ``(II) Contents.--The regulations shall allow for \\n                the variations in serving sizes and in food preparation \\n                that can reasonably be expected to result from \\n                inadvertent human error, training of food service \\n                workers, and other factors.\\n                    ``(III) Final regulations.--Not later than 2 years \\n                after the date of enactment of this clause, the \\n                Secretary shall promulgate final regulations to \\n                implement this clause.\\n                    ``(IV) Failure to promulgate final regulations by \\n                required date.--If the Secretary does not promulgate \\n                final regulations under item (III) by the date that is \\n                2 years after the date of enactment of this clause--\\n                            ``(aa) the proposed regulations issued in \\n                        accordance with item (I) shall become effective \\n                        as the final regulations on the day after that \\n                        date; and\\n                            ``(bb) the Secretary shall publish in the \\n                        Federal Register notice of the final \\n                        regulations.\\n    ``(I) Vending Machines.--\\n            ``(i) In general.--In the case of an article of food sold \\n        from a vending machine that--\\n                    ``(I) does not permit a prospective purchaser to \\n                examine the article so as to be able to read a \\n                statement affixed to the article before purchasing the \\n                article; and\\n                    ``(II) is operated by a person that is engaged in \\n                the business of owning and operating 20 or more vending \\n                machines;\\n        the vending machine operator shall provide a conspicuous sign \\n        in close proximity to the article that includes a statement \\n        disclosing the number of calories contained in the article.\\n            ``(ii) Voluntary provision of nutrition information; state \\n        regulation of nutrition information for vending machines.--\\n                    ``(I) Vending machine operators.--Nothing in this \\n                clause precludes a vending machine operator from \\n                providing additional nutrition information, \\n                voluntarily, if the information complies with the \\n                nutrition labeling requirements contained in this \\n                subparagraph.\\n                    ``(II) State or local requirements.--Nothing in \\n                this title precludes a State or political subdivision \\n                of a State from requiring that a vending machine \\n                operator provide nutrition information in addition to \\n                that required under this clause.\\n            ``(iii) Regulations.--\\n                    ``(I) Proposed regulation.--Not later than 1 year \\n                after the date of enactment of this clause, the \\n                Secretary shall promulgate proposed regulations to \\n                carry out this clause.\\n                    ``(II) Final regulations.--Not later than 2 years \\n                after the date of enactment of this clause, the \\n                Secretary shall promulgate final regulations to \\n                implement this clause.\\n                    ``(III) Failure to promulgate final regulations by \\n                required date.--If the Secretary does not promulgate \\n                final regulations under item (II) by the date that is 2 \\n                years after the date of enactment of this clause--\\n                            ``(aa) the proposed regulations issued in \\n                        accordance with item (I) shall become effective \\n                        as the final regulations on the day after that \\n                        date; and\\n                            ``(bb) the Secretary shall publish in the \\n                        Federal Register notice of the final \\n                        regulations.''.\"\n        ],\n        \"semantic_type\": \"\",\n        \"description\": \"\"\n      }\n    },\n    {\n      \"column\": \"summary\",\n      \"properties\": {\n        \"dtype\": \"string\",\n        \"num_unique_values\": 18949,\n        \"samples\": [\n          \"Medicare Prescription Drug Integrity Act of 2013 - Amends part D (Voluntary Prescription Drug Benefit Program) of title XVIII (Medicare) of the Social Security Act (SSA) to require a prescription drug plan (PDP) sponsor to have in place procedures designed to prevent fraud and abuse in PDPs. Authorizes the Secretary of Health and Human Services (HHS), with respect to establishing special enrollment periods for full-benefit dual eligible individuals, to set coverage limits for individuals who have obtained coverage for a covered Medicare part D drug at a frequency or amount not medically necessary. Amends SSA title IX to allow the Secretary to exclude from participation in any federal health care program any individual or entity that has engaged in the inappropriate prescribing or dispensing of a covered Medicare part D drug. Amends SSA title XVIII part D to allow a PDP or a MedicareAdvantage-PD (MA-PD) plan to exclude from qualified prescription drug coverage, and deny payment for, any covered part D drug: (1) prescribed or dispensed inappropriately to an individual under a PDP or a MA-PD plan that could not have been prescribed or dispensed to the individual on the date of such prescribing or dispensing; or (2) any drug at a frequency or amount that represents a practice or pattern of abusive prescribing or dispensing, or presents a risk to enrollee health or safety. Amends the Controlled Substances Act to direct the Attorney General to: (1) compile a list of the unique health identifiers of prescribers and dispensers that are members of a group practice registered and authorized to prescribe or dispense controlled substances in schedules II and III, and (2) make the list available to all PDP sponsors.  Amends SSA title XVIII with respect to the use of recovery audit contractors under the Medicare Integrity Program to identify underpayments and overpayments and recoup the latter. Authorizes the Secretary to retain an additional portion of up to 25% of the amounts recovered for purposes of carrying out this Act.\",\n          \"Back to Work Tax Credit - Amends the Internal Revenue Code to allow an increased work opportunity tax credit for the hiring of a qualified long-term unemployed individual. Defines \\\"qualified long-term unemployed individual\\\" as any individual who was not a student for at least six months during the one-year period ending on the hiring date and is certified as having aggregate periods of unemployment during the one-year period ending on the hiring date which equal or exceed six months. Allows tax-exempt charitable organizations or public institutions of higher education to claim the lesser of the amount of the work opportunity credit or the amount of payroll taxes paid during the calendar year for hiring qualified long-term unemployed individuals.\",\n          \"This bill amends the Federal Food, Drug, and Cosmetic Act to require the Food and Drug Administration (FDA) to establish a program to evaluate the potential use of evidence from clinical experience to support the approval of a new indication for an approved drug and to support post-approval study requirements. &quot;Evidence from clinical experience&quot; means data from sources other than randomized clinical trials, including from observational studies, registries, and therapeutic use. Before implementing the program, the FDA must establish a draft framework for the program that describes current sources of data from clinical experience, gaps in current data collection activities, standards and methodologies for collection and analysis of data from clinical experience, and priority areas, remaining challenges, and potential pilot opportunities that the program will address. The FDA must use the program to inform guidance to industry on the collection and use of evidence from clinical experience.\"\n        ],\n        \"semantic_type\": \"\",\n        \"description\": \"\"\n      }\n    },\n    {\n      \"column\": \"title\",\n      \"properties\": {\n        \"dtype\": \"string\",\n        \"num_unique_values\": 17106,\n        \"samples\": [\n          \"To develop and maintain an integrated system of coastal and ocean observations for the Nation's coasts, oceans, and Great Lakes, to improve warnings of tsunamis and other natural hazards, to enhance homeland security, to support maritime operations, and for other purposes.\",\n          \"Child and Dependent Care Tax Credit Enhancement Act of 2017\",\n          \"A bill to amend the Elementary and Secondary Education Act of 1965 to authorize the Secretary of Education to make grants for recruiting, training, and retaining individuals, with a preference for individuals from underrepresented groups, as teachers at public elementary and secondary schools, and for other purposes.\"\n        ],\n        \"semantic_type\": \"\",\n        \"description\": \"\"\n      }\n    }\n  ]\n}"
            }
          },
          "metadata": {},
          "execution_count": 39
        }
      ]
    },
    {
      "cell_type": "code",
      "source": [
        "validation_df = new_data['test'][:]\n",
        "validation_df.head()"
      ],
      "metadata": {
        "colab": {
          "base_uri": "https://localhost:8080/",
          "height": 206
        },
        "id": "qg8Ss22KPly4",
        "outputId": "1d8d9624-18e1-4f07-d7b2-690905ce8309"
      },
      "execution_count": 40,
      "outputs": [
        {
          "output_type": "execute_result",
          "data": {
            "text/plain": [
              "                                                text  \\\n",
              "0  SECTION 1. ENVIRONMENTAL INFRASTRUCTURE.\\n\\n  ...   \n",
              "1  That this Act may be cited as the ``Federal Fo...   \n",
              "2  SECTION 1. SHORT TITLE.\\n\\n    This Act may be...   \n",
              "3  SECTION 1. SHORT TITLE.\\n\\n    This Act may be...   \n",
              "4  SECTION 1. SHORT TITLE.\\n\\n    This Act may be...   \n",
              "\n",
              "                                             summary  \\\n",
              "0  Amends the Water Resources Development Act of ...   \n",
              "1  Federal Forage Fee Act of 1993 - Subjects graz...   \n",
              "2  .  Merchant Marine of World War II Congression...   \n",
              "3  Small Business Modernization Act of 2004 - Ame...   \n",
              "4  Fair Access to Investment Research Act of 2016...   \n",
              "\n",
              "                                               title  \n",
              "0  To make technical corrections to the Water Res...  \n",
              "1                     Federal Forage Fee Act of 1993  \n",
              "2  Merchant Marine of World War II Congressional ...  \n",
              "3  To amend the Internal Revenue Code of 1986 to ...  \n",
              "4     Fair Access to Investment Research Act of 2016  "
            ],
            "text/html": [
              "\n",
              "  <div id=\"df-a821ed99-4563-43ae-a2f5-8a12546d0909\" class=\"colab-df-container\">\n",
              "    <div>\n",
              "<style scoped>\n",
              "    .dataframe tbody tr th:only-of-type {\n",
              "        vertical-align: middle;\n",
              "    }\n",
              "\n",
              "    .dataframe tbody tr th {\n",
              "        vertical-align: top;\n",
              "    }\n",
              "\n",
              "    .dataframe thead th {\n",
              "        text-align: right;\n",
              "    }\n",
              "</style>\n",
              "<table border=\"1\" class=\"dataframe\">\n",
              "  <thead>\n",
              "    <tr style=\"text-align: right;\">\n",
              "      <th></th>\n",
              "      <th>text</th>\n",
              "      <th>summary</th>\n",
              "      <th>title</th>\n",
              "    </tr>\n",
              "  </thead>\n",
              "  <tbody>\n",
              "    <tr>\n",
              "      <th>0</th>\n",
              "      <td>SECTION 1. ENVIRONMENTAL INFRASTRUCTURE.\\n\\n  ...</td>\n",
              "      <td>Amends the Water Resources Development Act of ...</td>\n",
              "      <td>To make technical corrections to the Water Res...</td>\n",
              "    </tr>\n",
              "    <tr>\n",
              "      <th>1</th>\n",
              "      <td>That this Act may be cited as the ``Federal Fo...</td>\n",
              "      <td>Federal Forage Fee Act of 1993 - Subjects graz...</td>\n",
              "      <td>Federal Forage Fee Act of 1993</td>\n",
              "    </tr>\n",
              "    <tr>\n",
              "      <th>2</th>\n",
              "      <td>SECTION 1. SHORT TITLE.\\n\\n    This Act may be...</td>\n",
              "      <td>.  Merchant Marine of World War II Congression...</td>\n",
              "      <td>Merchant Marine of World War II Congressional ...</td>\n",
              "    </tr>\n",
              "    <tr>\n",
              "      <th>3</th>\n",
              "      <td>SECTION 1. SHORT TITLE.\\n\\n    This Act may be...</td>\n",
              "      <td>Small Business Modernization Act of 2004 - Ame...</td>\n",
              "      <td>To amend the Internal Revenue Code of 1986 to ...</td>\n",
              "    </tr>\n",
              "    <tr>\n",
              "      <th>4</th>\n",
              "      <td>SECTION 1. SHORT TITLE.\\n\\n    This Act may be...</td>\n",
              "      <td>Fair Access to Investment Research Act of 2016...</td>\n",
              "      <td>Fair Access to Investment Research Act of 2016</td>\n",
              "    </tr>\n",
              "  </tbody>\n",
              "</table>\n",
              "</div>\n",
              "    <div class=\"colab-df-buttons\">\n",
              "\n",
              "  <div class=\"colab-df-container\">\n",
              "    <button class=\"colab-df-convert\" onclick=\"convertToInteractive('df-a821ed99-4563-43ae-a2f5-8a12546d0909')\"\n",
              "            title=\"Convert this dataframe to an interactive table.\"\n",
              "            style=\"display:none;\">\n",
              "\n",
              "  <svg xmlns=\"http://www.w3.org/2000/svg\" height=\"24px\" viewBox=\"0 -960 960 960\">\n",
              "    <path d=\"M120-120v-720h720v720H120Zm60-500h600v-160H180v160Zm220 220h160v-160H400v160Zm0 220h160v-160H400v160ZM180-400h160v-160H180v160Zm440 0h160v-160H620v160ZM180-180h160v-160H180v160Zm440 0h160v-160H620v160Z\"/>\n",
              "  </svg>\n",
              "    </button>\n",
              "\n",
              "  <style>\n",
              "    .colab-df-container {\n",
              "      display:flex;\n",
              "      gap: 12px;\n",
              "    }\n",
              "\n",
              "    .colab-df-convert {\n",
              "      background-color: #E8F0FE;\n",
              "      border: none;\n",
              "      border-radius: 50%;\n",
              "      cursor: pointer;\n",
              "      display: none;\n",
              "      fill: #1967D2;\n",
              "      height: 32px;\n",
              "      padding: 0 0 0 0;\n",
              "      width: 32px;\n",
              "    }\n",
              "\n",
              "    .colab-df-convert:hover {\n",
              "      background-color: #E2EBFA;\n",
              "      box-shadow: 0px 1px 2px rgba(60, 64, 67, 0.3), 0px 1px 3px 1px rgba(60, 64, 67, 0.15);\n",
              "      fill: #174EA6;\n",
              "    }\n",
              "\n",
              "    .colab-df-buttons div {\n",
              "      margin-bottom: 4px;\n",
              "    }\n",
              "\n",
              "    [theme=dark] .colab-df-convert {\n",
              "      background-color: #3B4455;\n",
              "      fill: #D2E3FC;\n",
              "    }\n",
              "\n",
              "    [theme=dark] .colab-df-convert:hover {\n",
              "      background-color: #434B5C;\n",
              "      box-shadow: 0px 1px 3px 1px rgba(0, 0, 0, 0.15);\n",
              "      filter: drop-shadow(0px 1px 2px rgba(0, 0, 0, 0.3));\n",
              "      fill: #FFFFFF;\n",
              "    }\n",
              "  </style>\n",
              "\n",
              "    <script>\n",
              "      const buttonEl =\n",
              "        document.querySelector('#df-a821ed99-4563-43ae-a2f5-8a12546d0909 button.colab-df-convert');\n",
              "      buttonEl.style.display =\n",
              "        google.colab.kernel.accessAllowed ? 'block' : 'none';\n",
              "\n",
              "      async function convertToInteractive(key) {\n",
              "        const element = document.querySelector('#df-a821ed99-4563-43ae-a2f5-8a12546d0909');\n",
              "        const dataTable =\n",
              "          await google.colab.kernel.invokeFunction('convertToInteractive',\n",
              "                                                    [key], {});\n",
              "        if (!dataTable) return;\n",
              "\n",
              "        const docLinkHtml = 'Like what you see? Visit the ' +\n",
              "          '<a target=\"_blank\" href=https://colab.research.google.com/notebooks/data_table.ipynb>data table notebook</a>'\n",
              "          + ' to learn more about interactive tables.';\n",
              "        element.innerHTML = '';\n",
              "        dataTable['output_type'] = 'display_data';\n",
              "        await google.colab.output.renderOutput(dataTable, element);\n",
              "        const docLink = document.createElement('div');\n",
              "        docLink.innerHTML = docLinkHtml;\n",
              "        element.appendChild(docLink);\n",
              "      }\n",
              "    </script>\n",
              "  </div>\n",
              "\n",
              "\n",
              "<div id=\"df-1766d064-1e21-409b-a557-b4746a415f7b\">\n",
              "  <button class=\"colab-df-quickchart\" onclick=\"quickchart('df-1766d064-1e21-409b-a557-b4746a415f7b')\"\n",
              "            title=\"Suggest charts\"\n",
              "            style=\"display:none;\">\n",
              "\n",
              "<svg xmlns=\"http://www.w3.org/2000/svg\" height=\"24px\"viewBox=\"0 0 24 24\"\n",
              "     width=\"24px\">\n",
              "    <g>\n",
              "        <path d=\"M19 3H5c-1.1 0-2 .9-2 2v14c0 1.1.9 2 2 2h14c1.1 0 2-.9 2-2V5c0-1.1-.9-2-2-2zM9 17H7v-7h2v7zm4 0h-2V7h2v10zm4 0h-2v-4h2v4z\"/>\n",
              "    </g>\n",
              "</svg>\n",
              "  </button>\n",
              "\n",
              "<style>\n",
              "  .colab-df-quickchart {\n",
              "      --bg-color: #E8F0FE;\n",
              "      --fill-color: #1967D2;\n",
              "      --hover-bg-color: #E2EBFA;\n",
              "      --hover-fill-color: #174EA6;\n",
              "      --disabled-fill-color: #AAA;\n",
              "      --disabled-bg-color: #DDD;\n",
              "  }\n",
              "\n",
              "  [theme=dark] .colab-df-quickchart {\n",
              "      --bg-color: #3B4455;\n",
              "      --fill-color: #D2E3FC;\n",
              "      --hover-bg-color: #434B5C;\n",
              "      --hover-fill-color: #FFFFFF;\n",
              "      --disabled-bg-color: #3B4455;\n",
              "      --disabled-fill-color: #666;\n",
              "  }\n",
              "\n",
              "  .colab-df-quickchart {\n",
              "    background-color: var(--bg-color);\n",
              "    border: none;\n",
              "    border-radius: 50%;\n",
              "    cursor: pointer;\n",
              "    display: none;\n",
              "    fill: var(--fill-color);\n",
              "    height: 32px;\n",
              "    padding: 0;\n",
              "    width: 32px;\n",
              "  }\n",
              "\n",
              "  .colab-df-quickchart:hover {\n",
              "    background-color: var(--hover-bg-color);\n",
              "    box-shadow: 0 1px 2px rgba(60, 64, 67, 0.3), 0 1px 3px 1px rgba(60, 64, 67, 0.15);\n",
              "    fill: var(--button-hover-fill-color);\n",
              "  }\n",
              "\n",
              "  .colab-df-quickchart-complete:disabled,\n",
              "  .colab-df-quickchart-complete:disabled:hover {\n",
              "    background-color: var(--disabled-bg-color);\n",
              "    fill: var(--disabled-fill-color);\n",
              "    box-shadow: none;\n",
              "  }\n",
              "\n",
              "  .colab-df-spinner {\n",
              "    border: 2px solid var(--fill-color);\n",
              "    border-color: transparent;\n",
              "    border-bottom-color: var(--fill-color);\n",
              "    animation:\n",
              "      spin 1s steps(1) infinite;\n",
              "  }\n",
              "\n",
              "  @keyframes spin {\n",
              "    0% {\n",
              "      border-color: transparent;\n",
              "      border-bottom-color: var(--fill-color);\n",
              "      border-left-color: var(--fill-color);\n",
              "    }\n",
              "    20% {\n",
              "      border-color: transparent;\n",
              "      border-left-color: var(--fill-color);\n",
              "      border-top-color: var(--fill-color);\n",
              "    }\n",
              "    30% {\n",
              "      border-color: transparent;\n",
              "      border-left-color: var(--fill-color);\n",
              "      border-top-color: var(--fill-color);\n",
              "      border-right-color: var(--fill-color);\n",
              "    }\n",
              "    40% {\n",
              "      border-color: transparent;\n",
              "      border-right-color: var(--fill-color);\n",
              "      border-top-color: var(--fill-color);\n",
              "    }\n",
              "    60% {\n",
              "      border-color: transparent;\n",
              "      border-right-color: var(--fill-color);\n",
              "    }\n",
              "    80% {\n",
              "      border-color: transparent;\n",
              "      border-right-color: var(--fill-color);\n",
              "      border-bottom-color: var(--fill-color);\n",
              "    }\n",
              "    90% {\n",
              "      border-color: transparent;\n",
              "      border-bottom-color: var(--fill-color);\n",
              "    }\n",
              "  }\n",
              "</style>\n",
              "\n",
              "  <script>\n",
              "    async function quickchart(key) {\n",
              "      const quickchartButtonEl =\n",
              "        document.querySelector('#' + key + ' button');\n",
              "      quickchartButtonEl.disabled = true;  // To prevent multiple clicks.\n",
              "      quickchartButtonEl.classList.add('colab-df-spinner');\n",
              "      try {\n",
              "        const charts = await google.colab.kernel.invokeFunction(\n",
              "            'suggestCharts', [key], {});\n",
              "      } catch (error) {\n",
              "        console.error('Error during call to suggestCharts:', error);\n",
              "      }\n",
              "      quickchartButtonEl.classList.remove('colab-df-spinner');\n",
              "      quickchartButtonEl.classList.add('colab-df-quickchart-complete');\n",
              "    }\n",
              "    (() => {\n",
              "      let quickchartButtonEl =\n",
              "        document.querySelector('#df-1766d064-1e21-409b-a557-b4746a415f7b button');\n",
              "      quickchartButtonEl.style.display =\n",
              "        google.colab.kernel.accessAllowed ? 'block' : 'none';\n",
              "    })();\n",
              "  </script>\n",
              "</div>\n",
              "\n",
              "    </div>\n",
              "  </div>\n"
            ],
            "application/vnd.google.colaboratory.intrinsic+json": {
              "type": "dataframe",
              "variable_name": "validation_df",
              "summary": "{\n  \"name\": \"validation_df\",\n  \"rows\": 3269,\n  \"fields\": [\n    {\n      \"column\": \"text\",\n      \"properties\": {\n        \"dtype\": \"string\",\n        \"num_unique_values\": 3269,\n        \"samples\": [\n          \"SECTION 1. SHORT TITLE.\\n\\n    This Act may be cited as the ``Railroad Safety Improvement Act of \\n2005''.\\n\\nSEC. 2. RAILWAY-ROAD GRADE CROSSINGS.\\n\\n    (a) Elimination of Crossings.--\\n            (1) In general.--Section 20134 of title 49, United States \\n        Code, is amended--\\n                    (A) in subsection (a), by inserting ``and motorists \\n                at railroad grade crossings'' after ``rights of way'';\\n                    (B) by amending subsection (c) to read as follows:\\n    ``(c) Automated Video Image Analysis Pilot Program.--(1) The \\nSecretary of Transportation, in consultation with the National Highway \\nTraffic Safety Administration, shall establish a pilot program in the 5 \\nStates with the highest rates of collisions, injuries, and fatalities \\nat highway-rail grade crossings that uses automated video image \\nanalysis technology to record violations by motorists at crossings \\nequipped with automatic warning devices.\\n    ``(2) There are authorized to be appropriated such sums as may be \\nnecessary to carry out the program established under this paragraph \\n(1).''; and\\n                    (C) by adding at the end the following:\\n    ``(d) Plan to Eliminate Highway-Rail Grade Crossings.--(1) Not \\nlater than 1 year after the date of enactment of this subsection, the \\nSecretary of Transportation, in consultation with appropriate \\ntransportation officials of States and units of local government with \\njurisdiction over highway-rail grade crossings, shall submit, to the \\nCommittee on Commerce, Science, and Transportation of the Senate, the \\nCommittee on Environment and Public Works of the Senate, and the \\nCommittee on Transportation and Infrastructure of the House of \\nRepresentatives, a plan--\\n            ``(A) for annually eliminating highway-rail grade crossings \\n        in the United States that, as of the date of enactment of this \\n        subsection--\\n                    ``(i) are considered by the Secretary of \\n                Transportation to pose a safety threat; and\\n                    ``(ii) have insufficient or outdated protective \\n                equipment;\\n            ``(B) that includes guidelines for establishing new \\n        crossings, if necessary, through careful traffic, zoning, and \\n        land use planning; and\\n            ``(C) that includes an estimate of the cost to carry out \\n        subparagraph (A).\\n    ``(2) In determining the order for closing highway-rail grade \\ncrossings under the plan developed under paragraph (1), the Secretary \\nshall give priority to crossings in States that are among the top 5 \\nStates in terms of--\\n            ``(A) the number of accidents at highway-rail grade \\n        crossings per mile of railroad tract;\\n            ``(B) the number of highway-rail grade crossings with \\n        insufficient or outdated protective equipment; or\\n            ``(C) the number of rail lines with a high volume of goods \\n        movement.\\n    ``(3) In developing the plan under paragraph (1), the Secretary \\nshall consider--\\n            ``(A) the feasibility of closing and improving a group of \\n        highway-rail grade crossings in a single community;\\n            ``(B) the impact of closure on access by emergency \\n        vehicles;\\n            ``(C) traffic delays;\\n            ``(D) public inconvenience; and\\n            ``(E) the willingness of units of local government to \\n        participate in the elimination or consolidation of highway-rail \\n        grade crossings.''.\\n            (2) Report.--Not later than 1 year after the date of \\n        enactment of this Act, the Secretary of Transportation shall \\n        update and reissue ``A Guide to Crossing Consolidation and \\n        Closure'', which was originally published in July 1994.\\n    (b) Grants to Improve the Safety of Railway-Highway Grade \\nCrossings.--Section 130 of title 23, United States Code, is amended--\\n            (1) in subsection (d)--\\n                    (A) by striking ``Each State'' and inserting the \\n                following:\\n            ``(1) In general.--Each State''; and\\n                    (B) by adding at the end the following:\\n            ``(2) Federal safety review.--Using information compiled by \\n        States under paragraph (1), the Secretary of Transportation \\n        shall conduct a comprehensive review of the safety of all \\n        public railway-highway grade crossings in the United States. \\n        The matters reviewed shall include security measures, safety \\n        conditions, past accidents, possible safety improvements, and \\n        any other factors that the Secretary considers relevant.\\n            ``(3) Priority list.--Based on the information collected \\n        from the review conducted under paragraph (2), the Secretary of \\n        Transportation shall compile, maintain, and submit to Congress \\n        a list of the 5,000 railway-highway grade crossings most in \\n        need of safety improvements, grouped based on relative need for \\n        such improvements.'';\\n            (2) in subsection (f)--\\n                    (A) by striking ``and 50'' and inserting ``25''; \\n                and\\n                    (B) by striking ``States.'' and inserting ``States, \\n                and 25 percent of such funds shall be apportioned to \\n                the States in the ratio that total highway and rail \\n                traffic through railway-highway crossings in each State \\n                bears to the total of such traffic in all States.'';\\n            (3) in subsection (i)(3)(B), by striking ``$7,500'' and \\n        inserting ``$15,000'';\\n            (4) by redesignating subsection (j) as subsection (k); and\\n            (5) by inserting after subsection (i) the following:\\n    ``(j) Railway-Highway Grade Crossing Safety Improvement Grants.--\\n            ``(1) Grants authorized.--The Secretary of Transportation \\n        may award grants to States to make necessary safety \\n        improvements to the railway-highway grade crossings identified \\n        under subsection (d)(3).\\n            ``(2) Prioritization.--In awarding grants under this \\n        subsection, the Secretary shall--\\n                    ``(A) give priority to projects to install \\n                automated warning systems at railway-highway grade \\n                crossings in States with the highest number of \\n                accidents at such crossings; and\\n                    ``(B) strive to reduce the number of railway-\\n                highway grade crossings without automated warning \\n                systems by not less than 50 percent.\\n            ``(3) Application.--Each State desiring a grant under this \\n        subsection shall submit an application to the Secretary at such \\n        time, in such manner, and accompanied by such information as \\n        the Secretary may reasonably require.\\n            ``(4) Matching requirement.--The Secretary may not award a \\n        grant to a State under this subsection unless that State agrees \\n        that, with respect to the costs to be incurred by the State in \\n        carrying out the program for which the grant was awarded, the \\n        State will make available non-Federal contributions in an \\n        amount equal to not less than $1 for every $9 of Federal \\n        financial assistance provided under the grant.''.\\n    (c) Funding.--Section 104(d) of title 23, United States Code, is \\namended--\\n            (1) by amending the subsection header to read as follows: \\n        ``Funds Reserved for Improving Safety at Railway-Highway \\n        Crossings'';\\n            (2) by adding at the end the following:\\n            ``(3) Railway-road grade crossing safety improvements.--\\n        Before making an apportionment of funds under subsection (b)(3) \\n        for a fiscal year, the Secretary shall set aside $178,000,000 \\n        of the funds made available for the surface transportation \\n        program for the fiscal year for grants under section 130(j).''.\\n\\nSEC. 3. PENALTIES FOR VIOLATING CROSSING SIGNS, SIGNALS, OR GATES.\\n\\n    (a) Prevention of Trespassing and Vandalism on Railroad Property.--\\nNot later than 1 year after the date of enactment of this Act, the \\nSecretary of Transportation shall--\\n            (1) analyze Federal, State, and local laws for preventing \\n        and responding to trespassing and vandalism on railroad \\n        property; and\\n            (2) update model strategies to prevent such trespassing and \\n        vandalism.\\n    (b) Model Legislation.--Not later than 2 years after the date of \\nenactment of this Act, the Secretary of Transportation, after \\nconsultation with States, units of local government, and railroad \\ncarriers shall develop and make available model legislation providing \\nfor civil and criminal penalties for individuals who violate grade \\ncrossing signs, signals, or gates.\\n\\nSEC. 4. OPERATION LIFESAVER FUNDING.\\n\\n    Section 104(d)(1) of title 23, United States Code, is amended by \\nstriking ``set aside'' and all that follows and inserting the \\nfollowing: ``set aside, to carry out a public information and education \\nprogram to help prevent and reduce motor vehicle accidents, injuries, \\nand fatalities, and to improve driver performance at railway-road \\ncrossings--\\n            ``(1) $1,250,000 for fiscal year 2006;\\n            ``(2) $1,300,000 for fiscal year 2007;\\n            ``(3) $1,350,000 for fiscal year 2008;\\n            ``(4) $1,400,000 for fiscal year 2009; and\\n            ``(5) $1,460,000 for fiscal year 2010.''.\\n\\nSEC. 5. INSPECTIONS AND INVESTIGATIONS.\\n\\n    (a) Annual Inspections.--Section 20107 of title 49, United States \\nCode, is amended by adding at the end the following:\\n    ``(c) Annual Inspections.--The Secretary of Transportation, acting \\nthrough the Administrator of the Federal Railroad Administration, \\nshall, physically inspect, on an annual basis, not less than 2 percent \\nof all highway-rail grade crossings in the 10 States with the highest \\nrates of collisions at such crossings during the 3-year period ending \\non the date of enactment of this Act.''.\\n    (b) Accident Investigations.--Section 20902 of title 49, United \\nStates Code, is amended--\\n            (1) by redesignating subsection (c) as subsection (d); and\\n            (2) by inserting after subsection (b) the following:\\n    ``(c) Investigation of Fatal Accidents.--\\n            ``(1) In general.--The Secretary of Transportation, acting \\n        through the Administrator of the Federal Railroad \\n        Administration, shall conduct an investigation of--\\n                    ``(A) all fatal accidents in the United States \\n                during the 1-year period ending on the date of \\n                enactment of this subsection; and\\n                    ``(B) any fatal railroad accident occurring in the \\n                United States on or after the date of enactment of this \\n                subsection.\\n            ``(2) Report to congress.--Not later than 18 months after \\n        the date of enactment of this Act, and annually thereafter, the \\n        Secretary shall submit a report to Congress on the results of \\n        the investigations conducted under paragraph (1) during the 1-\\n        year period ending on the date of enactment of this Act and \\n        during each successive 1-year period.''.\\n\\nSEC. 6. DEFINITION.\\n\\n    As used in this Act, and the amendments made by this Act, the term \\n``highway'' has the meaning given the term in section 101 of title 23, \\nUnited States Code.\",\n          \"SECTION 1. SHORT TITLE.\\n\\n    This Act may be cited as the ``Coal Cleanup Taxpayer Protection \\nAct''.\\n\\nSEC. 2. SURFACE COAL MINING BONDING.\\n\\n    Section 509 of the Surface Mining Control and Reclamation Act of \\n1977 (30 U.S.C. 1259) is amended--\\n            (1) by striking subsection (c) and inserting the following:\\n    ``(c) Alternative Bonding System.--The Secretary may approve as \\npart of a State or Federal program an alternative system that will--\\n            ``(1) achieve the objectives and purposes of the bonding \\n        program pursuant to this section; and\\n            ``(2) result in no greater risk of financial liability to \\n        the Federal Government or a State government than the bonding \\n        program under this section.''; and\\n            (2) by adding at the end the following:\\n    ``(f) Self-Bonding.--\\n            ``(1) Federal programs.--\\n                    ``(A) In general.--Effective on the date of \\n                enactment of this subsection, the Secretary--\\n                            ``(i) may not accept the bond of the \\n                        applicant itself (referred to in this \\n                        subsection as a `self-bond'); but\\n                            ``(ii) may accept a separate surety or \\n                        collateral bond, consistent with the terms \\n                        under subsection (b).\\n                    ``(B) Existing self-bonds.--For coal mining \\n                operations covered by a self-bond accepted by the \\n                Secretary prior to the date of enactment of this \\n                subsection, the permittee shall replace the self-bond \\n                with another form of bond acceptable to the Secretary \\n                under this section by not later than the earlier of--\\n                            ``(i) the date of renewal of the permit \\n                        under section 506(d); and\\n                            ``(ii) the date of any major permit \\n                        modification under section 506.\\n            ``(2) State programs.--\\n                    ``(A) In general.--Not later than 90 days after the \\n                date of enactment of this subsection, the Secretary \\n                shall notify all State regulatory authorities that \\n                allow applicants to self-bond that the approved \\n                regulatory programs of the State regulatory authority \\n                must be amended--\\n                            ``(i) to remove the authority for \\n                        applicants to self-bond; and\\n                            ``(ii) to require coal mining operations \\n                        covered by a self-bond accepted by the State \\n                        regulatory authority prior to the date of \\n                        enactment of this subsection to replace the \\n                        self-bond with another form of bond acceptable \\n                        under this section by not later than the \\n                        earlier of--\\n                                    ``(I) the date of renewal of the \\n                                permit under section 506(d); and\\n                                    ``(II) the date of any major permit \\n                                modification under section 506.\\n    ``(g) Bonds Issued by Surety.--\\n            ``(1) In general.--Not later than 1 year after the date of \\n        enactment of this subsection, the Secretary shall issue rules \\n        establishing limitations on surety bonds accepted under this \\n        section to minimize the risk of financial liability to the \\n        Federal Government or a State government, including rules \\n        regarding--\\n                    ``(A) the maximum quantity of corporate surety \\n                bonds issued by any 1 corporate surety as a percentage \\n                of the total quantity of coal mine reclamation bonds in \\n                any 1 State;\\n                    ``(B) the minimum percentage of surety bonds \\n                unrelated to activities regulated pursuant to this Act \\n                required to reinsure corporate surety bonds;\\n                    ``(C) the minimum collateralization required for \\n                corporate surety bonds; and\\n                    ``(D) the minimum amount of cash assets required to \\n                be held by a corporate surety as a percentage of coal \\n                mine reclamation bonds issued by the corporate surety.\\n            ``(2) Existing corporate bonds.--Corporate surety bonds in \\n        existence on the date of enactment of this subsection must be \\n        modified or replaced as necessary by not later than 1 year \\n        after the date on which the rule is issued under paragraph (1).\\n    ``(h) Collateral Requirements.--Real property posted as collateral \\nfor a bond may not include--\\n            ``(1) coal;\\n            ``(2) a coal mine;\\n            ``(3) land that includes a coal mine;\\n            ``(4) land that is located above a coal mine;\\n            ``(5) a coal processing facility;\\n            ``(6) a coal waste disposal site;\\n            ``(7) coal mining equipment unlikely to retain salvage or \\n        resale value; or\\n            ``(8) any other property determined by the Secretary.\\n    ``(i) Executive Compensation.--The Secretary may require the \\ninclusion of executive compensation, including salaries and bonuses of \\nofficers and executives, of an applicant under this section, and any \\naffiliated company, as collateral for a bond under this section.''.\",\n          \"SECTION 1. SHORT TITLE.\\n\\n    This Act may be cited as the ``Highway Trust Fund Integrity Act of \\n1997''.\\n\\nSEC. 2. FINDINGS.\\n\\n    Congress finds that--\\n            (1)(A) the Budget Enforcement Act of 1990 split the Federal \\n        budgeting process into two budget categories, one for receipts \\n        and mandatory spending and the other for discretionary \\n        spending; and\\n            (B) each budget category has its own rules, procedures, and \\n        incentives;\\n            (2) the taxes deposited into the Highway Trust Fund are in \\n        the mandatory category, but most spending from the Highway \\n        Trust Fund is in the discretionary category;\\n            (3) since the Highway Trust Fund is split between the two \\n        budget categories, the link between Highway Trust Fund taxes \\n        and transportation spending is severed; and\\n            (4) to reestablish the link between the taxes and spending \\n        of the Highway Trust Fund, all the components of the Highway \\n        Trust Fund should be part of the same budget category and \\n        subject to the same budget rules and procedures.\\n\\nSEC. 3. DEFINITION.\\n\\n    (a) Balanced Budget and Emergency Deficit Control Act of 1985.--\\nSection 250(c) of the Balanced Budget and Emergency Deficit Control Act \\nof 1985 (2 U.S.C. 900(c)) is amended by adding at the end the \\nfollowing:\\n            ``(22) Revenue constrained fund.--The term `revenue \\n        constrained fund'--\\n                    ``(A) means the budget authority, outlays, and \\n                receipts of the--\\n                            ``(i) the Highway Account of the Highway \\n                        Trust Fund as established by section 9503 of \\n                        the Internal Revenue Code of 1986;\\n                    ``(B) shall not be--\\n                            ``(i) considered to be part of any category \\n                        (as defined in section 250(c)(4) of the \\n                        Balanced Budget and Emergency Deficit Control \\n                        Act of 1985 (2 U.S.C. 900(c)(4))) of \\n                        discretionary appropriations; or\\n                            ``(ii) subject to sequestration under \\n                        section 251(a) of the Act (2 U.S.C. 901(a)); \\n                        and\\n                    ``(C) shall not be--\\n                            ``(i) considered to be part of direct \\n                        spending (as defined in section 250(c)(8) of \\n                        the Balanced Budget and Emergency Deficit \\n                        Control Act of 1985 (2 U.S.C. 900(c)(8))); or\\n                            ``(ii) subject to sequestration under \\n                        section 252(b) of the Act (2 U.S.C. 902(b)).''.\\n    (b) Congressional Budget Act of 1974.--Section 3 of the \\nCongressional Budget Act of 1974 (2 U.S.C. 622) is amended by adding at \\nthe end thereof the following:\\n            ``(11) Revenue constrained fund.--The term `revenue \\n        constrained fund' has the meaning given that term in section \\n        250(c) of the Balanced Budget and Emergency Deficit Control Act \\n        of 1985 (2 U.S.C. 900(c)).''.\\n\\nSEC. 4. BUDGETARY TREATMENT.\\n\\n    (a) In General.--Part A of title IV of the Congressional Budget Act \\nof 1974 (2 U.S.C. 651 et seq.) is amended by adding at the end the \\nfollowing:\\n\\n                      ``revenue constrained funds\\n\\n    ``Sec. 408. It shall not be in order in either the House of \\nRepresentatives or the Senate to consider any bill, joint resolution, \\namendment, motion, conference report, or other measure if the effect of \\nthe measure would have the effect of increasing any specific new budget \\nauthority for a fiscal year for a revenue constrained fund above the \\namount made available by section 251B(b)(2) of the Balanced Budget and \\nEmergency Deficit Control Act of 1985.''.\\n    (b) Point of Order.--Subsections (c) and (d) of section 904 of the \\nCongressional Budget Act of 1974 are each amended by inserting after \\n``306,'' the following: ``408,''.\\n    (c) Amendment to Table of Contents.--The table of contents for the \\nCongressional Budget Impoundment Control Act of 1974 is amended by \\nadding at the end of title IV the following:\\n\\n``Sec. 408. Revenue constrained funds.''.\\n\\nSEC. 5. SEQUESTER.\\n\\n    (a) In General.--Part C of the Balanced Budget and Emergency \\nDeficit Control Act of 1985 (2 U.S.C. 900 et seq.) is amended by \\ninserting after section 251A the following:\\n\\n``SEC. 251B. SEQUESTRATION WITH RESPECT TO REVENUE CONSTRAINED FUNDS.\\n\\n    ``(a) Budget Authority Limits.--Amounts available from a revenue \\nconstrained fund shall be reduced by the amount necessary to eliminate \\nany amount by which budget authority in the budget year from the \\nrevenue constrained fund exceed the amount deposited in the revenue \\nconstrained fund in the previous fiscal year.\\n    ``(b) Amount Available.--\\n            ``(1) Initial estimate.--\\n                    ``(A) In general.--On October 1 of each year OMB \\n                shall estimate the total amount of revenues deposited \\n                into each revenue constrained fund during the previous \\n                fiscal year.\\n                    ``(B) Initial amount available.--An amount equal to \\n                40 percent of the total amount of revenues is estimated \\n                to be deposited in a revenue constrained fund under \\n                subparagraph (A) shall be available for obligation in \\n                the budget year on the date of the estimate under \\n                subparagraph (A).\\n            ``(2) Final estimate.--\\n                    ``(A) In general.--On December 15 of each year OMB \\n                shall determine the total amount of revenues deposited \\n                into each revenue constrained fund during the previous \\n                fiscal year.\\n                    ``(B) Amount available.--An amount equal to the \\n                total amount of revenues determined to be deposited in \\n                a revenue constrained fund under subparagraph (A)--\\n                            ``(i) shall be the total amount available \\n                        for obligation in the budget year on the date \\n                        of the determination under subparagraph (A); \\n                        and\\n                            ``(ii) shall replace the amount made \\n                        available under paragraph (1).\\n    ``(c) Look-Back.--If--\\n            ``(1) an appropriation for the fiscal year in progress is \\n        enacted that causes a budgetary excess in a revenue constrained \\n        fund as described in subsection (a) for that year; or\\n            ``(2) errors in the determination made pursuant to \\n        subsection (b)(2) cause a budgetary excess in a revenue \\n        constrained fund for the fiscal year in progress;\\nthe level set forth in subsection (b)(2) for the next fiscal year shall \\nbe reduced by the amount of that excess.''.\\n    (b) Amendment to Table of Contents.--The table of contents for the \\nBalanced Budget and Emergency Deficit Control Act of 1985 is amended by \\nadding after the item for section 251A the following:\\n\\n``Sec. 251B. Sequestration with respect to revenue constrained \\n                            funds.''.\\n\\nSEC. 5. BUDGETARY IMPACT.\\n\\n    (a) Findings and Purpose.--\\n            (1) Findings.--The Congress finds that--\\n                    (A) the United States has substantial surface \\n                transportation and infrastructure needs; and\\n                    (B) this Act will result in additional spending \\n                from the Highway Account of the Highway Trust Fund to \\n                help address these substantial needs.\\n            (2) Purpose.--The purpose of this section is to clarify \\n        that any budgetary offset necessary because of the additional \\n        spending provided by this Act should not come from surface \\n        transportation programs.\\n    (b) Sequestration.--The budgetary impact of the amendments made by \\nthis Act shall not be considered for purposes of sequestration under \\nsections 251 or 252 of the Balanced Budget and Emergency Deficit \\nControl Act of 1985 (2 U.S.C. 901, 902).\\n    (c) Discretionary Spending Limitations.--OMB shall reduce \\ndiscretionary spending limits for budget authority and outlays in \\naccordance with the Balanced Budget and Emergency Deficit Control Act \\nof 1985 for each applicable fiscal year set forth in section \\n601(a)(2)--\\n            (1) for budget authority, by an amount equal to the total \\n        amount of discretionary budget authority provided from the \\n        Highway Account of the Highway Trust Fund in the Department of \\n        Transportation and Related Agencies Appropriations Act, 1997; \\n        and\\n            (2) for outlays, by an amount equal to an estimate of the \\n        amount of discretionary outlays that would be expended from the \\n        Highway Account of the Highway Trust Fund assuming that the \\n        total amount of new budget authority and obligation authority \\n        from the Highway Account of the Highway Trust Fund equaled the \\n        amounts of new budget authority and obligation authority \\n        provided from the Highway Account of the Highway Trust Fund in \\n        the Department of Transportation and Related Agencies \\n        Appropriations Act, 1997.\\n\\nSEC. 6. STUDY TO ENSURE THAT THE HIGHWAY TRUST FUND IS DEFICIT NEUTRAL.\\n\\n    (a) Findings.--The Congress finds the following:\\n            (1) It is the policy of the United States Government that \\n        the Highway Trust Fund should not contribute to or reduce the \\n        Federal Government's annual budget deficit.\\n            (2) Under current budgetary scorekeeping conventions used \\n        by both the Congressional Budget Office and the Office of \\n        Management and Budget, increases in Highway Trust Fund revenue \\n        generated by tax increases are partially offset by a reduction \\n        in other Federal revenues that is equal to 25 percent of the \\n        increase in Highway Trust Fund revenue.\\n            (3) This 25 percent offset is a scorekeeping convention \\n        that applies to all excise taxes, and is not uniquely applied \\n        to Highway Trust Fund taxes.\\n            (4) An up-to-date examination of how this offset should be \\n        applied to Highway Trust Fund taxes is needed.\\n    (b) Report.--\\n            (1) In general.--Not later than 24 months after the date of \\n        enactment of this Act, the Secretary of Treasury, in \\n        consultation with the Director of the Office of Management and \\n        Budget, shall submit a report to Congress on ensuring the \\n        deficit neutrality of the Highway Trust Fund.\\n            (2) Contents.--In the report, the Secretary shall--\\n                    (A) determine the extent to which each of the taxes \\n                deposited into the Highway Trust Fund is a deductible \\n                expense from other Federal taxes;\\n                    (B) provide an estimate of the amount of Highway \\n                Trust Fund taxes that were deducted from Federal income \\n                taxes or other taxes;\\n                    (C) provide an estimate of the annual revenue loss \\n                because Highway Trust Fund taxes are deductible from \\n                other Federal taxes;\\n                    (D) determine the appropriate scorekeeping \\n                convention that should apply to Highway Trust Fund \\n                taxes, or if needed, separately to each of the taxes \\n                now deposited into the Highway Trust Fund; and\\n                    (E) provide the Congress with policy options that \\n                would ensure that changes to the Highway Trust Fund \\n                taxes do not contribute to the deficit.\"\n        ],\n        \"semantic_type\": \"\",\n        \"description\": \"\"\n      }\n    },\n    {\n      \"column\": \"summary\",\n      \"properties\": {\n        \"dtype\": \"string\",\n        \"num_unique_values\": 3269,\n        \"samples\": [\n          \"Railroad Safety Improvement Act of 2005 - Amends federal transportation law to direct the Secretary of Transportation to establish an automated video image analysis pilot program in states with the highest rates of accidents at highway-rail grade crossings to record motorist violations at crossings equipped with automatic warning devices. Requires the Secretary to submit to Congress a plan to eliminate highway-rail grade crossings, with priority given to crossings where the number of accidents are high or there is insufficient or outdated protective equipment.\\n\\nDirects the Secretary to: (1) review the safety of all public railway-highway grade crossings in the United States; and (2) compile and submit to Congress, based on such review, a list of the 5,000 railway-highway grade crossings most in need of safety improvements.\\n\\nAuthorizes the Secretary to award grants to states to make necessary improvements to crossings identified for elimination and improvement. Requires the Secretary, in awarding such grants, to: (1) give priority to projects to install automated warning systems at crossings in states with the highest number of accidents; and (2) strive to reduce the number of crossings without automated warning systems by not less than 50%.\\n\\nDirects the Secretary to: (1) analyze all laws for preventing trespassing and vandalism on railroad property; and (2) develop model legislation providing for civil and criminal penalties for individuals who violate grade crossing signs, signals, or gates.\\n\\nRequires the Secretary to inspect annually at least 2% of all highway-rail grade crossings in the 10 states with the highest rates of collisions at such crossings.\\n\\nRequires the Secretary to investigate, and report to Congress, all fatal accidents in the United States (including fatal railroad accidents) that occur on or after enactment of this Act.\",\n          \"Coal Cleanup Taxpayer Protection Act This bill amends the Surface Mining Control and Reclamation Act to prohibit the Office of Surface Mining and Reclamation Enforcement (OSMRE)and state regulatory authoritiesfrom accepting new self-bonds for coal reclamation.Additionally, any existing self-bonds or corporate bondsutilized for coal reclamationmust be converted to surety or collateral bonds. The OSMRE may approve state or federal alternative coal miningbond programs thatresult in no greater risk of financial liability to the federalgovernment than a surety or collateral bond program. The bill also requires the OSMRE to issue rules establishing limitations on surety bondsto minimize the financial liability to the federal or stategovernment.\",\n          \"Highway Trust Fund Integrity Act of 1997 - Amends the Balanced Budget and Emergency Deficit Control Act of 1985 (Gramm-Rudman-Hollings Act) and the Congressional Budget Act of 1974 to define \\\"revenue constrained fund\\\" (fund) as the budget authority, outlays, and receipts of the Highway Account of the Highway Trust Fund.  States that such fund shall not be:  (1) considered part of any discretionary funding category or part of direct spending; or (2) subject to sequestration. \\nAmends the Congressional Budget Act of 1974 to prohibit any House of Representatives or Senate measure that would increase fiscal year budget authority for a fund above an amount made available under the Balanced Budget and Emergency Deficit Control Act of 1985. \\nAmends the Balanced Budget and Emergency Deficit Control Act of 1985 to reduce available fund amounts so as not to exceed the previous year's deposited fund amounts. \\nStates that any budgetary offset necessary because of additional spending provided by this Act should not come from surface transportation programs. \\nDirects the Secretary of the Treasury to report on ensuring the deficit neutrality of the Highway Trust Fund.\"\n        ],\n        \"semantic_type\": \"\",\n        \"description\": \"\"\n      }\n    },\n    {\n      \"column\": \"title\",\n      \"properties\": {\n        \"dtype\": \"string\",\n        \"num_unique_values\": 3269,\n        \"samples\": [\n          \"A bill to eliminate unsafe railway-road grade crossings, to enhance railroad safety through new safety technology, safety inspections, accident investigations, and for other purposes.\",\n          \"Coal Cleanup Taxpayer Protection Act\",\n          \"Highway Trust Fund Integrity Act of 1997\"\n        ],\n        \"semantic_type\": \"\",\n        \"description\": \"\"\n      }\n    }\n  ]\n}"
            }
          },
          "metadata": {},
          "execution_count": 40
        }
      ]
    },
    {
      "cell_type": "code",
      "source": [
        "test_df = new_data['ca_test'][:]\n",
        "test_df.head()"
      ],
      "metadata": {
        "colab": {
          "base_uri": "https://localhost:8080/",
          "height": 206
        },
        "id": "L3hbBf8-PnQn",
        "outputId": "cc3793ec-0cf3-429c-b9ac-8c45e8b8ba4f"
      },
      "execution_count": 41,
      "outputs": [
        {
          "output_type": "execute_result",
          "data": {
            "text/plain": [
              "                                                text  \\\n",
              "0  The people of the State of California do enact...   \n",
              "1  The people of the State of California do enact...   \n",
              "2  The people of the State of California do enact...   \n",
              "3  The people of the State of California do enact...   \n",
              "4  The people of the State of California do enact...   \n",
              "\n",
              "                                             summary  \\\n",
              "0  Existing property tax law establishes a vetera...   \n",
              "1  Existing law provides that the Board of Parole...   \n",
              "2  The Sales and Use Tax Law imposes a tax on ret...   \n",
              "3  Existing law requires all moneys, except for f...   \n",
              "4  Existing law defines a request regarding resus...   \n",
              "\n",
              "                                               title  \n",
              "0  An act to amend Section 215.1 of the Revenue a...  \n",
              "1  An act to amend Section 3550 of, and to add Se...  \n",
              "2  An act\\nto add Chapter 3.8 (commencing with Se...  \n",
              "3  An act to amend Sections 75220, 75221, and 752...  \n",
              "4  An act to add and repeal Section 4788 of the P...  "
            ],
            "text/html": [
              "\n",
              "  <div id=\"df-2f1aa140-7e21-4358-9659-4b655543428d\" class=\"colab-df-container\">\n",
              "    <div>\n",
              "<style scoped>\n",
              "    .dataframe tbody tr th:only-of-type {\n",
              "        vertical-align: middle;\n",
              "    }\n",
              "\n",
              "    .dataframe tbody tr th {\n",
              "        vertical-align: top;\n",
              "    }\n",
              "\n",
              "    .dataframe thead th {\n",
              "        text-align: right;\n",
              "    }\n",
              "</style>\n",
              "<table border=\"1\" class=\"dataframe\">\n",
              "  <thead>\n",
              "    <tr style=\"text-align: right;\">\n",
              "      <th></th>\n",
              "      <th>text</th>\n",
              "      <th>summary</th>\n",
              "      <th>title</th>\n",
              "    </tr>\n",
              "  </thead>\n",
              "  <tbody>\n",
              "    <tr>\n",
              "      <th>0</th>\n",
              "      <td>The people of the State of California do enact...</td>\n",
              "      <td>Existing property tax law establishes a vetera...</td>\n",
              "      <td>An act to amend Section 215.1 of the Revenue a...</td>\n",
              "    </tr>\n",
              "    <tr>\n",
              "      <th>1</th>\n",
              "      <td>The people of the State of California do enact...</td>\n",
              "      <td>Existing law provides that the Board of Parole...</td>\n",
              "      <td>An act to amend Section 3550 of, and to add Se...</td>\n",
              "    </tr>\n",
              "    <tr>\n",
              "      <th>2</th>\n",
              "      <td>The people of the State of California do enact...</td>\n",
              "      <td>The Sales and Use Tax Law imposes a tax on ret...</td>\n",
              "      <td>An act\\nto add Chapter 3.8 (commencing with Se...</td>\n",
              "    </tr>\n",
              "    <tr>\n",
              "      <th>3</th>\n",
              "      <td>The people of the State of California do enact...</td>\n",
              "      <td>Existing law requires all moneys, except for f...</td>\n",
              "      <td>An act to amend Sections 75220, 75221, and 752...</td>\n",
              "    </tr>\n",
              "    <tr>\n",
              "      <th>4</th>\n",
              "      <td>The people of the State of California do enact...</td>\n",
              "      <td>Existing law defines a request regarding resus...</td>\n",
              "      <td>An act to add and repeal Section 4788 of the P...</td>\n",
              "    </tr>\n",
              "  </tbody>\n",
              "</table>\n",
              "</div>\n",
              "    <div class=\"colab-df-buttons\">\n",
              "\n",
              "  <div class=\"colab-df-container\">\n",
              "    <button class=\"colab-df-convert\" onclick=\"convertToInteractive('df-2f1aa140-7e21-4358-9659-4b655543428d')\"\n",
              "            title=\"Convert this dataframe to an interactive table.\"\n",
              "            style=\"display:none;\">\n",
              "\n",
              "  <svg xmlns=\"http://www.w3.org/2000/svg\" height=\"24px\" viewBox=\"0 -960 960 960\">\n",
              "    <path d=\"M120-120v-720h720v720H120Zm60-500h600v-160H180v160Zm220 220h160v-160H400v160Zm0 220h160v-160H400v160ZM180-400h160v-160H180v160Zm440 0h160v-160H620v160ZM180-180h160v-160H180v160Zm440 0h160v-160H620v160Z\"/>\n",
              "  </svg>\n",
              "    </button>\n",
              "\n",
              "  <style>\n",
              "    .colab-df-container {\n",
              "      display:flex;\n",
              "      gap: 12px;\n",
              "    }\n",
              "\n",
              "    .colab-df-convert {\n",
              "      background-color: #E8F0FE;\n",
              "      border: none;\n",
              "      border-radius: 50%;\n",
              "      cursor: pointer;\n",
              "      display: none;\n",
              "      fill: #1967D2;\n",
              "      height: 32px;\n",
              "      padding: 0 0 0 0;\n",
              "      width: 32px;\n",
              "    }\n",
              "\n",
              "    .colab-df-convert:hover {\n",
              "      background-color: #E2EBFA;\n",
              "      box-shadow: 0px 1px 2px rgba(60, 64, 67, 0.3), 0px 1px 3px 1px rgba(60, 64, 67, 0.15);\n",
              "      fill: #174EA6;\n",
              "    }\n",
              "\n",
              "    .colab-df-buttons div {\n",
              "      margin-bottom: 4px;\n",
              "    }\n",
              "\n",
              "    [theme=dark] .colab-df-convert {\n",
              "      background-color: #3B4455;\n",
              "      fill: #D2E3FC;\n",
              "    }\n",
              "\n",
              "    [theme=dark] .colab-df-convert:hover {\n",
              "      background-color: #434B5C;\n",
              "      box-shadow: 0px 1px 3px 1px rgba(0, 0, 0, 0.15);\n",
              "      filter: drop-shadow(0px 1px 2px rgba(0, 0, 0, 0.3));\n",
              "      fill: #FFFFFF;\n",
              "    }\n",
              "  </style>\n",
              "\n",
              "    <script>\n",
              "      const buttonEl =\n",
              "        document.querySelector('#df-2f1aa140-7e21-4358-9659-4b655543428d button.colab-df-convert');\n",
              "      buttonEl.style.display =\n",
              "        google.colab.kernel.accessAllowed ? 'block' : 'none';\n",
              "\n",
              "      async function convertToInteractive(key) {\n",
              "        const element = document.querySelector('#df-2f1aa140-7e21-4358-9659-4b655543428d');\n",
              "        const dataTable =\n",
              "          await google.colab.kernel.invokeFunction('convertToInteractive',\n",
              "                                                    [key], {});\n",
              "        if (!dataTable) return;\n",
              "\n",
              "        const docLinkHtml = 'Like what you see? Visit the ' +\n",
              "          '<a target=\"_blank\" href=https://colab.research.google.com/notebooks/data_table.ipynb>data table notebook</a>'\n",
              "          + ' to learn more about interactive tables.';\n",
              "        element.innerHTML = '';\n",
              "        dataTable['output_type'] = 'display_data';\n",
              "        await google.colab.output.renderOutput(dataTable, element);\n",
              "        const docLink = document.createElement('div');\n",
              "        docLink.innerHTML = docLinkHtml;\n",
              "        element.appendChild(docLink);\n",
              "      }\n",
              "    </script>\n",
              "  </div>\n",
              "\n",
              "\n",
              "<div id=\"df-0b94e3ce-2e9b-41d9-9f76-a74fb2c7078c\">\n",
              "  <button class=\"colab-df-quickchart\" onclick=\"quickchart('df-0b94e3ce-2e9b-41d9-9f76-a74fb2c7078c')\"\n",
              "            title=\"Suggest charts\"\n",
              "            style=\"display:none;\">\n",
              "\n",
              "<svg xmlns=\"http://www.w3.org/2000/svg\" height=\"24px\"viewBox=\"0 0 24 24\"\n",
              "     width=\"24px\">\n",
              "    <g>\n",
              "        <path d=\"M19 3H5c-1.1 0-2 .9-2 2v14c0 1.1.9 2 2 2h14c1.1 0 2-.9 2-2V5c0-1.1-.9-2-2-2zM9 17H7v-7h2v7zm4 0h-2V7h2v10zm4 0h-2v-4h2v4z\"/>\n",
              "    </g>\n",
              "</svg>\n",
              "  </button>\n",
              "\n",
              "<style>\n",
              "  .colab-df-quickchart {\n",
              "      --bg-color: #E8F0FE;\n",
              "      --fill-color: #1967D2;\n",
              "      --hover-bg-color: #E2EBFA;\n",
              "      --hover-fill-color: #174EA6;\n",
              "      --disabled-fill-color: #AAA;\n",
              "      --disabled-bg-color: #DDD;\n",
              "  }\n",
              "\n",
              "  [theme=dark] .colab-df-quickchart {\n",
              "      --bg-color: #3B4455;\n",
              "      --fill-color: #D2E3FC;\n",
              "      --hover-bg-color: #434B5C;\n",
              "      --hover-fill-color: #FFFFFF;\n",
              "      --disabled-bg-color: #3B4455;\n",
              "      --disabled-fill-color: #666;\n",
              "  }\n",
              "\n",
              "  .colab-df-quickchart {\n",
              "    background-color: var(--bg-color);\n",
              "    border: none;\n",
              "    border-radius: 50%;\n",
              "    cursor: pointer;\n",
              "    display: none;\n",
              "    fill: var(--fill-color);\n",
              "    height: 32px;\n",
              "    padding: 0;\n",
              "    width: 32px;\n",
              "  }\n",
              "\n",
              "  .colab-df-quickchart:hover {\n",
              "    background-color: var(--hover-bg-color);\n",
              "    box-shadow: 0 1px 2px rgba(60, 64, 67, 0.3), 0 1px 3px 1px rgba(60, 64, 67, 0.15);\n",
              "    fill: var(--button-hover-fill-color);\n",
              "  }\n",
              "\n",
              "  .colab-df-quickchart-complete:disabled,\n",
              "  .colab-df-quickchart-complete:disabled:hover {\n",
              "    background-color: var(--disabled-bg-color);\n",
              "    fill: var(--disabled-fill-color);\n",
              "    box-shadow: none;\n",
              "  }\n",
              "\n",
              "  .colab-df-spinner {\n",
              "    border: 2px solid var(--fill-color);\n",
              "    border-color: transparent;\n",
              "    border-bottom-color: var(--fill-color);\n",
              "    animation:\n",
              "      spin 1s steps(1) infinite;\n",
              "  }\n",
              "\n",
              "  @keyframes spin {\n",
              "    0% {\n",
              "      border-color: transparent;\n",
              "      border-bottom-color: var(--fill-color);\n",
              "      border-left-color: var(--fill-color);\n",
              "    }\n",
              "    20% {\n",
              "      border-color: transparent;\n",
              "      border-left-color: var(--fill-color);\n",
              "      border-top-color: var(--fill-color);\n",
              "    }\n",
              "    30% {\n",
              "      border-color: transparent;\n",
              "      border-left-color: var(--fill-color);\n",
              "      border-top-color: var(--fill-color);\n",
              "      border-right-color: var(--fill-color);\n",
              "    }\n",
              "    40% {\n",
              "      border-color: transparent;\n",
              "      border-right-color: var(--fill-color);\n",
              "      border-top-color: var(--fill-color);\n",
              "    }\n",
              "    60% {\n",
              "      border-color: transparent;\n",
              "      border-right-color: var(--fill-color);\n",
              "    }\n",
              "    80% {\n",
              "      border-color: transparent;\n",
              "      border-right-color: var(--fill-color);\n",
              "      border-bottom-color: var(--fill-color);\n",
              "    }\n",
              "    90% {\n",
              "      border-color: transparent;\n",
              "      border-bottom-color: var(--fill-color);\n",
              "    }\n",
              "  }\n",
              "</style>\n",
              "\n",
              "  <script>\n",
              "    async function quickchart(key) {\n",
              "      const quickchartButtonEl =\n",
              "        document.querySelector('#' + key + ' button');\n",
              "      quickchartButtonEl.disabled = true;  // To prevent multiple clicks.\n",
              "      quickchartButtonEl.classList.add('colab-df-spinner');\n",
              "      try {\n",
              "        const charts = await google.colab.kernel.invokeFunction(\n",
              "            'suggestCharts', [key], {});\n",
              "      } catch (error) {\n",
              "        console.error('Error during call to suggestCharts:', error);\n",
              "      }\n",
              "      quickchartButtonEl.classList.remove('colab-df-spinner');\n",
              "      quickchartButtonEl.classList.add('colab-df-quickchart-complete');\n",
              "    }\n",
              "    (() => {\n",
              "      let quickchartButtonEl =\n",
              "        document.querySelector('#df-0b94e3ce-2e9b-41d9-9f76-a74fb2c7078c button');\n",
              "      quickchartButtonEl.style.display =\n",
              "        google.colab.kernel.accessAllowed ? 'block' : 'none';\n",
              "    })();\n",
              "  </script>\n",
              "</div>\n",
              "\n",
              "    </div>\n",
              "  </div>\n"
            ],
            "application/vnd.google.colaboratory.intrinsic+json": {
              "type": "dataframe",
              "variable_name": "test_df",
              "summary": "{\n  \"name\": \"test_df\",\n  \"rows\": 1237,\n  \"fields\": [\n    {\n      \"column\": \"text\",\n      \"properties\": {\n        \"dtype\": \"string\",\n        \"num_unique_values\": 1235,\n        \"samples\": [\n          \"The people of the State of California do enact as follows:\\n\\n\\nSECTION 1.\\nSection 1250 of the Health and Safety Code is amended to read:\\n1250.\\nAs used in this chapter, \\u201chealth facility\\u201d means a facility, place, or building that is organized, maintained, and operated for the diagnosis, care, prevention, and treatment of human illness, physical or mental, including convalescence and rehabilitation and including care during and after pregnancy, or for any one or more of these purposes, for one or more persons, to which the persons are admitted for a 24-hour stay or longer, and includes the following types:\\n(a) \\u201cGeneral acute care hospital\\u201d means a health facility having a duly constituted governing body with overall administrative and professional responsibility and an organized medical staff that provides 24-hour inpatient care, including the following basic services: medical, nursing, surgical, anesthesia, laboratory, radiology, pharmacy, and dietary services. A general acute care hospital may include more than one physical plant maintained and operated on separate premises as provided in Section 1250.8. A general acute care hospital that exclusively provides acute medical rehabilitation center services, including at least physical therapy, occupational therapy, and speech therapy, may provide for the required surgical and anesthesia services through a contract with another acute care hospital. In addition, a general acute care hospital that, on July 1, 1983, provided required surgical and anesthesia services through a contract or agreement with another acute care hospital may continue to provide these surgical and anesthesia services through a contract or agreement with an acute care hospital. The general acute care hospital operated by the State Department of Developmental Services at Agnews Developmental Center may, until June 30, 2007, provide surgery and anesthesia services through a contract or agreement with another acute care hospital. Notwithstanding the requirements of this subdivision, a general acute care hospital operated by the Department of Corrections and Rehabilitation or the Department of Veterans Affairs may provide surgery and anesthesia services during normal weekday working hours, and not provide these services during other hours of the weekday or on weekends or holidays, if the general acute care hospital otherwise meets the requirements of this section.\\nA \\u201cgeneral acute care hospital\\u201d includes a \\u201crural general acute care hospital.\\u201d However, a \\u201crural general acute care hospital\\u201d shall not be required by the department to provide surgery and anesthesia services. A \\u201crural general acute care hospital\\u201d shall meet either of the following conditions:\\n(1) The hospital meets criteria for designation within peer group six or eight, as defined in the report entitled Hospital Peer Grouping for Efficiency Comparison, dated December 20, 1982.\\n(2) The hospital meets the criteria for designation within peer group five or seven, as defined in the report entitled Hospital Peer Grouping for Efficiency Comparison, dated December 20, 1982, and has no more than 76 acute care beds and is located in a census dwelling place of 15,000 or less population according to the 1980 federal census.\\n(b) \\u201cAcute psychiatric hospital\\u201d means a health facility having a duly constituted governing body with overall administrative and professional responsibility and an organized medical staff that provides 24-hour inpatient care for persons with mental health disorders or other patients referred to in Division 5 (commencing with Section 5000) or Division 6 (commencing with Section 6000) of the Welfare and Institutions Code, including the following basic services: medical, nursing, rehabilitative, pharmacy, and dietary services.\\n(c) (1) \\u201cSkilled nursing facility\\u201d means a health facility that provides skilled nursing care and supportive care to patients whose primary need is for availability of skilled nursing care on an extended basis.\\n(2) \\u201cSkilled nursing facility\\u201d includes a \\u201csmall house skilled nursing facility (SHSNF),\\u201d as defined in Section 1323.5.\\n(d) \\u201cIntermediate care facility\\u201d means a health facility that provides inpatient care to ambulatory or nonambulatory patients who have recurring need for skilled nursing supervision and need supportive care, but who do not require availability of continuous skilled nursing care.\\n(e) \\u201cIntermediate care facility/developmentally disabled habilitative\\u201d means a facility with a capacity of 4 to 15 beds that provides 24-hour personal care, habilitation, developmental, and supportive health services to 15 or fewer persons with developmental disabilities who have intermittent recurring needs for nursing services, but have been certified by a physician and surgeon as not requiring availability of continuous skilled nursing care.\\n(f) \\u201cSpecial hospital\\u201d means a health facility having a duly constituted governing body with overall administrative and professional responsibility and an organized medical or dental staff that provides inpatient or outpatient care in dentistry or maternity.\\n(g) \\u201cIntermediate care facility/developmentally disabled\\u201d means a facility that provides 24-hour personal care, habilitation, developmental, and supportive health services to persons with developmental disabilities whose primary need is for developmental services and who have a recurring but intermittent need for skilled nursing services.\\n(h) \\u201cIntermediate care facility/developmentally disabled-nursing\\u201d means a facility with a capacity of 4 to 15 beds that provides 24-hour personal care, developmental services, and nursing supervision for persons with developmental disabilities who have intermittent recurring needs for skilled nursing care but have been certified by a physician and surgeon as not requiring continuous skilled nursing care. The facility shall serve medically fragile persons with developmental disabilities or who demonstrate significant developmental delay that may lead to a developmental disability if not treated.\\n(i) (1) \\u201cCongregate living health facility\\u201d means a residential home with a capacity, except as provided in paragraph (4), of no more than 18 beds, that provides inpatient care, including the following basic services: medical supervision, 24-hour skilled nursing and supportive care, pharmacy, dietary, social, recreational, and at least one type of service specified in paragraph (2). The primary need of congregate living health facility residents shall be for availability of skilled nursing care on a recurring, intermittent, extended, or continuous basis. This care is generally less intense than that provided in general acute care hospitals but more intense than that provided in skilled nursing facilities.\\n(2) Congregate living health facilities shall provide one or more of the following services:\\n(A) Services for persons who are mentally alert, persons with physical disabilities, who may be ventilator dependent.\\n(B) Services for persons who have a diagnosis of terminal illness, a diagnosis of a life-threatening illness, or both. Terminal illness means the individual has a life expectancy of six months or less as stated in writing by his or her attending physician and surgeon. A \\u201clife-threatening illness\\u201d means the individual has an illness that can lead to a possibility of a termination of life within five years or less as stated in writing by his or her attending physician and surgeon.\\n(C) Services for persons who are catastrophically and severely disabled. A person who is catastrophically and severely disabled means a person whose origin of disability was acquired through trauma or nondegenerative neurologic illness, for whom it has been determined that active rehabilitation would be beneficial and to whom these services are being provided. Services offered by a congregate living health facility to a person who is catastrophically disabled shall include, but not be limited to, speech, physical, and occupational therapy.\\n(3) A congregate living health facility license shall specify which of the types of persons described in paragraph (2) to whom a facility is licensed to provide services.\\n(4) (A) A facility operated by a city and county for the purposes of delivering services under this section may have a capacity of 59 beds.\\n(B) A congregate living health facility not operated by a city and county servicing persons who are terminally ill, persons who have been diagnosed with a life-threatening illness, or both, that is located in a county with a population of 500,000 or more persons, or located in a county of the 16th class pursuant to Section 28020 of the Government Code, may have not more than 25 beds for the purpose of serving persons who are terminally ill.\\n(5) A congregate living health facility shall have a noninstitutional, homelike environment.\\n(j) (1) \\u201cCorrectional treatment center\\u201d means a health facility operated by the Department of Corrections and Rehabilitation, the Department of Corrections and Rehabilitation, Division of Juvenile Facilities, or a county, city, or city and county law enforcement agency that, as determined by the department, provides inpatient health services to that portion of the inmate population who do not require a general acute care level of basic services. This definition shall not apply to those areas of a law enforcement facility that houses inmates or wards who may be receiving outpatient services and are housed separately for reasons of improved access to health care, security, and protection. The health services provided by a correctional treatment center shall include, but are not limited to, all of the following basic services: physician and surgeon, psychiatrist, psychologist, nursing, pharmacy, and dietary. A correctional treatment center may provide the following services: laboratory, radiology, perinatal, and any other services approved by the department.\\n(2) Outpatient surgical care with anesthesia may be provided, if the correctional treatment center meets the same requirements as a surgical clinic licensed pursuant to Section 1204, with the exception of the requirement that patients remain less than 24 hours.\\n(3) Correctional treatment centers shall maintain written service agreements with general acute care hospitals to provide for those inmate physical health needs that cannot be met by the correctional treatment center.\\n(4) Physician and surgeon services shall be readily available in a correctional treatment center on a 24-hour basis.\\n(5) It is not the intent of the Legislature to have a correctional treatment center supplant the general acute care hospitals at the California Medical Facility, the California Men\\u2019s Colony, and the California Institution for Men. This subdivision shall not be construed to prohibit the Department of Corrections and Rehabilitation from obtaining a correctional treatment center license at these sites.\\n(k) \\u201cNursing facility\\u201d means a health facility licensed pursuant to this chapter that is certified to participate as a provider of care either as a skilled nursing facility in the federal Medicare Program under Title XVIII of the federal Social Security Act (42 U.S.C. Sec. 1395 et seq.) or as a nursing facility in the federal Medicaid Program under Title XIX of the federal Social Security Act (42 U.S.C. Sec. 1396 et seq.), or as both.\\n(l) Regulations defining a correctional treatment center described in subdivision (j) that is operated by a county, city, or city and county, the Department of Corrections and Rehabilitation, or the Department of Corrections and Rehabilitation, Division of Juvenile Facilities, shall not become effective prior to, or, if effective, shall be inoperative until January 1, 1996, and until that time these correctional facilities are exempt from any licensing requirements.\\n(m) \\u201cIntermediate care facility/developmentally disabled-continuous nursing (ICF/DD-CN)\\u201d means a homelike facility with a capacity of four to eight, inclusive, beds that provides 24-hour personal care, developmental services, and nursing supervision for persons with developmental disabilities who have continuous needs for skilled nursing care and have been certified by a physician and surgeon as warranting continuous skilled nursing care. The facility shall serve medically fragile persons who have developmental disabilities or demonstrate significant developmental delay that may lead to a developmental disability if not treated. ICF/DD-CN facilities shall be subject to licensure under this chapter upon adoption of licensing regulations in accordance with Section 1275.3. A facility providing continuous skilled nursing services to persons with developmental disabilities pursuant to Section 14132.20 or 14495.10 of the Welfare and Institutions Code shall apply for licensure under this subdivision within 90 days after the regulations become effective, and may continue to operate pursuant to those sections until its licensure application is either approved or denied.\\n(n) \\u201cHospice facility\\u201d means a health facility licensed pursuant to this chapter with a capacity of no more than 24 beds that provides hospice services. Hospice services include, but are not limited to, routine care, continuous care, inpatient respite care, and inpatient hospice care as defined in subdivision (d) of Section 1339.40, and is operated by a provider of hospice services that is licensed pursuant to Section 1751 and certified as a hospice pursuant to Part 418 of Title 42 of the Code of Federal Regulations.\\nSEC. 2.\\nNo reimbursement is required by this act pursuant to Section 6 of Article XIII\\u2009B of the California Constitution because the only costs that may be incurred by a local agency or school district will be incurred because this act creates a new crime or infraction, eliminates a crime or infraction, or changes the penalty for a crime or infraction, within the meaning of Section 17556 of the Government Code, or changes the definition of a crime within the meaning of Section 6 of Article XIII\\u2009B of the California Constitution.\\nSEC. 3.\\nThis act is an urgency statute necessary for the immediate preservation of the public peace, health, or safety within the meaning of Article IV of the Constitution and shall go into immediate effect. The facts constituting the necessity are:\\nIn order to immediately ensure that eligible patients of congregate living health facilities are able to obtain essential care, and to enable these facilities to provide care for patients currently on a waiting list, it is necessary that this act take effect immediately.\",\n          \"The people of the State of California do enact as follows:\\n\\n\\nSECTION 1.\\nIt is the intent of the Legislature that the County of Sacramento notify and consult with the Amador County Transportation Commission, the Counties of Amador, Calaveras, and Alpine, the Cities of Plymouth, Amador City, Sutter Creek, and Jackson, and other relevant parties about any proposed relinquishment of Route 16 to the County of Sacramento as provided in this act.\\nSEC. 2.\\nSection 316 of the Streets and Highways Code is amended to read:\\n316.\\n(a) Route 16 is from:\\n(1) Route 20 to Route 5 near Woodland via Rumsey and Woodland.\\n(2) Route 50 near Perkins to Route 49 near Drytown.\\n(b) Upon a determination by the commission that it is in the best interests of the state to do so, the commission may, upon terms and conditions approved by it, relinquish to the City of Sacramento the portion of Route 16 that is located within the city limits of that city if the city agrees to accept it. The following conditions shall apply upon relinquishment:\\n(1) The relinquishment shall become effective on the date following the county recorder\\u2019s recordation of the relinquishment resolution containing the commission\\u2019s approval of the terms and conditions of the relinquishment.\\n(2) On and after the effective date of the relinquishment, the relinquished portion of Route 16 shall cease to be a state highway.\\n(3) The portion of Route 16 relinquished under this subdivision shall be ineligible for future adoption under Section 81.\\n(4) For the portion of Route 16 relinquished under this subdivision, the City of Sacramento shall apply for approval of a business route designation for the relinquished portion of the highway in accordance with Chapter 20, Topic 21, of the Highway Design Manual.\\n(5) For the portion of Route 16 relinquished under this subdivision, the City of Sacramento shall install and maintain within its jurisdiction signs directing motorists to the continuation of Route 16 to the east.\\n(6) The City of Sacramento shall maintain the Surface Transportation Assistance Act (STAA) truck route designation for the portion of Route 16 relinquished that previously held that designation.\\n(c) (1) Upon a determination by the commission that it is in the best interests of the state to do so, the commission may, upon terms and conditions approved by it, relinquish to the County of Sacramento the portion of Route 16 that is within the unincorporated area of the county and between the general easterly city limits of the City of Sacramento, approximately post mile 3.3, and 0.2 miles east of Grant Line Road, approximately post mile 12.7, if the county agrees to accept it.\\n(2) The following conditions shall apply upon relinquishment:\\n(A) The relinquishment shall become effective on the date following the county recorder\\u2019s recordation of the relinquishment resolution containing the commission\\u2019s approval of the terms and conditions of the relinquishment.\\n(B) On and after the effective date of the relinquishment, the relinquished portion of Route 16 shall cease to be a state highway.\\n(C) The portion of Route 16 relinquished under this subdivision shall be ineligible for future adoption under Section 81.\\n(D) For the portion of Route 16 relinquished under this subdivision, the County of Sacramento shall apply for approval of a business route designation for the relinquished portion of the highway in accordance with Chapter 20, Topic 21, of the Highway Design Manual.\\n(E) For the portion of Route 16 relinquished under this subdivision, the County of Sacramento shall install and maintain within its jurisdiction signs directing motorists to the continuation of Route 16 to the east.\\n(F) The County of Sacramento shall maintain the STAA truck route designation for the portion of Route 16 relinquished that previously held that designation.\\n(G) The County of Sacramento shall ensure the continuity of traffic flow on the relinquished portion of Route 16 within its jurisdiction, including, but not limited to, any traffic signal progression.\\n(H) Any relinquishment agreement shall require that the County of Sacramento administer the operation and maintenance of the roadway in a manner that is consistent with professional traffic engineering standards.\\n(I) Any relinquishment agreement shall require the County of Sacramento to ensure that appropriate traffic studies or analyses will be performed to substantiate decisions affecting traffic on the roadway.\\n(d) Upon a determination by the commission that it is in the best interests of the state to do so, the commission may, upon terms and conditions approved by it, relinquish to the City of Rancho Cordova the portion of Route 16 that is within the city limits of the city between Sunrise Boulevard, approximately post mile 11.5, and Grant Line Road, approximately post mile 12.5, if the city agrees to accept it. The following conditions shall apply upon relinquishment:\\n(1) The relinquishment shall become effective on the date following the county recorder\\u2019s recordation of the relinquishment resolution containing the commission\\u2019s approval of the terms and conditions of the relinquishment.\\n(2) On and after the effective date of the relinquishment, the relinquished portion of Route 16 shall cease to be a state highway.\\n(3) The portion of Route 16 relinquished under this subdivision shall be ineligible for future adoption under Section 81.\\n(4) For the portion of Route 16 relinquished under this subdivision, the City of Rancho Cordova shall apply for approval of a business route designation for the relinquished portion of the highway in accordance with Chapter 20, Topic 21, of the Highway Design Manual.\",\n          \"The people of the State of California do enact as follows:\\n\\n\\nSECTION 1.\\nIt is the intent of the Legislature that unencumbered restitution funds awarded to the state from a lawsuit involving Corinthian Colleges, Inc., and its affiliate institutions, including Heald College, shall be used to repay any funds provided to students pursuant to this act.\\nSEC. 2.\\nSection 69433.61 is added to the Education Code, to read:\\n69433.61.\\n(a) Notwithstanding any other law, a student who was enrolled and received a Cal Grant award in the 2013\\u201314 or 2014\\u201315 academic year at a California campus of Heald College, and was unable to complete an educational program offered by the campus due to the campus\\u2019 closure on April 27, 2015, shall not have the award years used at a Heald College campus considered for purposes of the limitation on the number of years of Cal Grant award eligibility. This restoration of award years for Cal Grant eligibility shall not exceed two years.\\n(b) A student shall be eligible for the restoration of award years if the student was enrolled at a campus of Heald College on April 27, 2015, or withdrew from enrollment between July 1, 2014, and April 27, 2015. The Bureau for Private Postsecondary Education shall provide the commission with information, if available, to confirm student enrollment for purposes of this section.\\n(c) An eligible student shall, before January 1, 2017, notify the commission of his or her intent to use the restoration of award years provided under this section and to enroll in an institution eligible for initial and renewal Cal Grant awards to be eligible for that restoration.\\nSEC. 3.\\nSection 69999.19 is added to the Education Code, to read:\\n69999.19.\\n(a) Notwithstanding any other law, a student who was enrolled and received a California National Guard Education Assistance Award in the 2013\\u201314 or 2014\\u201315 academic year at a California campus of Heald College, and was unable to complete an educational program offered by the campus due to the campus\\u2019 closure on April 27, 2015, shall not have the award years used at a Heald College campus considered for purposes of the limitation on the number of years of California National Guard Education Assistance Award eligibility. This restoration of award years for California National Guard Education Assistance Award eligibility shall not exceed two years.\\n(b) A student shall be eligible for the restoration of award years if the student was enrolled at a campus of Heald College on April 27, 2015, or withdrew from enrollment between July 1, 2014, and April 27, 2015. The Bureau for Private Postsecondary Education shall provide the commission with information, if available, to confirm student enrollment for purposes of this section.\\n(c) An eligible student shall, before January 1, 2017, notify the commission of his or her intent to use the restoration of award years provided under this section and to enroll in an institution eligible for initial and renewal California National Guard Education Assistance Awards to be eligible for that restoration.\\nSEC. 4.\\nSection 94051 is added to the Education Code, to read:\\n94051.\\nNotwithstanding any provision of law, for a period not to exceed two years from the date of the closure of Corinthian Colleges, Inc., a state agency that provides certification, registration, or licensure necessary to promote the safety and protection of the public may, on a case-by-case basis, consider for certification, registration, or licensure students who were enrolled in a program of Corinthian Colleges, Inc., that provided education or training aimed towards these students receiving certification, registration, or licensure from the state agency, and who did not receive that certification, registration, or licensure due to the closure of Corinthian Colleges, Inc. This consideration shall be provided at the discretion of the state agency in accordance with its public protection mandate and applicable criteria established by the agency for consumer safety.\\nSEC. 5.\\nSection 94925 of the Education Code is amended to read:\\n94925.\\n(a) The amount in the Student Tuition Recovery Fund shall not exceed thirty million dollars ($30,000,000) at any time.\\n(b) If the bureau has temporarily stopped collecting the Student Tuition Recovery Fund assessments because the fund has approached the thirty million dollar (30,000,000) limit in subdivision (a), the bureau shall resume collecting Student Tuition Recovery Fund assessments when the fund falls below twenty million dollars ($20,000,000).\\n(c) An otherwise eligible student who enrolled during a period when institutions were not required to collect Student Tuition Recovery Fund assessments is eligible for Student Tuition Recovery Fund payments despite not having paid any Student Tuition Recovery Fund assessment.\\nSEC. 6.\\nSection 94926.5 is added to the Education Code, to read:\\n94926.5.\\n(a) The Legislature finds and declares all of the following:\\n(1) Corinthian Colleges, Inc., has been the target of consumer and taxpayer protection enforcement efforts by the federal government, the Attorney General, and other state and federal authorities.\\n(2) Based on findings of harm to students enrolled at Corinthian Colleges, Inc., campuses, the United States Department of Education has announced debt relief programs to assist students, including all of the following:\\n(A) A student who attended a Corinthian Colleges, Inc., campus that closed on April 27, 2015, and withdrew any time after June 20, 2014, is eligible to apply for a closed school loan discharge, so long as the student does not transfer earned credit and subsequently complete a comparable program at another institution.\\n(B) A student who believes he or she was a victim of fraud or other violations of state law by Corinthian Colleges, Inc., can apply for debt relief under borrower defense to repayment. The United States Department of Education has determined that Corinthian Colleges, Inc., misrepresented job placement rates for a majority of programs at its Heald College campuses between 2010 and 2014 and is in the process of establishing a specific process for federal loan discharge for these Heald students.\\n(C) A Corinthian student who intends to submit a borrower defense claim may request loan forbearance while a claims review process is established and his or her claim is reviewed.\\n(3) Pursuant to Section 94923, the Student Tuition Recovery Fund exists to relieve or mitigate a student\\u2019s economic loss caused by a documented violation of certain laws or by institutional closure, as specified.\\n(4) On October 10, 2013, the Attorney General filed a lawsuit against Corinthian Colleges, Inc., for false and predatory advertising, intentional misrepresentations to students, securities fraud, and unlawful use of military seals in advertisements, in violation of the 2007 final judgment of the Los Angeles Superior Court in the People of the State of California v. Corinthian Schools, Inc.\\n(5) On April 16, 2015, the bureau issued an emergency decision ordering Corinthian Colleges, Inc., to cease enrollment of any new students in all programs at Everest College and WyoTech locations in California effective upon close of business April 23, 2015.\\n(6) It is consistent with the purpose of the Student Tuition Recovery Fund to provide assistance to Corinthian Colleges, Inc., students to obtain federal and private loan discharge and other financial aid relief.\\n(b) Upon appropriation by the Legislature, in response to the student harm caused by the practices and unlawful closure of Corinthian Colleges, Inc., grant funds shall be timely provided in accordance with this section to eligible nonprofit community service organizations, to assist the eligible students of that closed institution, including veterans, by relieving or mitigating the economic and educational opportunity loss incurred by eligible students of that institution.\\n(c) Services provided by eligible nonprofit community services organizations shall include assistance with loan discharge and other student financial aid, veterans education benefits, loan-related relief, and tuition recovery-related claims. Assistance may include, but is not limited to, outreach and education, screening requests for assistance, referring students for additional legal assistance through pro bono referral programs, and legal services.\\n(d) The terms and conditions of the grant agreements shall ensure that grant funds are used for the exclusive purpose of assisting eligible students with federal and private loan discharge and other financial aid relief, and that students eligible to claim recovery through the Student Tuition Recovery Fund are referred to the bureau for assistance with claim processing.\\n(e) For purposes of this section, an \\u201celigible nonprofit community service organization\\u201d is an organization that satisfies all of the following conditions:\\n(1) The organization is a 501(c)(3) tax-exempt organization in good standing with the Internal Revenue Service and in compliance with all applicable laws and requirements.\\n(2) The organization demonstrates expertise in assisting students with, and currently provides free direct legal services to students for, or will work in partnership with or under the supervision of an attorney or a nonprofit legal services organization that has demonstrated expertise in assisting students with, student loan and tuition recovery-related matters.\\n(3) The organization does not charge students for services, including services provided pursuant to this section.\\n(f) For purposes of this section, an \\u201celigible student\\u201d is a student who was enrolled at a California campus of, or a California student who was enrolled in an online campus of, a Corinthian Colleges, Inc., institution, and who is eligible to apply for debt relief from the United States Department of Education or other student financial aid relief.\\n(g) (1) The bureau shall notify the Attorney General of all unlawful Corinthian Colleges, Inc., closures within 15 days of the effective date of this section.\\n(2) The notification shall include the name and location of the school, the programs, and the number of students affected at each site of the school, as appropriate. The bureau shall provide the Attorney General with all additional information that the Attorney General may request, provided that the bureau has access to the requested information.\\n(3) The Attorney General shall, within 90 days of receipt of the notification, solicit grant applications from eligible nonprofit community service organizations as described in subdivision (e), select one or more of these organizations from among the applicants who are deemed to be qualified by the Attorney General, set additional terms and conditions of the grants as necessary, and notify the bureau and the recipient organization or organizations of the selection and the share of grant funds available that the organization shall receive. The Attorney General may enter into a contract with another qualified entity to perform the Attorney General\\u2019s duties under this subdivision.\\n(h) An eligible nonprofit community service organization that receives funds pursuant to this section shall enter into a grant agreement with the Attorney General, or a qualified entity entrusted with this authority pursuant to paragraph (3) of subdivision (g), as applicable, and shall use grant funds exclusively for the purposes set forth in this section in accordance with the agreement. Any unused funds shall be returned to the Attorney General, for return to the Student Tuition Recovery Fund. The Attorney General, or a contracted qualified entity, may terminate the grant agreement for material breach, and may require repayment of funds provided to the nonprofit community service organization during the time that the agreement was being materially breached. However, the Attorney General, or a qualified entity, shall provide the grantee with written notice of the breach and a reasonable opportunity of not less than 30 days to resolve the breach.\\n(i) An eligible nonprofit community service organization that receives a grant may give priority to low-income students if demand exceeds available grant funds. Otherwise, the organization may provide assistance regardless of student income level.\\n(j) (1) An eligible nonprofit community service organization that receives a grant shall report to the Attorney General, or a qualified entity pursuant to paragraph (3) of subdivision (g), as applicable, quarterly through the grant period on all of the following:\\n(A) The number of eligible students served pursuant to the grant agreement.\\n(B) A detailed summary of services provided to those students.\\n(C) The number of Student Tuition Recovery Fund claims referred to the bureau.\\n(D) The number of federal loan forgiveness claims filed and the number of those claims approved, denied, and pending.\\n(E) Any other information that is deemed appropriate by the Attorney General or qualified entity, as applicable.\\n(2) The Attorney General or qualified entity, as applicable, shall make the reports submitted pursuant to paragraph (1) available to the Legislature and the bureau upon request.\\n(3) The Attorney General or qualified entity, as applicable, shall provide the Legislature and the bureau a final report summarizing the information submitted pursuant to paragraph (1) promptly following the time when all funds are expended by the grantees or by August 1, 2018, whichever is earlier.\\n(k) Funds shall be distributed to preapproved nonprofit community service organizations as follows:\\n(1) Fifty percent shall be distributed to the grantee within 30 days of the grantee entering into a grant agreement.\\n(2) Twenty-five percent shall be distributed to the grantee upon the submission of the grantee\\u2019s second quarterly report.\\n(3) Twenty-five percent shall be distributed to the grantee upon the submission of the grantee\\u2019s third quarterly report.\\n(l) Eligible nonprofit community service organizations may use grant funds received pursuant to this section to pay the costs of assisting eligible students who have been served after the date of closure until June 30, 2018, or until any later date as may be determined necessary by the Attorney General.\\n(m) The adoption of any regulation pursuant to this section shall be deemed to be an emergency and necessary for the immediate preservation of the public health and safety, or general welfare.\\nSEC. 7.\\n(a) The sum of one million three hundred thousand dollars ($1,300,000) is hereby appropriated from the Student Tuition Recovery Fund to the Attorney General for the purposes of providing grants pursuant to Section 94926.5 of the Education Code, and to pay an amount not to exceed one hundred fifty thousand dollars ($150,000) for the reasonable administrative costs of the Attorney General\\u2019s office related to these grants.\\nSEC. 8.\\nThis act is an urgency statute necessary for the immediate preservation of the public peace, health, or safety within the meaning of Article IV of the Constitution and shall go into immediate effect. The facts constituting the necessity are:\\nIn order to provide immediate educational and economic relief to the thousands of students harmed by the closure of Corinthian Colleges, Inc., it is necessary for this act to take effect immediately.\"\n        ],\n        \"semantic_type\": \"\",\n        \"description\": \"\"\n      }\n    },\n    {\n      \"column\": \"summary\",\n      \"properties\": {\n        \"dtype\": \"string\",\n        \"num_unique_values\": 1233,\n        \"samples\": [\n          \"Existing property tax law authorizes the board of supervisors of a county to provide that every assessee or person liable for taxes on any taxable property whose property was damaged or destroyed without his or her fault may apply for reassessment of that property, as provided. To be eligible for reassessment, existing law requires that the damage or destruction of the property be caused by specified circumstances, including a major misfortune or calamity in an area or region subsequently proclaimed by the Governor to be in a state of disaster.\\nThis bill would additionally authorize the board of supervisors of a county to provide for reassessment of property destroyed or damaged by a major misfortune or calamity in an area or region subsequently proclaimed by the Governor to be in a state of emergency. The bill would specify that \\u201cdamage\\u201d includes a diminution in the value of property as a result of environmental contamination. The bill would also provide that the amendments made by its provisions would apply retroactively to property located in the Porter Ranch neighborhood in the City of Los Angeles that was affected by the methane gas leak in that area in 2015 and 2016 and that, with respect to these properties, the application for reassessment may be filed within 12 months of the enactment of this bill or within the time specified in the ordinance, whichever is later. The bill would specify that these provisions do not alter existing law regarding claims or defenses related to diminution of property values or establish a presumption that property values have declined or that any property is in any way \\u201cdamaged or destroyed\\u201d or otherwise \\u201ccontaminated\\u201d for purposes of a civil action related to the methane gas leak in the Porter Ranch neighborhood.\\nExisting law requires the assessed value of the property in its damaged condition, determined as specified, to be the taxable value of the property until it is restored, repaired, reconstructed, or other provisions of the law require the establishment of a new base year value. Existing law, if partial reconstruction, restoration, or repair has occurred on any subsequent lien date, requires the taxable value to be increased by a specified amount.\\nThis bill, for property destroyed or damaged in an area or region proclaimed by the Governor to be in a state of emergency, on the 3rd lien date following the calamity, if partial reconstruction, restoration, or repair is not progressing in a timely fashion, would require the assessed value of the property to be determined, as specified.\\nThis bill would make legislative findings and declarations as to the necessity of a special statute for the County of Los Angeles.\\nThis bill would declare that it is to take effect immediately as an urgency statute.\",\n          \"Existing law provides for the regulation of specified insurance products, including group life insurance, by the Insurance Commissioner. Existing law provides that insurance under a group life insurance policy may be extended to insure the dependents of each insured employee under the group policy, as specified. Existing law defines a dependent for these purposes as including the employee\\u2019s spouse and all children from birth until 26 years of age, or a child 26 years of age or older who is both incapable of self-sustaining employment by reason of intellectual disability or physical handicap and chiefly dependent upon the employee for support and maintenance, as specified.\\nThis bill would clarify that for dependent children over the age of majority the group policyholder would be authorized to elect coverage at age variations up to the limiting age.\\nExisting law defines a waiver of premium benefit or a waiver of monthly deduction benefit under a life insurance contract as a supplemental benefit that operates to safeguard a life insurance contract against lapse when the insured becomes totally disabled, as defined by the supplemental benefit, and continues until the end of the insured\\u2019s disability or the period specified by the supplemental benefit, consistent with specified restrictions. Existing law requires, if the insured\\u2019s total disability begins before the insured attains 60 years of age, the insurer to waive all premiums or monthly deductions due for the period that the insured continues to be totally disabled. Existing law requires, if the insured\\u2019s total disability begins when the insured is 60 years of age or older, the insurer to waive all premiums or monthly deductions due for the period that the insured continues to be totally disabled up to 65 years of age.\\nThis bill would require an insurer, for an insured who becomes totally disabled before attaining 60 years of age and is covered by a group life insurance policy that includes a supplemental benefit, to waive all premiums or monthly deductions due for the period of total disability up to the time the insured attains 65 years of age. The bill would also permit an insurer to collect premiums or monthly deductions from an insured who becomes totally disabled on or after 60 years of age and is covered by a group life insurance policy that includes a supplemental benefit. The bill would require an insurer offering a renewal for a group life insurance policy issued prior to January 1, 2017, that contains a supplemental benefit to offer the employer a continuation of the in-force supplemental benefit, and would authorize the insurer to concurrently offer the group policyholder the option to change the supplemental benefit to either waive or collect premiums or monthly deductions as described above.\",\n          \"Existing law, the Ortiz-Pacheco-Poochigian-Vasconcellos Cal Grant Program, establishes the Cal Grant A and B Entitlement awards, the California Community College Transfer Cal Grant Entitlement awards, the Competitive Cal Grant A and B awards, the Cal Grant C awards, and the Cal Grant T awards under the administration of the Student Aid Commission, and establishes eligibility requirements for awards under these programs for participating students attending qualifying institutions.\\nUnder the California Community College Transfer Cal Grant Entitlement Program, a student who transfers from a California community college to a qualifying institution that offers a baccalaureate degree and who was not awarded a Cal Grant A or B Entitlement award, receives a Cal Grant A or B award if, at the time of the transfer, the student meets specified requirements, among which is a requirement that the student not be 28 years of age or older by December 31 of the award year.\\nThis bill would provide that the requirement that a student not be 28 years or older by December 31 of the award year, as described above, would not apply to a current or former member of the Armed Forces of the United States, as defined, who was seeking a Cal Grant A or B award under this provision, unless he or she is a former member who received a dishonorable or bad conduct discharge. The bill would prohibit a qualifying institution from accepting award funds under the California Community College Transfer Cal Grant Entitlement Program and Title 38 of the United States Code in the same award year for a current or former member of the Armed Forces of the United States who is 28 years of age or older.\"\n        ],\n        \"semantic_type\": \"\",\n        \"description\": \"\"\n      }\n    },\n    {\n      \"column\": \"title\",\n      \"properties\": {\n        \"dtype\": \"string\",\n        \"num_unique_values\": 1201,\n        \"samples\": [\n          \"An act to add Part 16 (commencing with Section 54000) to Division 31 of the Health and Safety Code, relating to housing, by providing the funds necessary therefor through an election for the issuance and sale of bonds of the State of California and for the handling and disposition of those funds, and declaring the urgency thereof, to take effect immediately.\",\n          \"An act to amend\\nSection 19605\\nSections 19605 and 19620.2\\nof the Business and Professions Code,\\nand to amend Section 3200 of the Food and Agricultural Code,\\nrelating to horse\\nracing.\\nracing, and making an appropriation therefor.\",\n          \"An act to amend Sections 905.2, 8590.6, and 15820.946 of, and to add Section 15820.947 to, the Government Code, and to amend Section 37001.5 of, and to repeal Section 43011.3 of, the Health and Safety Code, relating to state government, and making an appropriation therefor, to take effect immediately, bill related to the budget.\"\n        ],\n        \"semantic_type\": \"\",\n        \"description\": \"\"\n      }\n    }\n  ]\n}"
            }
          },
          "metadata": {},
          "execution_count": 41
        }
      ]
    },
    {
      "cell_type": "code",
      "source": [],
      "metadata": {
        "id": "95JDk68wP8sL"
      },
      "execution_count": 41,
      "outputs": []
    },
    {
      "cell_type": "markdown",
      "source": [
        "#### filterout the data that has more than 1024 tokens"
      ],
      "metadata": {
        "id": "32DKS6YMP9IC"
      }
    },
    {
      "cell_type": "code",
      "source": [
        "train_df['text_tokens'] = [len(text.split())for text in train_df['text']]"
      ],
      "metadata": {
        "id": "8uTrhBHgQCah"
      },
      "execution_count": 42,
      "outputs": []
    },
    {
      "cell_type": "code",
      "source": [
        "train_df['summary_tokens'] = [len(summary.split())for summary in train_df['summary']]"
      ],
      "metadata": {
        "id": "4645jjD-RF9Y"
      },
      "execution_count": 43,
      "outputs": []
    },
    {
      "cell_type": "code",
      "source": [
        "train_df.head()"
      ],
      "metadata": {
        "colab": {
          "base_uri": "https://localhost:8080/",
          "height": 206
        },
        "id": "OaIyvTi8RRNA",
        "outputId": "0b318103-bf13-4c9b-dde5-b366f4d6d172"
      },
      "execution_count": 44,
      "outputs": [
        {
          "output_type": "execute_result",
          "data": {
            "text/plain": [
              "                                                text  \\\n",
              "0  SECTION 1. LIABILITY OF BUSINESS ENTITIES PROV...   \n",
              "1  SECTION 1. SHORT TITLE.\\n\\n    This Act may be...   \n",
              "2  SECTION 1. SHORT TITLE.\\n\\n    This Act may be...   \n",
              "3  SECTION 1. NONRECOGNITION OF GAIN WHERE ROLLOV...   \n",
              "4  SECTION 1. SHORT TITLE.\\n\\n    This Act may be...   \n",
              "\n",
              "                                             summary  \\\n",
              "0  Shields a business entity from civil liability...   \n",
              "1  Human Rights Information Act - Requires certai...   \n",
              "2  Jackie Robinson Commemorative Coin Act - Direc...   \n",
              "3  Amends the Internal Revenue Code to provide (t...   \n",
              "4  Native American Energy Act - (Sec. 3) Amends t...   \n",
              "\n",
              "                                               title  text_tokens  \\\n",
              "0  A bill to limit the civil liability of busines...          650   \n",
              "1                       Human Rights Information Act         2506   \n",
              "2             Jackie Robinson Commemorative Coin Act         1541   \n",
              "3  To amend the Internal Revenue Code to provide ...         1257   \n",
              "4                         Native American Energy Act         2441   \n",
              "\n",
              "   summary_tokens  \n",
              "0             264  \n",
              "1             189  \n",
              "2              69  \n",
              "3              24  \n",
              "4             695  "
            ],
            "text/html": [
              "\n",
              "  <div id=\"df-38b7a679-206b-44f1-a2a7-5bde3a53795c\" class=\"colab-df-container\">\n",
              "    <div>\n",
              "<style scoped>\n",
              "    .dataframe tbody tr th:only-of-type {\n",
              "        vertical-align: middle;\n",
              "    }\n",
              "\n",
              "    .dataframe tbody tr th {\n",
              "        vertical-align: top;\n",
              "    }\n",
              "\n",
              "    .dataframe thead th {\n",
              "        text-align: right;\n",
              "    }\n",
              "</style>\n",
              "<table border=\"1\" class=\"dataframe\">\n",
              "  <thead>\n",
              "    <tr style=\"text-align: right;\">\n",
              "      <th></th>\n",
              "      <th>text</th>\n",
              "      <th>summary</th>\n",
              "      <th>title</th>\n",
              "      <th>text_tokens</th>\n",
              "      <th>summary_tokens</th>\n",
              "    </tr>\n",
              "  </thead>\n",
              "  <tbody>\n",
              "    <tr>\n",
              "      <th>0</th>\n",
              "      <td>SECTION 1. LIABILITY OF BUSINESS ENTITIES PROV...</td>\n",
              "      <td>Shields a business entity from civil liability...</td>\n",
              "      <td>A bill to limit the civil liability of busines...</td>\n",
              "      <td>650</td>\n",
              "      <td>264</td>\n",
              "    </tr>\n",
              "    <tr>\n",
              "      <th>1</th>\n",
              "      <td>SECTION 1. SHORT TITLE.\\n\\n    This Act may be...</td>\n",
              "      <td>Human Rights Information Act - Requires certai...</td>\n",
              "      <td>Human Rights Information Act</td>\n",
              "      <td>2506</td>\n",
              "      <td>189</td>\n",
              "    </tr>\n",
              "    <tr>\n",
              "      <th>2</th>\n",
              "      <td>SECTION 1. SHORT TITLE.\\n\\n    This Act may be...</td>\n",
              "      <td>Jackie Robinson Commemorative Coin Act - Direc...</td>\n",
              "      <td>Jackie Robinson Commemorative Coin Act</td>\n",
              "      <td>1541</td>\n",
              "      <td>69</td>\n",
              "    </tr>\n",
              "    <tr>\n",
              "      <th>3</th>\n",
              "      <td>SECTION 1. NONRECOGNITION OF GAIN WHERE ROLLOV...</td>\n",
              "      <td>Amends the Internal Revenue Code to provide (t...</td>\n",
              "      <td>To amend the Internal Revenue Code to provide ...</td>\n",
              "      <td>1257</td>\n",
              "      <td>24</td>\n",
              "    </tr>\n",
              "    <tr>\n",
              "      <th>4</th>\n",
              "      <td>SECTION 1. SHORT TITLE.\\n\\n    This Act may be...</td>\n",
              "      <td>Native American Energy Act - (Sec. 3) Amends t...</td>\n",
              "      <td>Native American Energy Act</td>\n",
              "      <td>2441</td>\n",
              "      <td>695</td>\n",
              "    </tr>\n",
              "  </tbody>\n",
              "</table>\n",
              "</div>\n",
              "    <div class=\"colab-df-buttons\">\n",
              "\n",
              "  <div class=\"colab-df-container\">\n",
              "    <button class=\"colab-df-convert\" onclick=\"convertToInteractive('df-38b7a679-206b-44f1-a2a7-5bde3a53795c')\"\n",
              "            title=\"Convert this dataframe to an interactive table.\"\n",
              "            style=\"display:none;\">\n",
              "\n",
              "  <svg xmlns=\"http://www.w3.org/2000/svg\" height=\"24px\" viewBox=\"0 -960 960 960\">\n",
              "    <path d=\"M120-120v-720h720v720H120Zm60-500h600v-160H180v160Zm220 220h160v-160H400v160Zm0 220h160v-160H400v160ZM180-400h160v-160H180v160Zm440 0h160v-160H620v160ZM180-180h160v-160H180v160Zm440 0h160v-160H620v160Z\"/>\n",
              "  </svg>\n",
              "    </button>\n",
              "\n",
              "  <style>\n",
              "    .colab-df-container {\n",
              "      display:flex;\n",
              "      gap: 12px;\n",
              "    }\n",
              "\n",
              "    .colab-df-convert {\n",
              "      background-color: #E8F0FE;\n",
              "      border: none;\n",
              "      border-radius: 50%;\n",
              "      cursor: pointer;\n",
              "      display: none;\n",
              "      fill: #1967D2;\n",
              "      height: 32px;\n",
              "      padding: 0 0 0 0;\n",
              "      width: 32px;\n",
              "    }\n",
              "\n",
              "    .colab-df-convert:hover {\n",
              "      background-color: #E2EBFA;\n",
              "      box-shadow: 0px 1px 2px rgba(60, 64, 67, 0.3), 0px 1px 3px 1px rgba(60, 64, 67, 0.15);\n",
              "      fill: #174EA6;\n",
              "    }\n",
              "\n",
              "    .colab-df-buttons div {\n",
              "      margin-bottom: 4px;\n",
              "    }\n",
              "\n",
              "    [theme=dark] .colab-df-convert {\n",
              "      background-color: #3B4455;\n",
              "      fill: #D2E3FC;\n",
              "    }\n",
              "\n",
              "    [theme=dark] .colab-df-convert:hover {\n",
              "      background-color: #434B5C;\n",
              "      box-shadow: 0px 1px 3px 1px rgba(0, 0, 0, 0.15);\n",
              "      filter: drop-shadow(0px 1px 2px rgba(0, 0, 0, 0.3));\n",
              "      fill: #FFFFFF;\n",
              "    }\n",
              "  </style>\n",
              "\n",
              "    <script>\n",
              "      const buttonEl =\n",
              "        document.querySelector('#df-38b7a679-206b-44f1-a2a7-5bde3a53795c button.colab-df-convert');\n",
              "      buttonEl.style.display =\n",
              "        google.colab.kernel.accessAllowed ? 'block' : 'none';\n",
              "\n",
              "      async function convertToInteractive(key) {\n",
              "        const element = document.querySelector('#df-38b7a679-206b-44f1-a2a7-5bde3a53795c');\n",
              "        const dataTable =\n",
              "          await google.colab.kernel.invokeFunction('convertToInteractive',\n",
              "                                                    [key], {});\n",
              "        if (!dataTable) return;\n",
              "\n",
              "        const docLinkHtml = 'Like what you see? Visit the ' +\n",
              "          '<a target=\"_blank\" href=https://colab.research.google.com/notebooks/data_table.ipynb>data table notebook</a>'\n",
              "          + ' to learn more about interactive tables.';\n",
              "        element.innerHTML = '';\n",
              "        dataTable['output_type'] = 'display_data';\n",
              "        await google.colab.output.renderOutput(dataTable, element);\n",
              "        const docLink = document.createElement('div');\n",
              "        docLink.innerHTML = docLinkHtml;\n",
              "        element.appendChild(docLink);\n",
              "      }\n",
              "    </script>\n",
              "  </div>\n",
              "\n",
              "\n",
              "<div id=\"df-9e34e73b-d299-4aa5-bc2d-80ef271cd0bd\">\n",
              "  <button class=\"colab-df-quickchart\" onclick=\"quickchart('df-9e34e73b-d299-4aa5-bc2d-80ef271cd0bd')\"\n",
              "            title=\"Suggest charts\"\n",
              "            style=\"display:none;\">\n",
              "\n",
              "<svg xmlns=\"http://www.w3.org/2000/svg\" height=\"24px\"viewBox=\"0 0 24 24\"\n",
              "     width=\"24px\">\n",
              "    <g>\n",
              "        <path d=\"M19 3H5c-1.1 0-2 .9-2 2v14c0 1.1.9 2 2 2h14c1.1 0 2-.9 2-2V5c0-1.1-.9-2-2-2zM9 17H7v-7h2v7zm4 0h-2V7h2v10zm4 0h-2v-4h2v4z\"/>\n",
              "    </g>\n",
              "</svg>\n",
              "  </button>\n",
              "\n",
              "<style>\n",
              "  .colab-df-quickchart {\n",
              "      --bg-color: #E8F0FE;\n",
              "      --fill-color: #1967D2;\n",
              "      --hover-bg-color: #E2EBFA;\n",
              "      --hover-fill-color: #174EA6;\n",
              "      --disabled-fill-color: #AAA;\n",
              "      --disabled-bg-color: #DDD;\n",
              "  }\n",
              "\n",
              "  [theme=dark] .colab-df-quickchart {\n",
              "      --bg-color: #3B4455;\n",
              "      --fill-color: #D2E3FC;\n",
              "      --hover-bg-color: #434B5C;\n",
              "      --hover-fill-color: #FFFFFF;\n",
              "      --disabled-bg-color: #3B4455;\n",
              "      --disabled-fill-color: #666;\n",
              "  }\n",
              "\n",
              "  .colab-df-quickchart {\n",
              "    background-color: var(--bg-color);\n",
              "    border: none;\n",
              "    border-radius: 50%;\n",
              "    cursor: pointer;\n",
              "    display: none;\n",
              "    fill: var(--fill-color);\n",
              "    height: 32px;\n",
              "    padding: 0;\n",
              "    width: 32px;\n",
              "  }\n",
              "\n",
              "  .colab-df-quickchart:hover {\n",
              "    background-color: var(--hover-bg-color);\n",
              "    box-shadow: 0 1px 2px rgba(60, 64, 67, 0.3), 0 1px 3px 1px rgba(60, 64, 67, 0.15);\n",
              "    fill: var(--button-hover-fill-color);\n",
              "  }\n",
              "\n",
              "  .colab-df-quickchart-complete:disabled,\n",
              "  .colab-df-quickchart-complete:disabled:hover {\n",
              "    background-color: var(--disabled-bg-color);\n",
              "    fill: var(--disabled-fill-color);\n",
              "    box-shadow: none;\n",
              "  }\n",
              "\n",
              "  .colab-df-spinner {\n",
              "    border: 2px solid var(--fill-color);\n",
              "    border-color: transparent;\n",
              "    border-bottom-color: var(--fill-color);\n",
              "    animation:\n",
              "      spin 1s steps(1) infinite;\n",
              "  }\n",
              "\n",
              "  @keyframes spin {\n",
              "    0% {\n",
              "      border-color: transparent;\n",
              "      border-bottom-color: var(--fill-color);\n",
              "      border-left-color: var(--fill-color);\n",
              "    }\n",
              "    20% {\n",
              "      border-color: transparent;\n",
              "      border-left-color: var(--fill-color);\n",
              "      border-top-color: var(--fill-color);\n",
              "    }\n",
              "    30% {\n",
              "      border-color: transparent;\n",
              "      border-left-color: var(--fill-color);\n",
              "      border-top-color: var(--fill-color);\n",
              "      border-right-color: var(--fill-color);\n",
              "    }\n",
              "    40% {\n",
              "      border-color: transparent;\n",
              "      border-right-color: var(--fill-color);\n",
              "      border-top-color: var(--fill-color);\n",
              "    }\n",
              "    60% {\n",
              "      border-color: transparent;\n",
              "      border-right-color: var(--fill-color);\n",
              "    }\n",
              "    80% {\n",
              "      border-color: transparent;\n",
              "      border-right-color: var(--fill-color);\n",
              "      border-bottom-color: var(--fill-color);\n",
              "    }\n",
              "    90% {\n",
              "      border-color: transparent;\n",
              "      border-bottom-color: var(--fill-color);\n",
              "    }\n",
              "  }\n",
              "</style>\n",
              "\n",
              "  <script>\n",
              "    async function quickchart(key) {\n",
              "      const quickchartButtonEl =\n",
              "        document.querySelector('#' + key + ' button');\n",
              "      quickchartButtonEl.disabled = true;  // To prevent multiple clicks.\n",
              "      quickchartButtonEl.classList.add('colab-df-spinner');\n",
              "      try {\n",
              "        const charts = await google.colab.kernel.invokeFunction(\n",
              "            'suggestCharts', [key], {});\n",
              "      } catch (error) {\n",
              "        console.error('Error during call to suggestCharts:', error);\n",
              "      }\n",
              "      quickchartButtonEl.classList.remove('colab-df-spinner');\n",
              "      quickchartButtonEl.classList.add('colab-df-quickchart-complete');\n",
              "    }\n",
              "    (() => {\n",
              "      let quickchartButtonEl =\n",
              "        document.querySelector('#df-9e34e73b-d299-4aa5-bc2d-80ef271cd0bd button');\n",
              "      quickchartButtonEl.style.display =\n",
              "        google.colab.kernel.accessAllowed ? 'block' : 'none';\n",
              "    })();\n",
              "  </script>\n",
              "</div>\n",
              "\n",
              "    </div>\n",
              "  </div>\n"
            ],
            "application/vnd.google.colaboratory.intrinsic+json": {
              "type": "dataframe",
              "variable_name": "train_df",
              "summary": "{\n  \"name\": \"train_df\",\n  \"rows\": 18949,\n  \"fields\": [\n    {\n      \"column\": \"text\",\n      \"properties\": {\n        \"dtype\": \"string\",\n        \"num_unique_values\": 18941,\n        \"samples\": [\n          \"SECTION 1. SHORT TITLE.\\n    This Act may be cited as the ``Civil Rights History Project Act of \\n2009''.\\nSEC. 2. FINDINGS; PURPOSE.\\n    (a) Findings.--Congress finds as follows:\\n        (1) A fundamental principle of American democracy is that \\n    individuals should stand up for their rights and beliefs and fight \\n    for justice.\\n        (2) The actions of those who participated in the Civil Rights \\n    movement from the 1950s through the 1960s are a shining example of \\n    this principle in action, demonstrated in events as varied as the \\n    Montgomery Bus Boycott, the sit-ins, the Freedom Rides, the March \\n    on Washington, the drive for voting rights in Mississippi, and the \\n    March to Selma.\\n        (3) While the Civil Rights movement had many visible leaders, \\n    including Thurgood Marshall, Dr. Martin Luther King, Jr., and Rosa \\n    Parks, there were many others whose impact and experience were just \\n    as important to the cause but who are not as well known.\\n        (4) The participants in the Civil Rights movement possess an \\n    invaluable resource in their first-hand memories of the movement, \\n    and the recording of the retelling of their stories and memories \\n    will provide a rich, detailed history of our Nation during an \\n    important and tumultuous period.\\n        (5) It is in the Nation's interest to undertake a project to \\n    collect oral histories of individuals from the Civil Rights \\n    movement so future generations will be able to learn of their \\n    struggle and sacrifice through primary-source, eyewitness material. \\n    A coordinated Federal project would also focus attention on the \\n    efforts undertaken by various public and private entities to \\n    collect and interpret articles in all formats relating to the Civil \\n    Rights movement, and serve as a model for future projects \\n    undertaken in museums, libraries, and universities throughout the \\n    Nation.\\n        (6) The Library of Congress and the Smithsonian Institution are \\n    appropriate repositories to collect, preserve, and make available \\n    to the public a collection of these oral histories. The Library and \\n    Smithsonian have expertise in the management of documentation \\n    projects, and experience in the development of cultural and \\n    educational programs for the public.\\n    (b) Purpose.--It is the purpose of this Act to create a new \\nfederally sponsored, authorized, and funded project that will \\ncoordinate at a national level the collection of video and audio \\nrecordings of personal histories and testimonials of individuals who \\nparticipated in the American Civil Rights movement that will build upon \\nand complement previous and ongoing documentary work on this subject, \\nand to assist and encourage local efforts to preserve the memories of \\nsuch individuals so that Americans of all current and future \\ngenerations may hear from them directly and better appreciate the \\nsacrifices they made.\\nSEC. 3. ESTABLISHMENT OF JOINT PROJECT AT LIBRARY OF CONGRESS AND \\nNATIONAL MUSEUM OF AFRICAN AMERICAN HISTORY AND CULTURE TO COLLECT \\nVIDEO AND AUDIO RECORDINGS OF HISTORIES OF PARTICIPANTS IN AMERICAN \\nCIVIL RIGHTS MOVEMENT.\\n    (a) Establishment of Project.--\\n        (1) In general.--Within the limits of available funds, the \\n    Librarian of Congress (hereafter referred to as the ``Librarian'') \\n    and the Secretary of the Smithsonian Institution (hereafter \\n    referred to as the ``Secretary)'', acting jointly, shall establish \\n    an oral history project--\\n            (A) to survey, during the initial phase of the project, \\n        collections of audio and video recordings of the reminiscences \\n        of participants in the Civil Rights movement that are housed in \\n        archives, libraries, museums, and other educational \\n        institutions, as well as ongoing documentary work, in order to \\n        augment and complement these endeavors and avoid duplication of \\n        effort;\\n            (B) to solicit, reproduce, and collect--\\n                (i) video and audio recordings of personal histories \\n            and testimonials of individuals who participated in the \\n            Civil Rights movement, and\\n                (ii) visual and written materials (such as letters, \\n            diaries, photographs, and ephemera) relevant to the \\n            personal histories of individuals;\\n            (C) to create a collection of the recordings and other \\n        materials obtained, and to catalog and index the collection in \\n        a manner the Librarian and the Secretary consider appropriate; \\n        and\\n            (D) to make the collection available for public use through \\n        the Library of Congress and the National Museum of African \\n        American History and Culture, as well as through such other \\n        methods as the Librarian and the Secretary consider \\n        appropriate.\\n        (2) Role of director of museum.--The Secretary shall carry out \\n    the Secretary's duties under this Act through the Director of the \\n    National Museum of African American History and Culture.\\n    (b) Use of and Consultation With Other Entities.--The Librarian and \\nthe Secretary may carry out the activities described in subsection \\n(a)(1) through agreements and partnerships entered into with other \\ngovernment and private entities, and may otherwise consult with \\ninterested persons (within the limits of available resources) and \\ndevelop appropriate guidelines and arrangements for soliciting, \\nacquiring, and making available recordings under the project under this \\nAct.\\n    (c) Services of Experts and Consultants; Acceptance of Volunteer \\nServices; Advance Payments.--In carrying out activities described in \\nsubsection (a)(1), the Librarian and the Secretary may--\\n        (1) procure temporary and intermittent services under section \\n    3109 of title 5, United States Code;\\n        (2) accept and utilize the services of volunteers and other \\n    uncompensated personnel and reimburse them for travel expenses, \\n    including per diem, as authorized under section 5703 of title 5, \\n    United States Code; and\\n        (3) make advances of money and payments in advance in \\n    accordance with section 3324 of title 31, United States Code.\\n    (d) Timing.--As soon as practicable after the enactment of this \\nAct, the Librarian and the Secretary shall begin collecting video and \\naudio recordings and other materials under subsection (a)(1), and shall \\nattempt to collect the first such recordings from the oldest \\nindividuals involved.\\n    (e) Definition.--In this Act, the term ``Civil Rights movement'' \\nmeans the movement to secure racial equality in the United States for \\nAfrican Americans that, focusing on the period 1954 through 1968, \\nchallenged the practice of racial segregation in the Nation and \\nachieved equal rights legislation for all American citizens.\\nSEC. 4. PRIVATE SUPPORT FOR CIVIL RIGHTS HISTORY PROJECT.\\n    (a) Encouraging Solicitation and Acceptance of Donations.--The \\nLibrarian of Congress and the Secretary are encouraged to solicit and \\naccept donations of funds and in-kind contributions to support \\nactivities under section 3.\\n    (b) Dedication of Funds Provided to Library of Congress.--\\nNotwithstanding any other provision of law--\\n        (1) any funds donated to the Librarian of Congress to support \\n    the activities of the Librarian under section 3 shall be deposited \\n    entirely into an account established for such purpose;\\n        (2) the funds contained in such account shall be used solely to \\n    support such activities; and\\n        (3) the Librarian of Congress may not deposit into such account \\n    any funds donated to the Librarian which are not donated for the \\n    exclusive purpose of supporting such activities.\\nSEC. 5. AUTHORIZATION OF APPROPRIATIONS.\\n    There are authorized to be appropriated to carry out this Act--\\n        (1) $500,000 for fiscal year 2010; and\\n        (2) such sums as may be necessary for each of the fiscal years \\n    2011 through 2014.\\n\\n                               Speaker of the House of Representatives.\\n\\n                            Vice President of the United States and    \\n                                               President of the Senate.\",\n          \"SECTION 1. SHORT TITLE.\\n\\n    This Act may be cited as the ``Haiti Economic Recovery Opportunity \\nAct of 2004''.\\n\\nSEC. 2. TRADE BENEFITS TO HAITI.\\n\\n    (a) In General.--The Caribbean Basin Economic Recovery Act (19 \\nU.S.C. 2701 et seq.) is amended by inserting after section 213 the \\nfollowing new section:\\n\\n``SEC. 213A. SPECIAL RULE FOR HAITI.\\n\\n    ``(a) In General.--In addition to any other preferential treatment \\nunder this Act, beginning on October 1, 2003, and in each of the 7 \\nsucceeding 1-year periods, apparel articles described in subsection (b) \\nthat are imported directly into the customs territory of the United \\nStates from Haiti shall enter the United States free of duty, subject \\nto the limitations described in subsections (b) and (c), if Haiti has \\nsatisfied the requirements and conditions set forth in subsections (d) \\nand (e).\\n    ``(b) Apparel Articles Described.--Apparel articles described in \\nthis subsection are apparel articles that are wholly assembled or knit-\\nto-shape in Haiti from any combination of fabrics, fabric components, \\ncomponents knit-to-shape, and yarns without regard to the country of \\norigin of the fabrics, components, or yarns.\\n    ``(c) Preferential Treatment.--The preferential treatment described \\nin subsection (a), shall be extended--\\n            ``(1) during the 12-month period beginning on October 1, \\n        2003, to a quantity of apparel articles that is equal to 1.5 \\n        percent of the aggregate square meter equivalents of all \\n        apparel articles imported into the United States during the 12-\\n        month period beginning October 1, 2002; and\\n            ``(2) during the 12-month period beginning on October 1 of \\n        each succeeding year, to a quantity of apparel articles that is \\n        equal to the product of--\\n                    ``(A) the percentage applicable during the previous \\n                12-month period plus 0.5 percent (but not over 3.5 \\n                percent); and\\n                    ``(B) the aggregate square meter equivalents of all \\n                apparel articles imported into the United States during \\n                the 12-month period that ends on September 30 of that \\n                year.\\n    ``(d) Eligibility Requirements.--Haiti shall be eligible for \\npreferential treatment under this section if the President determines \\nand certifies to Congress that Haiti is meeting the conditions of \\nsubsection (e) and that Haiti--\\n            ``(1) has established, or is making continual progress \\n        toward establishing--\\n                    ``(A) a market-based economy that protects private \\n                property rights, incorporates an open rules-based \\n                trading system, and minimizes government interference \\n                in the economy through measures such as price controls, \\n                subsidies, and government ownership of economic assets;\\n                    ``(B) the rule of law, political pluralism, and the \\n                right to due process, a fair trial, and equal \\n                protection under the law;\\n                    ``(C) the elimination of barriers to United States \\n                trade and investment, including by--\\n                            ``(i) the provision of national treatment \\n                        and measures to create an environment conducive \\n                        to domestic and foreign investment;\\n                            ``(ii) the protection of intellectual \\n                        property; and\\n                            ``(iii) the resolution of bilateral trade \\n                        and investment disputes;\\n                    ``(D) economic policies to reduce poverty, increase \\n                the availability of health care and educational \\n                opportunities, expand physical infrastructure, promote \\n                the development of private enterprise, and encourage \\n                the formation of capital markets through microcredit or \\n                other programs;\\n                    ``(E) a system to combat corruption and bribery, \\n                such as signing and implementing the Convention on \\n                Combating Bribery of Foreign Public Officials in \\n                International Business Transactions; and\\n                    ``(F) protection of internationally recognized \\n                worker rights, including the right of association, the \\n                right to organize and bargain collectively, a \\n                prohibition on the use of any form of forced or \\n                compulsory labor, a minimum age for the employment of \\n                children, and acceptable conditions of work with \\n                respect to minimum wages, hours of work, and \\n                occupational safety and health;\\n            ``(2) does not engage in activities that undermine United \\n        States national security or foreign policy interests; and\\n            ``(3) does not engage in gross violations of \\n        internationally recognized human rights or provide support for \\n        acts of international terrorism and cooperates in international \\n        efforts to eliminate human rights violations and terrorist \\n        activities.\\n    ``(e) Conditions Regarding Enforcement of Circumvention.--\\n            ``(1) In general.--The preferential treatment under \\n        subsection (b) shall not apply unless the President certifies \\n        to Congress that Haiti is meeting the following conditions:\\n                    ``(A) Haiti has adopted an effective visa system, \\n                domestic laws, and enforcement procedures applicable to \\n                articles described in subsection (b) to prevent \\n                unlawful transshipment of the articles and the use of \\n                counterfeit documents relating to the importation of \\n                the articles into the United States.\\n                    ``(B) Haiti has enacted legislation or promulgated \\n                regulations that would permit the Bureau of Customs and \\n                Border Protection verification teams to have the access \\n                necessary to investigate thoroughly allegations of \\n                transshipment through such country.\\n                    ``(C) Haiti agrees to report, on a timely basis, at \\n                the request of the Bureau of Customs and Border \\n                Protection, on the total exports from and imports into \\n                that country of articles described in subsection (b), \\n                consistent with the manner in which the records are \\n                kept by Haiti.\\n                    ``(D) Haiti agrees to cooperate fully with the \\n                United States to address and take action necessary to \\n                prevent circumvention.\\n                    ``(E) Haiti agrees to require all producers and \\n                exporters of articles described in subsection (b) in \\n                that country to maintain complete records of the \\n                production and the export of the articles, including \\n                materials used in the production, for at least 2 years \\n                after the production or export (as the case may be).\\n                    ``(F) Haiti agrees to report, on a timely basis, at \\n                the request of the Bureau of Customs and Border \\n                Protection, documentation establishing the country of \\n                origin of articles described in subsection (b) as used \\n                by that country in implementing an effective visa \\n                system.\\n            ``(2) Definitions.--In this subsection:\\n                    ``(A) Circumvention.--The term `circumvention' \\n                means any action involving the provision of a false \\n                declaration or false information for the purpose of, or \\n                with the effect of, violating or evading existing \\n                customs, country of origin labeling, or trade laws of \\n                the United States or Haiti relating to imports of \\n                textile and apparel goods, if such action results--\\n                            ``(i) in the avoidance of tariffs, quotas, \\n                        embargoes, prohibitions, restrictions, trade \\n                        remedies, including antidumping or \\n                        countervailing duties, or safeguard measures; \\n                        or\\n                            ``(ii) in obtaining preferential tariff \\n                        treatment.''.\\n                    ``(B) Transshipment.--The term `transshipment' has \\n                the meaning given such term under section \\n                213(b)(2)(D)(iii).''.\\n    (b) Effective Date.--\\n            (1) In general.--The amendment made by subsection (a) \\n        applies with respect to goods entered, or withdrawn from \\n        warehouse for consumption, on or after October 1, 2003.\\n            (2) Retroactive application to certain entries.--\\n        Notwithstanding section 514 of the Tariff Act of 1930 (19 \\n        U.S.C. 1514) or any other provision of law, upon proper request \\n        filed with the United States Customs Service before the 90th \\n        day after the date of the enactment of this Act, any entry or \\n        withdrawal from warehouse for consumption, of any goods \\n        described in the amendment made by subsection (a)--\\n                    (A) that was made on or after October 1, 2003, and \\n                before the date of the enactment of this Act, and\\n                    (B) with respect to which there would have been no \\n                duty if the amendment made by subsection (a) applied to \\n                such entry or withdrawal,\\n        shall be liquidated or reliquidated as though such amendment \\n        applied to such entry or withdrawal.\\n\\n            Passed the Senate July 16, 2004.\\n\\n            Attest:\\n\\n                                                             Secretary.\\n108th CONGRESS\\n\\n  2d Session\\n\\n                                S. 2261\\n\\n_______________________________________________________________________\\n\\n                                 AN ACT\\n\\n       To expand certain preferential trade treatment for Haiti.\",\n          \"SECTION 1. SHORT TITLE.\\n\\n    This Act may be cited as the Howard M. Metzenbaum ``Menu Education \\nand Labeling Act'' or the ``MEAL Act''.\\n\\nSEC. 2. FINDINGS.\\n\\n    Congress finds that--\\n            (1) research continues to reveal that--\\n                    (A) there is a strong link between diet and health; \\n                and\\n                    (B) diet-related diseases start early in life;\\n            (2)(A) increased caloric intake is a key factor \\n        contributing to the alarming increase in obesity in the United \\n        States;\\n            (B) according to the Centers for Disease Control and \\n        Prevention, \\\\2/3\\\\ of American adults are overweight or obese, \\n        and the rates of obesity have doubled in children and tripled \\n        in teens since 1980;\\n            (C) obesity increases the risk of diabetes, heart disease, \\n        stroke, several types of cancer, and other health problems; and\\n            (D) the annual cost of obesity to families, businesses, and \\n        governments in the United States is $117,000,000,000;\\n            (3) over the past 2 decades, there has been a significant \\n        increase in the number of meals prepared or eaten outside the \\n        home, with an estimated \\\\1/3\\\\ of calories and almost half of \\n        total food dollars being spent on food purchased from or eaten \\n        at restaurants and other food-service establishments;\\n            (4)(A) excess saturated fat intake is a major risk factor \\n        for heart disease, which is the leading cause of death in the \\n        United States; and\\n            (B) heart disease is a leading cause of disability among \\n        working adults and its impact on the United States economy is \\n        significant, estimated in 2005 to total $142,000,000,000 in \\n        healthcare expenditures and lost productivity;\\n            (5)(A) increased sodium intake is associated with increased \\n        risk of high blood pressure, or hypertension, a condition that \\n        can lead to cardiovascular disease, especially stroke; and\\n            (B) the proportion of adults with high blood pressure is 45 \\n        percent at age 50, 60 percent at age 60, and more than 70 \\n        percent at age 70;\\n            (6) the Nutrition Labeling and Education Act of 1990 \\n        (Public Law 101-535) requires food manufacturers to provide \\n        nutrition information on almost all packaged foods, however, \\n        restaurant foods are exempt from those requirements unless a \\n        nutrient content or health claim is made for a menu item;\\n            (7) about 75 percent of adults report using food labels on \\n        packaged foods, which is associated with eating more healthful \\n        diets, and approximately half of people report that the \\n        nutrition information on food labels has caused them to change \\n        their minds about buying a food product;\\n            (8) it is difficult for consumers to limit their intake of \\n        calories at restaurants, given the limited availability of \\n        nutrition information;\\n            (9) studies show that consumers would like nutrition \\n        information to be provided at the time of ordering their food \\n        at a restaurant, at the point of the sale, so as to enable them \\n        to make an educated decision regarding what to order; and\\n            (10) a call to action from the Surgeon General and \\n        Secretary of Health and Human Services recommends that, to \\n        reduce the incidence of obesity, there be increased \\n        availability of nutrition information for foods eaten and \\n        prepared away from home.\\n\\nSEC. 3. NUTRITION LABELING OF STANDARD MENU ITEMS AT CHAIN RESTAURANTS.\\n\\n    Section 403(q)(5) of the Federal Food, Drug, and Cosmetic Act (21 \\nU.S.C. 343(q)(5)) is amended--\\n            (1) in clause (A)--\\n                    (A) in subclause (i), by inserting ``except as \\n                provided in clauses (H) and (I),'' before ``which'' the \\n                first place it appears; and\\n                    (B) in subclause (ii), by inserting ``except as \\n                provided in clauses (H) and (I),'' before ``which'' the \\n                first place it appears; and\\n            (2) by adding at the end the following:\\n    ``(H) Restaurants and Retail Food Establishments.--\\n            ``(i) In general.--Except for food described in subclause \\n        (iii), in the case of food that is served, processed, or \\n        prepared in a restaurant or similar retail food establishment \\n        that is part of a chain with 20 or more locations doing \\n        business under the same trade name (regardless of the type of \\n        ownership of the locations), the restaurant or establishment \\n        shall disclose the information described in subclause (ii).\\n            ``(ii) Information required to be disclosed.--Except as \\n        provided in subclause (iii), the establishment shall disclose--\\n                    ``(I)(aa) in a statement adjacent to the name of \\n                the food on any menu listing the food for sale, or by \\n                any other means deemed equivalent by the Secretary, the \\n                number of calories, grams of saturated fat plus trans \\n                fat, and milligrams of sodium contained in a standard \\n                serving of the food, as usually offered for sale, in a \\n                clear and conspicuous manner; and\\n                    ``(bb) information, specified by the Secretary by \\n                regulation, designed to enable the public to \\n                understand, in the context of a total daily diet, the \\n                significance of the nutrition information that is \\n                provided; and\\n                    ``(II) in a statement adjacent to the name of the \\n                food on any menu board or other sign listing the food \\n                for sale, or by any other means deemed equivalent by \\n                the Secretary--\\n                            ``(aa) the number of calories contained in \\n                        a serving of the food, as usually offered for \\n                        sale, in a clear and conspicuous manner; and\\n                            ``(bb) notification that the information \\n                        required by subitems (aa) and (bb) of item (I) \\n                        shall be provided in writing at the request of \\n                        a prospective purchaser.\\n            ``(iii) Nonapplicability to certain food.--This clause does \\n        not apply to--\\n                    ``(I) items that are not listed on a menu or menu \\n                board (such as condiments and other items placed on the \\n                table or counter for general use); or\\n                    ``(II) daily specials, temporary menu items, or \\n                other irregular menu items, as specified by the \\n                Secretary by regulation.\\n            ``(iv) Self-service facilities.--In the case of food sold \\n        at a salad bar, buffet line, cafeteria line, or similar self-\\n        service facility, a restaurant or other establishment shall \\n        place a sign that lists calories per standard serving adjacent \\n        to each food offered.\\n            ``(v) Voluntary provision of nutrition information; state \\n        regulation of nutrition information for restaurant food.--\\n                    ``(I) Retail food establishments.--Nothing in this \\n                clause precludes a restaurant or similar retail food \\n                establishment from providing additional nutrition \\n                information, voluntarily, if the information complies \\n                with the nutrition labeling requirements contained in \\n                this subparagraph.\\n                    ``(II) State or local requirements.--Nothing in \\n                this clause precludes a State or political subdivision \\n                of a State from requiring that a restaurant or similar \\n                food establishment provide nutrition information in \\n                addition to that required under this clause.\\n            ``(vi) Regulations.--\\n                    ``(I) Proposed regulation.--Not later than 1 year \\n                after the date of enactment of this clause, the \\n                Secretary shall promulgate proposed regulations to \\n                carry out this clause.\\n                    ``(II) Contents.--The regulations shall allow for \\n                the variations in serving sizes and in food preparation \\n                that can reasonably be expected to result from \\n                inadvertent human error, training of food service \\n                workers, and other factors.\\n                    ``(III) Final regulations.--Not later than 2 years \\n                after the date of enactment of this clause, the \\n                Secretary shall promulgate final regulations to \\n                implement this clause.\\n                    ``(IV) Failure to promulgate final regulations by \\n                required date.--If the Secretary does not promulgate \\n                final regulations under item (III) by the date that is \\n                2 years after the date of enactment of this clause--\\n                            ``(aa) the proposed regulations issued in \\n                        accordance with item (I) shall become effective \\n                        as the final regulations on the day after that \\n                        date; and\\n                            ``(bb) the Secretary shall publish in the \\n                        Federal Register notice of the final \\n                        regulations.\\n    ``(I) Vending Machines.--\\n            ``(i) In general.--In the case of an article of food sold \\n        from a vending machine that--\\n                    ``(I) does not permit a prospective purchaser to \\n                examine the article so as to be able to read a \\n                statement affixed to the article before purchasing the \\n                article; and\\n                    ``(II) is operated by a person that is engaged in \\n                the business of owning and operating 20 or more vending \\n                machines;\\n        the vending machine operator shall provide a conspicuous sign \\n        in close proximity to the article that includes a statement \\n        disclosing the number of calories contained in the article.\\n            ``(ii) Voluntary provision of nutrition information; state \\n        regulation of nutrition information for vending machines.--\\n                    ``(I) Vending machine operators.--Nothing in this \\n                clause precludes a vending machine operator from \\n                providing additional nutrition information, \\n                voluntarily, if the information complies with the \\n                nutrition labeling requirements contained in this \\n                subparagraph.\\n                    ``(II) State or local requirements.--Nothing in \\n                this title precludes a State or political subdivision \\n                of a State from requiring that a vending machine \\n                operator provide nutrition information in addition to \\n                that required under this clause.\\n            ``(iii) Regulations.--\\n                    ``(I) Proposed regulation.--Not later than 1 year \\n                after the date of enactment of this clause, the \\n                Secretary shall promulgate proposed regulations to \\n                carry out this clause.\\n                    ``(II) Final regulations.--Not later than 2 years \\n                after the date of enactment of this clause, the \\n                Secretary shall promulgate final regulations to \\n                implement this clause.\\n                    ``(III) Failure to promulgate final regulations by \\n                required date.--If the Secretary does not promulgate \\n                final regulations under item (II) by the date that is 2 \\n                years after the date of enactment of this clause--\\n                            ``(aa) the proposed regulations issued in \\n                        accordance with item (I) shall become effective \\n                        as the final regulations on the day after that \\n                        date; and\\n                            ``(bb) the Secretary shall publish in the \\n                        Federal Register notice of the final \\n                        regulations.''.\"\n        ],\n        \"semantic_type\": \"\",\n        \"description\": \"\"\n      }\n    },\n    {\n      \"column\": \"summary\",\n      \"properties\": {\n        \"dtype\": \"string\",\n        \"num_unique_values\": 18949,\n        \"samples\": [\n          \"Medicare Prescription Drug Integrity Act of 2013 - Amends part D (Voluntary Prescription Drug Benefit Program) of title XVIII (Medicare) of the Social Security Act (SSA) to require a prescription drug plan (PDP) sponsor to have in place procedures designed to prevent fraud and abuse in PDPs. Authorizes the Secretary of Health and Human Services (HHS), with respect to establishing special enrollment periods for full-benefit dual eligible individuals, to set coverage limits for individuals who have obtained coverage for a covered Medicare part D drug at a frequency or amount not medically necessary. Amends SSA title IX to allow the Secretary to exclude from participation in any federal health care program any individual or entity that has engaged in the inappropriate prescribing or dispensing of a covered Medicare part D drug. Amends SSA title XVIII part D to allow a PDP or a MedicareAdvantage-PD (MA-PD) plan to exclude from qualified prescription drug coverage, and deny payment for, any covered part D drug: (1) prescribed or dispensed inappropriately to an individual under a PDP or a MA-PD plan that could not have been prescribed or dispensed to the individual on the date of such prescribing or dispensing; or (2) any drug at a frequency or amount that represents a practice or pattern of abusive prescribing or dispensing, or presents a risk to enrollee health or safety. Amends the Controlled Substances Act to direct the Attorney General to: (1) compile a list of the unique health identifiers of prescribers and dispensers that are members of a group practice registered and authorized to prescribe or dispense controlled substances in schedules II and III, and (2) make the list available to all PDP sponsors.  Amends SSA title XVIII with respect to the use of recovery audit contractors under the Medicare Integrity Program to identify underpayments and overpayments and recoup the latter. Authorizes the Secretary to retain an additional portion of up to 25% of the amounts recovered for purposes of carrying out this Act.\",\n          \"Back to Work Tax Credit - Amends the Internal Revenue Code to allow an increased work opportunity tax credit for the hiring of a qualified long-term unemployed individual. Defines \\\"qualified long-term unemployed individual\\\" as any individual who was not a student for at least six months during the one-year period ending on the hiring date and is certified as having aggregate periods of unemployment during the one-year period ending on the hiring date which equal or exceed six months. Allows tax-exempt charitable organizations or public institutions of higher education to claim the lesser of the amount of the work opportunity credit or the amount of payroll taxes paid during the calendar year for hiring qualified long-term unemployed individuals.\",\n          \"This bill amends the Federal Food, Drug, and Cosmetic Act to require the Food and Drug Administration (FDA) to establish a program to evaluate the potential use of evidence from clinical experience to support the approval of a new indication for an approved drug and to support post-approval study requirements. &quot;Evidence from clinical experience&quot; means data from sources other than randomized clinical trials, including from observational studies, registries, and therapeutic use. Before implementing the program, the FDA must establish a draft framework for the program that describes current sources of data from clinical experience, gaps in current data collection activities, standards and methodologies for collection and analysis of data from clinical experience, and priority areas, remaining challenges, and potential pilot opportunities that the program will address. The FDA must use the program to inform guidance to industry on the collection and use of evidence from clinical experience.\"\n        ],\n        \"semantic_type\": \"\",\n        \"description\": \"\"\n      }\n    },\n    {\n      \"column\": \"title\",\n      \"properties\": {\n        \"dtype\": \"string\",\n        \"num_unique_values\": 17106,\n        \"samples\": [\n          \"To develop and maintain an integrated system of coastal and ocean observations for the Nation's coasts, oceans, and Great Lakes, to improve warnings of tsunamis and other natural hazards, to enhance homeland security, to support maritime operations, and for other purposes.\",\n          \"Child and Dependent Care Tax Credit Enhancement Act of 2017\",\n          \"A bill to amend the Elementary and Secondary Education Act of 1965 to authorize the Secretary of Education to make grants for recruiting, training, and retaining individuals, with a preference for individuals from underrepresented groups, as teachers at public elementary and secondary schools, and for other purposes.\"\n        ],\n        \"semantic_type\": \"\",\n        \"description\": \"\"\n      }\n    },\n    {\n      \"column\": \"text_tokens\",\n      \"properties\": {\n        \"dtype\": \"number\",\n        \"std\": 518,\n        \"min\": 194,\n        \"max\": 3055,\n        \"num_unique_values\": 2221,\n        \"samples\": [\n          1066,\n          2594,\n          540\n        ],\n        \"semantic_type\": \"\",\n        \"description\": \"\"\n      }\n    },\n    {\n      \"column\": \"summary_tokens\",\n      \"properties\": {\n        \"dtype\": \"number\",\n        \"std\": 115,\n        \"min\": 8,\n        \"max\": 808,\n        \"num_unique_values\": 680,\n        \"samples\": [\n          526,\n          597,\n          363\n        ],\n        \"semantic_type\": \"\",\n        \"description\": \"\"\n      }\n    }\n  ]\n}"
            }
          },
          "metadata": {},
          "execution_count": 44
        }
      ]
    },
    {
      "cell_type": "code",
      "source": [
        "validation_df['text_tokens'] = [len(text.split()) for text in validation_df['text']]\n",
        "validation_df['summary_tokens'] = [len(summary.split()) for summary in validation_df['summary']]"
      ],
      "metadata": {
        "id": "LtRJhWDFRYPX"
      },
      "execution_count": 45,
      "outputs": []
    },
    {
      "cell_type": "code",
      "source": [
        "test_df['text_tokens'] = [len(text.split()) for text in test_df['text']]\n",
        "test_df['summary_tokens'] = [len(summary.split()) for summary in test_df['summary']]"
      ],
      "metadata": {
        "id": "mAHFzUgpRroi"
      },
      "execution_count": 46,
      "outputs": []
    },
    {
      "cell_type": "markdown",
      "source": [
        "#### Filter the dataset"
      ],
      "metadata": {
        "id": "scV44pjaR5Sn"
      }
    },
    {
      "cell_type": "code",
      "source": [
        "train_df_f = train_df[(train_df['text_tokens']<1024) & (train_df['summary_tokens']< 200)][['text', 'summary', 'text_tokens', 'summary_tokens']]\n",
        "validation_df_f = validation_df[(validation_df['text_tokens']<1024) & (validation_df['summary_tokens']< 200)][['text', 'summary']]\n",
        "test_df_f = validation_df[(validation_df['text_tokens']<1024)  & (test_df['summary_tokens']< 200)][['text', 'summary']]"
      ],
      "metadata": {
        "id": "skJYqdI5R8dV"
      },
      "execution_count": 47,
      "outputs": []
    },
    {
      "cell_type": "code",
      "source": [
        "train_df_f.head()"
      ],
      "metadata": {
        "colab": {
          "base_uri": "https://localhost:8080/",
          "height": 206
        },
        "id": "Ws9eG-D5SL1M",
        "outputId": "c0910a76-0a61-43c9-d592-d3ce6a7ccb44"
      },
      "execution_count": 48,
      "outputs": [
        {
          "output_type": "execute_result",
          "data": {
            "text/plain": [
              "                                                 text  \\\n",
              "10  SECTION 1. SHORT TITLE.\\n\\n    This Act may be...   \n",
              "11  SECTION 1. SHORT TITLE.\\n\\n    This Act may be...   \n",
              "18  SECTION 1. SHORT TITLE.\\n\\n    This Act may be...   \n",
              "28  SECTION 1. SHORT TITLE.\\n\\n    This Act may be...   \n",
              "30  SECTION 1. FINDINGS.\\n\\n    Congress makes the...   \n",
              "\n",
              "                                              summary  text_tokens  \\\n",
              "10  Kidney Disease Educational Benefits Act of 200...          709   \n",
              "11  Public Safety and Protection Investment Act of...          640   \n",
              "18  Military Personnel War Zone Toxic Exposure Pre...          885   \n",
              "28  Quality Health Care Coalition Act of 2005 - Ex...          745   \n",
              "30  Requires the Speaker of the House of Represent...          906   \n",
              "\n",
              "    summary_tokens  \n",
              "10              95  \n",
              "11              28  \n",
              "18             130  \n",
              "28             112  \n",
              "30              49  "
            ],
            "text/html": [
              "\n",
              "  <div id=\"df-a44deae9-619c-4698-92c7-e74dcf664027\" class=\"colab-df-container\">\n",
              "    <div>\n",
              "<style scoped>\n",
              "    .dataframe tbody tr th:only-of-type {\n",
              "        vertical-align: middle;\n",
              "    }\n",
              "\n",
              "    .dataframe tbody tr th {\n",
              "        vertical-align: top;\n",
              "    }\n",
              "\n",
              "    .dataframe thead th {\n",
              "        text-align: right;\n",
              "    }\n",
              "</style>\n",
              "<table border=\"1\" class=\"dataframe\">\n",
              "  <thead>\n",
              "    <tr style=\"text-align: right;\">\n",
              "      <th></th>\n",
              "      <th>text</th>\n",
              "      <th>summary</th>\n",
              "      <th>text_tokens</th>\n",
              "      <th>summary_tokens</th>\n",
              "    </tr>\n",
              "  </thead>\n",
              "  <tbody>\n",
              "    <tr>\n",
              "      <th>10</th>\n",
              "      <td>SECTION 1. SHORT TITLE.\\n\\n    This Act may be...</td>\n",
              "      <td>Kidney Disease Educational Benefits Act of 200...</td>\n",
              "      <td>709</td>\n",
              "      <td>95</td>\n",
              "    </tr>\n",
              "    <tr>\n",
              "      <th>11</th>\n",
              "      <td>SECTION 1. SHORT TITLE.\\n\\n    This Act may be...</td>\n",
              "      <td>Public Safety and Protection Investment Act of...</td>\n",
              "      <td>640</td>\n",
              "      <td>28</td>\n",
              "    </tr>\n",
              "    <tr>\n",
              "      <th>18</th>\n",
              "      <td>SECTION 1. SHORT TITLE.\\n\\n    This Act may be...</td>\n",
              "      <td>Military Personnel War Zone Toxic Exposure Pre...</td>\n",
              "      <td>885</td>\n",
              "      <td>130</td>\n",
              "    </tr>\n",
              "    <tr>\n",
              "      <th>28</th>\n",
              "      <td>SECTION 1. SHORT TITLE.\\n\\n    This Act may be...</td>\n",
              "      <td>Quality Health Care Coalition Act of 2005 - Ex...</td>\n",
              "      <td>745</td>\n",
              "      <td>112</td>\n",
              "    </tr>\n",
              "    <tr>\n",
              "      <th>30</th>\n",
              "      <td>SECTION 1. FINDINGS.\\n\\n    Congress makes the...</td>\n",
              "      <td>Requires the Speaker of the House of Represent...</td>\n",
              "      <td>906</td>\n",
              "      <td>49</td>\n",
              "    </tr>\n",
              "  </tbody>\n",
              "</table>\n",
              "</div>\n",
              "    <div class=\"colab-df-buttons\">\n",
              "\n",
              "  <div class=\"colab-df-container\">\n",
              "    <button class=\"colab-df-convert\" onclick=\"convertToInteractive('df-a44deae9-619c-4698-92c7-e74dcf664027')\"\n",
              "            title=\"Convert this dataframe to an interactive table.\"\n",
              "            style=\"display:none;\">\n",
              "\n",
              "  <svg xmlns=\"http://www.w3.org/2000/svg\" height=\"24px\" viewBox=\"0 -960 960 960\">\n",
              "    <path d=\"M120-120v-720h720v720H120Zm60-500h600v-160H180v160Zm220 220h160v-160H400v160Zm0 220h160v-160H400v160ZM180-400h160v-160H180v160Zm440 0h160v-160H620v160ZM180-180h160v-160H180v160Zm440 0h160v-160H620v160Z\"/>\n",
              "  </svg>\n",
              "    </button>\n",
              "\n",
              "  <style>\n",
              "    .colab-df-container {\n",
              "      display:flex;\n",
              "      gap: 12px;\n",
              "    }\n",
              "\n",
              "    .colab-df-convert {\n",
              "      background-color: #E8F0FE;\n",
              "      border: none;\n",
              "      border-radius: 50%;\n",
              "      cursor: pointer;\n",
              "      display: none;\n",
              "      fill: #1967D2;\n",
              "      height: 32px;\n",
              "      padding: 0 0 0 0;\n",
              "      width: 32px;\n",
              "    }\n",
              "\n",
              "    .colab-df-convert:hover {\n",
              "      background-color: #E2EBFA;\n",
              "      box-shadow: 0px 1px 2px rgba(60, 64, 67, 0.3), 0px 1px 3px 1px rgba(60, 64, 67, 0.15);\n",
              "      fill: #174EA6;\n",
              "    }\n",
              "\n",
              "    .colab-df-buttons div {\n",
              "      margin-bottom: 4px;\n",
              "    }\n",
              "\n",
              "    [theme=dark] .colab-df-convert {\n",
              "      background-color: #3B4455;\n",
              "      fill: #D2E3FC;\n",
              "    }\n",
              "\n",
              "    [theme=dark] .colab-df-convert:hover {\n",
              "      background-color: #434B5C;\n",
              "      box-shadow: 0px 1px 3px 1px rgba(0, 0, 0, 0.15);\n",
              "      filter: drop-shadow(0px 1px 2px rgba(0, 0, 0, 0.3));\n",
              "      fill: #FFFFFF;\n",
              "    }\n",
              "  </style>\n",
              "\n",
              "    <script>\n",
              "      const buttonEl =\n",
              "        document.querySelector('#df-a44deae9-619c-4698-92c7-e74dcf664027 button.colab-df-convert');\n",
              "      buttonEl.style.display =\n",
              "        google.colab.kernel.accessAllowed ? 'block' : 'none';\n",
              "\n",
              "      async function convertToInteractive(key) {\n",
              "        const element = document.querySelector('#df-a44deae9-619c-4698-92c7-e74dcf664027');\n",
              "        const dataTable =\n",
              "          await google.colab.kernel.invokeFunction('convertToInteractive',\n",
              "                                                    [key], {});\n",
              "        if (!dataTable) return;\n",
              "\n",
              "        const docLinkHtml = 'Like what you see? Visit the ' +\n",
              "          '<a target=\"_blank\" href=https://colab.research.google.com/notebooks/data_table.ipynb>data table notebook</a>'\n",
              "          + ' to learn more about interactive tables.';\n",
              "        element.innerHTML = '';\n",
              "        dataTable['output_type'] = 'display_data';\n",
              "        await google.colab.output.renderOutput(dataTable, element);\n",
              "        const docLink = document.createElement('div');\n",
              "        docLink.innerHTML = docLinkHtml;\n",
              "        element.appendChild(docLink);\n",
              "      }\n",
              "    </script>\n",
              "  </div>\n",
              "\n",
              "\n",
              "<div id=\"df-115bb8fd-0aba-4fa8-8bbd-bffa8a69c741\">\n",
              "  <button class=\"colab-df-quickchart\" onclick=\"quickchart('df-115bb8fd-0aba-4fa8-8bbd-bffa8a69c741')\"\n",
              "            title=\"Suggest charts\"\n",
              "            style=\"display:none;\">\n",
              "\n",
              "<svg xmlns=\"http://www.w3.org/2000/svg\" height=\"24px\"viewBox=\"0 0 24 24\"\n",
              "     width=\"24px\">\n",
              "    <g>\n",
              "        <path d=\"M19 3H5c-1.1 0-2 .9-2 2v14c0 1.1.9 2 2 2h14c1.1 0 2-.9 2-2V5c0-1.1-.9-2-2-2zM9 17H7v-7h2v7zm4 0h-2V7h2v10zm4 0h-2v-4h2v4z\"/>\n",
              "    </g>\n",
              "</svg>\n",
              "  </button>\n",
              "\n",
              "<style>\n",
              "  .colab-df-quickchart {\n",
              "      --bg-color: #E8F0FE;\n",
              "      --fill-color: #1967D2;\n",
              "      --hover-bg-color: #E2EBFA;\n",
              "      --hover-fill-color: #174EA6;\n",
              "      --disabled-fill-color: #AAA;\n",
              "      --disabled-bg-color: #DDD;\n",
              "  }\n",
              "\n",
              "  [theme=dark] .colab-df-quickchart {\n",
              "      --bg-color: #3B4455;\n",
              "      --fill-color: #D2E3FC;\n",
              "      --hover-bg-color: #434B5C;\n",
              "      --hover-fill-color: #FFFFFF;\n",
              "      --disabled-bg-color: #3B4455;\n",
              "      --disabled-fill-color: #666;\n",
              "  }\n",
              "\n",
              "  .colab-df-quickchart {\n",
              "    background-color: var(--bg-color);\n",
              "    border: none;\n",
              "    border-radius: 50%;\n",
              "    cursor: pointer;\n",
              "    display: none;\n",
              "    fill: var(--fill-color);\n",
              "    height: 32px;\n",
              "    padding: 0;\n",
              "    width: 32px;\n",
              "  }\n",
              "\n",
              "  .colab-df-quickchart:hover {\n",
              "    background-color: var(--hover-bg-color);\n",
              "    box-shadow: 0 1px 2px rgba(60, 64, 67, 0.3), 0 1px 3px 1px rgba(60, 64, 67, 0.15);\n",
              "    fill: var(--button-hover-fill-color);\n",
              "  }\n",
              "\n",
              "  .colab-df-quickchart-complete:disabled,\n",
              "  .colab-df-quickchart-complete:disabled:hover {\n",
              "    background-color: var(--disabled-bg-color);\n",
              "    fill: var(--disabled-fill-color);\n",
              "    box-shadow: none;\n",
              "  }\n",
              "\n",
              "  .colab-df-spinner {\n",
              "    border: 2px solid var(--fill-color);\n",
              "    border-color: transparent;\n",
              "    border-bottom-color: var(--fill-color);\n",
              "    animation:\n",
              "      spin 1s steps(1) infinite;\n",
              "  }\n",
              "\n",
              "  @keyframes spin {\n",
              "    0% {\n",
              "      border-color: transparent;\n",
              "      border-bottom-color: var(--fill-color);\n",
              "      border-left-color: var(--fill-color);\n",
              "    }\n",
              "    20% {\n",
              "      border-color: transparent;\n",
              "      border-left-color: var(--fill-color);\n",
              "      border-top-color: var(--fill-color);\n",
              "    }\n",
              "    30% {\n",
              "      border-color: transparent;\n",
              "      border-left-color: var(--fill-color);\n",
              "      border-top-color: var(--fill-color);\n",
              "      border-right-color: var(--fill-color);\n",
              "    }\n",
              "    40% {\n",
              "      border-color: transparent;\n",
              "      border-right-color: var(--fill-color);\n",
              "      border-top-color: var(--fill-color);\n",
              "    }\n",
              "    60% {\n",
              "      border-color: transparent;\n",
              "      border-right-color: var(--fill-color);\n",
              "    }\n",
              "    80% {\n",
              "      border-color: transparent;\n",
              "      border-right-color: var(--fill-color);\n",
              "      border-bottom-color: var(--fill-color);\n",
              "    }\n",
              "    90% {\n",
              "      border-color: transparent;\n",
              "      border-bottom-color: var(--fill-color);\n",
              "    }\n",
              "  }\n",
              "</style>\n",
              "\n",
              "  <script>\n",
              "    async function quickchart(key) {\n",
              "      const quickchartButtonEl =\n",
              "        document.querySelector('#' + key + ' button');\n",
              "      quickchartButtonEl.disabled = true;  // To prevent multiple clicks.\n",
              "      quickchartButtonEl.classList.add('colab-df-spinner');\n",
              "      try {\n",
              "        const charts = await google.colab.kernel.invokeFunction(\n",
              "            'suggestCharts', [key], {});\n",
              "      } catch (error) {\n",
              "        console.error('Error during call to suggestCharts:', error);\n",
              "      }\n",
              "      quickchartButtonEl.classList.remove('colab-df-spinner');\n",
              "      quickchartButtonEl.classList.add('colab-df-quickchart-complete');\n",
              "    }\n",
              "    (() => {\n",
              "      let quickchartButtonEl =\n",
              "        document.querySelector('#df-115bb8fd-0aba-4fa8-8bbd-bffa8a69c741 button');\n",
              "      quickchartButtonEl.style.display =\n",
              "        google.colab.kernel.accessAllowed ? 'block' : 'none';\n",
              "    })();\n",
              "  </script>\n",
              "</div>\n",
              "\n",
              "    </div>\n",
              "  </div>\n"
            ],
            "application/vnd.google.colaboratory.intrinsic+json": {
              "type": "dataframe",
              "variable_name": "train_df_f",
              "summary": "{\n  \"name\": \"train_df_f\",\n  \"rows\": 5757,\n  \"fields\": [\n    {\n      \"column\": \"text\",\n      \"properties\": {\n        \"dtype\": \"string\",\n        \"num_unique_values\": 5754,\n        \"samples\": [\n          \"SECTION 1. SHORT TITLE.\\n\\n    This Act may be cited as the ``Local Participation in Railroad \\nOperations Act''.\\n\\nSEC. 2. LOCAL INPUT.\\n\\n    (a) Amendment.--Chapter 109 of title 49, United States Code, is \\namended by adding at the end the following new section:\\n``Sec. 10908. Local input\\n    ``(a) Requirement.--A rail carrier providing transportation subject \\nto the jurisdiction of the Board under this part shall not construct, \\ndevelop, or expand railroad maintenance facilities, intermodal rail \\ntransfer facilities, railroad sidings, railroad bridges, railroad \\nyards, or other railroad facilities unless the Board determines that \\nthe rail carrier has--\\n            ``(1) provided local communities with appropriate notice of \\n        such activities;\\n            ``(2) held at least one public hearing in each municipality \\n        which is directly affected by such activities; and\\n            ``(3) made good faith efforts to address concerns raised in \\n        response to such notice.\\n    ``(b) Appropriate Notice.--Not later than 6 months after the date \\nof the enactment of this section, the Board shall by regulation \\nprescribe procedures that constitute appropriate notice under various \\nforeseeable circumstances, including emergency circumstances.''.\\n    (b) Table of Sections.--The table of sections for such chapter 109 \\nis amended by adding at the end the following new item:\\n\\n``10908. Local input.''.\\n\\nSEC. 3. PUBLIC MEETINGS.\\n\\n    (a) Requirement.--Within 6 months after the date of the enactment \\nof this Act, and annually thereafter, the Secretary of Transportation \\nshall convene 6 public meetings, including at least one in northern New \\nJersey, to provide an opportunity for the participants to present their \\nviews, respond to the views of others, and discuss issues relating to \\nthe quality of life and safety of persons who live, work, or are for \\nany other reason near railroad tracks. The goal of such meetings shall \\nbe the identification of appropriate solutions to the quality-of-life \\nand safety problems that are discussed. The meetings shall be held in \\ndiverse geographic locations where the Secretary considers the need for \\nand benefits to be derived from such meetings to be the greatest.\\n    (b) Participation.--The Secretary of Transportation shall make \\nevery effort to ensure participation at such meetings by local elected \\nofficials, appropriate representatives of the Department of \\nTransportation, State and local environmental protection agencies, \\nlocal public health officials, railroad management, railroad labor, \\nrailroad shippers, and individuals representing community interests.\\n    (c) Reports to Congress.--The Secretary of Transportation shall, \\nwithin 3 months after the completion of each round of public meetings \\nconvened pursuant to subsection (a), transmit to the Congress a report \\nsummarizing the results of the public meetings, and including \\nrecommendations to Congress for measures to help improve the quality of \\nlife and safety of persons who live, work, or are for any other reason \\nnear railroad tracks.\\n\\nSEC. 4. PROTECTING LOCAL RESIDENTS IN RAILROAD TRANSACTIONS.\\n\\n    Section 11324 of title 49, United States Code, is amended by adding \\nat the end the following new subsection:\\n    ``(g) The Board shall not approve a transaction described in \\nsection 11323(a) unless the Board has received assurances that the rail \\ncarriers who will be responsible for rail operations resulting from or \\naffected by the transaction have addressed adequately and will continue \\nto address adequately problems identified with respect to the quality \\nof life and safety of persons who live, work, or are for any other \\nreason near railroad tracks.''.\\n\\nSEC. 5. REGULATIONS TO REDUCE NOISE POLLUTION ALONG RAILROAD LINES.\\n\\n    (a) Requirement.--Within 6 months after the date of the enactment \\nof this Act, the Administrator of the Environmental Protection Agency, \\nafter consultation with the Secretary of Transportation, shall publish \\nin the Federal Register proposed regulations for reducing noise \\npollution generated from railroad operations and railroad facilities.\\n    (b) Public Health and Welfare.--Such regulations shall be \\nprescribed to protect the public health and welfare, including the \\nhealth and welfare of persons who live, work, or are for any other \\nreason near railroad tracks, taking into account the degree of noise \\nreduction improvements achievable through the application of the best \\navailable technology and the cost of compliance.\\n    (c) Audible Warnings.--In prescribing such regulations, the \\nAdministrator shall give strong consideration to section 20153 of title \\n49, United States Code, and shall seek to ensure that public safety is \\nnot compromised.\\n    (d) Final Regulations.--Within 90 days after publication of \\nproposed regulations under subsection (a), the Administrator shall \\npromulgate final regulations. Regulations issued under this section \\nshall be in lieu of any Federal railroad-related noise regulations for \\nlocomotives and rail cars. Such regulations may be revised, from time \\nto time, in accordance with this section.\\n    (e) Repeal.--Upon the issuance of final regulations under \\nsubsection (d), section 17 of the Noise Control Act of 1972 (42 U.S.C. \\n4916) is repealed.\",\n          \"SECTION 1. SHORT TITLE.\\n\\n    This Act may be cited as the ``Spending Safeguard Act''.\\n\\nSEC. 2. SPENDING LIMITATION ON DIRECT SPENDING PROGRAMS.\\n\\n    (a) Establishment of Spending Safeguard Limitation.--\\n            (1) In general.--The Director of the Office of Management \\n        and Budget shall establish a spending limitation (in this Act \\n        referred to as a ``spending safeguard limitation'') with \\n        respect to any direct spending program not later than 90 days \\n        after any such program is enacted or reauthorized (as the case \\n        may be).\\n            (2) Determination of spending safeguard limitation.--The \\n        spending safeguard limitation established under paragraph (1) \\n        for a direct spending program shall be equal to?\\n                    (A) with respect to any such program within budget \\n                function 050 (Defense), 550 (Health), 570 (Medicare), \\n                600 (Income Security), 650 (Social Security), or 700 \\n                (Veterans Benefits and Services), 120 percent of the \\n                cost of the program; and\\n                    (B) with respect to any such program within any \\n                other budget function, 110 percent of the cost of the \\n                program.\\n            (3) Determination of cost of program.--For purposes of \\n        paragraphs (2) (A) and (B), the cost of the program shall be \\n        the estimated six-year cost of the program, as determined by \\n        the Director using the scorecards or estimate (as the case may \\n        be) applicable to the program under section 4 of the Statutory \\n        Pay-As-You-Go Act of 2010 (2 U.S.C. 933).\\n    (b) Spending Safeguard Limitation Scorecards.--\\n            (1) In general.--The Director shall maintain and make \\n        publicly available a spending safeguard limitation scorecard \\n        displaying the spending level for any direct spending program \\n        that is subject to a spending safeguard limitation pursuant to \\n        this Act.\\n            (2) Monthly costs.--Not later than 7 days after the end of \\n        each month beginning after the first full month in which such a \\n        direct spending program is operational, the Secretary of the \\n        Treasury shall transmit to the Director a report listing the \\n        total amount of spending for any direct spending program listed \\n        on the scorecard.\\n            (3) OMB biannual report.--After the end of any six-month \\n        period, the Director shall submit a report to the Committees on \\n        the Budget of the House of Representatives and the Senate \\n        containing the total level of spending for any such direct \\n        spending program and the relation between such level and the \\n        spending safeguard limitation applicable to such program.\\n    (c) President Budget Submissions.--\\n            (1) Annual.--Section 1105(a) of title 31, United States \\n        Code, is amended by adding at the end the following:\\n            ``(40) a report on the total level of spending for any \\n        direct spending program subject to a spending safeguard \\n        limitation pursuant to the Spending Safeguard Act, and the \\n        relation between such level and the spending safeguard \\n        limitation applicable to such program.''.\\n            (2) Mid-session.--Section 1106(a)(1)(C) of such title is \\n        amended by striking ``section 1105(a)(8) and (9)(B) and (C)'' \\n        and inserting ``section 1105(a)(8), (9) (B) and (C), and \\n        (40)''.\\n    (d) Procedures in Case of Breach.--\\n            (1) Spending limitation breach report.--If the Director \\n        determines, using the reports submitted under subsection \\n        (b)(2), that a direct spending program listed on the scorecard \\n        established under subsection (b) will reach the applicable \\n        spending safeguard limitation within six months, the Director \\n        shall transmit, not later than 15 days after the date of such \\n        determination, a report to the Committees on the Budget of the \\n        House of Representatives and the Senate and the committees that \\n        have jurisdiction over the program.\\n            (2) Obligation limitation.--If the Director determines, \\n        using the reports submitted under subsection (b)(2), that such \\n        a direct spending program has reached the applicable spending \\n        safeguard limitation?\\n                    (A) effective 30 days after such determination, no \\n                funds may be obligated to carry out such program; and\\n                    (B) on the date of such determination, the Director \\n                shall submit a report to the Committees on the Budget \\n                of the House of Representatives and the Senate and the \\n                committees that have jurisdiction over the program that \\n                such an obligation limitation has been imposed.\\n    (e) Agency Procedures.--Any Federal agency implementing a direct \\nspending program listed on the scorecard established under subsection \\n(b) shall ensure that any contract, offer of benefits, or other \\nmaterial provided to the program participants includes information \\nspecifying that the program is subject to a spending safeguard \\nlimitation that may impact future availability of funds to pay \\nbenefits.\\n    (f) Definitions.--In this Act?\\n            (1) the term ``Director'' means the Director of the Office \\n        of Management and Budget;\\n            (2) the term ``direct spending'' has the meaning given such \\n        term in section 250(c)(8) of the Balanced Budget and Emergency \\n        Deficit Control Act of 1985 (2 U.S.C. 900(c)(8)); and\\n            (3) the term ``direct spending program'' means any Federal \\n        program funded by direct spending that?\\n                    (A) is enacted or reauthorized after the date of \\n                enactment of this Act; and\\n                    (B) does not have, in statute, a specific level \\n                (expressed as a dollar amount) of authorization of \\n                appropriations.\\n    (g) Prohibition on New Authorization of Funding.--No additional \\nfunds are authorized to be appropriated to carry out this Act.\",\n          \"SECTION 1. SHORT TITLE.\\n\\n    This Act may be cited as the ``Water Rights Protection Act''.\\n\\nSEC. 2. DEFINITION OF WATER RIGHT.\\n\\n    In this Act, the term ``water right'' means any surface or \\ngroundwater right filed, permitted, certified, confirmed, decreed, \\nadjudicated, or otherwise recognized by a judicial proceeding or by the \\nState in which the user acquires possession of the water or puts the \\nwater to beneficial use, including water rights for federally \\nrecognized Indian tribes.\\n\\nSEC. 3. TREATMENT OF WATER RIGHTS.\\n\\n    The Secretary of the Interior and the Secretary of Agriculture \\nshall not--\\n            (1) condition or withhold, in whole or in part, the \\n        issuance, renewal, amendment, or extension of any permit, \\n        approval, license, lease, allotment, easement, right-of-way, or \\n        other land use or occupancy agreement on--\\n                    (A) limitation or encumbrance of any water right, \\n                or the transfer of any water right (including joint and \\n                sole ownership), directly or indirectly to the United \\n                States or any other designee; or\\n                    (B) any other impairment of any water right, in \\n                whole or in part, granted or otherwise recognized under \\n                State law, by Federal or State adjudication, decree, or \\n                other judgment, or pursuant to any interstate water \\n                compact;\\n            (2) require any water user (including any federally \\n        recognized Indian tribe) to apply for or acquire a water right \\n        in the name of the United States under State law as a condition \\n        of the issuance, renewal, amendment, or extension of any \\n        permit, approval, license, lease, allotment, easement, right-\\n        of-way, or other land use or occupancy agreement;\\n            (3) assert jurisdiction over groundwater withdrawals or \\n        impacts on groundwater resources, unless jurisdiction is \\n        asserted, and any regulatory or policy actions taken pursuant \\n        to such assertion are, consistent with, and impose no greater \\n        restrictions or regulatory requirements than, applicable State \\n        laws (including regulations) and policies governing the \\n        protection and use of groundwater resources; or\\n            (4) infringe on the rights and obligations of a State in \\n        evaluating, allocating, and adjudicating the waters of the \\n        State originating on or under, or flowing from, land owned or \\n        managed by the Federal Government.\\n\\nSEC. 4. RECOGNITION OF STATE AUTHORITY.\\n\\n    (a) In General.--In carrying out section 3, the Secretary of the \\nInterior and the Secretary of Agriculture shall--\\n            (1) recognize the longstanding authority of the States \\n        relating to evaluating, protecting, allocating, regulating, and \\n        adjudicating groundwater by any means, including a rulemaking, \\n        permitting, directive, water court adjudication, resource \\n        management planning, regional authority, or other policy; and\\n            (2) coordinate with the States in the adoption and \\n        implementation by the Secretary of the Interior or the \\n        Secretary of Agriculture of any rulemaking, policy, directive, \\n        management plan, or other similar Federal action so as to \\n        ensure that such actions are consistent with, and impose no \\n        greater restrictions or regulatory requirements than, State \\n        groundwater laws and programs.\\n    (b) Effect on State Water Rights.--In carrying out this Act, the \\nSecretary of the Interior and the Secretary of Agriculture shall not \\ntake any action that adversely affects--\\n            (1) any water rights granted by a State;\\n            (2) the authority of a State in adjudicating water rights;\\n            (3) definitions established by a State with respect to the \\n        term ``beneficial use'', ``priority of water rights'', or \\n        ``terms of use'';\\n            (4) terms and conditions of groundwater withdrawal, \\n        guidance and reporting procedures, and conservation and source \\n        protection measures established by a State;\\n            (5) the use of groundwater in accordance with State law; or\\n            (6) any other rights and obligations of a State established \\n        under State law.\\n\\nSEC. 5. EFFECT OF ACT.\\n\\n    (a) Effect on Existing Authority.--Nothing in this Act limits or \\nexpands any existing legally recognized authority of the Secretary of \\nthe Interior or the Secretary of Agriculture to issue, grant, or \\ncondition any permit, approval, license, lease, allotment, easement, \\nright-of-way, or other land use or occupancy agreement on Federal land \\nsubject to the jurisdiction of the Secretary of the Interior or the \\nSecretary of Agriculture, respectively.\\n    (b) Effect on Reclamation Contracts.--Nothing in this Act \\ninterferes with Bureau of Reclamation contracts entered into pursuant \\nto the reclamation laws.\\n    (c) Effect on Endangered Species Act.--Nothing in this Act affects \\nthe implementation of the Endangered Species Act of 1973 (16 U.S.C. \\n1531 et seq.).\\n    (d) Effect on Federal Reserved Water Rights.--Nothing in this Act \\nlimits or expands any existing or claimed reserved water rights of the \\nFederal Government on land administered by the Secretary of the \\nInterior or the Secretary of Agriculture.\\n    (e) Effect on Federal Power Act.--Nothing in this Act limits or \\nexpands authorities under sections 4(e), 10(j), or 18 of the Federal \\nPower Act (16 U.S.C. 797(e), 803(j), 811).\\n    (f) Effect on Indian Water Rights.--Nothing in this Act limits or \\nexpands any water right or treaty right of any federally recognized \\nIndian tribe.\"\n        ],\n        \"semantic_type\": \"\",\n        \"description\": \"\"\n      }\n    },\n    {\n      \"column\": \"summary\",\n      \"properties\": {\n        \"dtype\": \"string\",\n        \"num_unique_values\": 5757,\n        \"samples\": [\n          \"Health Emergencies Lack Provider Specialists Act of 2010 - Amends the Public Health Service Act to make eligible for the National Health Service Corps loan repayment and scholarship programs specialists needed to serve medically underserved areas or populations that have needs for particular specialists related to a public health emergency declaration based upon environmental health hazard-related health concerns.\",\n          \"Congressional Pension Forfeiture Act of 2006 - Requires the Office of Personnel and Management (OPM) to prescribe regulations that prohibit eligibility in the governmental retirement system for a Member convicted of certain felony offenses in which: (1) every act or omission of such individual that is needed to satisfy the elements of the offense occurs while the individual is a Member; (2) such act or omission relates to the performance of the individual's official duties as a Member; and (3) the offense is committed after the enactment of this Act. Requires refund of annuity contributions and deposits, excluding interest earned, to a convicted individual.\\n\\nDefines Member as the Vice President, a member of the Senate or the House of Representatives, a Delegate to the House of Representatives, and the Resident Commissioner from Puerto Rico.\",\n          \"Mount Pleasant National Scenic Area Act - Establishes in the George Washington National Forest, Virginia, the Mount Pleasant National Scenic Area. \\nSets forth provisions regarding:  (1) administration of the Area; (2) roads; (3) vegetation management; (4) motorized travel; (5) fire; (6) insects and disease; and (7) water. \\nDirects the Secretary of Agriculture to develop a management plan for the Area. \\nWithdraws all federally-owned lands within the Area from disposition under the mining, mineral, and geothermal leasing laws.\"\n        ],\n        \"semantic_type\": \"\",\n        \"description\": \"\"\n      }\n    },\n    {\n      \"column\": \"text_tokens\",\n      \"properties\": {\n        \"dtype\": \"number\",\n        \"std\": 127,\n        \"min\": 194,\n        \"max\": 1023,\n        \"num_unique_values\": 567,\n        \"samples\": [\n          556,\n          685,\n          794\n        ],\n        \"semantic_type\": \"\",\n        \"description\": \"\"\n      }\n    },\n    {\n      \"column\": \"summary_tokens\",\n      \"properties\": {\n        \"dtype\": \"number\",\n        \"std\": 48,\n        \"min\": 8,\n        \"max\": 199,\n        \"num_unique_values\": 192,\n        \"samples\": [\n          93,\n          92,\n          79\n        ],\n        \"semantic_type\": \"\",\n        \"description\": \"\"\n      }\n    }\n  ]\n}"
            }
          },
          "metadata": {},
          "execution_count": 48
        }
      ]
    },
    {
      "cell_type": "code",
      "source": [
        "train_df_f.shape"
      ],
      "metadata": {
        "colab": {
          "base_uri": "https://localhost:8080/"
        },
        "id": "QQEnFcIICYOk",
        "outputId": "cfddd22e-f5a4-4338-96f9-f154a8b144c3"
      },
      "execution_count": 49,
      "outputs": [
        {
          "output_type": "execute_result",
          "data": {
            "text/plain": [
              "(5757, 4)"
            ]
          },
          "metadata": {},
          "execution_count": 49
        }
      ]
    },
    {
      "cell_type": "markdown",
      "source": [
        "since the size of data is quite huge we will just sample 500 datapoint and use it for the training"
      ],
      "metadata": {
        "id": "XZhgx1EkChR7"
      }
    },
    {
      "cell_type": "markdown",
      "source": [
        "train_df_f_s = train_df_f.sample(500)"
      ],
      "metadata": {
        "id": "2rJYGEgDCqOc"
      }
    },
    {
      "cell_type": "code",
      "source": [
        "train_df_f_s = train_df_f.sample(500)"
      ],
      "metadata": {
        "id": "UuHxX_YTC2qr"
      },
      "execution_count": 50,
      "outputs": []
    },
    {
      "cell_type": "code",
      "source": [
        "train_df_f_s.shape"
      ],
      "metadata": {
        "colab": {
          "base_uri": "https://localhost:8080/"
        },
        "id": "EBuFORG7C4gG",
        "outputId": "abdb4843-dc1b-4ca6-f7d1-cd1e7142ac4f"
      },
      "execution_count": 51,
      "outputs": [
        {
          "output_type": "execute_result",
          "data": {
            "text/plain": [
              "(500, 4)"
            ]
          },
          "metadata": {},
          "execution_count": 51
        }
      ]
    },
    {
      "cell_type": "code",
      "source": [
        "hist = px.histogram(train_df_f,\n",
        "                    x = ['text_tokens', 'summary_tokens'])"
      ],
      "metadata": {
        "id": "eXwm3JmGR4pH"
      },
      "execution_count": 52,
      "outputs": []
    },
    {
      "cell_type": "code",
      "source": [
        "hist = px.histogram(train_df_f_s,\n",
        "                    x = ['text_tokens', 'summary_tokens'])\n",
        "hist.show()"
      ],
      "metadata": {
        "colab": {
          "base_uri": "https://localhost:8080/",
          "height": 542
        },
        "id": "J9iKkbqKDC1u",
        "outputId": "3fc793cc-be73-46ce-b6be-5b1893aaae71"
      },
      "execution_count": 53,
      "outputs": [
        {
          "output_type": "display_data",
          "data": {
            "text/html": [
              "<html>\n",
              "<head><meta charset=\"utf-8\" /></head>\n",
              "<body>\n",
              "    <div>            <script src=\"https://cdnjs.cloudflare.com/ajax/libs/mathjax/2.7.5/MathJax.js?config=TeX-AMS-MML_SVG\"></script><script type=\"text/javascript\">if (window.MathJax && window.MathJax.Hub && window.MathJax.Hub.Config) {window.MathJax.Hub.Config({SVG: {font: \"STIX-Web\"}});}</script>                <script type=\"text/javascript\">window.PlotlyConfig = {MathJaxConfig: 'local'};</script>\n",
              "        <script charset=\"utf-8\" src=\"https://cdn.plot.ly/plotly-2.24.1.min.js\"></script>                <div id=\"70e66565-3e0e-4003-881a-abdd090225ed\" class=\"plotly-graph-div\" style=\"height:525px; width:100%;\"></div>            <script type=\"text/javascript\">                                    window.PLOTLYENV=window.PLOTLYENV || {};                                    if (document.getElementById(\"70e66565-3e0e-4003-881a-abdd090225ed\")) {                    Plotly.newPlot(                        \"70e66565-3e0e-4003-881a-abdd090225ed\",                        [{\"alignmentgroup\":\"True\",\"bingroup\":\"x\",\"hovertemplate\":\"variable=text_tokens\\u003cbr\\u003evalue=%{x}\\u003cbr\\u003ecount=%{y}\\u003cextra\\u003e\\u003c\\u002fextra\\u003e\",\"legendgroup\":\"text_tokens\",\"marker\":{\"color\":\"#636efa\",\"pattern\":{\"shape\":\"\"}},\"name\":\"text_tokens\",\"offsetgroup\":\"text_tokens\",\"orientation\":\"v\",\"showlegend\":true,\"x\":[704,783,946,814,872,711,795,865,996,994,1009,729,653,767,849,928,857,762,708,1002,660,1003,903,701,1001,707,925,885,686,821,809,833,552,1015,732,712,938,923,779,784,863,949,767,764,712,804,698,639,657,893,881,736,615,798,1019,741,891,990,870,728,722,587,722,957,1016,865,650,797,880,692,828,508,681,795,726,572,713,720,752,830,939,831,1003,741,840,858,876,616,972,989,838,762,736,972,828,832,1008,870,893,799,791,878,865,646,582,855,868,939,788,698,883,708,868,741,628,784,782,981,848,786,802,727,867,690,917,858,421,562,937,608,683,819,882,810,808,789,979,747,1004,812,1004,696,746,987,756,1002,770,945,649,685,760,711,699,788,672,888,933,843,1000,912,756,860,876,729,681,932,833,743,770,748,813,748,803,658,804,785,733,977,735,773,973,689,663,800,697,840,935,673,658,1001,846,607,626,753,782,960,857,587,767,606,795,619,795,988,765,924,698,594,761,840,805,810,845,948,649,980,699,936,633,667,753,900,756,920,684,1003,731,993,982,696,825,722,985,861,741,746,909,925,944,848,797,964,783,938,804,851,972,546,923,642,714,794,580,1001,671,952,688,770,987,804,665,838,625,644,669,867,1005,1015,816,718,897,723,927,788,731,898,460,956,645,904,962,350,990,709,728,974,867,844,711,638,870,650,499,675,767,731,772,620,673,1014,792,729,754,783,991,749,767,1015,822,651,551,697,702,765,788,964,656,875,1007,980,564,820,1012,1016,780,698,518,779,753,821,879,646,840,832,981,763,889,947,763,810,782,789,804,722,744,874,675,776,895,668,929,683,440,1008,820,886,614,965,782,817,931,689,894,658,641,900,924,816,801,1020,844,828,776,547,805,930,603,821,877,833,754,842,961,978,819,711,477,982,923,1001,704,988,717,836,711,648,948,1007,967,672,667,693,966,1002,932,844,1005,805,782,417,777,884,744,839,939,952,1023,775,854,675,860,899,940,929,920,665,854,648,723,1007,755,773,518,1023,921,669,682,555,662,903,820,928,961,824,727,800,683,1014,764,809,679,649,783,433,630,779,868,894,645,649,655,875,870,627,720,842,655,895,891,865,803,964,680,940,854,893,839,789,678,1021,950,624,837,878,677,833,897,837,760,706,708,558,958,817,716,688,647,892,835,942],\"xaxis\":\"x\",\"yaxis\":\"y\",\"type\":\"histogram\"},{\"alignmentgroup\":\"True\",\"bingroup\":\"x\",\"hovertemplate\":\"variable=summary_tokens\\u003cbr\\u003evalue=%{x}\\u003cbr\\u003ecount=%{y}\\u003cextra\\u003e\\u003c\\u002fextra\\u003e\",\"legendgroup\":\"summary_tokens\",\"marker\":{\"color\":\"#EF553B\",\"pattern\":{\"shape\":\"\"}},\"name\":\"summary_tokens\",\"offsetgroup\":\"summary_tokens\",\"orientation\":\"v\",\"showlegend\":true,\"x\":[119,18,53,163,67,64,171,130,112,57,97,95,172,199,78,67,102,159,96,116,161,172,158,87,34,80,79,75,52,109,86,158,141,148,123,163,39,171,116,52,164,100,116,94,107,72,116,142,19,93,39,156,20,86,66,170,128,76,130,115,67,51,122,108,153,73,144,129,10,66,41,182,47,62,156,73,153,86,130,184,48,174,23,139,66,27,149,76,117,187,37,147,30,26,66,184,121,80,66,71,175,111,38,132,117,108,107,54,63,133,78,97,36,82,171,123,75,136,45,51,160,122,120,91,142,185,172,146,185,40,105,111,165,112,173,47,108,145,135,54,124,81,95,52,184,171,98,46,86,152,110,140,65,107,163,41,51,98,194,90,186,167,169,145,41,38,152,18,35,54,74,30,113,73,124,104,52,182,138,127,67,103,46,85,189,196,113,162,142,91,136,43,33,164,62,42,28,127,155,177,52,71,97,113,62,83,53,176,52,105,165,30,66,75,126,60,71,100,136,155,131,171,145,158,151,68,66,151,136,96,175,53,29,130,98,69,115,17,196,89,96,71,74,187,46,95,40,39,93,154,41,54,40,91,47,110,135,192,97,103,88,153,150,144,108,89,128,37,73,45,42,111,92,161,59,115,26,172,165,88,61,49,71,55,69,82,116,107,34,134,71,112,40,192,159,180,35,64,72,87,51,181,108,87,191,133,168,101,52,133,163,15,104,130,172,76,107,61,161,89,176,81,18,127,108,105,59,75,135,119,177,55,58,184,131,97,117,92,160,160,48,64,110,177,179,149,149,111,166,114,173,119,17,118,174,160,67,100,107,38,39,80,66,140,157,30,138,161,119,133,66,87,179,82,56,90,187,176,77,97,177,134,140,69,113,62,72,182,83,81,111,56,195,73,126,130,55,60,104,187,44,62,59,133,57,176,134,173,183,21,56,151,69,93,101,30,92,195,102,148,185,159,102,51,120,132,100,24,138,113,149,76,107,70,124,71,87,73,42,181,77,106,109,133,101,22,171,89,193,118,67,154,44,21,46,108,61,93,38,35,87,73,130,105,116,113,37,66,38,194,41,74,42,82,135,51,32,41,64,103,70,59,77,152,75,59,93,161,94,64,130,134,185,157,124,91,45,131,138,199],\"xaxis\":\"x\",\"yaxis\":\"y\",\"type\":\"histogram\"}],                        {\"template\":{\"data\":{\"histogram2dcontour\":[{\"type\":\"histogram2dcontour\",\"colorbar\":{\"outlinewidth\":0,\"ticks\":\"\"},\"colorscale\":[[0.0,\"#0d0887\"],[0.1111111111111111,\"#46039f\"],[0.2222222222222222,\"#7201a8\"],[0.3333333333333333,\"#9c179e\"],[0.4444444444444444,\"#bd3786\"],[0.5555555555555556,\"#d8576b\"],[0.6666666666666666,\"#ed7953\"],[0.7777777777777778,\"#fb9f3a\"],[0.8888888888888888,\"#fdca26\"],[1.0,\"#f0f921\"]]}],\"choropleth\":[{\"type\":\"choropleth\",\"colorbar\":{\"outlinewidth\":0,\"ticks\":\"\"}}],\"histogram2d\":[{\"type\":\"histogram2d\",\"colorbar\":{\"outlinewidth\":0,\"ticks\":\"\"},\"colorscale\":[[0.0,\"#0d0887\"],[0.1111111111111111,\"#46039f\"],[0.2222222222222222,\"#7201a8\"],[0.3333333333333333,\"#9c179e\"],[0.4444444444444444,\"#bd3786\"],[0.5555555555555556,\"#d8576b\"],[0.6666666666666666,\"#ed7953\"],[0.7777777777777778,\"#fb9f3a\"],[0.8888888888888888,\"#fdca26\"],[1.0,\"#f0f921\"]]}],\"heatmap\":[{\"type\":\"heatmap\",\"colorbar\":{\"outlinewidth\":0,\"ticks\":\"\"},\"colorscale\":[[0.0,\"#0d0887\"],[0.1111111111111111,\"#46039f\"],[0.2222222222222222,\"#7201a8\"],[0.3333333333333333,\"#9c179e\"],[0.4444444444444444,\"#bd3786\"],[0.5555555555555556,\"#d8576b\"],[0.6666666666666666,\"#ed7953\"],[0.7777777777777778,\"#fb9f3a\"],[0.8888888888888888,\"#fdca26\"],[1.0,\"#f0f921\"]]}],\"heatmapgl\":[{\"type\":\"heatmapgl\",\"colorbar\":{\"outlinewidth\":0,\"ticks\":\"\"},\"colorscale\":[[0.0,\"#0d0887\"],[0.1111111111111111,\"#46039f\"],[0.2222222222222222,\"#7201a8\"],[0.3333333333333333,\"#9c179e\"],[0.4444444444444444,\"#bd3786\"],[0.5555555555555556,\"#d8576b\"],[0.6666666666666666,\"#ed7953\"],[0.7777777777777778,\"#fb9f3a\"],[0.8888888888888888,\"#fdca26\"],[1.0,\"#f0f921\"]]}],\"contourcarpet\":[{\"type\":\"contourcarpet\",\"colorbar\":{\"outlinewidth\":0,\"ticks\":\"\"}}],\"contour\":[{\"type\":\"contour\",\"colorbar\":{\"outlinewidth\":0,\"ticks\":\"\"},\"colorscale\":[[0.0,\"#0d0887\"],[0.1111111111111111,\"#46039f\"],[0.2222222222222222,\"#7201a8\"],[0.3333333333333333,\"#9c179e\"],[0.4444444444444444,\"#bd3786\"],[0.5555555555555556,\"#d8576b\"],[0.6666666666666666,\"#ed7953\"],[0.7777777777777778,\"#fb9f3a\"],[0.8888888888888888,\"#fdca26\"],[1.0,\"#f0f921\"]]}],\"surface\":[{\"type\":\"surface\",\"colorbar\":{\"outlinewidth\":0,\"ticks\":\"\"},\"colorscale\":[[0.0,\"#0d0887\"],[0.1111111111111111,\"#46039f\"],[0.2222222222222222,\"#7201a8\"],[0.3333333333333333,\"#9c179e\"],[0.4444444444444444,\"#bd3786\"],[0.5555555555555556,\"#d8576b\"],[0.6666666666666666,\"#ed7953\"],[0.7777777777777778,\"#fb9f3a\"],[0.8888888888888888,\"#fdca26\"],[1.0,\"#f0f921\"]]}],\"mesh3d\":[{\"type\":\"mesh3d\",\"colorbar\":{\"outlinewidth\":0,\"ticks\":\"\"}}],\"scatter\":[{\"fillpattern\":{\"fillmode\":\"overlay\",\"size\":10,\"solidity\":0.2},\"type\":\"scatter\"}],\"parcoords\":[{\"type\":\"parcoords\",\"line\":{\"colorbar\":{\"outlinewidth\":0,\"ticks\":\"\"}}}],\"scatterpolargl\":[{\"type\":\"scatterpolargl\",\"marker\":{\"colorbar\":{\"outlinewidth\":0,\"ticks\":\"\"}}}],\"bar\":[{\"error_x\":{\"color\":\"#2a3f5f\"},\"error_y\":{\"color\":\"#2a3f5f\"},\"marker\":{\"line\":{\"color\":\"#E5ECF6\",\"width\":0.5},\"pattern\":{\"fillmode\":\"overlay\",\"size\":10,\"solidity\":0.2}},\"type\":\"bar\"}],\"scattergeo\":[{\"type\":\"scattergeo\",\"marker\":{\"colorbar\":{\"outlinewidth\":0,\"ticks\":\"\"}}}],\"scatterpolar\":[{\"type\":\"scatterpolar\",\"marker\":{\"colorbar\":{\"outlinewidth\":0,\"ticks\":\"\"}}}],\"histogram\":[{\"marker\":{\"pattern\":{\"fillmode\":\"overlay\",\"size\":10,\"solidity\":0.2}},\"type\":\"histogram\"}],\"scattergl\":[{\"type\":\"scattergl\",\"marker\":{\"colorbar\":{\"outlinewidth\":0,\"ticks\":\"\"}}}],\"scatter3d\":[{\"type\":\"scatter3d\",\"line\":{\"colorbar\":{\"outlinewidth\":0,\"ticks\":\"\"}},\"marker\":{\"colorbar\":{\"outlinewidth\":0,\"ticks\":\"\"}}}],\"scattermapbox\":[{\"type\":\"scattermapbox\",\"marker\":{\"colorbar\":{\"outlinewidth\":0,\"ticks\":\"\"}}}],\"scatterternary\":[{\"type\":\"scatterternary\",\"marker\":{\"colorbar\":{\"outlinewidth\":0,\"ticks\":\"\"}}}],\"scattercarpet\":[{\"type\":\"scattercarpet\",\"marker\":{\"colorbar\":{\"outlinewidth\":0,\"ticks\":\"\"}}}],\"carpet\":[{\"aaxis\":{\"endlinecolor\":\"#2a3f5f\",\"gridcolor\":\"white\",\"linecolor\":\"white\",\"minorgridcolor\":\"white\",\"startlinecolor\":\"#2a3f5f\"},\"baxis\":{\"endlinecolor\":\"#2a3f5f\",\"gridcolor\":\"white\",\"linecolor\":\"white\",\"minorgridcolor\":\"white\",\"startlinecolor\":\"#2a3f5f\"},\"type\":\"carpet\"}],\"table\":[{\"cells\":{\"fill\":{\"color\":\"#EBF0F8\"},\"line\":{\"color\":\"white\"}},\"header\":{\"fill\":{\"color\":\"#C8D4E3\"},\"line\":{\"color\":\"white\"}},\"type\":\"table\"}],\"barpolar\":[{\"marker\":{\"line\":{\"color\":\"#E5ECF6\",\"width\":0.5},\"pattern\":{\"fillmode\":\"overlay\",\"size\":10,\"solidity\":0.2}},\"type\":\"barpolar\"}],\"pie\":[{\"automargin\":true,\"type\":\"pie\"}]},\"layout\":{\"autotypenumbers\":\"strict\",\"colorway\":[\"#636efa\",\"#EF553B\",\"#00cc96\",\"#ab63fa\",\"#FFA15A\",\"#19d3f3\",\"#FF6692\",\"#B6E880\",\"#FF97FF\",\"#FECB52\"],\"font\":{\"color\":\"#2a3f5f\"},\"hovermode\":\"closest\",\"hoverlabel\":{\"align\":\"left\"},\"paper_bgcolor\":\"white\",\"plot_bgcolor\":\"#E5ECF6\",\"polar\":{\"bgcolor\":\"#E5ECF6\",\"angularaxis\":{\"gridcolor\":\"white\",\"linecolor\":\"white\",\"ticks\":\"\"},\"radialaxis\":{\"gridcolor\":\"white\",\"linecolor\":\"white\",\"ticks\":\"\"}},\"ternary\":{\"bgcolor\":\"#E5ECF6\",\"aaxis\":{\"gridcolor\":\"white\",\"linecolor\":\"white\",\"ticks\":\"\"},\"baxis\":{\"gridcolor\":\"white\",\"linecolor\":\"white\",\"ticks\":\"\"},\"caxis\":{\"gridcolor\":\"white\",\"linecolor\":\"white\",\"ticks\":\"\"}},\"coloraxis\":{\"colorbar\":{\"outlinewidth\":0,\"ticks\":\"\"}},\"colorscale\":{\"sequential\":[[0.0,\"#0d0887\"],[0.1111111111111111,\"#46039f\"],[0.2222222222222222,\"#7201a8\"],[0.3333333333333333,\"#9c179e\"],[0.4444444444444444,\"#bd3786\"],[0.5555555555555556,\"#d8576b\"],[0.6666666666666666,\"#ed7953\"],[0.7777777777777778,\"#fb9f3a\"],[0.8888888888888888,\"#fdca26\"],[1.0,\"#f0f921\"]],\"sequentialminus\":[[0.0,\"#0d0887\"],[0.1111111111111111,\"#46039f\"],[0.2222222222222222,\"#7201a8\"],[0.3333333333333333,\"#9c179e\"],[0.4444444444444444,\"#bd3786\"],[0.5555555555555556,\"#d8576b\"],[0.6666666666666666,\"#ed7953\"],[0.7777777777777778,\"#fb9f3a\"],[0.8888888888888888,\"#fdca26\"],[1.0,\"#f0f921\"]],\"diverging\":[[0,\"#8e0152\"],[0.1,\"#c51b7d\"],[0.2,\"#de77ae\"],[0.3,\"#f1b6da\"],[0.4,\"#fde0ef\"],[0.5,\"#f7f7f7\"],[0.6,\"#e6f5d0\"],[0.7,\"#b8e186\"],[0.8,\"#7fbc41\"],[0.9,\"#4d9221\"],[1,\"#276419\"]]},\"xaxis\":{\"gridcolor\":\"white\",\"linecolor\":\"white\",\"ticks\":\"\",\"title\":{\"standoff\":15},\"zerolinecolor\":\"white\",\"automargin\":true,\"zerolinewidth\":2},\"yaxis\":{\"gridcolor\":\"white\",\"linecolor\":\"white\",\"ticks\":\"\",\"title\":{\"standoff\":15},\"zerolinecolor\":\"white\",\"automargin\":true,\"zerolinewidth\":2},\"scene\":{\"xaxis\":{\"backgroundcolor\":\"#E5ECF6\",\"gridcolor\":\"white\",\"linecolor\":\"white\",\"showbackground\":true,\"ticks\":\"\",\"zerolinecolor\":\"white\",\"gridwidth\":2},\"yaxis\":{\"backgroundcolor\":\"#E5ECF6\",\"gridcolor\":\"white\",\"linecolor\":\"white\",\"showbackground\":true,\"ticks\":\"\",\"zerolinecolor\":\"white\",\"gridwidth\":2},\"zaxis\":{\"backgroundcolor\":\"#E5ECF6\",\"gridcolor\":\"white\",\"linecolor\":\"white\",\"showbackground\":true,\"ticks\":\"\",\"zerolinecolor\":\"white\",\"gridwidth\":2}},\"shapedefaults\":{\"line\":{\"color\":\"#2a3f5f\"}},\"annotationdefaults\":{\"arrowcolor\":\"#2a3f5f\",\"arrowhead\":0,\"arrowwidth\":1},\"geo\":{\"bgcolor\":\"white\",\"landcolor\":\"#E5ECF6\",\"subunitcolor\":\"white\",\"showland\":true,\"showlakes\":true,\"lakecolor\":\"white\"},\"title\":{\"x\":0.05},\"mapbox\":{\"style\":\"light\"}}},\"xaxis\":{\"anchor\":\"y\",\"domain\":[0.0,1.0],\"title\":{\"text\":\"value\"}},\"yaxis\":{\"anchor\":\"x\",\"domain\":[0.0,1.0],\"title\":{\"text\":\"count\"}},\"legend\":{\"title\":{\"text\":\"variable\"},\"tracegroupgap\":0},\"margin\":{\"t\":60},\"barmode\":\"relative\"},                        {\"responsive\": true}                    ).then(function(){\n",
              "                            \n",
              "var gd = document.getElementById('70e66565-3e0e-4003-881a-abdd090225ed');\n",
              "var x = new MutationObserver(function (mutations, observer) {{\n",
              "        var display = window.getComputedStyle(gd).display;\n",
              "        if (!display || display === 'none') {{\n",
              "            console.log([gd, 'removed!']);\n",
              "            Plotly.purge(gd);\n",
              "            observer.disconnect();\n",
              "        }}\n",
              "}});\n",
              "\n",
              "// Listen for the removal of the full notebook cells\n",
              "var notebookContainer = gd.closest('#notebook-container');\n",
              "if (notebookContainer) {{\n",
              "    x.observe(notebookContainer, {childList: true});\n",
              "}}\n",
              "\n",
              "// Listen for the clearing of the current output cell\n",
              "var outputEl = gd.closest('.output');\n",
              "if (outputEl) {{\n",
              "    x.observe(outputEl, {childList: true});\n",
              "}}\n",
              "\n",
              "                        })                };                            </script>        </div>\n",
              "</body>\n",
              "</html>"
            ]
          },
          "metadata": {}
        }
      ]
    },
    {
      "cell_type": "code",
      "source": [
        "hist.show()"
      ],
      "metadata": {
        "colab": {
          "base_uri": "https://localhost:8080/",
          "height": 542
        },
        "id": "5K4gg5FeTxI_",
        "outputId": "8e05ffd8-53e3-41f1-903b-3e1d631c16d0"
      },
      "execution_count": 54,
      "outputs": [
        {
          "output_type": "display_data",
          "data": {
            "text/html": [
              "<html>\n",
              "<head><meta charset=\"utf-8\" /></head>\n",
              "<body>\n",
              "    <div>            <script src=\"https://cdnjs.cloudflare.com/ajax/libs/mathjax/2.7.5/MathJax.js?config=TeX-AMS-MML_SVG\"></script><script type=\"text/javascript\">if (window.MathJax && window.MathJax.Hub && window.MathJax.Hub.Config) {window.MathJax.Hub.Config({SVG: {font: \"STIX-Web\"}});}</script>                <script type=\"text/javascript\">window.PlotlyConfig = {MathJaxConfig: 'local'};</script>\n",
              "        <script charset=\"utf-8\" src=\"https://cdn.plot.ly/plotly-2.24.1.min.js\"></script>                <div id=\"9249718c-ed68-431c-98b5-3909c2c35f9f\" class=\"plotly-graph-div\" style=\"height:525px; width:100%;\"></div>            <script type=\"text/javascript\">                                    window.PLOTLYENV=window.PLOTLYENV || {};                                    if (document.getElementById(\"9249718c-ed68-431c-98b5-3909c2c35f9f\")) {                    Plotly.newPlot(                        \"9249718c-ed68-431c-98b5-3909c2c35f9f\",                        [{\"alignmentgroup\":\"True\",\"bingroup\":\"x\",\"hovertemplate\":\"variable=text_tokens\\u003cbr\\u003evalue=%{x}\\u003cbr\\u003ecount=%{y}\\u003cextra\\u003e\\u003c\\u002fextra\\u003e\",\"legendgroup\":\"text_tokens\",\"marker\":{\"color\":\"#636efa\",\"pattern\":{\"shape\":\"\"}},\"name\":\"text_tokens\",\"offsetgroup\":\"text_tokens\",\"orientation\":\"v\",\"showlegend\":true,\"x\":[704,783,946,814,872,711,795,865,996,994,1009,729,653,767,849,928,857,762,708,1002,660,1003,903,701,1001,707,925,885,686,821,809,833,552,1015,732,712,938,923,779,784,863,949,767,764,712,804,698,639,657,893,881,736,615,798,1019,741,891,990,870,728,722,587,722,957,1016,865,650,797,880,692,828,508,681,795,726,572,713,720,752,830,939,831,1003,741,840,858,876,616,972,989,838,762,736,972,828,832,1008,870,893,799,791,878,865,646,582,855,868,939,788,698,883,708,868,741,628,784,782,981,848,786,802,727,867,690,917,858,421,562,937,608,683,819,882,810,808,789,979,747,1004,812,1004,696,746,987,756,1002,770,945,649,685,760,711,699,788,672,888,933,843,1000,912,756,860,876,729,681,932,833,743,770,748,813,748,803,658,804,785,733,977,735,773,973,689,663,800,697,840,935,673,658,1001,846,607,626,753,782,960,857,587,767,606,795,619,795,988,765,924,698,594,761,840,805,810,845,948,649,980,699,936,633,667,753,900,756,920,684,1003,731,993,982,696,825,722,985,861,741,746,909,925,944,848,797,964,783,938,804,851,972,546,923,642,714,794,580,1001,671,952,688,770,987,804,665,838,625,644,669,867,1005,1015,816,718,897,723,927,788,731,898,460,956,645,904,962,350,990,709,728,974,867,844,711,638,870,650,499,675,767,731,772,620,673,1014,792,729,754,783,991,749,767,1015,822,651,551,697,702,765,788,964,656,875,1007,980,564,820,1012,1016,780,698,518,779,753,821,879,646,840,832,981,763,889,947,763,810,782,789,804,722,744,874,675,776,895,668,929,683,440,1008,820,886,614,965,782,817,931,689,894,658,641,900,924,816,801,1020,844,828,776,547,805,930,603,821,877,833,754,842,961,978,819,711,477,982,923,1001,704,988,717,836,711,648,948,1007,967,672,667,693,966,1002,932,844,1005,805,782,417,777,884,744,839,939,952,1023,775,854,675,860,899,940,929,920,665,854,648,723,1007,755,773,518,1023,921,669,682,555,662,903,820,928,961,824,727,800,683,1014,764,809,679,649,783,433,630,779,868,894,645,649,655,875,870,627,720,842,655,895,891,865,803,964,680,940,854,893,839,789,678,1021,950,624,837,878,677,833,897,837,760,706,708,558,958,817,716,688,647,892,835,942],\"xaxis\":\"x\",\"yaxis\":\"y\",\"type\":\"histogram\"},{\"alignmentgroup\":\"True\",\"bingroup\":\"x\",\"hovertemplate\":\"variable=summary_tokens\\u003cbr\\u003evalue=%{x}\\u003cbr\\u003ecount=%{y}\\u003cextra\\u003e\\u003c\\u002fextra\\u003e\",\"legendgroup\":\"summary_tokens\",\"marker\":{\"color\":\"#EF553B\",\"pattern\":{\"shape\":\"\"}},\"name\":\"summary_tokens\",\"offsetgroup\":\"summary_tokens\",\"orientation\":\"v\",\"showlegend\":true,\"x\":[119,18,53,163,67,64,171,130,112,57,97,95,172,199,78,67,102,159,96,116,161,172,158,87,34,80,79,75,52,109,86,158,141,148,123,163,39,171,116,52,164,100,116,94,107,72,116,142,19,93,39,156,20,86,66,170,128,76,130,115,67,51,122,108,153,73,144,129,10,66,41,182,47,62,156,73,153,86,130,184,48,174,23,139,66,27,149,76,117,187,37,147,30,26,66,184,121,80,66,71,175,111,38,132,117,108,107,54,63,133,78,97,36,82,171,123,75,136,45,51,160,122,120,91,142,185,172,146,185,40,105,111,165,112,173,47,108,145,135,54,124,81,95,52,184,171,98,46,86,152,110,140,65,107,163,41,51,98,194,90,186,167,169,145,41,38,152,18,35,54,74,30,113,73,124,104,52,182,138,127,67,103,46,85,189,196,113,162,142,91,136,43,33,164,62,42,28,127,155,177,52,71,97,113,62,83,53,176,52,105,165,30,66,75,126,60,71,100,136,155,131,171,145,158,151,68,66,151,136,96,175,53,29,130,98,69,115,17,196,89,96,71,74,187,46,95,40,39,93,154,41,54,40,91,47,110,135,192,97,103,88,153,150,144,108,89,128,37,73,45,42,111,92,161,59,115,26,172,165,88,61,49,71,55,69,82,116,107,34,134,71,112,40,192,159,180,35,64,72,87,51,181,108,87,191,133,168,101,52,133,163,15,104,130,172,76,107,61,161,89,176,81,18,127,108,105,59,75,135,119,177,55,58,184,131,97,117,92,160,160,48,64,110,177,179,149,149,111,166,114,173,119,17,118,174,160,67,100,107,38,39,80,66,140,157,30,138,161,119,133,66,87,179,82,56,90,187,176,77,97,177,134,140,69,113,62,72,182,83,81,111,56,195,73,126,130,55,60,104,187,44,62,59,133,57,176,134,173,183,21,56,151,69,93,101,30,92,195,102,148,185,159,102,51,120,132,100,24,138,113,149,76,107,70,124,71,87,73,42,181,77,106,109,133,101,22,171,89,193,118,67,154,44,21,46,108,61,93,38,35,87,73,130,105,116,113,37,66,38,194,41,74,42,82,135,51,32,41,64,103,70,59,77,152,75,59,93,161,94,64,130,134,185,157,124,91,45,131,138,199],\"xaxis\":\"x\",\"yaxis\":\"y\",\"type\":\"histogram\"}],                        {\"template\":{\"data\":{\"histogram2dcontour\":[{\"type\":\"histogram2dcontour\",\"colorbar\":{\"outlinewidth\":0,\"ticks\":\"\"},\"colorscale\":[[0.0,\"#0d0887\"],[0.1111111111111111,\"#46039f\"],[0.2222222222222222,\"#7201a8\"],[0.3333333333333333,\"#9c179e\"],[0.4444444444444444,\"#bd3786\"],[0.5555555555555556,\"#d8576b\"],[0.6666666666666666,\"#ed7953\"],[0.7777777777777778,\"#fb9f3a\"],[0.8888888888888888,\"#fdca26\"],[1.0,\"#f0f921\"]]}],\"choropleth\":[{\"type\":\"choropleth\",\"colorbar\":{\"outlinewidth\":0,\"ticks\":\"\"}}],\"histogram2d\":[{\"type\":\"histogram2d\",\"colorbar\":{\"outlinewidth\":0,\"ticks\":\"\"},\"colorscale\":[[0.0,\"#0d0887\"],[0.1111111111111111,\"#46039f\"],[0.2222222222222222,\"#7201a8\"],[0.3333333333333333,\"#9c179e\"],[0.4444444444444444,\"#bd3786\"],[0.5555555555555556,\"#d8576b\"],[0.6666666666666666,\"#ed7953\"],[0.7777777777777778,\"#fb9f3a\"],[0.8888888888888888,\"#fdca26\"],[1.0,\"#f0f921\"]]}],\"heatmap\":[{\"type\":\"heatmap\",\"colorbar\":{\"outlinewidth\":0,\"ticks\":\"\"},\"colorscale\":[[0.0,\"#0d0887\"],[0.1111111111111111,\"#46039f\"],[0.2222222222222222,\"#7201a8\"],[0.3333333333333333,\"#9c179e\"],[0.4444444444444444,\"#bd3786\"],[0.5555555555555556,\"#d8576b\"],[0.6666666666666666,\"#ed7953\"],[0.7777777777777778,\"#fb9f3a\"],[0.8888888888888888,\"#fdca26\"],[1.0,\"#f0f921\"]]}],\"heatmapgl\":[{\"type\":\"heatmapgl\",\"colorbar\":{\"outlinewidth\":0,\"ticks\":\"\"},\"colorscale\":[[0.0,\"#0d0887\"],[0.1111111111111111,\"#46039f\"],[0.2222222222222222,\"#7201a8\"],[0.3333333333333333,\"#9c179e\"],[0.4444444444444444,\"#bd3786\"],[0.5555555555555556,\"#d8576b\"],[0.6666666666666666,\"#ed7953\"],[0.7777777777777778,\"#fb9f3a\"],[0.8888888888888888,\"#fdca26\"],[1.0,\"#f0f921\"]]}],\"contourcarpet\":[{\"type\":\"contourcarpet\",\"colorbar\":{\"outlinewidth\":0,\"ticks\":\"\"}}],\"contour\":[{\"type\":\"contour\",\"colorbar\":{\"outlinewidth\":0,\"ticks\":\"\"},\"colorscale\":[[0.0,\"#0d0887\"],[0.1111111111111111,\"#46039f\"],[0.2222222222222222,\"#7201a8\"],[0.3333333333333333,\"#9c179e\"],[0.4444444444444444,\"#bd3786\"],[0.5555555555555556,\"#d8576b\"],[0.6666666666666666,\"#ed7953\"],[0.7777777777777778,\"#fb9f3a\"],[0.8888888888888888,\"#fdca26\"],[1.0,\"#f0f921\"]]}],\"surface\":[{\"type\":\"surface\",\"colorbar\":{\"outlinewidth\":0,\"ticks\":\"\"},\"colorscale\":[[0.0,\"#0d0887\"],[0.1111111111111111,\"#46039f\"],[0.2222222222222222,\"#7201a8\"],[0.3333333333333333,\"#9c179e\"],[0.4444444444444444,\"#bd3786\"],[0.5555555555555556,\"#d8576b\"],[0.6666666666666666,\"#ed7953\"],[0.7777777777777778,\"#fb9f3a\"],[0.8888888888888888,\"#fdca26\"],[1.0,\"#f0f921\"]]}],\"mesh3d\":[{\"type\":\"mesh3d\",\"colorbar\":{\"outlinewidth\":0,\"ticks\":\"\"}}],\"scatter\":[{\"fillpattern\":{\"fillmode\":\"overlay\",\"size\":10,\"solidity\":0.2},\"type\":\"scatter\"}],\"parcoords\":[{\"type\":\"parcoords\",\"line\":{\"colorbar\":{\"outlinewidth\":0,\"ticks\":\"\"}}}],\"scatterpolargl\":[{\"type\":\"scatterpolargl\",\"marker\":{\"colorbar\":{\"outlinewidth\":0,\"ticks\":\"\"}}}],\"bar\":[{\"error_x\":{\"color\":\"#2a3f5f\"},\"error_y\":{\"color\":\"#2a3f5f\"},\"marker\":{\"line\":{\"color\":\"#E5ECF6\",\"width\":0.5},\"pattern\":{\"fillmode\":\"overlay\",\"size\":10,\"solidity\":0.2}},\"type\":\"bar\"}],\"scattergeo\":[{\"type\":\"scattergeo\",\"marker\":{\"colorbar\":{\"outlinewidth\":0,\"ticks\":\"\"}}}],\"scatterpolar\":[{\"type\":\"scatterpolar\",\"marker\":{\"colorbar\":{\"outlinewidth\":0,\"ticks\":\"\"}}}],\"histogram\":[{\"marker\":{\"pattern\":{\"fillmode\":\"overlay\",\"size\":10,\"solidity\":0.2}},\"type\":\"histogram\"}],\"scattergl\":[{\"type\":\"scattergl\",\"marker\":{\"colorbar\":{\"outlinewidth\":0,\"ticks\":\"\"}}}],\"scatter3d\":[{\"type\":\"scatter3d\",\"line\":{\"colorbar\":{\"outlinewidth\":0,\"ticks\":\"\"}},\"marker\":{\"colorbar\":{\"outlinewidth\":0,\"ticks\":\"\"}}}],\"scattermapbox\":[{\"type\":\"scattermapbox\",\"marker\":{\"colorbar\":{\"outlinewidth\":0,\"ticks\":\"\"}}}],\"scatterternary\":[{\"type\":\"scatterternary\",\"marker\":{\"colorbar\":{\"outlinewidth\":0,\"ticks\":\"\"}}}],\"scattercarpet\":[{\"type\":\"scattercarpet\",\"marker\":{\"colorbar\":{\"outlinewidth\":0,\"ticks\":\"\"}}}],\"carpet\":[{\"aaxis\":{\"endlinecolor\":\"#2a3f5f\",\"gridcolor\":\"white\",\"linecolor\":\"white\",\"minorgridcolor\":\"white\",\"startlinecolor\":\"#2a3f5f\"},\"baxis\":{\"endlinecolor\":\"#2a3f5f\",\"gridcolor\":\"white\",\"linecolor\":\"white\",\"minorgridcolor\":\"white\",\"startlinecolor\":\"#2a3f5f\"},\"type\":\"carpet\"}],\"table\":[{\"cells\":{\"fill\":{\"color\":\"#EBF0F8\"},\"line\":{\"color\":\"white\"}},\"header\":{\"fill\":{\"color\":\"#C8D4E3\"},\"line\":{\"color\":\"white\"}},\"type\":\"table\"}],\"barpolar\":[{\"marker\":{\"line\":{\"color\":\"#E5ECF6\",\"width\":0.5},\"pattern\":{\"fillmode\":\"overlay\",\"size\":10,\"solidity\":0.2}},\"type\":\"barpolar\"}],\"pie\":[{\"automargin\":true,\"type\":\"pie\"}]},\"layout\":{\"autotypenumbers\":\"strict\",\"colorway\":[\"#636efa\",\"#EF553B\",\"#00cc96\",\"#ab63fa\",\"#FFA15A\",\"#19d3f3\",\"#FF6692\",\"#B6E880\",\"#FF97FF\",\"#FECB52\"],\"font\":{\"color\":\"#2a3f5f\"},\"hovermode\":\"closest\",\"hoverlabel\":{\"align\":\"left\"},\"paper_bgcolor\":\"white\",\"plot_bgcolor\":\"#E5ECF6\",\"polar\":{\"bgcolor\":\"#E5ECF6\",\"angularaxis\":{\"gridcolor\":\"white\",\"linecolor\":\"white\",\"ticks\":\"\"},\"radialaxis\":{\"gridcolor\":\"white\",\"linecolor\":\"white\",\"ticks\":\"\"}},\"ternary\":{\"bgcolor\":\"#E5ECF6\",\"aaxis\":{\"gridcolor\":\"white\",\"linecolor\":\"white\",\"ticks\":\"\"},\"baxis\":{\"gridcolor\":\"white\",\"linecolor\":\"white\",\"ticks\":\"\"},\"caxis\":{\"gridcolor\":\"white\",\"linecolor\":\"white\",\"ticks\":\"\"}},\"coloraxis\":{\"colorbar\":{\"outlinewidth\":0,\"ticks\":\"\"}},\"colorscale\":{\"sequential\":[[0.0,\"#0d0887\"],[0.1111111111111111,\"#46039f\"],[0.2222222222222222,\"#7201a8\"],[0.3333333333333333,\"#9c179e\"],[0.4444444444444444,\"#bd3786\"],[0.5555555555555556,\"#d8576b\"],[0.6666666666666666,\"#ed7953\"],[0.7777777777777778,\"#fb9f3a\"],[0.8888888888888888,\"#fdca26\"],[1.0,\"#f0f921\"]],\"sequentialminus\":[[0.0,\"#0d0887\"],[0.1111111111111111,\"#46039f\"],[0.2222222222222222,\"#7201a8\"],[0.3333333333333333,\"#9c179e\"],[0.4444444444444444,\"#bd3786\"],[0.5555555555555556,\"#d8576b\"],[0.6666666666666666,\"#ed7953\"],[0.7777777777777778,\"#fb9f3a\"],[0.8888888888888888,\"#fdca26\"],[1.0,\"#f0f921\"]],\"diverging\":[[0,\"#8e0152\"],[0.1,\"#c51b7d\"],[0.2,\"#de77ae\"],[0.3,\"#f1b6da\"],[0.4,\"#fde0ef\"],[0.5,\"#f7f7f7\"],[0.6,\"#e6f5d0\"],[0.7,\"#b8e186\"],[0.8,\"#7fbc41\"],[0.9,\"#4d9221\"],[1,\"#276419\"]]},\"xaxis\":{\"gridcolor\":\"white\",\"linecolor\":\"white\",\"ticks\":\"\",\"title\":{\"standoff\":15},\"zerolinecolor\":\"white\",\"automargin\":true,\"zerolinewidth\":2},\"yaxis\":{\"gridcolor\":\"white\",\"linecolor\":\"white\",\"ticks\":\"\",\"title\":{\"standoff\":15},\"zerolinecolor\":\"white\",\"automargin\":true,\"zerolinewidth\":2},\"scene\":{\"xaxis\":{\"backgroundcolor\":\"#E5ECF6\",\"gridcolor\":\"white\",\"linecolor\":\"white\",\"showbackground\":true,\"ticks\":\"\",\"zerolinecolor\":\"white\",\"gridwidth\":2},\"yaxis\":{\"backgroundcolor\":\"#E5ECF6\",\"gridcolor\":\"white\",\"linecolor\":\"white\",\"showbackground\":true,\"ticks\":\"\",\"zerolinecolor\":\"white\",\"gridwidth\":2},\"zaxis\":{\"backgroundcolor\":\"#E5ECF6\",\"gridcolor\":\"white\",\"linecolor\":\"white\",\"showbackground\":true,\"ticks\":\"\",\"zerolinecolor\":\"white\",\"gridwidth\":2}},\"shapedefaults\":{\"line\":{\"color\":\"#2a3f5f\"}},\"annotationdefaults\":{\"arrowcolor\":\"#2a3f5f\",\"arrowhead\":0,\"arrowwidth\":1},\"geo\":{\"bgcolor\":\"white\",\"landcolor\":\"#E5ECF6\",\"subunitcolor\":\"white\",\"showland\":true,\"showlakes\":true,\"lakecolor\":\"white\"},\"title\":{\"x\":0.05},\"mapbox\":{\"style\":\"light\"}}},\"xaxis\":{\"anchor\":\"y\",\"domain\":[0.0,1.0],\"title\":{\"text\":\"value\"}},\"yaxis\":{\"anchor\":\"x\",\"domain\":[0.0,1.0],\"title\":{\"text\":\"count\"}},\"legend\":{\"title\":{\"text\":\"variable\"},\"tracegroupgap\":0},\"margin\":{\"t\":60},\"barmode\":\"relative\"},                        {\"responsive\": true}                    ).then(function(){\n",
              "                            \n",
              "var gd = document.getElementById('9249718c-ed68-431c-98b5-3909c2c35f9f');\n",
              "var x = new MutationObserver(function (mutations, observer) {{\n",
              "        var display = window.getComputedStyle(gd).display;\n",
              "        if (!display || display === 'none') {{\n",
              "            console.log([gd, 'removed!']);\n",
              "            Plotly.purge(gd);\n",
              "            observer.disconnect();\n",
              "        }}\n",
              "}});\n",
              "\n",
              "// Listen for the removal of the full notebook cells\n",
              "var notebookContainer = gd.closest('#notebook-container');\n",
              "if (notebookContainer) {{\n",
              "    x.observe(notebookContainer, {childList: true});\n",
              "}}\n",
              "\n",
              "// Listen for the clearing of the current output cell\n",
              "var outputEl = gd.closest('.output');\n",
              "if (outputEl) {{\n",
              "    x.observe(outputEl, {childList: true});\n",
              "}}\n",
              "\n",
              "                        })                };                            </script>        </div>\n",
              "</body>\n",
              "</html>"
            ]
          },
          "metadata": {}
        }
      ]
    },
    {
      "cell_type": "code",
      "source": [],
      "metadata": {
        "id": "YQr_eDplDVwg"
      },
      "execution_count": 54,
      "outputs": []
    },
    {
      "cell_type": "markdown",
      "source": [
        "Like wise we will also use sample for validation"
      ],
      "metadata": {
        "id": "liWcY0gKDWjQ"
      }
    },
    {
      "cell_type": "code",
      "source": [
        "validation_df_f_s = validation_df_f.sample(100)"
      ],
      "metadata": {
        "id": "U0YYtcLNDb2R"
      },
      "execution_count": 55,
      "outputs": []
    },
    {
      "cell_type": "code",
      "source": [
        "## Finetuning the model"
      ],
      "metadata": {
        "id": "Gj3DKTiO7vhw"
      },
      "execution_count": 56,
      "outputs": []
    },
    {
      "cell_type": "markdown",
      "source": [
        "## Finetuning the model"
      ],
      "metadata": {
        "id": "yDz4ibgzWEyk"
      }
    },
    {
      "cell_type": "markdown",
      "source": [],
      "metadata": {
        "id": "EHjQ609-WGtz"
      }
    },
    {
      "cell_type": "code",
      "source": [
        "from transformers import AutoTokenizer\n"
      ],
      "metadata": {
        "id": "5YQwxw_EWiBV"
      },
      "execution_count": 57,
      "outputs": []
    },
    {
      "cell_type": "code",
      "source": [
        "model_ckp = 'facebook/bart-large-cnn'\n",
        "tokenizer = AutoTokenizer.from_pretrained(model_ckp)\n"
      ],
      "metadata": {
        "colab": {
          "base_uri": "https://localhost:8080/"
        },
        "id": "WuEu_vpKWmVi",
        "outputId": "bc5fd495-cb95-4ea8-d109-0796b558fc42"
      },
      "execution_count": 58,
      "outputs": [
        {
          "output_type": "stream",
          "name": "stderr",
          "text": [
            "/usr/local/lib/python3.10/dist-packages/huggingface_hub/file_download.py:1132: FutureWarning:\n",
            "\n",
            "`resume_download` is deprecated and will be removed in version 1.0.0. Downloads always resume when possible. If you want to force a new download, use `force_download=True`.\n",
            "\n"
          ]
        }
      ]
    },
    {
      "cell_type": "code",
      "source": [
        "input = tokenizer('I love hugging face library')\n",
        "input"
      ],
      "metadata": {
        "colab": {
          "base_uri": "https://localhost:8080/"
        },
        "id": "DLOwubfAXGWo",
        "outputId": "505c8dec-8f2c-4e26-f593-83a90e85caca"
      },
      "execution_count": 59,
      "outputs": [
        {
          "output_type": "execute_result",
          "data": {
            "text/plain": [
              "{'input_ids': [0, 100, 657, 31164, 652, 5560, 2], 'attention_mask': [1, 1, 1, 1, 1, 1, 1]}"
            ]
          },
          "metadata": {},
          "execution_count": 59
        }
      ]
    },
    {
      "cell_type": "code",
      "source": [
        "max_input_length = 1024\n",
        "max_target_length = 200\n",
        "\n",
        "def preprocess_function(examples):\n",
        "\n",
        "  model_inputs = tokenizer(\n",
        "      examples['text'],\n",
        "      max_length = max_input_length,\n",
        "      truncation = True\n",
        "  )\n",
        "\n",
        "  labels = tokenizer(\n",
        "      examples['summary'], max_length = max_target_length\n",
        "  )\n",
        "  model_inputs['labels'] = labels['input_ids']\n",
        "  return model_inputs"
      ],
      "metadata": {
        "id": "RCOV35grMSO2"
      },
      "execution_count": 60,
      "outputs": []
    },
    {
      "cell_type": "code",
      "source": [
        "from datasets import Dataset"
      ],
      "metadata": {
        "id": "llP7982EZik_"
      },
      "execution_count": 61,
      "outputs": []
    },
    {
      "cell_type": "code",
      "source": [
        "train_dataset = Dataset.from_pandas(train_df_f_s)\n",
        "validation_dataset = Dataset.from_pandas(validation_df_f_s)\n",
        "# test_dataset = Dataset.from_pandas(test_df_f)"
      ],
      "metadata": {
        "id": "Iic2dQ2aYpev"
      },
      "execution_count": 62,
      "outputs": []
    },
    {
      "cell_type": "code",
      "source": [
        "tokenized_train_dataset = train_dataset.map(preprocess_function, batched = True)\n",
        "tokenized_validation_dataset = validation_dataset.map(preprocess_function, batched = True)\n",
        "# tokenized_test_dataset = test_dataset.map(preprocess_function, batched = True)"
      ],
      "metadata": {
        "colab": {
          "base_uri": "https://localhost:8080/",
          "height": 118,
          "referenced_widgets": [
            "cd8e38722d254cbe9633650fcf27c4bb",
            "d179b3a77ed24ce89a219031e2f9a5c5",
            "80c0a690dbd149bc87574452157c664a",
            "34cefff541b54e04ad9364881d070740",
            "0fc702f5e2fa484f9d1d397d0c874839",
            "7b80469e956d4baab1c4799586dac52f",
            "ab718303cc094f9fb6f11d9c7ca74e17",
            "0bcce855fd3c4fab8de954f529fc3628",
            "2149cc1b6b50483fad564e63eefc806e",
            "fd053a91cfed42e08b6b4b20f23f1190",
            "fda17ea4623d4d77aeae9f4533381d59",
            "57d1a2437ac94596a1062c2112da98be",
            "f098bf8e69d444ecab3fb998d88e114a",
            "d4adb39d0e8f4f1999363365da95da59",
            "aaa31c5fb2364a2bae1a9e6a314721c6",
            "dcf169c34de242709708164a6df217dd",
            "0d71fbb756ea41078807c4005a97cb1e",
            "9f1f2cfd634c4a09b0142847a7a67723",
            "bed7bd44efb245899e3a5d2aca18241e",
            "01a45ac8818c491faee8fed8e92743b5",
            "cfcb2e00e85244008aa0fccb2562b662",
            "a6e4872c60414327a0ca47548c93debb"
          ]
        },
        "id": "8YhVu2jzbtgr",
        "outputId": "31efa709-8aa4-4f25-d5b8-fa575b9c95ef"
      },
      "execution_count": 63,
      "outputs": [
        {
          "output_type": "display_data",
          "data": {
            "text/plain": [
              "Map:   0%|          | 0/500 [00:00<?, ? examples/s]"
            ],
            "application/vnd.jupyter.widget-view+json": {
              "version_major": 2,
              "version_minor": 0,
              "model_id": "cd8e38722d254cbe9633650fcf27c4bb"
            }
          },
          "metadata": {}
        },
        {
          "output_type": "stream",
          "name": "stderr",
          "text": [
            "Truncation was not explicitly activated but `max_length` is provided a specific value, please use `truncation=True` to explicitly truncate examples to max length. Defaulting to 'longest_first' truncation strategy. If you encode pairs of sequences (GLUE-style) with the tokenizer you can select this strategy more precisely by providing a specific strategy to `truncation`.\n"
          ]
        },
        {
          "output_type": "display_data",
          "data": {
            "text/plain": [
              "Map:   0%|          | 0/100 [00:00<?, ? examples/s]"
            ],
            "application/vnd.jupyter.widget-view+json": {
              "version_major": 2,
              "version_minor": 0,
              "model_id": "57d1a2437ac94596a1062c2112da98be"
            }
          },
          "metadata": {}
        }
      ]
    },
    {
      "cell_type": "markdown",
      "source": [
        "### Metrics for Evaluation"
      ],
      "metadata": {
        "id": "c96PM2z2dWYV"
      }
    },
    {
      "cell_type": "markdown",
      "source": [],
      "metadata": {
        "id": "KH-vPqdpdaEk"
      }
    },
    {
      "cell_type": "code",
      "source": [
        "!pip install rouge_score"
      ],
      "metadata": {
        "colab": {
          "base_uri": "https://localhost:8080/"
        },
        "id": "xk1UbyKwdbID",
        "outputId": "eb3d8d8d-8f99-4f03-ddd2-2c16c0eec6ba"
      },
      "execution_count": 64,
      "outputs": [
        {
          "output_type": "stream",
          "name": "stdout",
          "text": [
            "Requirement already satisfied: rouge_score in /usr/local/lib/python3.10/dist-packages (0.1.2)\n",
            "Requirement already satisfied: absl-py in /usr/local/lib/python3.10/dist-packages (from rouge_score) (1.4.0)\n",
            "Requirement already satisfied: nltk in /usr/local/lib/python3.10/dist-packages (from rouge_score) (3.8.1)\n",
            "Requirement already satisfied: numpy in /usr/local/lib/python3.10/dist-packages (from rouge_score) (1.25.2)\n",
            "Requirement already satisfied: six>=1.14.0 in /usr/local/lib/python3.10/dist-packages (from rouge_score) (1.16.0)\n",
            "Requirement already satisfied: click in /usr/local/lib/python3.10/dist-packages (from nltk->rouge_score) (8.1.7)\n",
            "Requirement already satisfied: joblib in /usr/local/lib/python3.10/dist-packages (from nltk->rouge_score) (1.4.2)\n",
            "Requirement already satisfied: regex>=2021.8.3 in /usr/local/lib/python3.10/dist-packages (from nltk->rouge_score) (2023.12.25)\n",
            "Requirement already satisfied: tqdm in /usr/local/lib/python3.10/dist-packages (from nltk->rouge_score) (4.66.4)\n"
          ]
        }
      ]
    },
    {
      "cell_type": "code",
      "source": [
        "!pip install evaluate"
      ],
      "metadata": {
        "colab": {
          "base_uri": "https://localhost:8080/"
        },
        "id": "bdycJQwleAqs",
        "outputId": "6674dd09-f157-4557-b0d7-5bdc746932f9"
      },
      "execution_count": 65,
      "outputs": [
        {
          "output_type": "stream",
          "name": "stdout",
          "text": [
            "Requirement already satisfied: evaluate in /usr/local/lib/python3.10/dist-packages (0.4.2)\n",
            "Requirement already satisfied: datasets>=2.0.0 in /usr/local/lib/python3.10/dist-packages (from evaluate) (2.19.1)\n",
            "Requirement already satisfied: numpy>=1.17 in /usr/local/lib/python3.10/dist-packages (from evaluate) (1.25.2)\n",
            "Requirement already satisfied: dill in /usr/local/lib/python3.10/dist-packages (from evaluate) (0.3.8)\n",
            "Requirement already satisfied: pandas in /usr/local/lib/python3.10/dist-packages (from evaluate) (2.0.3)\n",
            "Requirement already satisfied: requests>=2.19.0 in /usr/local/lib/python3.10/dist-packages (from evaluate) (2.31.0)\n",
            "Requirement already satisfied: tqdm>=4.62.1 in /usr/local/lib/python3.10/dist-packages (from evaluate) (4.66.4)\n",
            "Requirement already satisfied: xxhash in /usr/local/lib/python3.10/dist-packages (from evaluate) (3.4.1)\n",
            "Requirement already satisfied: multiprocess in /usr/local/lib/python3.10/dist-packages (from evaluate) (0.70.16)\n",
            "Requirement already satisfied: fsspec[http]>=2021.05.0 in /usr/local/lib/python3.10/dist-packages (from evaluate) (2023.6.0)\n",
            "Requirement already satisfied: huggingface-hub>=0.7.0 in /usr/local/lib/python3.10/dist-packages (from evaluate) (0.23.0)\n",
            "Requirement already satisfied: packaging in /usr/local/lib/python3.10/dist-packages (from evaluate) (24.0)\n",
            "Requirement already satisfied: filelock in /usr/local/lib/python3.10/dist-packages (from datasets>=2.0.0->evaluate) (3.14.0)\n",
            "Requirement already satisfied: pyarrow>=12.0.0 in /usr/local/lib/python3.10/dist-packages (from datasets>=2.0.0->evaluate) (14.0.2)\n",
            "Requirement already satisfied: pyarrow-hotfix in /usr/local/lib/python3.10/dist-packages (from datasets>=2.0.0->evaluate) (0.6)\n",
            "Requirement already satisfied: aiohttp in /usr/local/lib/python3.10/dist-packages (from datasets>=2.0.0->evaluate) (3.9.5)\n",
            "Requirement already satisfied: pyyaml>=5.1 in /usr/local/lib/python3.10/dist-packages (from datasets>=2.0.0->evaluate) (6.0.1)\n",
            "Requirement already satisfied: typing-extensions>=3.7.4.3 in /usr/local/lib/python3.10/dist-packages (from huggingface-hub>=0.7.0->evaluate) (4.11.0)\n",
            "Requirement already satisfied: charset-normalizer<4,>=2 in /usr/local/lib/python3.10/dist-packages (from requests>=2.19.0->evaluate) (3.3.2)\n",
            "Requirement already satisfied: idna<4,>=2.5 in /usr/local/lib/python3.10/dist-packages (from requests>=2.19.0->evaluate) (3.7)\n",
            "Requirement already satisfied: urllib3<3,>=1.21.1 in /usr/local/lib/python3.10/dist-packages (from requests>=2.19.0->evaluate) (2.0.7)\n",
            "Requirement already satisfied: certifi>=2017.4.17 in /usr/local/lib/python3.10/dist-packages (from requests>=2.19.0->evaluate) (2024.2.2)\n",
            "Requirement already satisfied: python-dateutil>=2.8.2 in /usr/local/lib/python3.10/dist-packages (from pandas->evaluate) (2.8.2)\n",
            "Requirement already satisfied: pytz>=2020.1 in /usr/local/lib/python3.10/dist-packages (from pandas->evaluate) (2023.4)\n",
            "Requirement already satisfied: tzdata>=2022.1 in /usr/local/lib/python3.10/dist-packages (from pandas->evaluate) (2024.1)\n",
            "Requirement already satisfied: aiosignal>=1.1.2 in /usr/local/lib/python3.10/dist-packages (from aiohttp->datasets>=2.0.0->evaluate) (1.3.1)\n",
            "Requirement already satisfied: attrs>=17.3.0 in /usr/local/lib/python3.10/dist-packages (from aiohttp->datasets>=2.0.0->evaluate) (23.2.0)\n",
            "Requirement already satisfied: frozenlist>=1.1.1 in /usr/local/lib/python3.10/dist-packages (from aiohttp->datasets>=2.0.0->evaluate) (1.4.1)\n",
            "Requirement already satisfied: multidict<7.0,>=4.5 in /usr/local/lib/python3.10/dist-packages (from aiohttp->datasets>=2.0.0->evaluate) (6.0.5)\n",
            "Requirement already satisfied: yarl<2.0,>=1.0 in /usr/local/lib/python3.10/dist-packages (from aiohttp->datasets>=2.0.0->evaluate) (1.9.4)\n",
            "Requirement already satisfied: async-timeout<5.0,>=4.0 in /usr/local/lib/python3.10/dist-packages (from aiohttp->datasets>=2.0.0->evaluate) (4.0.3)\n",
            "Requirement already satisfied: six>=1.5 in /usr/local/lib/python3.10/dist-packages (from python-dateutil>=2.8.2->pandas->evaluate) (1.16.0)\n"
          ]
        }
      ]
    },
    {
      "cell_type": "code",
      "source": [
        "import rouge_score, evaluate\n",
        "rouge_score = evaluate.load('rouge')"
      ],
      "metadata": {
        "id": "w-6-n2FSdgx4"
      },
      "execution_count": 66,
      "outputs": []
    },
    {
      "cell_type": "markdown",
      "source": [],
      "metadata": {
        "id": "kET5GGIENZsI"
      }
    },
    {
      "cell_type": "markdown",
      "source": [
        "Finetuning BART model\n"
      ],
      "metadata": {
        "id": "vvldfYbO9BDc"
      }
    },
    {
      "cell_type": "code",
      "source": [
        "from transformers import AutoModelForSeq2SeqLM\n",
        "model = AutoModelForSeq2SeqLM.from_pretrained(model_ckp)"
      ],
      "metadata": {
        "id": "B89FSp0X2tau"
      },
      "execution_count": 67,
      "outputs": []
    },
    {
      "cell_type": "code",
      "source": [],
      "metadata": {
        "id": "o8euc7nUTHS3"
      },
      "execution_count": 67,
      "outputs": []
    },
    {
      "cell_type": "code",
      "source": [
        "# from huggingface_hub import notebook_login"
      ],
      "metadata": {
        "id": "2AYVaP32UX4k"
      },
      "execution_count": 68,
      "outputs": []
    },
    {
      "cell_type": "code",
      "source": [
        "from transformers import Seq2SeqTrainingArguments"
      ],
      "metadata": {
        "id": "P6cNsnzC4VV1"
      },
      "execution_count": 69,
      "outputs": []
    },
    {
      "cell_type": "code",
      "source": [
        "batch_size = 3\n",
        "num_train_epochs = 3\n",
        "logging_steps = len(tokenized_train_dataset)//batch_size\n",
        "model_name = model_ckp.split(\"/\")[-1]\n",
        "\n",
        "args = Seq2SeqTrainingArguments(\n",
        "    output_dir = f\"{model_ckp}-finetuned-billsum\",\n",
        "     evaluation_strategy=\"epoch\",\n",
        "     learning_rate=5.6e-5,\n",
        "     per_device_train_batch_size=batch_size,\n",
        "     per_device_eval_batch_size=batch_size,\n",
        "     weight_decay=0.01,\n",
        "     save_total_limit=3,\n",
        "     num_train_epochs=num_train_epochs,\n",
        "     predict_with_generate=True,\n",
        "     logging_steps=logging_steps,\n",
        "     push_to_hub=False\n",
        "\n",
        ")"
      ],
      "metadata": {
        "id": "RY1Y2ftm4cga"
      },
      "execution_count": 70,
      "outputs": []
    },
    {
      "cell_type": "code",
      "source": [
        "import nltk\n",
        "\n",
        "nltk.download(\"punkt\")"
      ],
      "metadata": {
        "colab": {
          "base_uri": "https://localhost:8080/"
        },
        "id": "GcJ9OE-ELjLf",
        "outputId": "77362df2-a2ed-4474-d12c-7286d12074fb"
      },
      "execution_count": 71,
      "outputs": [
        {
          "output_type": "stream",
          "name": "stderr",
          "text": [
            "[nltk_data] Downloading package punkt to /root/nltk_data...\n",
            "[nltk_data]   Package punkt is already up-to-date!\n"
          ]
        },
        {
          "output_type": "execute_result",
          "data": {
            "text/plain": [
              "True"
            ]
          },
          "metadata": {},
          "execution_count": 71
        }
      ]
    },
    {
      "cell_type": "code",
      "source": [
        "from nltk.tokenize import sent_tokenize\n",
        "\n"
      ],
      "metadata": {
        "id": "I8l0-BHDLlIn"
      },
      "execution_count": 72,
      "outputs": []
    },
    {
      "cell_type": "code",
      "source": [
        "# import numpy as np\n",
        "# def compute_metrics(eval_pred):\n",
        "#     predictions, labels = eval_pred\n",
        "#     # Decode generated summaries into text\n",
        "#     decoded_preds = tokenizer.batch_decode(predictions, skip_special_tokens=True)\n",
        "#     # Replace -100 in the labels as we can't decode them\n",
        "#     labels = np.where(labels != -100, labels, tokenizer.pad_token_id)\n",
        "#     # Decode reference summaries into text\n",
        "#     decoded_labels = tokenizer.batch_decode(labels, skip_special_tokens=True)\n",
        "#     # ROUGE expects a newline after each sentence\n",
        "#     decoded_preds = [\"\\n\".join(sent_tokenize(pred.strip())) for pred in decoded_preds]\n",
        "#     decoded_labels = [\"\\n\".join(sent_tokenize(label.strip())) for label in decoded_labels]\n",
        "#     # Compute ROUGE scores\n",
        "#     result = rouge_score.compute(\n",
        "#         predictions=decoded_preds, references=decoded_labels, use_stemmer=True\n",
        "#     )\n",
        "#     # Extract the median scores\n",
        "#     # result = {key: value.mid.fmeasure * 100 for key, value in result.items()}\n",
        "#     # result = {key: value if isinstance(value, float) else value.mid.fmeasure * 100 for key, value in result.items()}\n",
        "#     result = {key: value[\"f\"] * 100 for key, value in result.items()}\n",
        "#     return {k: round(v, 4) for k, v in result.items()}"
      ],
      "metadata": {
        "id": "-U5FXWoB6PVX"
      },
      "execution_count": 73,
      "outputs": []
    },
    {
      "cell_type": "code",
      "source": [
        "import numpy as np\n",
        "from datasets import load_metric\n",
        "# from nltk.tokenize import sent_tokenize\n",
        "\n",
        "# Load ROUGE metric\n",
        "rouge_metric = load_metric(\"rouge\")\n",
        "\n",
        "def compute_metrics(eval_pred):\n",
        "    predictions, labels = eval_pred\n",
        "    # Decode generated summaries into text\n",
        "    decoded_preds = tokenizer.batch_decode(predictions, skip_special_tokens=True)\n",
        "    # Replace -100 in the labels as we can't decode them\n",
        "    labels = np.where(labels != -100, labels, tokenizer.pad_token_id)\n",
        "    # Decode reference summaries into text\n",
        "    decoded_labels = tokenizer.batch_decode(labels, skip_special_tokens=True)\n",
        "    # ROUGE expects a newline after each sentence\n",
        "    decoded_preds = [\"\\n\".join(sent_tokenize(pred.strip())) for pred in decoded_preds]\n",
        "    decoded_labels = [\"\\n\".join(sent_tokenize(label.strip())) for label in decoded_labels]\n",
        "    # Compute ROUGE scores\n",
        "    result = rouge_metric.compute(predictions=decoded_preds, references=decoded_labels, use_stemmer=True)\n",
        "    # Extract the F1 scores\n",
        "    return {\"rouge1\": round(result[\"rouge1\"].mid.fmeasure * 100, 4),\n",
        "            \"rouge2\": round(result[\"rouge2\"].mid.fmeasure * 100, 4),\n",
        "            \"rougeL\": round(result[\"rougeL\"].mid.fmeasure * 100, 4)}\n"
      ],
      "metadata": {
        "colab": {
          "base_uri": "https://localhost:8080/",
          "height": 223,
          "referenced_widgets": [
            "456a2a940c5846e3a5022d3a3628ce38",
            "f4116a8544484cf19db8c92dcd3d4bb1",
            "b11df2c551f14cf7a38cbfd396359818",
            "13da2a09e2074f73b8e98080b092e466",
            "c3ab7aa99ff547008de0939bec1c628d",
            "dde4ffccf99b49bf8e8eb207da912fe6",
            "7b50aad4c9014003af73d35b06991554",
            "ac6ee8c0bf434873a79268e2a4d72921",
            "29ac8960f5d543ab8c89a9bff81baa65",
            "6120f018d5fc4579b9e3666b9113d846",
            "d9bb8decf02a4bc1bcffa00b11933c0f"
          ]
        },
        "id": "CMtiNMDsZOa4",
        "outputId": "e77d54af-5483-4ba1-8407-4d4c54711735"
      },
      "execution_count": 74,
      "outputs": [
        {
          "output_type": "stream",
          "name": "stderr",
          "text": [
            "<ipython-input-74-852b543e8944>:6: FutureWarning:\n",
            "\n",
            "load_metric is deprecated and will be removed in the next major version of datasets. Use 'evaluate.load' instead, from the new library 🤗 Evaluate: https://huggingface.co/docs/evaluate\n",
            "\n",
            "/usr/local/lib/python3.10/dist-packages/datasets/load.py:759: FutureWarning:\n",
            "\n",
            "The repository for rouge contains custom code which must be executed to correctly load the metric. You can inspect the repository content at https://raw.githubusercontent.com/huggingface/datasets/2.19.1/metrics/rouge/rouge.py\n",
            "You can avoid this message in future by passing the argument `trust_remote_code=True`.\n",
            "Passing `trust_remote_code=True` will be mandatory to load this metric from the next major release of `datasets`.\n",
            "\n"
          ]
        },
        {
          "output_type": "display_data",
          "data": {
            "text/plain": [
              "Downloading builder script:   0%|          | 0.00/2.17k [00:00<?, ?B/s]"
            ],
            "application/vnd.jupyter.widget-view+json": {
              "version_major": 2,
              "version_minor": 0,
              "model_id": "456a2a940c5846e3a5022d3a3628ce38"
            }
          },
          "metadata": {}
        }
      ]
    },
    {
      "cell_type": "code",
      "source": [],
      "metadata": {
        "id": "oCrDBGSYSDNn"
      },
      "execution_count": 74,
      "outputs": []
    },
    {
      "cell_type": "code",
      "source": [
        "from transformers import DataCollatorForSeq2Seq\n",
        "\n",
        "data_collator = DataCollatorForSeq2Seq(tokenizer, model=model)"
      ],
      "metadata": {
        "id": "DWRd9MloBo7U"
      },
      "execution_count": 75,
      "outputs": []
    },
    {
      "cell_type": "code",
      "source": [
        "tokenized_train_dataset = tokenized_train_dataset.remove_columns(\n",
        "    ['text', 'summary', 'text_tokens', 'summary_tokens']\n",
        ")"
      ],
      "metadata": {
        "id": "UhB7ND3N7k9W"
      },
      "execution_count": 76,
      "outputs": []
    },
    {
      "cell_type": "code",
      "source": [
        "tokenized_train_dataset"
      ],
      "metadata": {
        "colab": {
          "base_uri": "https://localhost:8080/"
        },
        "id": "138nG_-OEwPe",
        "outputId": "0c47e157-7508-40c8-ca90-659f240e90e3"
      },
      "execution_count": 77,
      "outputs": [
        {
          "output_type": "execute_result",
          "data": {
            "text/plain": [
              "Dataset({\n",
              "    features: ['__index_level_0__', 'input_ids', 'attention_mask', 'labels'],\n",
              "    num_rows: 500\n",
              "})"
            ]
          },
          "metadata": {},
          "execution_count": 77
        }
      ]
    },
    {
      "cell_type": "code",
      "source": [
        "tokenized_validation_dataset = tokenized_validation_dataset.remove_columns(\n",
        "    ['text', 'summary']\n",
        ")"
      ],
      "metadata": {
        "id": "FoKuFjhwEXSv"
      },
      "execution_count": 78,
      "outputs": []
    },
    {
      "cell_type": "code",
      "source": [
        "tokenized_validation_dataset"
      ],
      "metadata": {
        "colab": {
          "base_uri": "https://localhost:8080/"
        },
        "id": "ipIEKZ5RE21A",
        "outputId": "b10459ff-b1c3-475d-e874-07bab0e9c024"
      },
      "execution_count": 79,
      "outputs": [
        {
          "output_type": "execute_result",
          "data": {
            "text/plain": [
              "Dataset({\n",
              "    features: ['__index_level_0__', 'input_ids', 'attention_mask', 'labels'],\n",
              "    num_rows: 100\n",
              "})"
            ]
          },
          "metadata": {},
          "execution_count": 79
        }
      ]
    },
    {
      "cell_type": "code",
      "source": [
        "features = [tokenized_train_dataset[i] for i in range(2)]\n",
        "data_collator(features)"
      ],
      "metadata": {
        "colab": {
          "base_uri": "https://localhost:8080/"
        },
        "id": "GEpSc8y98f_Y",
        "outputId": "684b6313-fe02-4ed3-8b6e-c99bf94626e2"
      },
      "execution_count": 80,
      "outputs": [
        {
          "output_type": "execute_result",
          "data": {
            "text/plain": [
              "{'__index_level_0__': tensor([18655, 10028]), 'input_ids': tensor([[    0,   104, 44583,  ...,  1552,     7,     2],\n",
              "        [    0,   104, 44583,  ...,  1437,  1437,     2]]), 'attention_mask': tensor([[1, 1, 1,  ..., 1, 1, 1],\n",
              "        [1, 1, 1,  ..., 1, 1, 1]]), 'labels': tensor([[    0,   725, 44206,  3655, 22100,     8, 15576,  1783,     9,  4013,\n",
              "           111,  1918,  8845,     5,  1909,  1309,  1841,  1783,     7,  2703,\n",
              "            10,  1098,     7,    35,    36,   134,    43,   266,   414,     7,\n",
              "             5,  1863,     9,  1309,     8,  3861,  1820,  2624,     5, 13135,\n",
              "             9,  4655,  1402,   518,     8, 33742,  1402,  2196,     8,     5,\n",
              "          1427,    30,     5,  1098,    13,   215,   518,    50,  2196,   131,\n",
              "             8,    36,   176,    43, 26584,   618,   215,   335,    23,   349,\n",
              "          7988,  1082,     4, 46233,     5,  1863,     7,    35,    36,   134,\n",
              "            43,  3271,   618,   215,   335,    11,    10,  4737,    14, 15885,\n",
              "          1427, 17941,   566,  4815,   131,     8,    36,   176,    43,  5163,\n",
              "            61,   518,    50,  2196,    32,     7,    28,   431,   716,    15,\n",
              "           141,  5705,   349,   544,    16,  3744,    50,   349,  1262,    16,\n",
              "         16556,     4, 50118, 50118, 49634,     5,  1863,     7,  7828,    10,\n",
              "          2366,  5775,  2861,    13,  6165,     9,    42,  1783,     4,     2],\n",
              "        [    0, 35746,  4376,    14, 10597,   575,  3485,  1795,    28,   156,\n",
              "           577,     7,  2172,  2754,    11,     5,  5615,  6084,     9,  1621,\n",
              "             4,     2,  -100,  -100,  -100,  -100,  -100,  -100,  -100,  -100,\n",
              "          -100,  -100,  -100,  -100,  -100,  -100,  -100,  -100,  -100,  -100,\n",
              "          -100,  -100,  -100,  -100,  -100,  -100,  -100,  -100,  -100,  -100,\n",
              "          -100,  -100,  -100,  -100,  -100,  -100,  -100,  -100,  -100,  -100,\n",
              "          -100,  -100,  -100,  -100,  -100,  -100,  -100,  -100,  -100,  -100,\n",
              "          -100,  -100,  -100,  -100,  -100,  -100,  -100,  -100,  -100,  -100,\n",
              "          -100,  -100,  -100,  -100,  -100,  -100,  -100,  -100,  -100,  -100,\n",
              "          -100,  -100,  -100,  -100,  -100,  -100,  -100,  -100,  -100,  -100,\n",
              "          -100,  -100,  -100,  -100,  -100,  -100,  -100,  -100,  -100,  -100,\n",
              "          -100,  -100,  -100,  -100,  -100,  -100,  -100,  -100,  -100,  -100,\n",
              "          -100,  -100,  -100,  -100,  -100,  -100,  -100,  -100,  -100,  -100,\n",
              "          -100,  -100,  -100,  -100,  -100,  -100,  -100,  -100,  -100,  -100]]), 'decoder_input_ids': tensor([[    2,     0,   725, 44206,  3655, 22100,     8, 15576,  1783,     9,\n",
              "          4013,   111,  1918,  8845,     5,  1909,  1309,  1841,  1783,     7,\n",
              "          2703,    10,  1098,     7,    35,    36,   134,    43,   266,   414,\n",
              "             7,     5,  1863,     9,  1309,     8,  3861,  1820,  2624,     5,\n",
              "         13135,     9,  4655,  1402,   518,     8, 33742,  1402,  2196,     8,\n",
              "             5,  1427,    30,     5,  1098,    13,   215,   518,    50,  2196,\n",
              "           131,     8,    36,   176,    43, 26584,   618,   215,   335,    23,\n",
              "           349,  7988,  1082,     4, 46233,     5,  1863,     7,    35,    36,\n",
              "           134,    43,  3271,   618,   215,   335,    11,    10,  4737,    14,\n",
              "         15885,  1427, 17941,   566,  4815,   131,     8,    36,   176,    43,\n",
              "          5163,    61,   518,    50,  2196,    32,     7,    28,   431,   716,\n",
              "            15,   141,  5705,   349,   544,    16,  3744,    50,   349,  1262,\n",
              "            16, 16556,     4, 50118, 50118, 49634,     5,  1863,     7,  7828,\n",
              "            10,  2366,  5775,  2861,    13,  6165,     9,    42,  1783,     4],\n",
              "        [    2,     0, 35746,  4376,    14, 10597,   575,  3485,  1795,    28,\n",
              "           156,   577,     7,  2172,  2754,    11,     5,  5615,  6084,     9,\n",
              "          1621,     4,     2,     1,     1,     1,     1,     1,     1,     1,\n",
              "             1,     1,     1,     1,     1,     1,     1,     1,     1,     1,\n",
              "             1,     1,     1,     1,     1,     1,     1,     1,     1,     1,\n",
              "             1,     1,     1,     1,     1,     1,     1,     1,     1,     1,\n",
              "             1,     1,     1,     1,     1,     1,     1,     1,     1,     1,\n",
              "             1,     1,     1,     1,     1,     1,     1,     1,     1,     1,\n",
              "             1,     1,     1,     1,     1,     1,     1,     1,     1,     1,\n",
              "             1,     1,     1,     1,     1,     1,     1,     1,     1,     1,\n",
              "             1,     1,     1,     1,     1,     1,     1,     1,     1,     1,\n",
              "             1,     1,     1,     1,     1,     1,     1,     1,     1,     1,\n",
              "             1,     1,     1,     1,     1,     1,     1,     1,     1,     1,\n",
              "             1,     1,     1,     1,     1,     1,     1,     1,     1,     1]])}"
            ]
          },
          "metadata": {},
          "execution_count": 80
        }
      ]
    },
    {
      "cell_type": "code",
      "source": [
        "from transformers import Seq2SeqTrainer\n",
        "\n",
        "trainer = Seq2SeqTrainer(\n",
        "    model,\n",
        "    args,\n",
        "    train_dataset=tokenized_train_dataset,\n",
        "    eval_dataset=tokenized_validation_dataset,\n",
        "    data_collator=data_collator,\n",
        "    tokenizer=tokenizer,\n",
        "    compute_metrics=compute_metrics,\n",
        ")"
      ],
      "metadata": {
        "id": "ATEObrlTNXxo"
      },
      "execution_count": 81,
      "outputs": []
    },
    {
      "cell_type": "code",
      "source": [
        "trainer.train()"
      ],
      "metadata": {
        "colab": {
          "base_uri": "https://localhost:8080/",
          "height": 222
        },
        "id": "4sDYaga99gI3",
        "outputId": "b1100b2e-3429-4e27-fa67-bec1764861e7"
      },
      "execution_count": 82,
      "outputs": [
        {
          "output_type": "display_data",
          "data": {
            "text/plain": [
              "<IPython.core.display.HTML object>"
            ],
            "text/html": [
              "\n",
              "    <div>\n",
              "      \n",
              "      <progress value='501' max='501' style='width:300px; height:20px; vertical-align: middle;'></progress>\n",
              "      [501/501 21:43, Epoch 3/3]\n",
              "    </div>\n",
              "    <table border=\"1\" class=\"dataframe\">\n",
              "  <thead>\n",
              " <tr style=\"text-align: left;\">\n",
              "      <th>Epoch</th>\n",
              "      <th>Training Loss</th>\n",
              "      <th>Validation Loss</th>\n",
              "      <th>Rouge1</th>\n",
              "      <th>Rouge2</th>\n",
              "      <th>Rougel</th>\n",
              "    </tr>\n",
              "  </thead>\n",
              "  <tbody>\n",
              "    <tr>\n",
              "      <td>1</td>\n",
              "      <td>1.961100</td>\n",
              "      <td>1.816771</td>\n",
              "      <td>52.520400</td>\n",
              "      <td>30.572100</td>\n",
              "      <td>38.621600</td>\n",
              "    </tr>\n",
              "    <tr>\n",
              "      <td>2</td>\n",
              "      <td>1.239600</td>\n",
              "      <td>1.787060</td>\n",
              "      <td>52.418600</td>\n",
              "      <td>30.193300</td>\n",
              "      <td>38.932400</td>\n",
              "    </tr>\n",
              "    <tr>\n",
              "      <td>3</td>\n",
              "      <td>0.819200</td>\n",
              "      <td>1.890095</td>\n",
              "      <td>53.037000</td>\n",
              "      <td>30.526300</td>\n",
              "      <td>38.813500</td>\n",
              "    </tr>\n",
              "  </tbody>\n",
              "</table><p>"
            ]
          },
          "metadata": {}
        },
        {
          "output_type": "stream",
          "name": "stderr",
          "text": [
            "Some non-default generation parameters are set in the model config. These should go into a GenerationConfig file (https://huggingface.co/docs/transformers/generation_strategies#save-a-custom-decoding-strategy-with-your-model) instead. This warning will be raised to an exception in v4.41.\n",
            "Non-default generation parameters: {'max_length': 142, 'min_length': 56, 'early_stopping': True, 'num_beams': 4, 'length_penalty': 2.0, 'no_repeat_ngram_size': 3, 'forced_bos_token_id': 0, 'forced_eos_token_id': 2}\n"
          ]
        },
        {
          "output_type": "execute_result",
          "data": {
            "text/plain": [
              "TrainOutput(global_step=501, training_loss=1.3376328635834411, metrics={'train_runtime': 1306.5892, 'train_samples_per_second': 1.148, 'train_steps_per_second': 0.383, 'total_flos': 3250656903168000.0, 'train_loss': 1.3376328635834411, 'epoch': 3.0})"
            ]
          },
          "metadata": {},
          "execution_count": 82
        }
      ]
    },
    {
      "cell_type": "code",
      "source": [
        "trainer.evaluate()"
      ],
      "metadata": {
        "colab": {
          "base_uri": "https://localhost:8080/",
          "height": 176
        },
        "id": "s-bfIzp5JuWC",
        "outputId": "e6559b67-ff3d-4eb4-877f-c47288164377"
      },
      "execution_count": 83,
      "outputs": [
        {
          "output_type": "display_data",
          "data": {
            "text/plain": [
              "<IPython.core.display.HTML object>"
            ],
            "text/html": [
              "\n",
              "    <div>\n",
              "      \n",
              "      <progress value='34' max='34' style='width:300px; height:20px; vertical-align: middle;'></progress>\n",
              "      [34/34 02:37]\n",
              "    </div>\n",
              "    "
            ]
          },
          "metadata": {}
        },
        {
          "output_type": "execute_result",
          "data": {
            "text/plain": [
              "{'eval_loss': 1.8900952339172363,\n",
              " 'eval_rouge1': 53.037,\n",
              " 'eval_rouge2': 30.5263,\n",
              " 'eval_rougeL': 38.8135,\n",
              " 'eval_runtime': 164.3524,\n",
              " 'eval_samples_per_second': 0.608,\n",
              " 'eval_steps_per_second': 0.207,\n",
              " 'epoch': 3.0}"
            ]
          },
          "metadata": {},
          "execution_count": 83
        }
      ]
    },
    {
      "cell_type": "code",
      "source": [
        "# from transformers import WEIGHTS_NAME, CONFIG_NAME\n",
        "\n",
        "# # Directory in your Google Drive to save the model\n",
        "# output_dir = \"https://drive.google.com/drive/my-drive/my_fine_tuned_model\"\n",
        "\n",
        "# # Ensure output directory exists\n",
        "# import os\n",
        "# if not os.path.exists(output_dir):\n",
        "#     os.makedirs(output_dir)\n",
        "\n",
        "# # Save model and tokenizer\n",
        "# model_to_save = model.module if hasattr(model, 'module') else model\n",
        "# model_to_save.save_pretrained(output_dir)\n",
        "# tokenizer.save_pretrained(output_dir)\n"
      ],
      "metadata": {
        "colab": {
          "base_uri": "https://localhost:8080/"
        },
        "id": "SpLR_RNBfokj",
        "outputId": "be7fe415-3e97-48f0-843f-075aaf931fd7"
      },
      "execution_count": 84,
      "outputs": [
        {
          "output_type": "stream",
          "name": "stderr",
          "text": [
            "Some non-default generation parameters are set in the model config. These should go into a GenerationConfig file (https://huggingface.co/docs/transformers/generation_strategies#save-a-custom-decoding-strategy-with-your-model) instead. This warning will be raised to an exception in v4.41.\n",
            "Non-default generation parameters: {'max_length': 142, 'min_length': 56, 'early_stopping': True, 'num_beams': 4, 'length_penalty': 2.0, 'no_repeat_ngram_size': 3, 'forced_bos_token_id': 0, 'forced_eos_token_id': 2}\n"
          ]
        },
        {
          "output_type": "execute_result",
          "data": {
            "text/plain": [
              "('https://drive.google.com/drive/my-drive/my_fine_tuned_model/tokenizer_config.json',\n",
              " 'https://drive.google.com/drive/my-drive/my_fine_tuned_model/special_tokens_map.json',\n",
              " 'https://drive.google.com/drive/my-drive/my_fine_tuned_model/vocab.json',\n",
              " 'https://drive.google.com/drive/my-drive/my_fine_tuned_model/merges.txt',\n",
              " 'https://drive.google.com/drive/my-drive/my_fine_tuned_model/added_tokens.json',\n",
              " 'https://drive.google.com/drive/my-drive/my_fine_tuned_model/tokenizer.json')"
            ]
          },
          "metadata": {},
          "execution_count": 84
        }
      ]
    },
    {
      "cell_type": "code",
      "source": [
        "from transformers import WEIGHTS_NAME, CONFIG_NAME\n",
        "\n",
        "# Directory in your Google Drive to save the model\n",
        "output_dir = \"/content/drive/MyDrive/my_fine_tuned_model\"\n",
        "\n",
        "# Ensure output directory exists\n",
        "import os\n",
        "if not os.path.exists(output_dir):\n",
        "    os.makedirs(output_dir)\n",
        "\n",
        "# Save model and tokenizer\n",
        "model_to_save = model.module if hasattr(model, 'module') else model\n",
        "model_to_save.save_pretrained(output_dir)\n",
        "tokenizer.save_pretrained(output_dir)\n"
      ],
      "metadata": {
        "colab": {
          "base_uri": "https://localhost:8080/"
        },
        "id": "z0ACbw03goGJ",
        "outputId": "2017e408-4281-4092-81f1-6b82fcb23a62"
      },
      "execution_count": 85,
      "outputs": [
        {
          "output_type": "stream",
          "name": "stderr",
          "text": [
            "Some non-default generation parameters are set in the model config. These should go into a GenerationConfig file (https://huggingface.co/docs/transformers/generation_strategies#save-a-custom-decoding-strategy-with-your-model) instead. This warning will be raised to an exception in v4.41.\n",
            "Non-default generation parameters: {'max_length': 142, 'min_length': 56, 'early_stopping': True, 'num_beams': 4, 'length_penalty': 2.0, 'no_repeat_ngram_size': 3, 'forced_bos_token_id': 0, 'forced_eos_token_id': 2}\n"
          ]
        },
        {
          "output_type": "execute_result",
          "data": {
            "text/plain": [
              "('/content/drive/MyDrive/my_fine_tuned_model/tokenizer_config.json',\n",
              " '/content/drive/MyDrive/my_fine_tuned_model/special_tokens_map.json',\n",
              " '/content/drive/MyDrive/my_fine_tuned_model/vocab.json',\n",
              " '/content/drive/MyDrive/my_fine_tuned_model/merges.txt',\n",
              " '/content/drive/MyDrive/my_fine_tuned_model/added_tokens.json',\n",
              " '/content/drive/MyDrive/my_fine_tuned_model/tokenizer.json')"
            ]
          },
          "metadata": {},
          "execution_count": 85
        }
      ]
    }
  ]
}